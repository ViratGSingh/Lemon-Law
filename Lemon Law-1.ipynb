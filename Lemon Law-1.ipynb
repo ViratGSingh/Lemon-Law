{
 "cells": [
  {
   "cell_type": "markdown",
   "metadata": {},
   "source": [
    "# Speed Dating"
   ]
  },
  {
   "cell_type": "markdown",
   "metadata": {},
   "source": [
    "Contents\n",
    " 1. [Problem](#section1)\n",
    "   <a href=\"#section1\"></a>\n",
    " 2. [Obtaining Data ](#section2)\n",
    "   <a href=\"#section2\"></a>\n",
    " 3. [Data Cleaning and Preparation ](#section3)\n",
    "   <a href=\"#section3\"></a>  \n",
    "   * [Speed Dating Event data Key](#section31)\n",
    "     <a href=\"#section31\"></a>\n",
    "   * [Survey before Speed Dating key](#section32)\n",
    "     <a href=\"#section32\"></a>\n",
    "   * [Survey before Speed Dating key(part two)](#section33)\n",
    "     <a href=\"#section33\"></a>  \n",
    "   * [Survey before Speed Dating key(part three) ](#section34)\n",
    "     <a href=\"#section34\"></a>\n",
    "   * [Scorecard Dating key ](#section36)\n",
    "     <a href=\"#section36\"></a>  \n",
    "   * [Checking and Correcting datatypes of chosen columns ](#section35)\n",
    "     <a href=\"#section35\"></a>  \n",
    " 4. [Feature Engineering](#section4)\n",
    "   <a href=\"#section4\"></a>     \n",
    "   * [Total Rating](#section41)\n",
    "     <a href=\"#section41\"></a>     \n",
    " 5. [Exploratory Data Analysis (EDA)](#section5)\n",
    "   <a href=\"#section5\"></a>     \n",
    "   * [Relation of interest correlation with subject's decision](#section51)\n",
    "     <a href=\"#section51\"></a>\n",
    "   * [Relation of Choice with Subject's Decision](#section52)\n",
    "     <a href=\"#section52\"></a>\n",
    "   * [Relation between Attributes and Subject's Decision](#section53)\n",
    "     <a href=\"#section53\"></a>  \n",
    "   * [Relation between Met and Subject's Decision ](#section54)\n",
    "     <a href=\"#section54\"></a>\n",
    " 6. [Correlation](#section6)\n",
    "   <a href=\"#section6\"></a>   \n",
    "   * [Correlation Table ](#section61)\n",
    "     <a href=\"#section61\"></a>\n",
    "   * [Heatmap ](#section62)\n",
    "     <a href=\"#section62\"></a>  \n",
    " 7. [Model Development](#section7)\n",
    "   <a href=\"#section7\"></a>\n",
    "   * [Feature Selection ](#section71)\n",
    "     <a href=\"#section71\"></a>\n",
    "   * [Train,test split](#section72)\n",
    "     <a href=\"#section72\"></a> \n",
    "   * [RandomForest Algorithm ](#section73)\n",
    "     <a href=\"#section73\"></a>\n",
    " 8. [Model Evaluation](#section8)\n",
    "   <a href=\"#section7\"></a>\n",
    "   * [RandomForest Algorithm ](#section81)\n",
    "     <a href=\"#section81\"></a>\n",
    "      * [Confusion Matrix](#section811)\n",
    "        <a href=\"#section811\"></a> \n",
    "      * [Classification Report ](#section812)\n",
    "        <a href=\"#section812\"></a>\n",
    "      * [ROC-curve ](#section813)\n",
    "        <a href=\"#section813\"></a>    \n",
    "   "
   ]
  },
  {
   "cell_type": "markdown",
   "metadata": {},
   "source": [
    "<a id=\"section1\"></a>\n",
    "\n",
    "## 1. Problem"
   ]
  },
  {
   "cell_type": "markdown",
   "metadata": {},
   "source": [
    "A dating company called \"Lemon Law\" is planning to come up with an app which predicts whether you like the opposite sex or not by bringing the speed dating experience online as both are made to fill a scorecard to rate their partner at the end of their five minute conversation."
   ]
  },
  {
   "cell_type": "markdown",
   "metadata": {},
   "source": [
    "To solve this problem, a predictive model is to be made by using the speed dating experiment dataset from kagg;e."
   ]
  },
  {
   "cell_type": "markdown",
   "metadata": {},
   "source": [
    "Speed dating dataset from kaggle will be used here to train and test the model. "
   ]
  },
  {
   "cell_type": "markdown",
   "metadata": {},
   "source": [
    "<a id=\"section2\"></a>\n",
    "## 2. Obtaining Data "
   ]
  },
  {
   "cell_type": "code",
   "execution_count": 1,
   "metadata": {},
   "outputs": [
    {
     "data": {
      "text/plain": [
       "(8378, 195)"
      ]
     },
     "execution_count": 1,
     "metadata": {},
     "output_type": "execute_result"
    }
   ],
   "source": [
    "import pandas as pd\n",
    "df=pd.read_csv(\"Speed Dating Data.csv\", engine=\"python\")\n",
    "df.shape"
   ]
  },
  {
   "cell_type": "markdown",
   "metadata": {},
   "source": [
    "### As dataset is too big for my laptop to handle, dataset will be reduced to the first four waves only"
   ]
  },
  {
   "cell_type": "code",
   "execution_count": 2,
   "metadata": {},
   "outputs": [
    {
     "data": {
      "text/plain": [
       "(1656, 195)"
      ]
     },
     "execution_count": 2,
     "metadata": {},
     "output_type": "execute_result"
    }
   ],
   "source": [
    "speedDF=df[(df[\"wave\"]==1)| (df[\"wave\"]==2) | (df[\"wave\"]==3) | (df[\"wave\"]==4)]\n",
    "speedDF.shape"
   ]
  },
  {
   "cell_type": "markdown",
   "metadata": {},
   "source": [
    "<a id=\"section3\"></a>\n",
    "## 3. Data Cleaning and  Preparation"
   ]
  },
  {
   "cell_type": "markdown",
   "metadata": {},
   "source": [
    "<a id=\"section31\"></a>\n",
    "###  &nbsp; 3.1. Speed Dating Event data Key\n",
    "\n",
    "1. iid: \tunique subject number, group(wave id gender)\n",
    "\n",
    "2. id:  \tsubject number within wave\n",
    "\n",
    "3. gender:\tFemale=0,Male=1\n",
    "\n",
    "4. idg: \tsubject number within gender, group(id gender)\n",
    "\n",
    "5. condtn: 1=limited choice , 2=extensive choice\n",
    "\n",
    "6. wave: The day on which the speed dating event takes place.\n",
    "\n",
    "7. round:\t\tnumber of people that met in wave\n",
    "\n",
    "8. order: \t\tthe number of date that night when met partner\n",
    "\n",
    "9. partner: \tpartner’s id number the night of event\n",
    "\n",
    "10. pid: \t\tpartner’s iid number\n",
    "\n",
    "11. match\t\t1=yes, 0=no\n",
    "\n",
    "12. int_corr:\tcorrelation between participant’s and partner’s ratings of interests in Time 1\n",
    "\n",
    "13. samerace:  \tparticipant and the partner were the same race. 1= yes, 0=no\n",
    "\n",
    "14. age_o:\t\tage of partner\n",
    "\n",
    "15. race_o:\t\trace of partner\n",
    "\n",
    "\n"
   ]
  },
  {
   "cell_type": "code",
   "execution_count": 3,
   "metadata": {},
   "outputs": [],
   "source": [
    "all=[\"object\",\"int64\",\"float\"]"
   ]
  },
  {
   "cell_type": "code",
   "execution_count": 4,
   "metadata": {},
   "outputs": [],
   "source": [
    "col1=[\"iid\",\"id\",\"gender\",\"idg\",\"condtn\",\"wave\",\"round\",\"order\",\"partner\",\"pid\",\"match\",\"int_corr\",\"samerace\",\"age_o\",\"race_o\"]"
   ]
  },
  {
   "cell_type": "code",
   "execution_count": 5,
   "metadata": {},
   "outputs": [
    {
     "data": {
      "text/plain": [
       "(1656, 15)"
      ]
     },
     "execution_count": 5,
     "metadata": {},
     "output_type": "execute_result"
    }
   ],
   "source": [
    "speedDF[col1].shape"
   ]
  },
  {
   "cell_type": "code",
   "execution_count": 6,
   "metadata": {},
   "outputs": [
    {
     "data": {
      "text/html": [
       "<div>\n",
       "<style scoped>\n",
       "    .dataframe tbody tr th:only-of-type {\n",
       "        vertical-align: middle;\n",
       "    }\n",
       "\n",
       "    .dataframe tbody tr th {\n",
       "        vertical-align: top;\n",
       "    }\n",
       "\n",
       "    .dataframe thead th {\n",
       "        text-align: right;\n",
       "    }\n",
       "</style>\n",
       "<table border=\"1\" class=\"dataframe\">\n",
       "  <thead>\n",
       "    <tr style=\"text-align: right;\">\n",
       "      <th></th>\n",
       "      <th>iid</th>\n",
       "      <th>id</th>\n",
       "      <th>gender</th>\n",
       "      <th>idg</th>\n",
       "      <th>condtn</th>\n",
       "      <th>wave</th>\n",
       "      <th>round</th>\n",
       "      <th>order</th>\n",
       "      <th>partner</th>\n",
       "      <th>pid</th>\n",
       "      <th>match</th>\n",
       "      <th>int_corr</th>\n",
       "      <th>samerace</th>\n",
       "      <th>age_o</th>\n",
       "      <th>race_o</th>\n",
       "    </tr>\n",
       "  </thead>\n",
       "  <tbody>\n",
       "    <tr>\n",
       "      <th>100</th>\n",
       "      <td>11</td>\n",
       "      <td>1.0</td>\n",
       "      <td>1</td>\n",
       "      <td>2</td>\n",
       "      <td>1</td>\n",
       "      <td>1</td>\n",
       "      <td>10</td>\n",
       "      <td>4</td>\n",
       "      <td>1</td>\n",
       "      <td>1.0</td>\n",
       "      <td>0</td>\n",
       "      <td>0.14</td>\n",
       "      <td>0</td>\n",
       "      <td>21.0</td>\n",
       "      <td>4.0</td>\n",
       "    </tr>\n",
       "    <tr>\n",
       "      <th>101</th>\n",
       "      <td>11</td>\n",
       "      <td>1.0</td>\n",
       "      <td>1</td>\n",
       "      <td>2</td>\n",
       "      <td>1</td>\n",
       "      <td>1</td>\n",
       "      <td>10</td>\n",
       "      <td>10</td>\n",
       "      <td>2</td>\n",
       "      <td>2.0</td>\n",
       "      <td>0</td>\n",
       "      <td>0.29</td>\n",
       "      <td>1</td>\n",
       "      <td>24.0</td>\n",
       "      <td>2.0</td>\n",
       "    </tr>\n",
       "    <tr>\n",
       "      <th>102</th>\n",
       "      <td>11</td>\n",
       "      <td>1.0</td>\n",
       "      <td>1</td>\n",
       "      <td>2</td>\n",
       "      <td>1</td>\n",
       "      <td>1</td>\n",
       "      <td>10</td>\n",
       "      <td>6</td>\n",
       "      <td>3</td>\n",
       "      <td>3.0</td>\n",
       "      <td>0</td>\n",
       "      <td>-0.24</td>\n",
       "      <td>1</td>\n",
       "      <td>25.0</td>\n",
       "      <td>2.0</td>\n",
       "    </tr>\n",
       "    <tr>\n",
       "      <th>103</th>\n",
       "      <td>11</td>\n",
       "      <td>1.0</td>\n",
       "      <td>1</td>\n",
       "      <td>2</td>\n",
       "      <td>1</td>\n",
       "      <td>1</td>\n",
       "      <td>10</td>\n",
       "      <td>3</td>\n",
       "      <td>4</td>\n",
       "      <td>4.0</td>\n",
       "      <td>0</td>\n",
       "      <td>-0.18</td>\n",
       "      <td>1</td>\n",
       "      <td>23.0</td>\n",
       "      <td>2.0</td>\n",
       "    </tr>\n",
       "    <tr>\n",
       "      <th>104</th>\n",
       "      <td>11</td>\n",
       "      <td>1.0</td>\n",
       "      <td>1</td>\n",
       "      <td>2</td>\n",
       "      <td>1</td>\n",
       "      <td>1</td>\n",
       "      <td>10</td>\n",
       "      <td>1</td>\n",
       "      <td>5</td>\n",
       "      <td>5.0</td>\n",
       "      <td>0</td>\n",
       "      <td>-0.43</td>\n",
       "      <td>1</td>\n",
       "      <td>21.0</td>\n",
       "      <td>2.0</td>\n",
       "    </tr>\n",
       "    <tr>\n",
       "      <th>105</th>\n",
       "      <td>11</td>\n",
       "      <td>1.0</td>\n",
       "      <td>1</td>\n",
       "      <td>2</td>\n",
       "      <td>1</td>\n",
       "      <td>1</td>\n",
       "      <td>10</td>\n",
       "      <td>5</td>\n",
       "      <td>6</td>\n",
       "      <td>6.0</td>\n",
       "      <td>0</td>\n",
       "      <td>0.33</td>\n",
       "      <td>0</td>\n",
       "      <td>23.0</td>\n",
       "      <td>4.0</td>\n",
       "    </tr>\n",
       "    <tr>\n",
       "      <th>106</th>\n",
       "      <td>11</td>\n",
       "      <td>1.0</td>\n",
       "      <td>1</td>\n",
       "      <td>2</td>\n",
       "      <td>1</td>\n",
       "      <td>1</td>\n",
       "      <td>10</td>\n",
       "      <td>2</td>\n",
       "      <td>7</td>\n",
       "      <td>7.0</td>\n",
       "      <td>0</td>\n",
       "      <td>0.19</td>\n",
       "      <td>0</td>\n",
       "      <td>22.0</td>\n",
       "      <td>4.0</td>\n",
       "    </tr>\n",
       "    <tr>\n",
       "      <th>107</th>\n",
       "      <td>11</td>\n",
       "      <td>1.0</td>\n",
       "      <td>1</td>\n",
       "      <td>2</td>\n",
       "      <td>1</td>\n",
       "      <td>1</td>\n",
       "      <td>10</td>\n",
       "      <td>7</td>\n",
       "      <td>8</td>\n",
       "      <td>8.0</td>\n",
       "      <td>0</td>\n",
       "      <td>-0.03</td>\n",
       "      <td>1</td>\n",
       "      <td>25.0</td>\n",
       "      <td>2.0</td>\n",
       "    </tr>\n",
       "    <tr>\n",
       "      <th>108</th>\n",
       "      <td>11</td>\n",
       "      <td>1.0</td>\n",
       "      <td>1</td>\n",
       "      <td>2</td>\n",
       "      <td>1</td>\n",
       "      <td>1</td>\n",
       "      <td>10</td>\n",
       "      <td>8</td>\n",
       "      <td>9</td>\n",
       "      <td>9.0</td>\n",
       "      <td>0</td>\n",
       "      <td>0.19</td>\n",
       "      <td>0</td>\n",
       "      <td>26.0</td>\n",
       "      <td>6.0</td>\n",
       "    </tr>\n",
       "    <tr>\n",
       "      <th>109</th>\n",
       "      <td>11</td>\n",
       "      <td>1.0</td>\n",
       "      <td>1</td>\n",
       "      <td>2</td>\n",
       "      <td>1</td>\n",
       "      <td>1</td>\n",
       "      <td>10</td>\n",
       "      <td>9</td>\n",
       "      <td>10</td>\n",
       "      <td>10.0</td>\n",
       "      <td>0</td>\n",
       "      <td>0.30</td>\n",
       "      <td>1</td>\n",
       "      <td>26.0</td>\n",
       "      <td>2.0</td>\n",
       "    </tr>\n",
       "  </tbody>\n",
       "</table>\n",
       "</div>"
      ],
      "text/plain": [
       "     iid   id  gender  idg  condtn  wave  round  order  partner   pid  match  \\\n",
       "100   11  1.0       1    2       1     1     10      4        1   1.0      0   \n",
       "101   11  1.0       1    2       1     1     10     10        2   2.0      0   \n",
       "102   11  1.0       1    2       1     1     10      6        3   3.0      0   \n",
       "103   11  1.0       1    2       1     1     10      3        4   4.0      0   \n",
       "104   11  1.0       1    2       1     1     10      1        5   5.0      0   \n",
       "105   11  1.0       1    2       1     1     10      5        6   6.0      0   \n",
       "106   11  1.0       1    2       1     1     10      2        7   7.0      0   \n",
       "107   11  1.0       1    2       1     1     10      7        8   8.0      0   \n",
       "108   11  1.0       1    2       1     1     10      8        9   9.0      0   \n",
       "109   11  1.0       1    2       1     1     10      9       10  10.0      0   \n",
       "\n",
       "     int_corr  samerace  age_o  race_o  \n",
       "100      0.14         0   21.0     4.0  \n",
       "101      0.29         1   24.0     2.0  \n",
       "102     -0.24         1   25.0     2.0  \n",
       "103     -0.18         1   23.0     2.0  \n",
       "104     -0.43         1   21.0     2.0  \n",
       "105      0.33         0   23.0     4.0  \n",
       "106      0.19         0   22.0     4.0  \n",
       "107     -0.03         1   25.0     2.0  \n",
       "108      0.19         0   26.0     6.0  \n",
       "109      0.30         1   26.0     2.0  "
      ]
     },
     "execution_count": 6,
     "metadata": {},
     "output_type": "execute_result"
    }
   ],
   "source": [
    "speedDF[col1][speedDF[\"iid\"]==11].head(11)"
   ]
  },
  {
   "cell_type": "code",
   "execution_count": 7,
   "metadata": {},
   "outputs": [
    {
     "data": {
      "text/html": [
       "<div>\n",
       "<style scoped>\n",
       "    .dataframe tbody tr th:only-of-type {\n",
       "        vertical-align: middle;\n",
       "    }\n",
       "\n",
       "    .dataframe tbody tr th {\n",
       "        vertical-align: top;\n",
       "    }\n",
       "\n",
       "    .dataframe thead th {\n",
       "        text-align: right;\n",
       "    }\n",
       "</style>\n",
       "<table border=\"1\" class=\"dataframe\">\n",
       "  <thead>\n",
       "    <tr style=\"text-align: right;\">\n",
       "      <th></th>\n",
       "      <th>iid</th>\n",
       "      <th>id</th>\n",
       "      <th>gender</th>\n",
       "      <th>idg</th>\n",
       "      <th>condtn</th>\n",
       "      <th>wave</th>\n",
       "      <th>round</th>\n",
       "      <th>order</th>\n",
       "      <th>partner</th>\n",
       "      <th>pid</th>\n",
       "      <th>match</th>\n",
       "      <th>int_corr</th>\n",
       "      <th>samerace</th>\n",
       "      <th>age_o</th>\n",
       "      <th>race_o</th>\n",
       "    </tr>\n",
       "  </thead>\n",
       "  <tbody>\n",
       "    <tr>\n",
       "      <th>count</th>\n",
       "      <td>1656.000000</td>\n",
       "      <td>1656.000000</td>\n",
       "      <td>1656.000000</td>\n",
       "      <td>1656.000000</td>\n",
       "      <td>1656.000000</td>\n",
       "      <td>1656.000000</td>\n",
       "      <td>1656.000000</td>\n",
       "      <td>1656.000000</td>\n",
       "      <td>1656.000000</td>\n",
       "      <td>1656.000000</td>\n",
       "      <td>1656.000000</td>\n",
       "      <td>1584.000000</td>\n",
       "      <td>1656.000000</td>\n",
       "      <td>1636.000000</td>\n",
       "      <td>1636.000000</td>\n",
       "    </tr>\n",
       "    <tr>\n",
       "      <th>mean</th>\n",
       "      <td>59.992754</td>\n",
       "      <td>8.461353</td>\n",
       "      <td>0.500000</td>\n",
       "      <td>16.355072</td>\n",
       "      <td>1.758454</td>\n",
       "      <td>2.782609</td>\n",
       "      <td>15.884058</td>\n",
       "      <td>8.442029</td>\n",
       "      <td>8.461353</td>\n",
       "      <td>59.992754</td>\n",
       "      <td>0.169082</td>\n",
       "      <td>0.156035</td>\n",
       "      <td>0.391304</td>\n",
       "      <td>25.636308</td>\n",
       "      <td>2.685819</td>\n",
       "    </tr>\n",
       "    <tr>\n",
       "      <th>std</th>\n",
       "      <td>31.510109</td>\n",
       "      <td>5.033034</td>\n",
       "      <td>0.500151</td>\n",
       "      <td>9.913804</td>\n",
       "      <td>0.428150</td>\n",
       "      <td>1.093164</td>\n",
       "      <td>3.450622</td>\n",
       "      <td>4.992347</td>\n",
       "      <td>5.033034</td>\n",
       "      <td>31.510109</td>\n",
       "      <td>0.374938</td>\n",
       "      <td>0.321716</td>\n",
       "      <td>0.488190</td>\n",
       "      <td>3.370007</td>\n",
       "      <td>1.223748</td>\n",
       "    </tr>\n",
       "    <tr>\n",
       "      <th>min</th>\n",
       "      <td>1.000000</td>\n",
       "      <td>1.000000</td>\n",
       "      <td>0.000000</td>\n",
       "      <td>1.000000</td>\n",
       "      <td>1.000000</td>\n",
       "      <td>1.000000</td>\n",
       "      <td>10.000000</td>\n",
       "      <td>1.000000</td>\n",
       "      <td>1.000000</td>\n",
       "      <td>1.000000</td>\n",
       "      <td>0.000000</td>\n",
       "      <td>-0.630000</td>\n",
       "      <td>0.000000</td>\n",
       "      <td>21.000000</td>\n",
       "      <td>1.000000</td>\n",
       "    </tr>\n",
       "    <tr>\n",
       "      <th>25%</th>\n",
       "      <td>34.000000</td>\n",
       "      <td>4.000000</td>\n",
       "      <td>0.000000</td>\n",
       "      <td>8.000000</td>\n",
       "      <td>2.000000</td>\n",
       "      <td>2.000000</td>\n",
       "      <td>16.000000</td>\n",
       "      <td>4.000000</td>\n",
       "      <td>4.000000</td>\n",
       "      <td>34.000000</td>\n",
       "      <td>0.000000</td>\n",
       "      <td>-0.070000</td>\n",
       "      <td>0.000000</td>\n",
       "      <td>23.000000</td>\n",
       "      <td>2.000000</td>\n",
       "    </tr>\n",
       "    <tr>\n",
       "      <th>50%</th>\n",
       "      <td>57.500000</td>\n",
       "      <td>8.000000</td>\n",
       "      <td>0.500000</td>\n",
       "      <td>15.000000</td>\n",
       "      <td>2.000000</td>\n",
       "      <td>3.000000</td>\n",
       "      <td>18.000000</td>\n",
       "      <td>8.000000</td>\n",
       "      <td>8.000000</td>\n",
       "      <td>57.500000</td>\n",
       "      <td>0.000000</td>\n",
       "      <td>0.155000</td>\n",
       "      <td>0.000000</td>\n",
       "      <td>25.000000</td>\n",
       "      <td>2.000000</td>\n",
       "    </tr>\n",
       "    <tr>\n",
       "      <th>75%</th>\n",
       "      <td>88.250000</td>\n",
       "      <td>12.000000</td>\n",
       "      <td>1.000000</td>\n",
       "      <td>24.000000</td>\n",
       "      <td>2.000000</td>\n",
       "      <td>4.000000</td>\n",
       "      <td>18.000000</td>\n",
       "      <td>12.000000</td>\n",
       "      <td>12.000000</td>\n",
       "      <td>88.250000</td>\n",
       "      <td>0.000000</td>\n",
       "      <td>0.410000</td>\n",
       "      <td>1.000000</td>\n",
       "      <td>28.000000</td>\n",
       "      <td>4.000000</td>\n",
       "    </tr>\n",
       "    <tr>\n",
       "      <th>max</th>\n",
       "      <td>111.000000</td>\n",
       "      <td>20.000000</td>\n",
       "      <td>1.000000</td>\n",
       "      <td>36.000000</td>\n",
       "      <td>2.000000</td>\n",
       "      <td>4.000000</td>\n",
       "      <td>19.000000</td>\n",
       "      <td>19.000000</td>\n",
       "      <td>20.000000</td>\n",
       "      <td>111.000000</td>\n",
       "      <td>1.000000</td>\n",
       "      <td>0.900000</td>\n",
       "      <td>1.000000</td>\n",
       "      <td>39.000000</td>\n",
       "      <td>6.000000</td>\n",
       "    </tr>\n",
       "  </tbody>\n",
       "</table>\n",
       "</div>"
      ],
      "text/plain": [
       "               iid           id       gender          idg       condtn  \\\n",
       "count  1656.000000  1656.000000  1656.000000  1656.000000  1656.000000   \n",
       "mean     59.992754     8.461353     0.500000    16.355072     1.758454   \n",
       "std      31.510109     5.033034     0.500151     9.913804     0.428150   \n",
       "min       1.000000     1.000000     0.000000     1.000000     1.000000   \n",
       "25%      34.000000     4.000000     0.000000     8.000000     2.000000   \n",
       "50%      57.500000     8.000000     0.500000    15.000000     2.000000   \n",
       "75%      88.250000    12.000000     1.000000    24.000000     2.000000   \n",
       "max     111.000000    20.000000     1.000000    36.000000     2.000000   \n",
       "\n",
       "              wave        round        order      partner          pid  \\\n",
       "count  1656.000000  1656.000000  1656.000000  1656.000000  1656.000000   \n",
       "mean      2.782609    15.884058     8.442029     8.461353    59.992754   \n",
       "std       1.093164     3.450622     4.992347     5.033034    31.510109   \n",
       "min       1.000000    10.000000     1.000000     1.000000     1.000000   \n",
       "25%       2.000000    16.000000     4.000000     4.000000    34.000000   \n",
       "50%       3.000000    18.000000     8.000000     8.000000    57.500000   \n",
       "75%       4.000000    18.000000    12.000000    12.000000    88.250000   \n",
       "max       4.000000    19.000000    19.000000    20.000000   111.000000   \n",
       "\n",
       "             match     int_corr     samerace        age_o       race_o  \n",
       "count  1656.000000  1584.000000  1656.000000  1636.000000  1636.000000  \n",
       "mean      0.169082     0.156035     0.391304    25.636308     2.685819  \n",
       "std       0.374938     0.321716     0.488190     3.370007     1.223748  \n",
       "min       0.000000    -0.630000     0.000000    21.000000     1.000000  \n",
       "25%       0.000000    -0.070000     0.000000    23.000000     2.000000  \n",
       "50%       0.000000     0.155000     0.000000    25.000000     2.000000  \n",
       "75%       0.000000     0.410000     1.000000    28.000000     4.000000  \n",
       "max       1.000000     0.900000     1.000000    39.000000     6.000000  "
      ]
     },
     "execution_count": 7,
     "metadata": {},
     "output_type": "execute_result"
    }
   ],
   "source": [
    "speedDF[col1].describe(include=all)"
   ]
  },
  {
   "cell_type": "markdown",
   "metadata": {},
   "source": [
    "### Correlation between subject and partner's interests  column (int_corr)"
   ]
  },
  {
   "cell_type": "code",
   "execution_count": 8,
   "metadata": {},
   "outputs": [
    {
     "name": "stderr",
     "output_type": "stream",
     "text": [
      "D:\\Anaconda\\envs\\Resume Project1\\lib\\site-packages\\ipykernel_launcher.py:1: SettingWithCopyWarning: \n",
      "A value is trying to be set on a copy of a slice from a DataFrame\n",
      "\n",
      "See the caveats in the documentation: http://pandas.pydata.org/pandas-docs/stable/user_guide/indexing.html#returning-a-view-versus-a-copy\n",
      "  \"\"\"Entry point for launching an IPython kernel.\n",
      "C:\\Users\\Toshiba\\AppData\\Roaming\\Python\\Python37\\site-packages\\pandas\\core\\generic.py:9116: SettingWithCopyWarning: \n",
      "A value is trying to be set on a copy of a slice from a DataFrame\n",
      "\n",
      "See the caveats in the documentation: http://pandas.pydata.org/pandas-docs/stable/user_guide/indexing.html#returning-a-view-versus-a-copy\n",
      "  self._update_inplace(new_data)\n",
      "D:\\Anaconda\\envs\\Resume Project1\\lib\\site-packages\\IPython\\core\\interactiveshell.py:3331: SettingWithCopyWarning: \n",
      "A value is trying to be set on a copy of a slice from a DataFrame\n",
      "\n",
      "See the caveats in the documentation: http://pandas.pydata.org/pandas-docs/stable/user_guide/indexing.html#returning-a-view-versus-a-copy\n",
      "  exec(code_obj, self.user_global_ns, self.user_ns)\n",
      "D:\\Anaconda\\envs\\Resume Project1\\lib\\site-packages\\ipykernel_launcher.py:3: SettingWithCopyWarning: \n",
      "A value is trying to be set on a copy of a slice from a DataFrame\n",
      "\n",
      "See the caveats in the documentation: http://pandas.pydata.org/pandas-docs/stable/user_guide/indexing.html#returning-a-view-versus-a-copy\n",
      "  This is separate from the ipykernel package so we can avoid doing imports until\n"
     ]
    }
   ],
   "source": [
    "speedDF[\"int_corr\"][speedDF[\"int_corr\"].isnull()]=\"NaN\"\n",
    "median=speedDF[\"int_corr\"].median()\n",
    "speedDF[\"int_corr\"][speedDF[\"int_corr\"]==\"NaN\"]=median"
   ]
  },
  {
   "cell_type": "markdown",
   "metadata": {},
   "source": [
    "### Partner's age column (age_o)"
   ]
  },
  {
   "cell_type": "code",
   "execution_count": 9,
   "metadata": {},
   "outputs": [
    {
     "name": "stderr",
     "output_type": "stream",
     "text": [
      "D:\\Anaconda\\envs\\Resume Project1\\lib\\site-packages\\ipykernel_launcher.py:1: SettingWithCopyWarning: \n",
      "A value is trying to be set on a copy of a slice from a DataFrame\n",
      "\n",
      "See the caveats in the documentation: http://pandas.pydata.org/pandas-docs/stable/user_guide/indexing.html#returning-a-view-versus-a-copy\n",
      "  \"\"\"Entry point for launching an IPython kernel.\n",
      "D:\\Anaconda\\envs\\Resume Project1\\lib\\site-packages\\ipykernel_launcher.py:2: SettingWithCopyWarning: \n",
      "A value is trying to be set on a copy of a slice from a DataFrame\n",
      "\n",
      "See the caveats in the documentation: http://pandas.pydata.org/pandas-docs/stable/user_guide/indexing.html#returning-a-view-versus-a-copy\n",
      "  \n"
     ]
    },
    {
     "data": {
      "text/plain": [
       "25.0"
      ]
     },
     "execution_count": 9,
     "metadata": {},
     "output_type": "execute_result"
    }
   ],
   "source": [
    "speedDF[\"age_o\"][speedDF[\"age_o\"].isnull()]=\"NaN\"\n",
    "speedDF[\"age_o\"][speedDF[\"age_o\"]==\"NaN\"]=median\n",
    "median=speedDF[\"age_o\"].median()\n",
    "median"
   ]
  },
  {
   "cell_type": "code",
   "execution_count": 10,
   "metadata": {},
   "outputs": [
    {
     "name": "stderr",
     "output_type": "stream",
     "text": [
      "D:\\Anaconda\\envs\\Resume Project1\\lib\\site-packages\\ipykernel_launcher.py:1: SettingWithCopyWarning: \n",
      "A value is trying to be set on a copy of a slice from a DataFrame\n",
      "\n",
      "See the caveats in the documentation: http://pandas.pydata.org/pandas-docs/stable/user_guide/indexing.html#returning-a-view-versus-a-copy\n",
      "  \"\"\"Entry point for launching an IPython kernel.\n"
     ]
    }
   ],
   "source": [
    "speedDF[\"age_o\"][speedDF[\"age_o\"]==\"NaN\"]=median"
   ]
  },
  {
   "cell_type": "markdown",
   "metadata": {},
   "source": [
    "### Partner's race column (race_o)"
   ]
  },
  {
   "cell_type": "code",
   "execution_count": 11,
   "metadata": {},
   "outputs": [
    {
     "name": "stderr",
     "output_type": "stream",
     "text": [
      "D:\\Anaconda\\envs\\Resume Project1\\lib\\site-packages\\ipykernel_launcher.py:1: SettingWithCopyWarning: \n",
      "A value is trying to be set on a copy of a slice from a DataFrame\n",
      "\n",
      "See the caveats in the documentation: http://pandas.pydata.org/pandas-docs/stable/user_guide/indexing.html#returning-a-view-versus-a-copy\n",
      "  \"\"\"Entry point for launching an IPython kernel.\n"
     ]
    }
   ],
   "source": [
    "speedDF[\"race_o\"][speedDF[\"race_o\"].isnull()]=\"NaN\""
   ]
  },
  {
   "cell_type": "code",
   "execution_count": 12,
   "metadata": {},
   "outputs": [
    {
     "data": {
      "text/plain": [
       "0    20\n",
       "Name: samerace, dtype: int64"
      ]
     },
     "execution_count": 12,
     "metadata": {},
     "output_type": "execute_result"
    }
   ],
   "source": [
    "speedDF[\"samerace\"][(speedDF[\"race_o\"]==\"NaN\")].value_counts()"
   ]
  },
  {
   "cell_type": "markdown",
   "metadata": {},
   "source": [
    "None of these instances involve subject and partner of the same race."
   ]
  },
  {
   "cell_type": "markdown",
   "metadata": {},
   "source": [
    "### checking if 'race' column is up to date"
   ]
  },
  {
   "cell_type": "code",
   "execution_count": 13,
   "metadata": {},
   "outputs": [
    {
     "data": {
      "text/plain": [
       "count    1636.000000\n",
       "mean        2.685819\n",
       "std         1.223748\n",
       "min         1.000000\n",
       "25%         2.000000\n",
       "50%         2.000000\n",
       "75%         4.000000\n",
       "max         6.000000\n",
       "Name: race, dtype: float64"
      ]
     },
     "execution_count": 13,
     "metadata": {},
     "output_type": "execute_result"
    }
   ],
   "source": [
    "speedDF[\"race\"].describe()"
   ]
  },
  {
   "cell_type": "markdown",
   "metadata": {},
   "source": [
    "It's incomplete and has equal number of empty instances when compared to 'race_o' column. "
   ]
  },
  {
   "cell_type": "code",
   "execution_count": 14,
   "metadata": {},
   "outputs": [
    {
     "data": {
      "text/plain": [
       "2.0    956\n",
       "4.0    326\n",
       "3.0    152\n",
       "6.0    104\n",
       "1.0     98\n",
       "NaN     20\n",
       "Name: race_o, dtype: int64"
      ]
     },
     "execution_count": 14,
     "metadata": {},
     "output_type": "execute_result"
    }
   ],
   "source": [
    "speedDF[\"race_o\"].value_counts()"
   ]
  },
  {
   "cell_type": "markdown",
   "metadata": {},
   "source": [
    "as majority of them have the value two, the missing instances too will be assigned the same value. "
   ]
  },
  {
   "cell_type": "code",
   "execution_count": 15,
   "metadata": {},
   "outputs": [
    {
     "name": "stderr",
     "output_type": "stream",
     "text": [
      "D:\\Anaconda\\envs\\Resume Project1\\lib\\site-packages\\ipykernel_launcher.py:1: SettingWithCopyWarning: \n",
      "A value is trying to be set on a copy of a slice from a DataFrame\n",
      "\n",
      "See the caveats in the documentation: http://pandas.pydata.org/pandas-docs/stable/user_guide/indexing.html#returning-a-view-versus-a-copy\n",
      "  \"\"\"Entry point for launching an IPython kernel.\n"
     ]
    }
   ],
   "source": [
    "speedDF[\"race_o\"][(speedDF[\"race_o\"]==\"NaN\")]=2.0"
   ]
  },
  {
   "cell_type": "code",
   "execution_count": 16,
   "metadata": {},
   "outputs": [
    {
     "data": {
      "text/html": [
       "<div>\n",
       "<style scoped>\n",
       "    .dataframe tbody tr th:only-of-type {\n",
       "        vertical-align: middle;\n",
       "    }\n",
       "\n",
       "    .dataframe tbody tr th {\n",
       "        vertical-align: top;\n",
       "    }\n",
       "\n",
       "    .dataframe thead th {\n",
       "        text-align: right;\n",
       "    }\n",
       "</style>\n",
       "<table border=\"1\" class=\"dataframe\">\n",
       "  <thead>\n",
       "    <tr style=\"text-align: right;\">\n",
       "      <th></th>\n",
       "      <th>iid</th>\n",
       "      <th>id</th>\n",
       "      <th>gender</th>\n",
       "      <th>idg</th>\n",
       "      <th>condtn</th>\n",
       "      <th>wave</th>\n",
       "      <th>round</th>\n",
       "      <th>order</th>\n",
       "      <th>partner</th>\n",
       "      <th>pid</th>\n",
       "      <th>match</th>\n",
       "      <th>int_corr</th>\n",
       "      <th>samerace</th>\n",
       "      <th>age_o</th>\n",
       "      <th>race_o</th>\n",
       "    </tr>\n",
       "  </thead>\n",
       "  <tbody>\n",
       "    <tr>\n",
       "      <th>count</th>\n",
       "      <td>1656.000000</td>\n",
       "      <td>1656.000000</td>\n",
       "      <td>1656.000000</td>\n",
       "      <td>1656.000000</td>\n",
       "      <td>1656.000000</td>\n",
       "      <td>1656.000000</td>\n",
       "      <td>1656.000000</td>\n",
       "      <td>1656.000000</td>\n",
       "      <td>1656.000000</td>\n",
       "      <td>1656.000000</td>\n",
       "      <td>1656.000000</td>\n",
       "      <td>1656.000</td>\n",
       "      <td>1656.000000</td>\n",
       "      <td>1656.0</td>\n",
       "      <td>1656.0</td>\n",
       "    </tr>\n",
       "    <tr>\n",
       "      <th>unique</th>\n",
       "      <td>NaN</td>\n",
       "      <td>NaN</td>\n",
       "      <td>NaN</td>\n",
       "      <td>NaN</td>\n",
       "      <td>NaN</td>\n",
       "      <td>NaN</td>\n",
       "      <td>NaN</td>\n",
       "      <td>NaN</td>\n",
       "      <td>NaN</td>\n",
       "      <td>NaN</td>\n",
       "      <td>NaN</td>\n",
       "      <td>137.000</td>\n",
       "      <td>NaN</td>\n",
       "      <td>15.0</td>\n",
       "      <td>5.0</td>\n",
       "    </tr>\n",
       "    <tr>\n",
       "      <th>top</th>\n",
       "      <td>NaN</td>\n",
       "      <td>NaN</td>\n",
       "      <td>NaN</td>\n",
       "      <td>NaN</td>\n",
       "      <td>NaN</td>\n",
       "      <td>NaN</td>\n",
       "      <td>NaN</td>\n",
       "      <td>NaN</td>\n",
       "      <td>NaN</td>\n",
       "      <td>NaN</td>\n",
       "      <td>NaN</td>\n",
       "      <td>0.155</td>\n",
       "      <td>NaN</td>\n",
       "      <td>23.0</td>\n",
       "      <td>2.0</td>\n",
       "    </tr>\n",
       "    <tr>\n",
       "      <th>freq</th>\n",
       "      <td>NaN</td>\n",
       "      <td>NaN</td>\n",
       "      <td>NaN</td>\n",
       "      <td>NaN</td>\n",
       "      <td>NaN</td>\n",
       "      <td>NaN</td>\n",
       "      <td>NaN</td>\n",
       "      <td>NaN</td>\n",
       "      <td>NaN</td>\n",
       "      <td>NaN</td>\n",
       "      <td>NaN</td>\n",
       "      <td>72.000</td>\n",
       "      <td>NaN</td>\n",
       "      <td>227.0</td>\n",
       "      <td>976.0</td>\n",
       "    </tr>\n",
       "    <tr>\n",
       "      <th>mean</th>\n",
       "      <td>59.992754</td>\n",
       "      <td>8.461353</td>\n",
       "      <td>0.500000</td>\n",
       "      <td>16.355072</td>\n",
       "      <td>1.758454</td>\n",
       "      <td>2.782609</td>\n",
       "      <td>15.884058</td>\n",
       "      <td>8.442029</td>\n",
       "      <td>8.461353</td>\n",
       "      <td>59.992754</td>\n",
       "      <td>0.169082</td>\n",
       "      <td>NaN</td>\n",
       "      <td>0.391304</td>\n",
       "      <td>NaN</td>\n",
       "      <td>NaN</td>\n",
       "    </tr>\n",
       "    <tr>\n",
       "      <th>std</th>\n",
       "      <td>31.510109</td>\n",
       "      <td>5.033034</td>\n",
       "      <td>0.500151</td>\n",
       "      <td>9.913804</td>\n",
       "      <td>0.428150</td>\n",
       "      <td>1.093164</td>\n",
       "      <td>3.450622</td>\n",
       "      <td>4.992347</td>\n",
       "      <td>5.033034</td>\n",
       "      <td>31.510109</td>\n",
       "      <td>0.374938</td>\n",
       "      <td>NaN</td>\n",
       "      <td>0.488190</td>\n",
       "      <td>NaN</td>\n",
       "      <td>NaN</td>\n",
       "    </tr>\n",
       "    <tr>\n",
       "      <th>min</th>\n",
       "      <td>1.000000</td>\n",
       "      <td>1.000000</td>\n",
       "      <td>0.000000</td>\n",
       "      <td>1.000000</td>\n",
       "      <td>1.000000</td>\n",
       "      <td>1.000000</td>\n",
       "      <td>10.000000</td>\n",
       "      <td>1.000000</td>\n",
       "      <td>1.000000</td>\n",
       "      <td>1.000000</td>\n",
       "      <td>0.000000</td>\n",
       "      <td>NaN</td>\n",
       "      <td>0.000000</td>\n",
       "      <td>NaN</td>\n",
       "      <td>NaN</td>\n",
       "    </tr>\n",
       "    <tr>\n",
       "      <th>25%</th>\n",
       "      <td>34.000000</td>\n",
       "      <td>4.000000</td>\n",
       "      <td>0.000000</td>\n",
       "      <td>8.000000</td>\n",
       "      <td>2.000000</td>\n",
       "      <td>2.000000</td>\n",
       "      <td>16.000000</td>\n",
       "      <td>4.000000</td>\n",
       "      <td>4.000000</td>\n",
       "      <td>34.000000</td>\n",
       "      <td>0.000000</td>\n",
       "      <td>NaN</td>\n",
       "      <td>0.000000</td>\n",
       "      <td>NaN</td>\n",
       "      <td>NaN</td>\n",
       "    </tr>\n",
       "    <tr>\n",
       "      <th>50%</th>\n",
       "      <td>57.500000</td>\n",
       "      <td>8.000000</td>\n",
       "      <td>0.500000</td>\n",
       "      <td>15.000000</td>\n",
       "      <td>2.000000</td>\n",
       "      <td>3.000000</td>\n",
       "      <td>18.000000</td>\n",
       "      <td>8.000000</td>\n",
       "      <td>8.000000</td>\n",
       "      <td>57.500000</td>\n",
       "      <td>0.000000</td>\n",
       "      <td>NaN</td>\n",
       "      <td>0.000000</td>\n",
       "      <td>NaN</td>\n",
       "      <td>NaN</td>\n",
       "    </tr>\n",
       "    <tr>\n",
       "      <th>75%</th>\n",
       "      <td>88.250000</td>\n",
       "      <td>12.000000</td>\n",
       "      <td>1.000000</td>\n",
       "      <td>24.000000</td>\n",
       "      <td>2.000000</td>\n",
       "      <td>4.000000</td>\n",
       "      <td>18.000000</td>\n",
       "      <td>12.000000</td>\n",
       "      <td>12.000000</td>\n",
       "      <td>88.250000</td>\n",
       "      <td>0.000000</td>\n",
       "      <td>NaN</td>\n",
       "      <td>1.000000</td>\n",
       "      <td>NaN</td>\n",
       "      <td>NaN</td>\n",
       "    </tr>\n",
       "    <tr>\n",
       "      <th>max</th>\n",
       "      <td>111.000000</td>\n",
       "      <td>20.000000</td>\n",
       "      <td>1.000000</td>\n",
       "      <td>36.000000</td>\n",
       "      <td>2.000000</td>\n",
       "      <td>4.000000</td>\n",
       "      <td>19.000000</td>\n",
       "      <td>19.000000</td>\n",
       "      <td>20.000000</td>\n",
       "      <td>111.000000</td>\n",
       "      <td>1.000000</td>\n",
       "      <td>NaN</td>\n",
       "      <td>1.000000</td>\n",
       "      <td>NaN</td>\n",
       "      <td>NaN</td>\n",
       "    </tr>\n",
       "  </tbody>\n",
       "</table>\n",
       "</div>"
      ],
      "text/plain": [
       "                iid           id       gender          idg       condtn  \\\n",
       "count   1656.000000  1656.000000  1656.000000  1656.000000  1656.000000   \n",
       "unique          NaN          NaN          NaN          NaN          NaN   \n",
       "top             NaN          NaN          NaN          NaN          NaN   \n",
       "freq            NaN          NaN          NaN          NaN          NaN   \n",
       "mean      59.992754     8.461353     0.500000    16.355072     1.758454   \n",
       "std       31.510109     5.033034     0.500151     9.913804     0.428150   \n",
       "min        1.000000     1.000000     0.000000     1.000000     1.000000   \n",
       "25%       34.000000     4.000000     0.000000     8.000000     2.000000   \n",
       "50%       57.500000     8.000000     0.500000    15.000000     2.000000   \n",
       "75%       88.250000    12.000000     1.000000    24.000000     2.000000   \n",
       "max      111.000000    20.000000     1.000000    36.000000     2.000000   \n",
       "\n",
       "               wave        round        order      partner          pid  \\\n",
       "count   1656.000000  1656.000000  1656.000000  1656.000000  1656.000000   \n",
       "unique          NaN          NaN          NaN          NaN          NaN   \n",
       "top             NaN          NaN          NaN          NaN          NaN   \n",
       "freq            NaN          NaN          NaN          NaN          NaN   \n",
       "mean       2.782609    15.884058     8.442029     8.461353    59.992754   \n",
       "std        1.093164     3.450622     4.992347     5.033034    31.510109   \n",
       "min        1.000000    10.000000     1.000000     1.000000     1.000000   \n",
       "25%        2.000000    16.000000     4.000000     4.000000    34.000000   \n",
       "50%        3.000000    18.000000     8.000000     8.000000    57.500000   \n",
       "75%        4.000000    18.000000    12.000000    12.000000    88.250000   \n",
       "max        4.000000    19.000000    19.000000    20.000000   111.000000   \n",
       "\n",
       "              match  int_corr     samerace   age_o  race_o  \n",
       "count   1656.000000  1656.000  1656.000000  1656.0  1656.0  \n",
       "unique          NaN   137.000          NaN    15.0     5.0  \n",
       "top             NaN     0.155          NaN    23.0     2.0  \n",
       "freq            NaN    72.000          NaN   227.0   976.0  \n",
       "mean       0.169082       NaN     0.391304     NaN     NaN  \n",
       "std        0.374938       NaN     0.488190     NaN     NaN  \n",
       "min        0.000000       NaN     0.000000     NaN     NaN  \n",
       "25%        0.000000       NaN     0.000000     NaN     NaN  \n",
       "50%        0.000000       NaN     0.000000     NaN     NaN  \n",
       "75%        0.000000       NaN     1.000000     NaN     NaN  \n",
       "max        1.000000       NaN     1.000000     NaN     NaN  "
      ]
     },
     "execution_count": 16,
     "metadata": {},
     "output_type": "execute_result"
    }
   ],
   "source": [
    "speedDF[col1].describe(include=all)"
   ]
  },
  {
   "cell_type": "markdown",
   "metadata": {},
   "source": [
    "<a id=\"section32\"></a>\n",
    "### &nbsp; 3.2. Survey before Speed Dating key:\n",
    "1. age:        age of subject\n",
    "\n",
    "2.  race:\n",
    "\t* Black/African American=1\n",
    "\t* European/Caucasian-American=2\n",
    "\t* Latino/Hispanic American=3\n",
    "\t* Asian/Pacific Islander/Asian-American=4\n",
    "\t* Native American=5\n",
    "\t* Other=6\n",
    "\n",
    "3. imprace:\n",
    "   How important is it to you (on a scale of 1-10) that a person you date be of the same racial/ethnic background?\n",
    "\n",
    "4. imprelig:\n",
    "   How important is it to you (on a scale of 1-10) that a person you date be of the same religious background?\n",
    "\n",
    "5. from:\n",
    "   Where are you from originally (before coming to Columbia)? \n",
    "\n",
    "6. goal:\n",
    "   What is your primary goal in participating in this event? \n",
    "\t* Seemed like a fun night out=1\n",
    "\t* To meet new people=2\n",
    "\t* To get a date=3\n",
    "\t* Looking for a serious relationship=4\n",
    "\t* To say I did it=5\n",
    "\t* Other=6\n",
    "7. date:\n",
    "   In general, how frequently do you go on dates? \n",
    "\t* Several times a week=1\n",
    "\t* Twice a week=2\n",
    "\t* Once a week=3\n",
    "\t* Twice a month=4\n",
    "\t* Once a month=5\n",
    "\t* Several times a year=6\n",
    "\t* Almost never=7\n",
    "\n",
    "8. go out:\n",
    "   How often do you go out (not necessarily on dates)?\n",
    "\t* Several times a week=1\n",
    "\t* Twice a week=2\n",
    "\t* Once a week=3\n",
    "\t* Twice a month=4\n",
    "\t* Once a month=5\n",
    "\t* Several times a year=6\n",
    "\t* Almost never=7\n",
    "\n",
    "7. career:\n",
    "   What is your intended career?\n",
    "\n",
    "8. career_c: career coded \n",
    "   * 1= Lawyer \n",
    "   * 2= Academic/Research \n",
    "   * 3= Psychologist \n",
    "   * 4= Doctor/Medicine \n",
    "   * 5=Engineer \n",
    "   * 6= Creative Arts/Entertainment \n",
    "   * 7= Banking/Consulting/Finance/Marketing/Business/CEO/Entrepreneur/Admin \n",
    "   * 8= Real Estate \n",
    "   * 9= International/Humanitarian Affairs \n",
    "   * 10= Undecided \n",
    "   * 11=Social Work\n",
    "   * 12=Speech Pathology\n",
    "   * 13=Politics\n",
    "   * 14=Pro sports/Athletics\n",
    "   * 15=Other \n",
    "   * 16=Journalism\n",
    "   * 17=Architecture\n",
    "\n",
    "\n",
    "   How interested are you in the following activities, on a scale of 1-10?\n",
    "9. sports: Playing sports/ athletics\n",
    "10. tvsports: Watching sports\n",
    "11. excersice: Body building/exercising\n",
    "12. dining: Dining out\n",
    "13. museums: Museums/galleries\n",
    "14. art: Art\n",
    "15. hiking:  Hiking/camping\n",
    "16. gaming: Gaming\n",
    "17. clubbing: Dancing/clubbing\n",
    "18. reading: Reading\n",
    "19. tv: Watching TV\n",
    "20. theater: Theater\n",
    "21. movies: Movies\n",
    "22. concerts: Going to concerts\n",
    "23. music: Music\n",
    "24. shopping: Shopping\n",
    "25. yoga: Yoga/meditation\n",
    "\n",
    "26. exphappy:\n",
    "    Overall, on a scale of 1-10, how happy do you expect to be with the people you meet \n",
    "    during the speed-dating event?\n",
    "\n",
    "27. expnum: \n",
    "    Out of the 20 people you will meet, how many do you expect will be interested in dating you? \n"
   ]
  },
  {
   "cell_type": "code",
   "execution_count": 17,
   "metadata": {},
   "outputs": [],
   "source": [
    "\n",
    "col2=[\"age\",\"race\",\"imprace\",\"imprelig\",\"from\",\"goal\",\"date\",\"go_out\",\"career\",\"career_c\",\"exphappy\",\"expnum\"]\n",
    "col3=[\"sports\",\"tvsports\",\"exercise\",\"dining\",\"museums\",\"art\",\"hiking\",\"gaming\",\"clubbing\",\"reading\",\"tv\",\"theater\",\"movies\",\"concerts\",\"music\",\"shopping\",\"yoga\"]\n"
   ]
  },
  {
   "cell_type": "code",
   "execution_count": 18,
   "metadata": {},
   "outputs": [
    {
     "data": {
      "text/plain": [
       "(1656, 12)"
      ]
     },
     "execution_count": 18,
     "metadata": {},
     "output_type": "execute_result"
    }
   ],
   "source": [
    "speedDF[col2].shape"
   ]
  },
  {
   "cell_type": "code",
   "execution_count": 19,
   "metadata": {},
   "outputs": [
    {
     "data": {
      "text/html": [
       "<div>\n",
       "<style scoped>\n",
       "    .dataframe tbody tr th:only-of-type {\n",
       "        vertical-align: middle;\n",
       "    }\n",
       "\n",
       "    .dataframe tbody tr th {\n",
       "        vertical-align: top;\n",
       "    }\n",
       "\n",
       "    .dataframe thead th {\n",
       "        text-align: right;\n",
       "    }\n",
       "</style>\n",
       "<table border=\"1\" class=\"dataframe\">\n",
       "  <thead>\n",
       "    <tr style=\"text-align: right;\">\n",
       "      <th></th>\n",
       "      <th>age</th>\n",
       "      <th>race</th>\n",
       "      <th>imprace</th>\n",
       "      <th>imprelig</th>\n",
       "      <th>from</th>\n",
       "      <th>goal</th>\n",
       "      <th>date</th>\n",
       "      <th>go_out</th>\n",
       "      <th>career</th>\n",
       "      <th>career_c</th>\n",
       "      <th>exphappy</th>\n",
       "      <th>expnum</th>\n",
       "    </tr>\n",
       "  </thead>\n",
       "  <tbody>\n",
       "    <tr>\n",
       "      <th>count</th>\n",
       "      <td>1636.000000</td>\n",
       "      <td>1636.000000</td>\n",
       "      <td>1620.000000</td>\n",
       "      <td>1620.000000</td>\n",
       "      <td>1620</td>\n",
       "      <td>1620.000000</td>\n",
       "      <td>1620.000000</td>\n",
       "      <td>1620.000000</td>\n",
       "      <td>1620</td>\n",
       "      <td>1571.000000</td>\n",
       "      <td>1620.000000</td>\n",
       "      <td>1620.000000</td>\n",
       "    </tr>\n",
       "    <tr>\n",
       "      <th>unique</th>\n",
       "      <td>NaN</td>\n",
       "      <td>NaN</td>\n",
       "      <td>NaN</td>\n",
       "      <td>NaN</td>\n",
       "      <td>74</td>\n",
       "      <td>NaN</td>\n",
       "      <td>NaN</td>\n",
       "      <td>NaN</td>\n",
       "      <td>81</td>\n",
       "      <td>NaN</td>\n",
       "      <td>NaN</td>\n",
       "      <td>NaN</td>\n",
       "    </tr>\n",
       "    <tr>\n",
       "      <th>top</th>\n",
       "      <td>NaN</td>\n",
       "      <td>NaN</td>\n",
       "      <td>NaN</td>\n",
       "      <td>NaN</td>\n",
       "      <td>Israel</td>\n",
       "      <td>NaN</td>\n",
       "      <td>NaN</td>\n",
       "      <td>NaN</td>\n",
       "      <td>Lawyer</td>\n",
       "      <td>NaN</td>\n",
       "      <td>NaN</td>\n",
       "      <td>NaN</td>\n",
       "    </tr>\n",
       "    <tr>\n",
       "      <th>freq</th>\n",
       "      <td>NaN</td>\n",
       "      <td>NaN</td>\n",
       "      <td>NaN</td>\n",
       "      <td>NaN</td>\n",
       "      <td>74</td>\n",
       "      <td>NaN</td>\n",
       "      <td>NaN</td>\n",
       "      <td>NaN</td>\n",
       "      <td>72</td>\n",
       "      <td>NaN</td>\n",
       "      <td>NaN</td>\n",
       "      <td>NaN</td>\n",
       "    </tr>\n",
       "    <tr>\n",
       "      <th>mean</th>\n",
       "      <td>25.636308</td>\n",
       "      <td>2.685819</td>\n",
       "      <td>3.828395</td>\n",
       "      <td>3.971605</td>\n",
       "      <td>NaN</td>\n",
       "      <td>2.279630</td>\n",
       "      <td>5.099383</td>\n",
       "      <td>2.162346</td>\n",
       "      <td>NaN</td>\n",
       "      <td>4.733291</td>\n",
       "      <td>5.564815</td>\n",
       "      <td>5.238889</td>\n",
       "    </tr>\n",
       "    <tr>\n",
       "      <th>std</th>\n",
       "      <td>3.370007</td>\n",
       "      <td>1.223748</td>\n",
       "      <td>2.901118</td>\n",
       "      <td>2.933133</td>\n",
       "      <td>NaN</td>\n",
       "      <td>1.656836</td>\n",
       "      <td>1.439108</td>\n",
       "      <td>1.274132</td>\n",
       "      <td>NaN</td>\n",
       "      <td>3.208592</td>\n",
       "      <td>1.597209</td>\n",
       "      <td>4.362975</td>\n",
       "    </tr>\n",
       "    <tr>\n",
       "      <th>min</th>\n",
       "      <td>21.000000</td>\n",
       "      <td>1.000000</td>\n",
       "      <td>1.000000</td>\n",
       "      <td>1.000000</td>\n",
       "      <td>NaN</td>\n",
       "      <td>1.000000</td>\n",
       "      <td>1.000000</td>\n",
       "      <td>1.000000</td>\n",
       "      <td>NaN</td>\n",
       "      <td>1.000000</td>\n",
       "      <td>1.000000</td>\n",
       "      <td>0.000000</td>\n",
       "    </tr>\n",
       "    <tr>\n",
       "      <th>25%</th>\n",
       "      <td>23.000000</td>\n",
       "      <td>2.000000</td>\n",
       "      <td>1.000000</td>\n",
       "      <td>1.000000</td>\n",
       "      <td>NaN</td>\n",
       "      <td>1.000000</td>\n",
       "      <td>4.000000</td>\n",
       "      <td>1.000000</td>\n",
       "      <td>NaN</td>\n",
       "      <td>2.000000</td>\n",
       "      <td>5.000000</td>\n",
       "      <td>2.000000</td>\n",
       "    </tr>\n",
       "    <tr>\n",
       "      <th>50%</th>\n",
       "      <td>25.000000</td>\n",
       "      <td>2.000000</td>\n",
       "      <td>3.000000</td>\n",
       "      <td>3.000000</td>\n",
       "      <td>NaN</td>\n",
       "      <td>2.000000</td>\n",
       "      <td>5.000000</td>\n",
       "      <td>2.000000</td>\n",
       "      <td>NaN</td>\n",
       "      <td>5.000000</td>\n",
       "      <td>6.000000</td>\n",
       "      <td>4.000000</td>\n",
       "    </tr>\n",
       "    <tr>\n",
       "      <th>75%</th>\n",
       "      <td>28.000000</td>\n",
       "      <td>4.000000</td>\n",
       "      <td>6.000000</td>\n",
       "      <td>6.000000</td>\n",
       "      <td>NaN</td>\n",
       "      <td>2.000000</td>\n",
       "      <td>6.000000</td>\n",
       "      <td>3.000000</td>\n",
       "      <td>NaN</td>\n",
       "      <td>7.000000</td>\n",
       "      <td>7.000000</td>\n",
       "      <td>7.000000</td>\n",
       "    </tr>\n",
       "    <tr>\n",
       "      <th>max</th>\n",
       "      <td>39.000000</td>\n",
       "      <td>6.000000</td>\n",
       "      <td>10.000000</td>\n",
       "      <td>10.000000</td>\n",
       "      <td>NaN</td>\n",
       "      <td>6.000000</td>\n",
       "      <td>7.000000</td>\n",
       "      <td>7.000000</td>\n",
       "      <td>NaN</td>\n",
       "      <td>14.000000</td>\n",
       "      <td>10.000000</td>\n",
       "      <td>20.000000</td>\n",
       "    </tr>\n",
       "  </tbody>\n",
       "</table>\n",
       "</div>"
      ],
      "text/plain": [
       "                age         race      imprace     imprelig    from  \\\n",
       "count   1636.000000  1636.000000  1620.000000  1620.000000    1620   \n",
       "unique          NaN          NaN          NaN          NaN      74   \n",
       "top             NaN          NaN          NaN          NaN  Israel   \n",
       "freq            NaN          NaN          NaN          NaN      74   \n",
       "mean      25.636308     2.685819     3.828395     3.971605     NaN   \n",
       "std        3.370007     1.223748     2.901118     2.933133     NaN   \n",
       "min       21.000000     1.000000     1.000000     1.000000     NaN   \n",
       "25%       23.000000     2.000000     1.000000     1.000000     NaN   \n",
       "50%       25.000000     2.000000     3.000000     3.000000     NaN   \n",
       "75%       28.000000     4.000000     6.000000     6.000000     NaN   \n",
       "max       39.000000     6.000000    10.000000    10.000000     NaN   \n",
       "\n",
       "               goal         date       go_out  career     career_c  \\\n",
       "count   1620.000000  1620.000000  1620.000000    1620  1571.000000   \n",
       "unique          NaN          NaN          NaN      81          NaN   \n",
       "top             NaN          NaN          NaN  Lawyer          NaN   \n",
       "freq            NaN          NaN          NaN      72          NaN   \n",
       "mean       2.279630     5.099383     2.162346     NaN     4.733291   \n",
       "std        1.656836     1.439108     1.274132     NaN     3.208592   \n",
       "min        1.000000     1.000000     1.000000     NaN     1.000000   \n",
       "25%        1.000000     4.000000     1.000000     NaN     2.000000   \n",
       "50%        2.000000     5.000000     2.000000     NaN     5.000000   \n",
       "75%        2.000000     6.000000     3.000000     NaN     7.000000   \n",
       "max        6.000000     7.000000     7.000000     NaN    14.000000   \n",
       "\n",
       "           exphappy       expnum  \n",
       "count   1620.000000  1620.000000  \n",
       "unique          NaN          NaN  \n",
       "top             NaN          NaN  \n",
       "freq            NaN          NaN  \n",
       "mean       5.564815     5.238889  \n",
       "std        1.597209     4.362975  \n",
       "min        1.000000     0.000000  \n",
       "25%        5.000000     2.000000  \n",
       "50%        6.000000     4.000000  \n",
       "75%        7.000000     7.000000  \n",
       "max       10.000000    20.000000  "
      ]
     },
     "execution_count": 19,
     "metadata": {},
     "output_type": "execute_result"
    }
   ],
   "source": [
    "speedDF[col2].describe(include=all)"
   ]
  },
  {
   "cell_type": "markdown",
   "metadata": {},
   "source": [
    "###  &nbsp; (a) Subject's Age"
   ]
  },
  {
   "cell_type": "code",
   "execution_count": 20,
   "metadata": {},
   "outputs": [
    {
     "name": "stderr",
     "output_type": "stream",
     "text": [
      "D:\\Anaconda\\envs\\Resume Project1\\lib\\site-packages\\ipykernel_launcher.py:1: SettingWithCopyWarning: \n",
      "A value is trying to be set on a copy of a slice from a DataFrame\n",
      "\n",
      "See the caveats in the documentation: http://pandas.pydata.org/pandas-docs/stable/user_guide/indexing.html#returning-a-view-versus-a-copy\n",
      "  \"\"\"Entry point for launching an IPython kernel.\n",
      "D:\\Anaconda\\envs\\Resume Project1\\lib\\site-packages\\ipykernel_launcher.py:3: SettingWithCopyWarning: \n",
      "A value is trying to be set on a copy of a slice from a DataFrame\n",
      "\n",
      "See the caveats in the documentation: http://pandas.pydata.org/pandas-docs/stable/user_guide/indexing.html#returning-a-view-versus-a-copy\n",
      "  This is separate from the ipykernel package so we can avoid doing imports until\n"
     ]
    }
   ],
   "source": [
    "speedDF[\"age\"][speedDF[\"age\"].isnull()]=\"NaN\"\n",
    "median=speedDF[\"age\"].median()\n",
    "speedDF[\"age\"][speedDF[\"age\"]==\"NaN\"]=median"
   ]
  },
  {
   "cell_type": "markdown",
   "metadata": {},
   "source": [
    "### &nbsp; (b) Subject's Race"
   ]
  },
  {
   "cell_type": "code",
   "execution_count": 21,
   "metadata": {},
   "outputs": [
    {
     "data": {
      "text/plain": [
       "2.0    956\n",
       "4.0    326\n",
       "3.0    152\n",
       "6.0    104\n",
       "1.0     98\n",
       "Name: race, dtype: int64"
      ]
     },
     "execution_count": 21,
     "metadata": {},
     "output_type": "execute_result"
    }
   ],
   "source": [
    "speedDF[\"race\"].value_counts()"
   ]
  },
  {
   "cell_type": "code",
   "execution_count": 22,
   "metadata": {},
   "outputs": [
    {
     "name": "stderr",
     "output_type": "stream",
     "text": [
      "D:\\Anaconda\\envs\\Resume Project1\\lib\\site-packages\\ipykernel_launcher.py:1: SettingWithCopyWarning: \n",
      "A value is trying to be set on a copy of a slice from a DataFrame\n",
      "\n",
      "See the caveats in the documentation: http://pandas.pydata.org/pandas-docs/stable/user_guide/indexing.html#returning-a-view-versus-a-copy\n",
      "  \"\"\"Entry point for launching an IPython kernel.\n"
     ]
    }
   ],
   "source": [
    "speedDF[\"race\"][speedDF[\"race\"].isnull()]=2.0"
   ]
  },
  {
   "cell_type": "markdown",
   "metadata": {},
   "source": [
    "### &nbsp; (c) 'Imprace' column"
   ]
  },
  {
   "cell_type": "code",
   "execution_count": 23,
   "metadata": {},
   "outputs": [
    {
     "data": {
      "text/plain": [
       "1.0     528\n",
       "2.0     233\n",
       "8.0     162\n",
       "3.0     159\n",
       "6.0     137\n",
       "4.0     131\n",
       "9.0      80\n",
       "7.0      72\n",
       "5.0      63\n",
       "10.0     55\n",
       "Name: imprace, dtype: int64"
      ]
     },
     "execution_count": 23,
     "metadata": {},
     "output_type": "execute_result"
    }
   ],
   "source": [
    "speedDF[\"imprace\"].value_counts()"
   ]
  },
  {
   "cell_type": "code",
   "execution_count": 24,
   "metadata": {},
   "outputs": [
    {
     "name": "stderr",
     "output_type": "stream",
     "text": [
      "D:\\Anaconda\\envs\\Resume Project1\\lib\\site-packages\\ipykernel_launcher.py:1: SettingWithCopyWarning: \n",
      "A value is trying to be set on a copy of a slice from a DataFrame\n",
      "\n",
      "See the caveats in the documentation: http://pandas.pydata.org/pandas-docs/stable/user_guide/indexing.html#returning-a-view-versus-a-copy\n",
      "  \"\"\"Entry point for launching an IPython kernel.\n"
     ]
    }
   ],
   "source": [
    "speedDF[\"imprace\"][speedDF[\"imprace\"].isnull()]=1.0\n"
   ]
  },
  {
   "cell_type": "markdown",
   "metadata": {},
   "source": [
    "### &nbsp; (d) 'Imprelig' column"
   ]
  },
  {
   "cell_type": "code",
   "execution_count": 25,
   "metadata": {},
   "outputs": [
    {
     "data": {
      "text/plain": [
       "1.0     504\n",
       "2.0     215\n",
       "3.0     151\n",
       "8.0     146\n",
       "6.0     127\n",
       "4.0     125\n",
       "5.0     116\n",
       "9.0      83\n",
       "7.0      80\n",
       "10.0     73\n",
       "Name: imprelig, dtype: int64"
      ]
     },
     "execution_count": 25,
     "metadata": {},
     "output_type": "execute_result"
    }
   ],
   "source": [
    "speedDF[\"imprelig\"].value_counts()"
   ]
  },
  {
   "cell_type": "code",
   "execution_count": 26,
   "metadata": {},
   "outputs": [
    {
     "name": "stderr",
     "output_type": "stream",
     "text": [
      "D:\\Anaconda\\envs\\Resume Project1\\lib\\site-packages\\ipykernel_launcher.py:1: SettingWithCopyWarning: \n",
      "A value is trying to be set on a copy of a slice from a DataFrame\n",
      "\n",
      "See the caveats in the documentation: http://pandas.pydata.org/pandas-docs/stable/user_guide/indexing.html#returning-a-view-versus-a-copy\n",
      "  \"\"\"Entry point for launching an IPython kernel.\n"
     ]
    }
   ],
   "source": [
    "speedDF[\"imprelig\"][speedDF[\"imprelig\"].isnull()]=1.0"
   ]
  },
  {
   "cell_type": "markdown",
   "metadata": {},
   "source": [
    "### &nbsp; (e)  'from' column"
   ]
  },
  {
   "cell_type": "code",
   "execution_count": 27,
   "metadata": {},
   "outputs": [
    {
     "data": {
      "text/plain": [
       "Israel                      74\n",
       "New York                    73\n",
       "Texas                       64\n",
       "California                  53\n",
       "Philadelphia                48\n",
       "                            ..\n",
       "Palo Alto, California       10\n",
       "Tuscaloosa, Alabama         10\n",
       "94115                       10\n",
       "Torrance, CA                10\n",
       "Palm Springs, California    10\n",
       "Name: from, Length: 74, dtype: int64"
      ]
     },
     "execution_count": 27,
     "metadata": {},
     "output_type": "execute_result"
    }
   ],
   "source": [
    "speedDF[\"from\"].value_counts()"
   ]
  },
  {
   "cell_type": "markdown",
   "metadata": {},
   "source": [
    "As the column is too diverse to choose a majority, the missing instances would be filled with 'Columbia'"
   ]
  },
  {
   "cell_type": "code",
   "execution_count": 28,
   "metadata": {},
   "outputs": [
    {
     "name": "stderr",
     "output_type": "stream",
     "text": [
      "D:\\Anaconda\\envs\\Resume Project1\\lib\\site-packages\\ipykernel_launcher.py:1: SettingWithCopyWarning: \n",
      "A value is trying to be set on a copy of a slice from a DataFrame\n",
      "\n",
      "See the caveats in the documentation: http://pandas.pydata.org/pandas-docs/stable/user_guide/indexing.html#returning-a-view-versus-a-copy\n",
      "  \"\"\"Entry point for launching an IPython kernel.\n"
     ]
    }
   ],
   "source": [
    "speedDF[\"from\"][speedDF[\"from\"].isnull()]=\"Columbia\""
   ]
  },
  {
   "cell_type": "markdown",
   "metadata": {},
   "source": [
    "### &nbsp; (f) 'goal' column"
   ]
  },
  {
   "cell_type": "code",
   "execution_count": 29,
   "metadata": {},
   "outputs": [
    {
     "data": {
      "text/plain": [
       "1.0    716\n",
       "2.0    504\n",
       "5.0    157\n",
       "6.0    139\n",
       "3.0     66\n",
       "4.0     38\n",
       "Name: goal, dtype: int64"
      ]
     },
     "execution_count": 29,
     "metadata": {},
     "output_type": "execute_result"
    }
   ],
   "source": [
    "speedDF[\"goal\"].value_counts()"
   ]
  },
  {
   "cell_type": "code",
   "execution_count": 30,
   "metadata": {},
   "outputs": [
    {
     "name": "stderr",
     "output_type": "stream",
     "text": [
      "D:\\Anaconda\\envs\\Resume Project1\\lib\\site-packages\\ipykernel_launcher.py:1: SettingWithCopyWarning: \n",
      "A value is trying to be set on a copy of a slice from a DataFrame\n",
      "\n",
      "See the caveats in the documentation: http://pandas.pydata.org/pandas-docs/stable/user_guide/indexing.html#returning-a-view-versus-a-copy\n",
      "  \"\"\"Entry point for launching an IPython kernel.\n"
     ]
    }
   ],
   "source": [
    "speedDF[\"goal\"][speedDF[\"goal\"].isnull()]=1.0"
   ]
  },
  {
   "cell_type": "markdown",
   "metadata": {},
   "source": [
    "### &nbsp; (g) 'date' column"
   ]
  },
  {
   "cell_type": "code",
   "execution_count": 31,
   "metadata": {},
   "outputs": [
    {
     "data": {
      "text/plain": [
       "6.0    475\n",
       "5.0    341\n",
       "4.0    308\n",
       "7.0    272\n",
       "3.0    168\n",
       "1.0     46\n",
       "2.0     10\n",
       "Name: date, dtype: int64"
      ]
     },
     "execution_count": 31,
     "metadata": {},
     "output_type": "execute_result"
    }
   ],
   "source": [
    "speedDF[\"date\"].value_counts()"
   ]
  },
  {
   "cell_type": "code",
   "execution_count": 32,
   "metadata": {},
   "outputs": [
    {
     "name": "stderr",
     "output_type": "stream",
     "text": [
      "D:\\Anaconda\\envs\\Resume Project1\\lib\\site-packages\\ipykernel_launcher.py:1: SettingWithCopyWarning: \n",
      "A value is trying to be set on a copy of a slice from a DataFrame\n",
      "\n",
      "See the caveats in the documentation: http://pandas.pydata.org/pandas-docs/stable/user_guide/indexing.html#returning-a-view-versus-a-copy\n",
      "  \"\"\"Entry point for launching an IPython kernel.\n"
     ]
    }
   ],
   "source": [
    "speedDF[\"date\"][speedDF[\"date\"].isnull()]=6.0"
   ]
  },
  {
   "cell_type": "markdown",
   "metadata": {},
   "source": [
    "### &nbsp; (g) 'go_out' ,'career' ,'career_c', 'exphappy', 'expnum' columns"
   ]
  },
  {
   "cell_type": "code",
   "execution_count": 33,
   "metadata": {},
   "outputs": [
    {
     "data": {
      "text/plain": [
       "1.0    588\n",
       "2.0    546\n",
       "3.0    261\n",
       "4.0    159\n",
       "7.0     37\n",
       "5.0     29\n",
       "Name: go_out, dtype: int64"
      ]
     },
     "execution_count": 33,
     "metadata": {},
     "output_type": "execute_result"
    }
   ],
   "source": [
    "speedDF[\"go_out\"].value_counts()"
   ]
  },
  {
   "cell_type": "markdown",
   "metadata": {},
   "source": [
    "The missing instances will be replaced with 2.0, regardless of 1.0 having the majority as people generally go out for twice a week."
   ]
  },
  {
   "cell_type": "code",
   "execution_count": 34,
   "metadata": {},
   "outputs": [
    {
     "name": "stderr",
     "output_type": "stream",
     "text": [
      "D:\\Anaconda\\envs\\Resume Project1\\lib\\site-packages\\ipykernel_launcher.py:1: SettingWithCopyWarning: \n",
      "A value is trying to be set on a copy of a slice from a DataFrame\n",
      "\n",
      "See the caveats in the documentation: http://pandas.pydata.org/pandas-docs/stable/user_guide/indexing.html#returning-a-view-versus-a-copy\n",
      "  \"\"\"Entry point for launching an IPython kernel.\n"
     ]
    }
   ],
   "source": [
    "speedDF[\"go_out\"][speedDF[\"go_out\"].isnull()]=2.0"
   ]
  },
  {
   "cell_type": "code",
   "execution_count": 35,
   "metadata": {},
   "outputs": [
    {
     "data": {
      "text/plain": [
       "Lawyer                               72\n",
       "Academic                             66\n",
       "lawyer                               65\n",
       "Law                                  65\n",
       "Social Worker                        62\n",
       "                                     ..\n",
       "Journalist                           10\n",
       "research/financial industry          10\n",
       "Engineer or iBanker or consultant    10\n",
       "Academia, Research, Banking, Life    10\n",
       "Corporate attorney                   10\n",
       "Name: career, Length: 81, dtype: int64"
      ]
     },
     "execution_count": 35,
     "metadata": {},
     "output_type": "execute_result"
    }
   ],
   "source": [
    "speedDF[\"career\"].value_counts()"
   ]
  },
  {
   "cell_type": "markdown",
   "metadata": {},
   "source": [
    "From above, most of them intend to be a Lawyer. So, missing instances will be filled with 'Lawyer' as a career they are passionate about."
   ]
  },
  {
   "cell_type": "code",
   "execution_count": 36,
   "metadata": {},
   "outputs": [
    {
     "name": "stderr",
     "output_type": "stream",
     "text": [
      "D:\\Anaconda\\envs\\Resume Project1\\lib\\site-packages\\ipykernel_launcher.py:1: SettingWithCopyWarning: \n",
      "A value is trying to be set on a copy of a slice from a DataFrame\n",
      "\n",
      "See the caveats in the documentation: http://pandas.pydata.org/pandas-docs/stable/user_guide/indexing.html#returning-a-view-versus-a-copy\n",
      "  \"\"\"Entry point for launching an IPython kernel.\n"
     ]
    }
   ],
   "source": [
    "speedDF[\"career\"][speedDF[\"career\"].isnull()]=\"Lawyer\""
   ]
  },
  {
   "cell_type": "code",
   "execution_count": 37,
   "metadata": {},
   "outputs": [
    {
     "data": {
      "text/plain": [
       "array(['lawyer', 'law', 'Economist', 'Lawyer', 'tech professional'],\n",
       "      dtype=object)"
      ]
     },
     "execution_count": 37,
     "metadata": {},
     "output_type": "execute_result"
    }
   ],
   "source": [
    "speedDF[\"career\"][speedDF[\"career_c\"].isnull()].unique()"
   ]
  },
  {
   "cell_type": "code",
   "execution_count": 38,
   "metadata": {},
   "outputs": [
    {
     "name": "stderr",
     "output_type": "stream",
     "text": [
      "D:\\Anaconda\\envs\\Resume Project1\\lib\\site-packages\\ipykernel_launcher.py:1: SettingWithCopyWarning: \n",
      "A value is trying to be set on a copy of a slice from a DataFrame\n",
      "\n",
      "See the caveats in the documentation: http://pandas.pydata.org/pandas-docs/stable/user_guide/indexing.html#returning-a-view-versus-a-copy\n",
      "  \"\"\"Entry point for launching an IPython kernel.\n"
     ]
    }
   ],
   "source": [
    "speedDF[\"career_c\"][speedDF[\"career_c\"].isnull()]=\"NaN\""
   ]
  },
  {
   "cell_type": "code",
   "execution_count": 39,
   "metadata": {},
   "outputs": [
    {
     "data": {
      "text/plain": [
       "1.0     341\n",
       "7.0     340\n",
       "2.0     337\n",
       "9.0     184\n",
       "6.0     119\n",
       "NaN      85\n",
       "5.0      81\n",
       "4.0      53\n",
       "10.0     44\n",
       "11.0     36\n",
       "3.0      26\n",
       "14.0     10\n",
       "Name: career_c, dtype: int64"
      ]
     },
     "execution_count": 39,
     "metadata": {},
     "output_type": "execute_result"
    }
   ],
   "source": [
    "speedDF[\"career_c\"].value_counts()"
   ]
  },
  {
   "cell_type": "code",
   "execution_count": 40,
   "metadata": {},
   "outputs": [
    {
     "name": "stderr",
     "output_type": "stream",
     "text": [
      "C:\\Users\\Toshiba\\AppData\\Roaming\\Python\\Python37\\site-packages\\pandas\\core\\indexing.py:480: SettingWithCopyWarning: \n",
      "A value is trying to be set on a copy of a slice from a DataFrame.\n",
      "Try using .loc[row_indexer,col_indexer] = value instead\n",
      "\n",
      "See the caveats in the documentation: http://pandas.pydata.org/pandas-docs/stable/user_guide/indexing.html#returning-a-view-versus-a-copy\n",
      "  self.obj[item] = s\n"
     ]
    }
   ],
   "source": [
    "for i in range(0,len(speedDF)):\n",
    "    if speedDF.loc[i,\"career_c\"]==\"NaN\":\n",
    "        if speedDF.loc[i,\"career\"].startswith(\"law\") or speedDF.loc[i,\"career\"].startswith(\"Law\"):\n",
    "            speedDF.loc[i,\"career_c\"]=1.0\n",
    "        elif speedDF.loc[i,\"career\"]==\"Economist\":\n",
    "            speedDF.loc[i,\"career_c\"]=7.0\n",
    "        elif speedDF.loc[i,\"career\"]==\"tech professional\":\n",
    "            speedDF.loc[i,\"career_c\"]=5.0 \n",
    "        else:\n",
    "            continue;\n",
    "    else:\n",
    "        continue;"
   ]
  },
  {
   "cell_type": "code",
   "execution_count": 41,
   "metadata": {},
   "outputs": [
    {
     "data": {
      "text/plain": [
       "5.0     484\n",
       "7.0     366\n",
       "6.0     328\n",
       "3.0     149\n",
       "4.0     118\n",
       "8.0      65\n",
       "9.0      48\n",
       "2.0      42\n",
       "10.0     10\n",
       "1.0      10\n",
       "Name: exphappy, dtype: int64"
      ]
     },
     "execution_count": 41,
     "metadata": {},
     "output_type": "execute_result"
    }
   ],
   "source": [
    "speedDF[\"exphappy\"].value_counts()"
   ]
  },
  {
   "cell_type": "code",
   "execution_count": 42,
   "metadata": {},
   "outputs": [
    {
     "name": "stderr",
     "output_type": "stream",
     "text": [
      "D:\\Anaconda\\envs\\Resume Project1\\lib\\site-packages\\ipykernel_launcher.py:2: SettingWithCopyWarning: \n",
      "A value is trying to be set on a copy of a slice from a DataFrame\n",
      "\n",
      "See the caveats in the documentation: http://pandas.pydata.org/pandas-docs/stable/user_guide/indexing.html#returning-a-view-versus-a-copy\n",
      "  \n"
     ]
    }
   ],
   "source": [
    "median=speedDF[\"exphappy\"].median()\n",
    "speedDF[\"exphappy\"][speedDF[\"exphappy\"].isnull()]= median"
   ]
  },
  {
   "cell_type": "code",
   "execution_count": 43,
   "metadata": {},
   "outputs": [
    {
     "data": {
      "text/plain": [
       "3.0     270\n",
       "2.0     260\n",
       "5.0     210\n",
       "4.0     175\n",
       "10.0    148\n",
       "1.0     104\n",
       "0.0      94\n",
       "6.0      91\n",
       "8.0      51\n",
       "9.0      39\n",
       "7.0      38\n",
       "18.0     36\n",
       "15.0     30\n",
       "12.0     26\n",
       "20.0     20\n",
       "14.0     18\n",
       "19.0     10\n",
       "Name: expnum, dtype: int64"
      ]
     },
     "execution_count": 43,
     "metadata": {},
     "output_type": "execute_result"
    }
   ],
   "source": [
    "speedDF[\"expnum\"].value_counts()"
   ]
  },
  {
   "cell_type": "code",
   "execution_count": 44,
   "metadata": {},
   "outputs": [
    {
     "name": "stderr",
     "output_type": "stream",
     "text": [
      "D:\\Anaconda\\envs\\Resume Project1\\lib\\site-packages\\ipykernel_launcher.py:2: SettingWithCopyWarning: \n",
      "A value is trying to be set on a copy of a slice from a DataFrame\n",
      "\n",
      "See the caveats in the documentation: http://pandas.pydata.org/pandas-docs/stable/user_guide/indexing.html#returning-a-view-versus-a-copy\n",
      "  \n"
     ]
    }
   ],
   "source": [
    "median=speedDF[\"expnum\"].median()\n",
    "speedDF[\"expnum\"][speedDF[\"expnum\"].isnull()]=median"
   ]
  },
  {
   "cell_type": "code",
   "execution_count": 45,
   "metadata": {},
   "outputs": [
    {
     "data": {
      "text/html": [
       "<div>\n",
       "<style scoped>\n",
       "    .dataframe tbody tr th:only-of-type {\n",
       "        vertical-align: middle;\n",
       "    }\n",
       "\n",
       "    .dataframe tbody tr th {\n",
       "        vertical-align: top;\n",
       "    }\n",
       "\n",
       "    .dataframe thead th {\n",
       "        text-align: right;\n",
       "    }\n",
       "</style>\n",
       "<table border=\"1\" class=\"dataframe\">\n",
       "  <thead>\n",
       "    <tr style=\"text-align: right;\">\n",
       "      <th></th>\n",
       "      <th>age</th>\n",
       "      <th>race</th>\n",
       "      <th>imprace</th>\n",
       "      <th>imprelig</th>\n",
       "      <th>from</th>\n",
       "      <th>goal</th>\n",
       "      <th>date</th>\n",
       "      <th>go_out</th>\n",
       "      <th>career</th>\n",
       "      <th>career_c</th>\n",
       "      <th>exphappy</th>\n",
       "      <th>expnum</th>\n",
       "    </tr>\n",
       "  </thead>\n",
       "  <tbody>\n",
       "    <tr>\n",
       "      <th>count</th>\n",
       "      <td>1656.0</td>\n",
       "      <td>1656.000000</td>\n",
       "      <td>1656.000000</td>\n",
       "      <td>1656.000000</td>\n",
       "      <td>1656</td>\n",
       "      <td>1656.000000</td>\n",
       "      <td>1656.000000</td>\n",
       "      <td>1656.000000</td>\n",
       "      <td>1656</td>\n",
       "      <td>1656.000000</td>\n",
       "      <td>1656.000000</td>\n",
       "      <td>1656.000000</td>\n",
       "    </tr>\n",
       "    <tr>\n",
       "      <th>unique</th>\n",
       "      <td>14.0</td>\n",
       "      <td>NaN</td>\n",
       "      <td>NaN</td>\n",
       "      <td>NaN</td>\n",
       "      <td>75</td>\n",
       "      <td>NaN</td>\n",
       "      <td>NaN</td>\n",
       "      <td>NaN</td>\n",
       "      <td>81</td>\n",
       "      <td>NaN</td>\n",
       "      <td>NaN</td>\n",
       "      <td>NaN</td>\n",
       "    </tr>\n",
       "    <tr>\n",
       "      <th>top</th>\n",
       "      <td>23.0</td>\n",
       "      <td>NaN</td>\n",
       "      <td>NaN</td>\n",
       "      <td>NaN</td>\n",
       "      <td>Israel</td>\n",
       "      <td>NaN</td>\n",
       "      <td>NaN</td>\n",
       "      <td>NaN</td>\n",
       "      <td>Lawyer</td>\n",
       "      <td>NaN</td>\n",
       "      <td>NaN</td>\n",
       "      <td>NaN</td>\n",
       "    </tr>\n",
       "    <tr>\n",
       "      <th>freq</th>\n",
       "      <td>227.0</td>\n",
       "      <td>NaN</td>\n",
       "      <td>NaN</td>\n",
       "      <td>NaN</td>\n",
       "      <td>74</td>\n",
       "      <td>NaN</td>\n",
       "      <td>NaN</td>\n",
       "      <td>NaN</td>\n",
       "      <td>108</td>\n",
       "      <td>NaN</td>\n",
       "      <td>NaN</td>\n",
       "      <td>NaN</td>\n",
       "    </tr>\n",
       "    <tr>\n",
       "      <th>mean</th>\n",
       "      <td>NaN</td>\n",
       "      <td>2.677536</td>\n",
       "      <td>3.766908</td>\n",
       "      <td>3.907005</td>\n",
       "      <td>NaN</td>\n",
       "      <td>2.251812</td>\n",
       "      <td>5.118961</td>\n",
       "      <td>2.158816</td>\n",
       "      <td>NaN</td>\n",
       "      <td>4.623792</td>\n",
       "      <td>5.574275</td>\n",
       "      <td>5.211957</td>\n",
       "    </tr>\n",
       "    <tr>\n",
       "      <th>std</th>\n",
       "      <td>NaN</td>\n",
       "      <td>1.218638</td>\n",
       "      <td>2.898903</td>\n",
       "      <td>2.933264</td>\n",
       "      <td>NaN</td>\n",
       "      <td>1.649315</td>\n",
       "      <td>1.429420</td>\n",
       "      <td>1.260420</td>\n",
       "      <td>NaN</td>\n",
       "      <td>3.202777</td>\n",
       "      <td>1.581017</td>\n",
       "      <td>4.319044</td>\n",
       "    </tr>\n",
       "    <tr>\n",
       "      <th>min</th>\n",
       "      <td>NaN</td>\n",
       "      <td>1.000000</td>\n",
       "      <td>1.000000</td>\n",
       "      <td>1.000000</td>\n",
       "      <td>NaN</td>\n",
       "      <td>1.000000</td>\n",
       "      <td>1.000000</td>\n",
       "      <td>1.000000</td>\n",
       "      <td>NaN</td>\n",
       "      <td>1.000000</td>\n",
       "      <td>1.000000</td>\n",
       "      <td>0.000000</td>\n",
       "    </tr>\n",
       "    <tr>\n",
       "      <th>25%</th>\n",
       "      <td>NaN</td>\n",
       "      <td>2.000000</td>\n",
       "      <td>1.000000</td>\n",
       "      <td>1.000000</td>\n",
       "      <td>NaN</td>\n",
       "      <td>1.000000</td>\n",
       "      <td>4.000000</td>\n",
       "      <td>1.000000</td>\n",
       "      <td>NaN</td>\n",
       "      <td>2.000000</td>\n",
       "      <td>5.000000</td>\n",
       "      <td>2.000000</td>\n",
       "    </tr>\n",
       "    <tr>\n",
       "      <th>50%</th>\n",
       "      <td>NaN</td>\n",
       "      <td>2.000000</td>\n",
       "      <td>3.000000</td>\n",
       "      <td>3.000000</td>\n",
       "      <td>NaN</td>\n",
       "      <td>2.000000</td>\n",
       "      <td>5.000000</td>\n",
       "      <td>2.000000</td>\n",
       "      <td>NaN</td>\n",
       "      <td>5.000000</td>\n",
       "      <td>6.000000</td>\n",
       "      <td>4.000000</td>\n",
       "    </tr>\n",
       "    <tr>\n",
       "      <th>75%</th>\n",
       "      <td>NaN</td>\n",
       "      <td>4.000000</td>\n",
       "      <td>6.000000</td>\n",
       "      <td>6.000000</td>\n",
       "      <td>NaN</td>\n",
       "      <td>2.000000</td>\n",
       "      <td>6.000000</td>\n",
       "      <td>3.000000</td>\n",
       "      <td>NaN</td>\n",
       "      <td>7.000000</td>\n",
       "      <td>7.000000</td>\n",
       "      <td>7.000000</td>\n",
       "    </tr>\n",
       "    <tr>\n",
       "      <th>max</th>\n",
       "      <td>NaN</td>\n",
       "      <td>6.000000</td>\n",
       "      <td>10.000000</td>\n",
       "      <td>10.000000</td>\n",
       "      <td>NaN</td>\n",
       "      <td>6.000000</td>\n",
       "      <td>7.000000</td>\n",
       "      <td>7.000000</td>\n",
       "      <td>NaN</td>\n",
       "      <td>14.000000</td>\n",
       "      <td>10.000000</td>\n",
       "      <td>20.000000</td>\n",
       "    </tr>\n",
       "  </tbody>\n",
       "</table>\n",
       "</div>"
      ],
      "text/plain": [
       "           age         race      imprace     imprelig    from         goal  \\\n",
       "count   1656.0  1656.000000  1656.000000  1656.000000    1656  1656.000000   \n",
       "unique    14.0          NaN          NaN          NaN      75          NaN   \n",
       "top       23.0          NaN          NaN          NaN  Israel          NaN   \n",
       "freq     227.0          NaN          NaN          NaN      74          NaN   \n",
       "mean       NaN     2.677536     3.766908     3.907005     NaN     2.251812   \n",
       "std        NaN     1.218638     2.898903     2.933264     NaN     1.649315   \n",
       "min        NaN     1.000000     1.000000     1.000000     NaN     1.000000   \n",
       "25%        NaN     2.000000     1.000000     1.000000     NaN     1.000000   \n",
       "50%        NaN     2.000000     3.000000     3.000000     NaN     2.000000   \n",
       "75%        NaN     4.000000     6.000000     6.000000     NaN     2.000000   \n",
       "max        NaN     6.000000    10.000000    10.000000     NaN     6.000000   \n",
       "\n",
       "               date       go_out  career     career_c     exphappy  \\\n",
       "count   1656.000000  1656.000000    1656  1656.000000  1656.000000   \n",
       "unique          NaN          NaN      81          NaN          NaN   \n",
       "top             NaN          NaN  Lawyer          NaN          NaN   \n",
       "freq            NaN          NaN     108          NaN          NaN   \n",
       "mean       5.118961     2.158816     NaN     4.623792     5.574275   \n",
       "std        1.429420     1.260420     NaN     3.202777     1.581017   \n",
       "min        1.000000     1.000000     NaN     1.000000     1.000000   \n",
       "25%        4.000000     1.000000     NaN     2.000000     5.000000   \n",
       "50%        5.000000     2.000000     NaN     5.000000     6.000000   \n",
       "75%        6.000000     3.000000     NaN     7.000000     7.000000   \n",
       "max        7.000000     7.000000     NaN    14.000000    10.000000   \n",
       "\n",
       "             expnum  \n",
       "count   1656.000000  \n",
       "unique          NaN  \n",
       "top             NaN  \n",
       "freq            NaN  \n",
       "mean       5.211957  \n",
       "std        4.319044  \n",
       "min        0.000000  \n",
       "25%        2.000000  \n",
       "50%        4.000000  \n",
       "75%        7.000000  \n",
       "max       20.000000  "
      ]
     },
     "execution_count": 45,
     "metadata": {},
     "output_type": "execute_result"
    }
   ],
   "source": [
    "speedDF[col2].describe(include=all)"
   ]
  },
  {
   "cell_type": "markdown",
   "metadata": {},
   "source": [
    "<a id=\"section33\"></a>\n",
    "###  &nbsp; 3.3. Survey before Speed Dating key(part two)"
   ]
  },
  {
   "cell_type": "code",
   "execution_count": 46,
   "metadata": {},
   "outputs": [
    {
     "data": {
      "text/html": [
       "<div>\n",
       "<style scoped>\n",
       "    .dataframe tbody tr th:only-of-type {\n",
       "        vertical-align: middle;\n",
       "    }\n",
       "\n",
       "    .dataframe tbody tr th {\n",
       "        vertical-align: top;\n",
       "    }\n",
       "\n",
       "    .dataframe thead th {\n",
       "        text-align: right;\n",
       "    }\n",
       "</style>\n",
       "<table border=\"1\" class=\"dataframe\">\n",
       "  <thead>\n",
       "    <tr style=\"text-align: right;\">\n",
       "      <th></th>\n",
       "      <th>sports</th>\n",
       "      <th>tvsports</th>\n",
       "      <th>exercise</th>\n",
       "      <th>dining</th>\n",
       "      <th>museums</th>\n",
       "      <th>art</th>\n",
       "      <th>hiking</th>\n",
       "      <th>gaming</th>\n",
       "      <th>clubbing</th>\n",
       "      <th>reading</th>\n",
       "      <th>tv</th>\n",
       "      <th>theater</th>\n",
       "      <th>movies</th>\n",
       "      <th>concerts</th>\n",
       "      <th>music</th>\n",
       "      <th>shopping</th>\n",
       "      <th>yoga</th>\n",
       "    </tr>\n",
       "  </thead>\n",
       "  <tbody>\n",
       "    <tr>\n",
       "      <th>count</th>\n",
       "      <td>1620.000000</td>\n",
       "      <td>1620.000000</td>\n",
       "      <td>1620.000000</td>\n",
       "      <td>1620.000000</td>\n",
       "      <td>1620.000000</td>\n",
       "      <td>1620.000000</td>\n",
       "      <td>1620.000000</td>\n",
       "      <td>1620.000000</td>\n",
       "      <td>1620.000000</td>\n",
       "      <td>1620.000000</td>\n",
       "      <td>1620.000000</td>\n",
       "      <td>1620.000000</td>\n",
       "      <td>1620.000000</td>\n",
       "      <td>1620.000000</td>\n",
       "      <td>1620.000000</td>\n",
       "      <td>1620.000000</td>\n",
       "      <td>1620.000000</td>\n",
       "    </tr>\n",
       "    <tr>\n",
       "      <th>mean</th>\n",
       "      <td>6.285185</td>\n",
       "      <td>4.716667</td>\n",
       "      <td>6.035185</td>\n",
       "      <td>7.569753</td>\n",
       "      <td>6.698765</td>\n",
       "      <td>6.312963</td>\n",
       "      <td>5.427778</td>\n",
       "      <td>3.905556</td>\n",
       "      <td>6.142593</td>\n",
       "      <td>7.434568</td>\n",
       "      <td>5.478395</td>\n",
       "      <td>6.867284</td>\n",
       "      <td>8.086420</td>\n",
       "      <td>6.750000</td>\n",
       "      <td>7.559259</td>\n",
       "      <td>5.416049</td>\n",
       "      <td>4.214198</td>\n",
       "    </tr>\n",
       "    <tr>\n",
       "      <th>std</th>\n",
       "      <td>2.717528</td>\n",
       "      <td>2.906718</td>\n",
       "      <td>2.467202</td>\n",
       "      <td>1.758263</td>\n",
       "      <td>2.020127</td>\n",
       "      <td>2.144319</td>\n",
       "      <td>2.609262</td>\n",
       "      <td>2.484113</td>\n",
       "      <td>2.212612</td>\n",
       "      <td>1.729743</td>\n",
       "      <td>2.438400</td>\n",
       "      <td>2.151528</td>\n",
       "      <td>1.494462</td>\n",
       "      <td>2.018101</td>\n",
       "      <td>1.802700</td>\n",
       "      <td>2.456236</td>\n",
       "      <td>2.780710</td>\n",
       "    </tr>\n",
       "    <tr>\n",
       "      <th>min</th>\n",
       "      <td>1.000000</td>\n",
       "      <td>1.000000</td>\n",
       "      <td>1.000000</td>\n",
       "      <td>3.000000</td>\n",
       "      <td>1.000000</td>\n",
       "      <td>1.000000</td>\n",
       "      <td>1.000000</td>\n",
       "      <td>1.000000</td>\n",
       "      <td>1.000000</td>\n",
       "      <td>2.000000</td>\n",
       "      <td>1.000000</td>\n",
       "      <td>1.000000</td>\n",
       "      <td>3.000000</td>\n",
       "      <td>1.000000</td>\n",
       "      <td>1.000000</td>\n",
       "      <td>1.000000</td>\n",
       "      <td>1.000000</td>\n",
       "    </tr>\n",
       "    <tr>\n",
       "      <th>25%</th>\n",
       "      <td>4.000000</td>\n",
       "      <td>2.000000</td>\n",
       "      <td>4.000000</td>\n",
       "      <td>7.000000</td>\n",
       "      <td>5.000000</td>\n",
       "      <td>5.000000</td>\n",
       "      <td>3.000000</td>\n",
       "      <td>1.000000</td>\n",
       "      <td>5.000000</td>\n",
       "      <td>6.000000</td>\n",
       "      <td>4.000000</td>\n",
       "      <td>5.000000</td>\n",
       "      <td>7.000000</td>\n",
       "      <td>6.000000</td>\n",
       "      <td>7.000000</td>\n",
       "      <td>3.000000</td>\n",
       "      <td>2.000000</td>\n",
       "    </tr>\n",
       "    <tr>\n",
       "      <th>50%</th>\n",
       "      <td>7.000000</td>\n",
       "      <td>4.000000</td>\n",
       "      <td>6.000000</td>\n",
       "      <td>8.000000</td>\n",
       "      <td>7.000000</td>\n",
       "      <td>6.000000</td>\n",
       "      <td>6.000000</td>\n",
       "      <td>4.000000</td>\n",
       "      <td>7.000000</td>\n",
       "      <td>8.000000</td>\n",
       "      <td>6.000000</td>\n",
       "      <td>7.000000</td>\n",
       "      <td>8.000000</td>\n",
       "      <td>7.000000</td>\n",
       "      <td>8.000000</td>\n",
       "      <td>5.000000</td>\n",
       "      <td>3.000000</td>\n",
       "    </tr>\n",
       "    <tr>\n",
       "      <th>75%</th>\n",
       "      <td>9.000000</td>\n",
       "      <td>7.000000</td>\n",
       "      <td>8.000000</td>\n",
       "      <td>9.000000</td>\n",
       "      <td>8.000000</td>\n",
       "      <td>8.000000</td>\n",
       "      <td>8.000000</td>\n",
       "      <td>6.000000</td>\n",
       "      <td>8.000000</td>\n",
       "      <td>9.000000</td>\n",
       "      <td>7.000000</td>\n",
       "      <td>8.250000</td>\n",
       "      <td>9.000000</td>\n",
       "      <td>8.000000</td>\n",
       "      <td>9.000000</td>\n",
       "      <td>7.000000</td>\n",
       "      <td>7.000000</td>\n",
       "    </tr>\n",
       "    <tr>\n",
       "      <th>max</th>\n",
       "      <td>10.000000</td>\n",
       "      <td>10.000000</td>\n",
       "      <td>10.000000</td>\n",
       "      <td>10.000000</td>\n",
       "      <td>10.000000</td>\n",
       "      <td>10.000000</td>\n",
       "      <td>10.000000</td>\n",
       "      <td>10.000000</td>\n",
       "      <td>10.000000</td>\n",
       "      <td>10.000000</td>\n",
       "      <td>10.000000</td>\n",
       "      <td>10.000000</td>\n",
       "      <td>10.000000</td>\n",
       "      <td>10.000000</td>\n",
       "      <td>10.000000</td>\n",
       "      <td>10.000000</td>\n",
       "      <td>10.000000</td>\n",
       "    </tr>\n",
       "  </tbody>\n",
       "</table>\n",
       "</div>"
      ],
      "text/plain": [
       "            sports     tvsports     exercise       dining      museums  \\\n",
       "count  1620.000000  1620.000000  1620.000000  1620.000000  1620.000000   \n",
       "mean      6.285185     4.716667     6.035185     7.569753     6.698765   \n",
       "std       2.717528     2.906718     2.467202     1.758263     2.020127   \n",
       "min       1.000000     1.000000     1.000000     3.000000     1.000000   \n",
       "25%       4.000000     2.000000     4.000000     7.000000     5.000000   \n",
       "50%       7.000000     4.000000     6.000000     8.000000     7.000000   \n",
       "75%       9.000000     7.000000     8.000000     9.000000     8.000000   \n",
       "max      10.000000    10.000000    10.000000    10.000000    10.000000   \n",
       "\n",
       "               art       hiking       gaming     clubbing      reading  \\\n",
       "count  1620.000000  1620.000000  1620.000000  1620.000000  1620.000000   \n",
       "mean      6.312963     5.427778     3.905556     6.142593     7.434568   \n",
       "std       2.144319     2.609262     2.484113     2.212612     1.729743   \n",
       "min       1.000000     1.000000     1.000000     1.000000     2.000000   \n",
       "25%       5.000000     3.000000     1.000000     5.000000     6.000000   \n",
       "50%       6.000000     6.000000     4.000000     7.000000     8.000000   \n",
       "75%       8.000000     8.000000     6.000000     8.000000     9.000000   \n",
       "max      10.000000    10.000000    10.000000    10.000000    10.000000   \n",
       "\n",
       "                tv      theater       movies     concerts        music  \\\n",
       "count  1620.000000  1620.000000  1620.000000  1620.000000  1620.000000   \n",
       "mean      5.478395     6.867284     8.086420     6.750000     7.559259   \n",
       "std       2.438400     2.151528     1.494462     2.018101     1.802700   \n",
       "min       1.000000     1.000000     3.000000     1.000000     1.000000   \n",
       "25%       4.000000     5.000000     7.000000     6.000000     7.000000   \n",
       "50%       6.000000     7.000000     8.000000     7.000000     8.000000   \n",
       "75%       7.000000     8.250000     9.000000     8.000000     9.000000   \n",
       "max      10.000000    10.000000    10.000000    10.000000    10.000000   \n",
       "\n",
       "          shopping         yoga  \n",
       "count  1620.000000  1620.000000  \n",
       "mean      5.416049     4.214198  \n",
       "std       2.456236     2.780710  \n",
       "min       1.000000     1.000000  \n",
       "25%       3.000000     2.000000  \n",
       "50%       5.000000     3.000000  \n",
       "75%       7.000000     7.000000  \n",
       "max      10.000000    10.000000  "
      ]
     },
     "execution_count": 46,
     "metadata": {},
     "output_type": "execute_result"
    }
   ],
   "source": [
    "speedDF[col3].describe(include=all)"
   ]
  },
  {
   "cell_type": "code",
   "execution_count": 47,
   "metadata": {},
   "outputs": [
    {
     "data": {
      "text/plain": [
       "(1656, 17)"
      ]
     },
     "execution_count": 47,
     "metadata": {},
     "output_type": "execute_result"
    }
   ],
   "source": [
    "speedDF[col3].shape"
   ]
  },
  {
   "cell_type": "code",
   "execution_count": 48,
   "metadata": {},
   "outputs": [],
   "source": [
    "m1=speedDF[\"sports\"].median()\n",
    "m2=speedDF[\"tvsports\"].median()\n",
    "m3=speedDF[\"exercise\"].median()\n",
    "m4=speedDF[\"dining\"].median()\n",
    "m5=speedDF[\"museums\"].median()\n",
    "m6=speedDF[\"art\"].median()\n",
    "m7=speedDF[\"hiking\"].median()\n",
    "m8=speedDF[\"gaming\"].median()\n",
    "m9=speedDF[\"clubbing\"].median()\n",
    "m10=speedDF[\"reading\"].median()\n",
    "m11=speedDF[\"tv\"].median()\n",
    "m12=speedDF[\"theater\"].median()\n",
    "m13=speedDF[\"movies\"].median()\n",
    "m14=speedDF[\"concerts\"].median()\n",
    "m15=speedDF[\"music\"].median()\n",
    "m16=speedDF[\"shopping\"].median()\n",
    "m17=speedDF[\"yoga\"].median()"
   ]
  },
  {
   "cell_type": "code",
   "execution_count": 49,
   "metadata": {},
   "outputs": [
    {
     "name": "stderr",
     "output_type": "stream",
     "text": [
      "D:\\Anaconda\\envs\\Resume Project1\\lib\\site-packages\\ipykernel_launcher.py:1: SettingWithCopyWarning: \n",
      "A value is trying to be set on a copy of a slice from a DataFrame\n",
      "\n",
      "See the caveats in the documentation: http://pandas.pydata.org/pandas-docs/stable/user_guide/indexing.html#returning-a-view-versus-a-copy\n",
      "  \"\"\"Entry point for launching an IPython kernel.\n",
      "D:\\Anaconda\\envs\\Resume Project1\\lib\\site-packages\\ipykernel_launcher.py:2: SettingWithCopyWarning: \n",
      "A value is trying to be set on a copy of a slice from a DataFrame\n",
      "\n",
      "See the caveats in the documentation: http://pandas.pydata.org/pandas-docs/stable/user_guide/indexing.html#returning-a-view-versus-a-copy\n",
      "  \n",
      "D:\\Anaconda\\envs\\Resume Project1\\lib\\site-packages\\ipykernel_launcher.py:3: SettingWithCopyWarning: \n",
      "A value is trying to be set on a copy of a slice from a DataFrame\n",
      "\n",
      "See the caveats in the documentation: http://pandas.pydata.org/pandas-docs/stable/user_guide/indexing.html#returning-a-view-versus-a-copy\n",
      "  This is separate from the ipykernel package so we can avoid doing imports until\n",
      "D:\\Anaconda\\envs\\Resume Project1\\lib\\site-packages\\ipykernel_launcher.py:4: SettingWithCopyWarning: \n",
      "A value is trying to be set on a copy of a slice from a DataFrame\n",
      "\n",
      "See the caveats in the documentation: http://pandas.pydata.org/pandas-docs/stable/user_guide/indexing.html#returning-a-view-versus-a-copy\n",
      "  after removing the cwd from sys.path.\n",
      "D:\\Anaconda\\envs\\Resume Project1\\lib\\site-packages\\ipykernel_launcher.py:5: SettingWithCopyWarning: \n",
      "A value is trying to be set on a copy of a slice from a DataFrame\n",
      "\n",
      "See the caveats in the documentation: http://pandas.pydata.org/pandas-docs/stable/user_guide/indexing.html#returning-a-view-versus-a-copy\n",
      "  \"\"\"\n",
      "D:\\Anaconda\\envs\\Resume Project1\\lib\\site-packages\\ipykernel_launcher.py:6: SettingWithCopyWarning: \n",
      "A value is trying to be set on a copy of a slice from a DataFrame\n",
      "\n",
      "See the caveats in the documentation: http://pandas.pydata.org/pandas-docs/stable/user_guide/indexing.html#returning-a-view-versus-a-copy\n",
      "  \n",
      "D:\\Anaconda\\envs\\Resume Project1\\lib\\site-packages\\ipykernel_launcher.py:7: SettingWithCopyWarning: \n",
      "A value is trying to be set on a copy of a slice from a DataFrame\n",
      "\n",
      "See the caveats in the documentation: http://pandas.pydata.org/pandas-docs/stable/user_guide/indexing.html#returning-a-view-versus-a-copy\n",
      "  import sys\n",
      "D:\\Anaconda\\envs\\Resume Project1\\lib\\site-packages\\ipykernel_launcher.py:8: SettingWithCopyWarning: \n",
      "A value is trying to be set on a copy of a slice from a DataFrame\n",
      "\n",
      "See the caveats in the documentation: http://pandas.pydata.org/pandas-docs/stable/user_guide/indexing.html#returning-a-view-versus-a-copy\n",
      "  \n",
      "D:\\Anaconda\\envs\\Resume Project1\\lib\\site-packages\\ipykernel_launcher.py:9: SettingWithCopyWarning: \n",
      "A value is trying to be set on a copy of a slice from a DataFrame\n",
      "\n",
      "See the caveats in the documentation: http://pandas.pydata.org/pandas-docs/stable/user_guide/indexing.html#returning-a-view-versus-a-copy\n",
      "  if __name__ == '__main__':\n",
      "D:\\Anaconda\\envs\\Resume Project1\\lib\\site-packages\\ipykernel_launcher.py:10: SettingWithCopyWarning: \n",
      "A value is trying to be set on a copy of a slice from a DataFrame\n",
      "\n",
      "See the caveats in the documentation: http://pandas.pydata.org/pandas-docs/stable/user_guide/indexing.html#returning-a-view-versus-a-copy\n",
      "  # Remove the CWD from sys.path while we load stuff.\n",
      "D:\\Anaconda\\envs\\Resume Project1\\lib\\site-packages\\ipykernel_launcher.py:11: SettingWithCopyWarning: \n",
      "A value is trying to be set on a copy of a slice from a DataFrame\n",
      "\n",
      "See the caveats in the documentation: http://pandas.pydata.org/pandas-docs/stable/user_guide/indexing.html#returning-a-view-versus-a-copy\n",
      "  # This is added back by InteractiveShellApp.init_path()\n",
      "D:\\Anaconda\\envs\\Resume Project1\\lib\\site-packages\\ipykernel_launcher.py:12: SettingWithCopyWarning: \n",
      "A value is trying to be set on a copy of a slice from a DataFrame\n",
      "\n",
      "See the caveats in the documentation: http://pandas.pydata.org/pandas-docs/stable/user_guide/indexing.html#returning-a-view-versus-a-copy\n",
      "  if sys.path[0] == '':\n",
      "D:\\Anaconda\\envs\\Resume Project1\\lib\\site-packages\\ipykernel_launcher.py:13: SettingWithCopyWarning: \n",
      "A value is trying to be set on a copy of a slice from a DataFrame\n",
      "\n",
      "See the caveats in the documentation: http://pandas.pydata.org/pandas-docs/stable/user_guide/indexing.html#returning-a-view-versus-a-copy\n",
      "  del sys.path[0]\n",
      "D:\\Anaconda\\envs\\Resume Project1\\lib\\site-packages\\ipykernel_launcher.py:14: SettingWithCopyWarning: \n",
      "A value is trying to be set on a copy of a slice from a DataFrame\n",
      "\n",
      "See the caveats in the documentation: http://pandas.pydata.org/pandas-docs/stable/user_guide/indexing.html#returning-a-view-versus-a-copy\n",
      "  \n",
      "D:\\Anaconda\\envs\\Resume Project1\\lib\\site-packages\\ipykernel_launcher.py:15: SettingWithCopyWarning: \n",
      "A value is trying to be set on a copy of a slice from a DataFrame\n",
      "\n",
      "See the caveats in the documentation: http://pandas.pydata.org/pandas-docs/stable/user_guide/indexing.html#returning-a-view-versus-a-copy\n",
      "  from ipykernel import kernelapp as app\n",
      "D:\\Anaconda\\envs\\Resume Project1\\lib\\site-packages\\ipykernel_launcher.py:16: SettingWithCopyWarning: \n",
      "A value is trying to be set on a copy of a slice from a DataFrame\n",
      "\n",
      "See the caveats in the documentation: http://pandas.pydata.org/pandas-docs/stable/user_guide/indexing.html#returning-a-view-versus-a-copy\n",
      "  app.launch_new_instance()\n",
      "D:\\Anaconda\\envs\\Resume Project1\\lib\\site-packages\\ipykernel_launcher.py:17: SettingWithCopyWarning: \n",
      "A value is trying to be set on a copy of a slice from a DataFrame\n",
      "\n",
      "See the caveats in the documentation: http://pandas.pydata.org/pandas-docs/stable/user_guide/indexing.html#returning-a-view-versus-a-copy\n"
     ]
    }
   ],
   "source": [
    "speedDF[\"sports\"][speedDF[\"sports\"].isnull()]=m1\n",
    "speedDF[\"tvsports\"][speedDF[\"tvsports\"].isnull()]=m2\n",
    "speedDF[\"exercise\"][speedDF[\"exercise\"].isnull()]=m3\n",
    "speedDF[\"dining\"][speedDF[\"dining\"].isnull()]=m4\n",
    "speedDF[\"museums\"][speedDF[\"museums\"].isnull()]=m5\n",
    "speedDF[\"art\"][speedDF[\"art\"].isnull()]=m6\n",
    "speedDF[\"hiking\"][speedDF[\"hiking\"].isnull()]=m7\n",
    "speedDF[\"gaming\"][speedDF[\"gaming\"].isnull()]=m8\n",
    "speedDF[\"clubbing\"][speedDF[\"clubbing\"].isnull()]=m9\n",
    "speedDF[\"reading\"][speedDF[\"reading\"].isnull()]=m10\n",
    "speedDF[\"tv\"][speedDF[\"tv\"].isnull()]=m11\n",
    "speedDF[\"theater\"][speedDF[\"theater\"].isnull()]=m12\n",
    "speedDF[\"movies\"][speedDF[\"movies\"].isnull()]=m13\n",
    "speedDF[\"concerts\"][speedDF[\"concerts\"].isnull()]=m14\n",
    "speedDF[\"music\"][speedDF[\"music\"].isnull()]=m15\n",
    "speedDF[\"shopping\"][speedDF[\"shopping\"].isnull()]=m16\n",
    "speedDF[\"yoga\"][speedDF[\"yoga\"].isnull()]=m17"
   ]
  },
  {
   "cell_type": "code",
   "execution_count": 50,
   "metadata": {},
   "outputs": [
    {
     "data": {
      "text/html": [
       "<div>\n",
       "<style scoped>\n",
       "    .dataframe tbody tr th:only-of-type {\n",
       "        vertical-align: middle;\n",
       "    }\n",
       "\n",
       "    .dataframe tbody tr th {\n",
       "        vertical-align: top;\n",
       "    }\n",
       "\n",
       "    .dataframe thead th {\n",
       "        text-align: right;\n",
       "    }\n",
       "</style>\n",
       "<table border=\"1\" class=\"dataframe\">\n",
       "  <thead>\n",
       "    <tr style=\"text-align: right;\">\n",
       "      <th></th>\n",
       "      <th>sports</th>\n",
       "      <th>tvsports</th>\n",
       "      <th>exercise</th>\n",
       "      <th>dining</th>\n",
       "      <th>museums</th>\n",
       "      <th>art</th>\n",
       "      <th>hiking</th>\n",
       "      <th>gaming</th>\n",
       "      <th>clubbing</th>\n",
       "      <th>reading</th>\n",
       "      <th>tv</th>\n",
       "      <th>theater</th>\n",
       "      <th>movies</th>\n",
       "      <th>concerts</th>\n",
       "      <th>music</th>\n",
       "      <th>shopping</th>\n",
       "      <th>yoga</th>\n",
       "    </tr>\n",
       "  </thead>\n",
       "  <tbody>\n",
       "    <tr>\n",
       "      <th>count</th>\n",
       "      <td>1656.000000</td>\n",
       "      <td>1656.000000</td>\n",
       "      <td>1656.000000</td>\n",
       "      <td>1656.000000</td>\n",
       "      <td>1656.000000</td>\n",
       "      <td>1656.000000</td>\n",
       "      <td>1656.000000</td>\n",
       "      <td>1656.000000</td>\n",
       "      <td>1656.000000</td>\n",
       "      <td>1656.000000</td>\n",
       "      <td>1656.000000</td>\n",
       "      <td>1656.000000</td>\n",
       "      <td>1656.000000</td>\n",
       "      <td>1656.000000</td>\n",
       "      <td>1656.000000</td>\n",
       "      <td>1656.000000</td>\n",
       "      <td>1656.000000</td>\n",
       "    </tr>\n",
       "    <tr>\n",
       "      <th>mean</th>\n",
       "      <td>6.300725</td>\n",
       "      <td>4.701087</td>\n",
       "      <td>6.034420</td>\n",
       "      <td>7.579106</td>\n",
       "      <td>6.705314</td>\n",
       "      <td>6.306159</td>\n",
       "      <td>5.440217</td>\n",
       "      <td>3.907609</td>\n",
       "      <td>6.161232</td>\n",
       "      <td>7.446860</td>\n",
       "      <td>5.489734</td>\n",
       "      <td>6.870169</td>\n",
       "      <td>8.084541</td>\n",
       "      <td>6.755435</td>\n",
       "      <td>7.568841</td>\n",
       "      <td>5.407005</td>\n",
       "      <td>4.187802</td>\n",
       "    </tr>\n",
       "    <tr>\n",
       "      <th>std</th>\n",
       "      <td>2.689831</td>\n",
       "      <td>2.876831</td>\n",
       "      <td>2.440227</td>\n",
       "      <td>1.740167</td>\n",
       "      <td>1.998518</td>\n",
       "      <td>2.121360</td>\n",
       "      <td>2.582076</td>\n",
       "      <td>2.456985</td>\n",
       "      <td>2.191986</td>\n",
       "      <td>1.712814</td>\n",
       "      <td>2.412934</td>\n",
       "      <td>2.128087</td>\n",
       "      <td>1.478172</td>\n",
       "      <td>1.996364</td>\n",
       "      <td>1.784145</td>\n",
       "      <td>2.430133</td>\n",
       "      <td>2.755998</td>\n",
       "    </tr>\n",
       "    <tr>\n",
       "      <th>min</th>\n",
       "      <td>1.000000</td>\n",
       "      <td>1.000000</td>\n",
       "      <td>1.000000</td>\n",
       "      <td>3.000000</td>\n",
       "      <td>1.000000</td>\n",
       "      <td>1.000000</td>\n",
       "      <td>1.000000</td>\n",
       "      <td>1.000000</td>\n",
       "      <td>1.000000</td>\n",
       "      <td>2.000000</td>\n",
       "      <td>1.000000</td>\n",
       "      <td>1.000000</td>\n",
       "      <td>3.000000</td>\n",
       "      <td>1.000000</td>\n",
       "      <td>1.000000</td>\n",
       "      <td>1.000000</td>\n",
       "      <td>1.000000</td>\n",
       "    </tr>\n",
       "    <tr>\n",
       "      <th>25%</th>\n",
       "      <td>4.000000</td>\n",
       "      <td>2.000000</td>\n",
       "      <td>4.000000</td>\n",
       "      <td>7.000000</td>\n",
       "      <td>5.000000</td>\n",
       "      <td>5.000000</td>\n",
       "      <td>3.000000</td>\n",
       "      <td>2.000000</td>\n",
       "      <td>5.000000</td>\n",
       "      <td>6.000000</td>\n",
       "      <td>4.000000</td>\n",
       "      <td>5.000000</td>\n",
       "      <td>7.000000</td>\n",
       "      <td>6.000000</td>\n",
       "      <td>7.000000</td>\n",
       "      <td>4.000000</td>\n",
       "      <td>2.000000</td>\n",
       "    </tr>\n",
       "    <tr>\n",
       "      <th>50%</th>\n",
       "      <td>7.000000</td>\n",
       "      <td>4.000000</td>\n",
       "      <td>6.000000</td>\n",
       "      <td>8.000000</td>\n",
       "      <td>7.000000</td>\n",
       "      <td>6.000000</td>\n",
       "      <td>6.000000</td>\n",
       "      <td>4.000000</td>\n",
       "      <td>7.000000</td>\n",
       "      <td>8.000000</td>\n",
       "      <td>6.000000</td>\n",
       "      <td>7.000000</td>\n",
       "      <td>8.000000</td>\n",
       "      <td>7.000000</td>\n",
       "      <td>8.000000</td>\n",
       "      <td>5.000000</td>\n",
       "      <td>3.000000</td>\n",
       "    </tr>\n",
       "    <tr>\n",
       "      <th>75%</th>\n",
       "      <td>9.000000</td>\n",
       "      <td>7.000000</td>\n",
       "      <td>8.000000</td>\n",
       "      <td>9.000000</td>\n",
       "      <td>8.000000</td>\n",
       "      <td>8.000000</td>\n",
       "      <td>8.000000</td>\n",
       "      <td>6.000000</td>\n",
       "      <td>8.000000</td>\n",
       "      <td>9.000000</td>\n",
       "      <td>7.000000</td>\n",
       "      <td>8.000000</td>\n",
       "      <td>9.000000</td>\n",
       "      <td>8.000000</td>\n",
       "      <td>9.000000</td>\n",
       "      <td>7.000000</td>\n",
       "      <td>7.000000</td>\n",
       "    </tr>\n",
       "    <tr>\n",
       "      <th>max</th>\n",
       "      <td>10.000000</td>\n",
       "      <td>10.000000</td>\n",
       "      <td>10.000000</td>\n",
       "      <td>10.000000</td>\n",
       "      <td>10.000000</td>\n",
       "      <td>10.000000</td>\n",
       "      <td>10.000000</td>\n",
       "      <td>10.000000</td>\n",
       "      <td>10.000000</td>\n",
       "      <td>10.000000</td>\n",
       "      <td>10.000000</td>\n",
       "      <td>10.000000</td>\n",
       "      <td>10.000000</td>\n",
       "      <td>10.000000</td>\n",
       "      <td>10.000000</td>\n",
       "      <td>10.000000</td>\n",
       "      <td>10.000000</td>\n",
       "    </tr>\n",
       "  </tbody>\n",
       "</table>\n",
       "</div>"
      ],
      "text/plain": [
       "            sports     tvsports     exercise       dining      museums  \\\n",
       "count  1656.000000  1656.000000  1656.000000  1656.000000  1656.000000   \n",
       "mean      6.300725     4.701087     6.034420     7.579106     6.705314   \n",
       "std       2.689831     2.876831     2.440227     1.740167     1.998518   \n",
       "min       1.000000     1.000000     1.000000     3.000000     1.000000   \n",
       "25%       4.000000     2.000000     4.000000     7.000000     5.000000   \n",
       "50%       7.000000     4.000000     6.000000     8.000000     7.000000   \n",
       "75%       9.000000     7.000000     8.000000     9.000000     8.000000   \n",
       "max      10.000000    10.000000    10.000000    10.000000    10.000000   \n",
       "\n",
       "               art       hiking       gaming     clubbing      reading  \\\n",
       "count  1656.000000  1656.000000  1656.000000  1656.000000  1656.000000   \n",
       "mean      6.306159     5.440217     3.907609     6.161232     7.446860   \n",
       "std       2.121360     2.582076     2.456985     2.191986     1.712814   \n",
       "min       1.000000     1.000000     1.000000     1.000000     2.000000   \n",
       "25%       5.000000     3.000000     2.000000     5.000000     6.000000   \n",
       "50%       6.000000     6.000000     4.000000     7.000000     8.000000   \n",
       "75%       8.000000     8.000000     6.000000     8.000000     9.000000   \n",
       "max      10.000000    10.000000    10.000000    10.000000    10.000000   \n",
       "\n",
       "                tv      theater       movies     concerts        music  \\\n",
       "count  1656.000000  1656.000000  1656.000000  1656.000000  1656.000000   \n",
       "mean      5.489734     6.870169     8.084541     6.755435     7.568841   \n",
       "std       2.412934     2.128087     1.478172     1.996364     1.784145   \n",
       "min       1.000000     1.000000     3.000000     1.000000     1.000000   \n",
       "25%       4.000000     5.000000     7.000000     6.000000     7.000000   \n",
       "50%       6.000000     7.000000     8.000000     7.000000     8.000000   \n",
       "75%       7.000000     8.000000     9.000000     8.000000     9.000000   \n",
       "max      10.000000    10.000000    10.000000    10.000000    10.000000   \n",
       "\n",
       "          shopping         yoga  \n",
       "count  1656.000000  1656.000000  \n",
       "mean      5.407005     4.187802  \n",
       "std       2.430133     2.755998  \n",
       "min       1.000000     1.000000  \n",
       "25%       4.000000     2.000000  \n",
       "50%       5.000000     3.000000  \n",
       "75%       7.000000     7.000000  \n",
       "max      10.000000    10.000000  "
      ]
     },
     "execution_count": 50,
     "metadata": {},
     "output_type": "execute_result"
    }
   ],
   "source": [
    "speedDF[col3].describe(include=all)"
   ]
  },
  {
   "cell_type": "markdown",
   "metadata": {},
   "source": [
    "<a id=\"section34\"></a>\n",
    "###  3.4. Survey before Speed Dating key (part three) \n",
    "\n",
    "1. We want to know what you look for in the opposite sex. \n",
    "   Waves 1-5, 10-21: You have 100 points to distribute among the following attributes -- give more points to those    \n",
    "   attributes that are more important in a potential date, and fewer points to those attributes that are less important in a    potential date.  Total points must equal 100.\n",
    " \n",
    "   * attr1_1: Attractive\n",
    "   * sinc1_1: Sincere\n",
    "   * intel1_1: Intelligent\n",
    "   * fun1_1: Fun\n",
    "   * amb1_1: Ambitious\n",
    "   * shar1_1: Has shared interests/hobbies\n",
    "\n",
    "\n",
    "2. What do you think the opposite sex looks for in a date?\n",
    "   Waves 1-5 and 10-21: Please distribute 100 points among the following attributes -- give more points to those attributes    that you think are more important to members of the opposite sex when they are deciding whether to date someone.  Total   \n",
    "   points must equal 100.\n",
    "\n",
    "   * attr2_1: Attractive\n",
    "   * sinc2_1: Sincere\n",
    "   * int2_1: Intelligent\n",
    "   * fun2_1: Fun\n",
    "   * amb2_1: Ambitious\n",
    "   * shar2_1: Has shared interests/hobbies\n",
    "\n",
    "3. How do you think you measure up?\n",
    "   Please rate your opinion of your own attributes, on a scale of 1-10 (be honest!):\n",
    "   * attr3_1: Attractive\n",
    "   * sinc3_1: Sincere\n",
    "   * int3_1: Intelligent\n",
    "   * fun3_1: Fun\n",
    "   * amb3_1: Ambitious\n",
    "\n"
   ]
  },
  {
   "cell_type": "code",
   "execution_count": 51,
   "metadata": {},
   "outputs": [],
   "source": [
    "col4=[\"attr1_1\",\"sinc1_1\",\"intel1_1\",\"fun1_1\",\"amb1_1\",\"shar1_1\"]"
   ]
  },
  {
   "cell_type": "code",
   "execution_count": 52,
   "metadata": {},
   "outputs": [
    {
     "data": {
      "text/html": [
       "<div>\n",
       "<style scoped>\n",
       "    .dataframe tbody tr th:only-of-type {\n",
       "        vertical-align: middle;\n",
       "    }\n",
       "\n",
       "    .dataframe tbody tr th {\n",
       "        vertical-align: top;\n",
       "    }\n",
       "\n",
       "    .dataframe thead th {\n",
       "        text-align: right;\n",
       "    }\n",
       "</style>\n",
       "<table border=\"1\" class=\"dataframe\">\n",
       "  <thead>\n",
       "    <tr style=\"text-align: right;\">\n",
       "      <th></th>\n",
       "      <th>attr1_1</th>\n",
       "      <th>sinc1_1</th>\n",
       "      <th>intel1_1</th>\n",
       "      <th>fun1_1</th>\n",
       "      <th>amb1_1</th>\n",
       "      <th>shar1_1</th>\n",
       "    </tr>\n",
       "  </thead>\n",
       "  <tbody>\n",
       "    <tr>\n",
       "      <th>count</th>\n",
       "      <td>1620.000000</td>\n",
       "      <td>1620.000000</td>\n",
       "      <td>1620.000000</td>\n",
       "      <td>1620.000000</td>\n",
       "      <td>1620.000000</td>\n",
       "      <td>1620.000000</td>\n",
       "    </tr>\n",
       "    <tr>\n",
       "      <th>mean</th>\n",
       "      <td>23.253827</td>\n",
       "      <td>16.959815</td>\n",
       "      <td>22.177654</td>\n",
       "      <td>17.253025</td>\n",
       "      <td>9.685741</td>\n",
       "      <td>11.034012</td>\n",
       "    </tr>\n",
       "    <tr>\n",
       "      <th>std</th>\n",
       "      <td>12.971356</td>\n",
       "      <td>7.325834</td>\n",
       "      <td>7.608897</td>\n",
       "      <td>6.596653</td>\n",
       "      <td>7.388598</td>\n",
       "      <td>6.822803</td>\n",
       "    </tr>\n",
       "    <tr>\n",
       "      <th>min</th>\n",
       "      <td>5.000000</td>\n",
       "      <td>0.000000</td>\n",
       "      <td>0.000000</td>\n",
       "      <td>0.000000</td>\n",
       "      <td>0.000000</td>\n",
       "      <td>0.000000</td>\n",
       "    </tr>\n",
       "    <tr>\n",
       "      <th>25%</th>\n",
       "      <td>15.000000</td>\n",
       "      <td>10.000000</td>\n",
       "      <td>20.000000</td>\n",
       "      <td>12.000000</td>\n",
       "      <td>5.000000</td>\n",
       "      <td>5.000000</td>\n",
       "    </tr>\n",
       "    <tr>\n",
       "      <th>50%</th>\n",
       "      <td>20.000000</td>\n",
       "      <td>20.000000</td>\n",
       "      <td>20.000000</td>\n",
       "      <td>18.000000</td>\n",
       "      <td>10.000000</td>\n",
       "      <td>10.000000</td>\n",
       "    </tr>\n",
       "    <tr>\n",
       "      <th>75%</th>\n",
       "      <td>30.000000</td>\n",
       "      <td>20.000000</td>\n",
       "      <td>25.000000</td>\n",
       "      <td>20.000000</td>\n",
       "      <td>15.000000</td>\n",
       "      <td>15.000000</td>\n",
       "    </tr>\n",
       "    <tr>\n",
       "      <th>max</th>\n",
       "      <td>100.000000</td>\n",
       "      <td>35.000000</td>\n",
       "      <td>50.000000</td>\n",
       "      <td>40.000000</td>\n",
       "      <td>53.000000</td>\n",
       "      <td>30.000000</td>\n",
       "    </tr>\n",
       "  </tbody>\n",
       "</table>\n",
       "</div>"
      ],
      "text/plain": [
       "           attr1_1      sinc1_1     intel1_1       fun1_1       amb1_1  \\\n",
       "count  1620.000000  1620.000000  1620.000000  1620.000000  1620.000000   \n",
       "mean     23.253827    16.959815    22.177654    17.253025     9.685741   \n",
       "std      12.971356     7.325834     7.608897     6.596653     7.388598   \n",
       "min       5.000000     0.000000     0.000000     0.000000     0.000000   \n",
       "25%      15.000000    10.000000    20.000000    12.000000     5.000000   \n",
       "50%      20.000000    20.000000    20.000000    18.000000    10.000000   \n",
       "75%      30.000000    20.000000    25.000000    20.000000    15.000000   \n",
       "max     100.000000    35.000000    50.000000    40.000000    53.000000   \n",
       "\n",
       "           shar1_1  \n",
       "count  1620.000000  \n",
       "mean     11.034012  \n",
       "std       6.822803  \n",
       "min       0.000000  \n",
       "25%       5.000000  \n",
       "50%      10.000000  \n",
       "75%      15.000000  \n",
       "max      30.000000  "
      ]
     },
     "execution_count": 52,
     "metadata": {},
     "output_type": "execute_result"
    }
   ],
   "source": [
    "speedDF[col4].describe(include=all)"
   ]
  },
  {
   "cell_type": "code",
   "execution_count": 53,
   "metadata": {},
   "outputs": [],
   "source": [
    "m1=speedDF[\"attr1_1\"].median()\n",
    "m2=speedDF[\"sinc1_1\"].median()\n",
    "m3=speedDF[\"intel1_1\"].median()\n",
    "m4=speedDF[\"fun1_1\"].median()\n",
    "m5=speedDF[\"amb1_1\"].median()\n",
    "m6=speedDF[\"shar1_1\"].median()"
   ]
  },
  {
   "cell_type": "code",
   "execution_count": 54,
   "metadata": {},
   "outputs": [
    {
     "name": "stderr",
     "output_type": "stream",
     "text": [
      "D:\\Anaconda\\envs\\Resume Project1\\lib\\site-packages\\ipykernel_launcher.py:1: SettingWithCopyWarning: \n",
      "A value is trying to be set on a copy of a slice from a DataFrame\n",
      "\n",
      "See the caveats in the documentation: http://pandas.pydata.org/pandas-docs/stable/user_guide/indexing.html#returning-a-view-versus-a-copy\n",
      "  \"\"\"Entry point for launching an IPython kernel.\n",
      "D:\\Anaconda\\envs\\Resume Project1\\lib\\site-packages\\ipykernel_launcher.py:2: SettingWithCopyWarning: \n",
      "A value is trying to be set on a copy of a slice from a DataFrame\n",
      "\n",
      "See the caveats in the documentation: http://pandas.pydata.org/pandas-docs/stable/user_guide/indexing.html#returning-a-view-versus-a-copy\n",
      "  \n",
      "D:\\Anaconda\\envs\\Resume Project1\\lib\\site-packages\\ipykernel_launcher.py:3: SettingWithCopyWarning: \n",
      "A value is trying to be set on a copy of a slice from a DataFrame\n",
      "\n",
      "See the caveats in the documentation: http://pandas.pydata.org/pandas-docs/stable/user_guide/indexing.html#returning-a-view-versus-a-copy\n",
      "  This is separate from the ipykernel package so we can avoid doing imports until\n",
      "D:\\Anaconda\\envs\\Resume Project1\\lib\\site-packages\\ipykernel_launcher.py:4: SettingWithCopyWarning: \n",
      "A value is trying to be set on a copy of a slice from a DataFrame\n",
      "\n",
      "See the caveats in the documentation: http://pandas.pydata.org/pandas-docs/stable/user_guide/indexing.html#returning-a-view-versus-a-copy\n",
      "  after removing the cwd from sys.path.\n",
      "D:\\Anaconda\\envs\\Resume Project1\\lib\\site-packages\\ipykernel_launcher.py:5: SettingWithCopyWarning: \n",
      "A value is trying to be set on a copy of a slice from a DataFrame\n",
      "\n",
      "See the caveats in the documentation: http://pandas.pydata.org/pandas-docs/stable/user_guide/indexing.html#returning-a-view-versus-a-copy\n",
      "  \"\"\"\n",
      "D:\\Anaconda\\envs\\Resume Project1\\lib\\site-packages\\ipykernel_launcher.py:6: SettingWithCopyWarning: \n",
      "A value is trying to be set on a copy of a slice from a DataFrame\n",
      "\n",
      "See the caveats in the documentation: http://pandas.pydata.org/pandas-docs/stable/user_guide/indexing.html#returning-a-view-versus-a-copy\n",
      "  \n"
     ]
    }
   ],
   "source": [
    "speedDF[\"attr1_1\"][speedDF[\"attr1_1\"].isnull()]=m1\n",
    "speedDF[\"sinc1_1\"][speedDF[\"sinc1_1\"].isnull()]=m2\n",
    "speedDF[\"intel1_1\"][speedDF[\"intel1_1\"].isnull()]=m3\n",
    "speedDF[\"fun1_1\"][speedDF[\"fun1_1\"].isnull()]=m4\n",
    "speedDF[\"amb1_1\"][speedDF[\"amb1_1\"].isnull()]=m5\n",
    "speedDF[\"shar1_1\"][speedDF[\"shar1_1\"].isnull()]=m6"
   ]
  },
  {
   "cell_type": "code",
   "execution_count": 55,
   "metadata": {},
   "outputs": [],
   "source": [
    "col5=[\"attr2_1\",\"sinc2_1\",\"intel2_1\",\"fun2_1\",\"amb2_1\",\"shar2_1\"]"
   ]
  },
  {
   "cell_type": "code",
   "execution_count": 56,
   "metadata": {},
   "outputs": [
    {
     "data": {
      "text/html": [
       "<div>\n",
       "<style scoped>\n",
       "    .dataframe tbody tr th:only-of-type {\n",
       "        vertical-align: middle;\n",
       "    }\n",
       "\n",
       "    .dataframe tbody tr th {\n",
       "        vertical-align: top;\n",
       "    }\n",
       "\n",
       "    .dataframe thead th {\n",
       "        text-align: right;\n",
       "    }\n",
       "</style>\n",
       "<table border=\"1\" class=\"dataframe\">\n",
       "  <thead>\n",
       "    <tr style=\"text-align: right;\">\n",
       "      <th></th>\n",
       "      <th>attr2_1</th>\n",
       "      <th>sinc2_1</th>\n",
       "      <th>intel2_1</th>\n",
       "      <th>fun2_1</th>\n",
       "      <th>amb2_1</th>\n",
       "      <th>shar2_1</th>\n",
       "    </tr>\n",
       "  </thead>\n",
       "  <tbody>\n",
       "    <tr>\n",
       "      <th>count</th>\n",
       "      <td>1620.000000</td>\n",
       "      <td>1620.000000</td>\n",
       "      <td>1620.000000</td>\n",
       "      <td>1620.000000</td>\n",
       "      <td>1620.000000</td>\n",
       "      <td>1620.000000</td>\n",
       "    </tr>\n",
       "    <tr>\n",
       "      <th>mean</th>\n",
       "      <td>32.215432</td>\n",
       "      <td>13.008025</td>\n",
       "      <td>15.067284</td>\n",
       "      <td>18.666667</td>\n",
       "      <td>10.281481</td>\n",
       "      <td>10.761111</td>\n",
       "    </tr>\n",
       "    <tr>\n",
       "      <th>std</th>\n",
       "      <td>16.573788</td>\n",
       "      <td>7.230046</td>\n",
       "      <td>6.346767</td>\n",
       "      <td>6.190810</td>\n",
       "      <td>6.432797</td>\n",
       "      <td>6.227842</td>\n",
       "    </tr>\n",
       "    <tr>\n",
       "      <th>min</th>\n",
       "      <td>10.000000</td>\n",
       "      <td>0.000000</td>\n",
       "      <td>0.000000</td>\n",
       "      <td>1.000000</td>\n",
       "      <td>0.000000</td>\n",
       "      <td>0.000000</td>\n",
       "    </tr>\n",
       "    <tr>\n",
       "      <th>25%</th>\n",
       "      <td>20.000000</td>\n",
       "      <td>10.000000</td>\n",
       "      <td>10.000000</td>\n",
       "      <td>15.000000</td>\n",
       "      <td>5.000000</td>\n",
       "      <td>5.000000</td>\n",
       "    </tr>\n",
       "    <tr>\n",
       "      <th>50%</th>\n",
       "      <td>30.000000</td>\n",
       "      <td>15.000000</td>\n",
       "      <td>15.000000</td>\n",
       "      <td>20.000000</td>\n",
       "      <td>10.000000</td>\n",
       "      <td>10.000000</td>\n",
       "    </tr>\n",
       "    <tr>\n",
       "      <th>75%</th>\n",
       "      <td>40.000000</td>\n",
       "      <td>20.000000</td>\n",
       "      <td>20.000000</td>\n",
       "      <td>20.000000</td>\n",
       "      <td>14.000000</td>\n",
       "      <td>15.000000</td>\n",
       "    </tr>\n",
       "    <tr>\n",
       "      <th>max</th>\n",
       "      <td>95.000000</td>\n",
       "      <td>30.000000</td>\n",
       "      <td>40.000000</td>\n",
       "      <td>30.000000</td>\n",
       "      <td>30.000000</td>\n",
       "      <td>25.000000</td>\n",
       "    </tr>\n",
       "  </tbody>\n",
       "</table>\n",
       "</div>"
      ],
      "text/plain": [
       "           attr2_1      sinc2_1     intel2_1       fun2_1       amb2_1  \\\n",
       "count  1620.000000  1620.000000  1620.000000  1620.000000  1620.000000   \n",
       "mean     32.215432    13.008025    15.067284    18.666667    10.281481   \n",
       "std      16.573788     7.230046     6.346767     6.190810     6.432797   \n",
       "min      10.000000     0.000000     0.000000     1.000000     0.000000   \n",
       "25%      20.000000    10.000000    10.000000    15.000000     5.000000   \n",
       "50%      30.000000    15.000000    15.000000    20.000000    10.000000   \n",
       "75%      40.000000    20.000000    20.000000    20.000000    14.000000   \n",
       "max      95.000000    30.000000    40.000000    30.000000    30.000000   \n",
       "\n",
       "           shar2_1  \n",
       "count  1620.000000  \n",
       "mean     10.761111  \n",
       "std       6.227842  \n",
       "min       0.000000  \n",
       "25%       5.000000  \n",
       "50%      10.000000  \n",
       "75%      15.000000  \n",
       "max      25.000000  "
      ]
     },
     "execution_count": 56,
     "metadata": {},
     "output_type": "execute_result"
    }
   ],
   "source": [
    "speedDF[col5].describe(include=all)"
   ]
  },
  {
   "cell_type": "code",
   "execution_count": 57,
   "metadata": {},
   "outputs": [
    {
     "name": "stderr",
     "output_type": "stream",
     "text": [
      "D:\\Anaconda\\envs\\Resume Project1\\lib\\site-packages\\ipykernel_launcher.py:8: SettingWithCopyWarning: \n",
      "A value is trying to be set on a copy of a slice from a DataFrame\n",
      "\n",
      "See the caveats in the documentation: http://pandas.pydata.org/pandas-docs/stable/user_guide/indexing.html#returning-a-view-versus-a-copy\n",
      "  \n",
      "D:\\Anaconda\\envs\\Resume Project1\\lib\\site-packages\\ipykernel_launcher.py:9: SettingWithCopyWarning: \n",
      "A value is trying to be set on a copy of a slice from a DataFrame\n",
      "\n",
      "See the caveats in the documentation: http://pandas.pydata.org/pandas-docs/stable/user_guide/indexing.html#returning-a-view-versus-a-copy\n",
      "  if __name__ == '__main__':\n",
      "D:\\Anaconda\\envs\\Resume Project1\\lib\\site-packages\\ipykernel_launcher.py:10: SettingWithCopyWarning: \n",
      "A value is trying to be set on a copy of a slice from a DataFrame\n",
      "\n",
      "See the caveats in the documentation: http://pandas.pydata.org/pandas-docs/stable/user_guide/indexing.html#returning-a-view-versus-a-copy\n",
      "  # Remove the CWD from sys.path while we load stuff.\n",
      "D:\\Anaconda\\envs\\Resume Project1\\lib\\site-packages\\ipykernel_launcher.py:11: SettingWithCopyWarning: \n",
      "A value is trying to be set on a copy of a slice from a DataFrame\n",
      "\n",
      "See the caveats in the documentation: http://pandas.pydata.org/pandas-docs/stable/user_guide/indexing.html#returning-a-view-versus-a-copy\n",
      "  # This is added back by InteractiveShellApp.init_path()\n",
      "D:\\Anaconda\\envs\\Resume Project1\\lib\\site-packages\\ipykernel_launcher.py:12: SettingWithCopyWarning: \n",
      "A value is trying to be set on a copy of a slice from a DataFrame\n",
      "\n",
      "See the caveats in the documentation: http://pandas.pydata.org/pandas-docs/stable/user_guide/indexing.html#returning-a-view-versus-a-copy\n",
      "  if sys.path[0] == '':\n",
      "D:\\Anaconda\\envs\\Resume Project1\\lib\\site-packages\\ipykernel_launcher.py:13: SettingWithCopyWarning: \n",
      "A value is trying to be set on a copy of a slice from a DataFrame\n",
      "\n",
      "See the caveats in the documentation: http://pandas.pydata.org/pandas-docs/stable/user_guide/indexing.html#returning-a-view-versus-a-copy\n",
      "  del sys.path[0]\n"
     ]
    }
   ],
   "source": [
    "m1=speedDF[\"attr2_1\"].median()\n",
    "m2=speedDF[\"sinc2_1\"].median()\n",
    "m3=speedDF[\"intel2_1\"].median()\n",
    "m4=speedDF[\"fun2_1\"].median()\n",
    "m5=speedDF[\"amb2_1\"].median()\n",
    "m6=speedDF[\"shar2_1\"].median()\n",
    "\n",
    "speedDF[\"attr2_1\"][speedDF[\"attr2_1\"].isnull()]=m1\n",
    "speedDF[\"sinc2_1\"][speedDF[\"sinc2_1\"].isnull()]=m2\n",
    "speedDF[\"intel2_1\"][speedDF[\"intel2_1\"].isnull()]=m3\n",
    "speedDF[\"fun2_1\"][speedDF[\"fun2_1\"].isnull()]=m4\n",
    "speedDF[\"amb2_1\"][speedDF[\"amb2_1\"].isnull()]=m5\n",
    "speedDF[\"shar2_1\"][speedDF[\"shar2_1\"].isnull()]=m6"
   ]
  },
  {
   "cell_type": "code",
   "execution_count": 58,
   "metadata": {},
   "outputs": [],
   "source": [
    "col6=[\"attr3_1\",\"sinc3_1\",\"intel3_1\",\"fun3_1\",\"amb3_1\"]"
   ]
  },
  {
   "cell_type": "code",
   "execution_count": 59,
   "metadata": {},
   "outputs": [
    {
     "data": {
      "text/html": [
       "<div>\n",
       "<style scoped>\n",
       "    .dataframe tbody tr th:only-of-type {\n",
       "        vertical-align: middle;\n",
       "    }\n",
       "\n",
       "    .dataframe tbody tr th {\n",
       "        vertical-align: top;\n",
       "    }\n",
       "\n",
       "    .dataframe thead th {\n",
       "        text-align: right;\n",
       "    }\n",
       "</style>\n",
       "<table border=\"1\" class=\"dataframe\">\n",
       "  <thead>\n",
       "    <tr style=\"text-align: right;\">\n",
       "      <th></th>\n",
       "      <th>attr3_1</th>\n",
       "      <th>sinc3_1</th>\n",
       "      <th>intel3_1</th>\n",
       "      <th>fun3_1</th>\n",
       "      <th>amb3_1</th>\n",
       "    </tr>\n",
       "  </thead>\n",
       "  <tbody>\n",
       "    <tr>\n",
       "      <th>count</th>\n",
       "      <td>1620.000000</td>\n",
       "      <td>1620.000000</td>\n",
       "      <td>1620.000000</td>\n",
       "      <td>1620.000000</td>\n",
       "      <td>1620.000000</td>\n",
       "    </tr>\n",
       "    <tr>\n",
       "      <th>mean</th>\n",
       "      <td>6.806790</td>\n",
       "      <td>8.055556</td>\n",
       "      <td>8.301852</td>\n",
       "      <td>7.520370</td>\n",
       "      <td>7.066049</td>\n",
       "    </tr>\n",
       "    <tr>\n",
       "      <th>std</th>\n",
       "      <td>1.426937</td>\n",
       "      <td>1.417050</td>\n",
       "      <td>0.979529</td>\n",
       "      <td>1.731574</td>\n",
       "      <td>1.962265</td>\n",
       "    </tr>\n",
       "    <tr>\n",
       "      <th>min</th>\n",
       "      <td>3.000000</td>\n",
       "      <td>2.000000</td>\n",
       "      <td>5.000000</td>\n",
       "      <td>2.000000</td>\n",
       "      <td>2.000000</td>\n",
       "    </tr>\n",
       "    <tr>\n",
       "      <th>25%</th>\n",
       "      <td>6.000000</td>\n",
       "      <td>7.000000</td>\n",
       "      <td>8.000000</td>\n",
       "      <td>7.000000</td>\n",
       "      <td>6.000000</td>\n",
       "    </tr>\n",
       "    <tr>\n",
       "      <th>50%</th>\n",
       "      <td>7.000000</td>\n",
       "      <td>8.000000</td>\n",
       "      <td>8.000000</td>\n",
       "      <td>8.000000</td>\n",
       "      <td>7.500000</td>\n",
       "    </tr>\n",
       "    <tr>\n",
       "      <th>75%</th>\n",
       "      <td>8.000000</td>\n",
       "      <td>9.000000</td>\n",
       "      <td>9.000000</td>\n",
       "      <td>9.000000</td>\n",
       "      <td>8.000000</td>\n",
       "    </tr>\n",
       "    <tr>\n",
       "      <th>max</th>\n",
       "      <td>10.000000</td>\n",
       "      <td>10.000000</td>\n",
       "      <td>10.000000</td>\n",
       "      <td>10.000000</td>\n",
       "      <td>10.000000</td>\n",
       "    </tr>\n",
       "  </tbody>\n",
       "</table>\n",
       "</div>"
      ],
      "text/plain": [
       "           attr3_1      sinc3_1     intel3_1       fun3_1       amb3_1\n",
       "count  1620.000000  1620.000000  1620.000000  1620.000000  1620.000000\n",
       "mean      6.806790     8.055556     8.301852     7.520370     7.066049\n",
       "std       1.426937     1.417050     0.979529     1.731574     1.962265\n",
       "min       3.000000     2.000000     5.000000     2.000000     2.000000\n",
       "25%       6.000000     7.000000     8.000000     7.000000     6.000000\n",
       "50%       7.000000     8.000000     8.000000     8.000000     7.500000\n",
       "75%       8.000000     9.000000     9.000000     9.000000     8.000000\n",
       "max      10.000000    10.000000    10.000000    10.000000    10.000000"
      ]
     },
     "execution_count": 59,
     "metadata": {},
     "output_type": "execute_result"
    }
   ],
   "source": [
    "speedDF[col6].describe(include=all)"
   ]
  },
  {
   "cell_type": "code",
   "execution_count": 60,
   "metadata": {},
   "outputs": [],
   "source": [
    "m1=speedDF[\"attr3_1\"].median()\n",
    "m2=speedDF[\"sinc3_1\"].median()\n",
    "m3=speedDF[\"intel3_1\"].median()\n",
    "m4=speedDF[\"fun3_1\"].median()\n",
    "m5=speedDF[\"amb3_1\"].median()"
   ]
  },
  {
   "cell_type": "code",
   "execution_count": 61,
   "metadata": {},
   "outputs": [
    {
     "data": {
      "text/plain": [
       "9.0     580\n",
       "8.0     485\n",
       "7.0     232\n",
       "10.0    141\n",
       "6.0      84\n",
       "5.0      62\n",
       "2.0      16\n",
       "4.0      10\n",
       "3.0      10\n",
       "Name: sinc3_1, dtype: int64"
      ]
     },
     "execution_count": 61,
     "metadata": {},
     "output_type": "execute_result"
    }
   ],
   "source": [
    "speedDF[\"sinc3_1\"].value_counts()"
   ]
  },
  {
   "cell_type": "code",
   "execution_count": 62,
   "metadata": {},
   "outputs": [
    {
     "name": "stderr",
     "output_type": "stream",
     "text": [
      "D:\\Anaconda\\envs\\Resume Project1\\lib\\site-packages\\ipykernel_launcher.py:1: SettingWithCopyWarning: \n",
      "A value is trying to be set on a copy of a slice from a DataFrame\n",
      "\n",
      "See the caveats in the documentation: http://pandas.pydata.org/pandas-docs/stable/user_guide/indexing.html#returning-a-view-versus-a-copy\n",
      "  \"\"\"Entry point for launching an IPython kernel.\n",
      "D:\\Anaconda\\envs\\Resume Project1\\lib\\site-packages\\ipykernel_launcher.py:2: SettingWithCopyWarning: \n",
      "A value is trying to be set on a copy of a slice from a DataFrame\n",
      "\n",
      "See the caveats in the documentation: http://pandas.pydata.org/pandas-docs/stable/user_guide/indexing.html#returning-a-view-versus-a-copy\n",
      "  \n",
      "D:\\Anaconda\\envs\\Resume Project1\\lib\\site-packages\\ipykernel_launcher.py:3: SettingWithCopyWarning: \n",
      "A value is trying to be set on a copy of a slice from a DataFrame\n",
      "\n",
      "See the caveats in the documentation: http://pandas.pydata.org/pandas-docs/stable/user_guide/indexing.html#returning-a-view-versus-a-copy\n",
      "  This is separate from the ipykernel package so we can avoid doing imports until\n",
      "D:\\Anaconda\\envs\\Resume Project1\\lib\\site-packages\\ipykernel_launcher.py:4: SettingWithCopyWarning: \n",
      "A value is trying to be set on a copy of a slice from a DataFrame\n",
      "\n",
      "See the caveats in the documentation: http://pandas.pydata.org/pandas-docs/stable/user_guide/indexing.html#returning-a-view-versus-a-copy\n",
      "  after removing the cwd from sys.path.\n",
      "D:\\Anaconda\\envs\\Resume Project1\\lib\\site-packages\\ipykernel_launcher.py:5: SettingWithCopyWarning: \n",
      "A value is trying to be set on a copy of a slice from a DataFrame\n",
      "\n",
      "See the caveats in the documentation: http://pandas.pydata.org/pandas-docs/stable/user_guide/indexing.html#returning-a-view-versus-a-copy\n",
      "  \"\"\"\n"
     ]
    }
   ],
   "source": [
    "speedDF[\"attr3_1\"][speedDF[\"attr3_1\"].isnull()]=m1\n",
    "speedDF[\"sinc3_1\"][speedDF[\"sinc3_1\"].isnull()]=m2\n",
    "speedDF[\"intel3_1\"][speedDF[\"intel3_1\"].isnull()]=m3\n",
    "speedDF[\"fun3_1\"][speedDF[\"fun3_1\"].isnull()]=m4\n",
    "speedDF[\"amb3_1\"][speedDF[\"amb3_1\"].isnull()]=m5"
   ]
  },
  {
   "cell_type": "markdown",
   "metadata": {},
   "source": [
    "<a id=\"section36\"></a>\n",
    "### 3.5. Scorecard Data key"
   ]
  },
  {
   "cell_type": "markdown",
   "metadata": {},
   "source": [
    "1. Decision:dec 1=yes,0=no\n",
    "\t\n",
    "2. Attributes\n",
    "   (1=awful, 10=great)\t\n",
    "   * Attractive: attr\n",
    "   * Sincere: sinc\n",
    "   * Intelligent: intel\n",
    "   * Fun: fun\n",
    "   * Ambitious: amb\n",
    "   * Shared Interests/Hobbies: shar\n",
    "\t\n",
    "3. Overall, how much do you like this person?\n",
    "   (1=don't like at all, 10=like a lot)-->like\n",
    " \n",
    "4. How probable do you think it is that this person will say 'yes' for you?\n",
    "   (1=not probable, 10=extremely probable)-->prob\n",
    " \n",
    "5. Have you met this person before?\n",
    "   (1=yes,2=no)-->met\n"
   ]
  },
  {
   "cell_type": "code",
   "execution_count": 63,
   "metadata": {},
   "outputs": [],
   "source": [
    "col7=[\"dec\",\"attr\",\"sinc\",\"intel\",\"fun\",\"amb\",\"shar\",\"like\",\"prob\",\"met\"]"
   ]
  },
  {
   "cell_type": "code",
   "execution_count": 64,
   "metadata": {},
   "outputs": [
    {
     "data": {
      "text/html": [
       "<div>\n",
       "<style scoped>\n",
       "    .dataframe tbody tr th:only-of-type {\n",
       "        vertical-align: middle;\n",
       "    }\n",
       "\n",
       "    .dataframe tbody tr th {\n",
       "        vertical-align: top;\n",
       "    }\n",
       "\n",
       "    .dataframe thead th {\n",
       "        text-align: right;\n",
       "    }\n",
       "</style>\n",
       "<table border=\"1\" class=\"dataframe\">\n",
       "  <thead>\n",
       "    <tr style=\"text-align: right;\">\n",
       "      <th></th>\n",
       "      <th>dec</th>\n",
       "      <th>attr</th>\n",
       "      <th>sinc</th>\n",
       "      <th>intel</th>\n",
       "      <th>fun</th>\n",
       "      <th>amb</th>\n",
       "      <th>shar</th>\n",
       "      <th>like</th>\n",
       "      <th>prob</th>\n",
       "      <th>met</th>\n",
       "    </tr>\n",
       "  </thead>\n",
       "  <tbody>\n",
       "    <tr>\n",
       "      <th>count</th>\n",
       "      <td>1656.000000</td>\n",
       "      <td>1635.000000</td>\n",
       "      <td>1618.000000</td>\n",
       "      <td>1619.000000</td>\n",
       "      <td>1595.000000</td>\n",
       "      <td>1531.000000</td>\n",
       "      <td>1447.000000</td>\n",
       "      <td>1633.000000</td>\n",
       "      <td>1612.000000</td>\n",
       "      <td>1615.000000</td>\n",
       "    </tr>\n",
       "    <tr>\n",
       "      <th>mean</th>\n",
       "      <td>0.412440</td>\n",
       "      <td>6.113761</td>\n",
       "      <td>7.189122</td>\n",
       "      <td>7.388820</td>\n",
       "      <td>6.365517</td>\n",
       "      <td>6.798824</td>\n",
       "      <td>5.467519</td>\n",
       "      <td>6.168096</td>\n",
       "      <td>4.867556</td>\n",
       "      <td>1.955418</td>\n",
       "    </tr>\n",
       "    <tr>\n",
       "      <th>std</th>\n",
       "      <td>0.492422</td>\n",
       "      <td>1.988852</td>\n",
       "      <td>1.721060</td>\n",
       "      <td>1.531496</td>\n",
       "      <td>2.006249</td>\n",
       "      <td>1.791691</td>\n",
       "      <td>2.114541</td>\n",
       "      <td>1.917110</td>\n",
       "      <td>2.180905</td>\n",
       "      <td>0.226484</td>\n",
       "    </tr>\n",
       "    <tr>\n",
       "      <th>min</th>\n",
       "      <td>0.000000</td>\n",
       "      <td>0.000000</td>\n",
       "      <td>0.000000</td>\n",
       "      <td>0.000000</td>\n",
       "      <td>0.000000</td>\n",
       "      <td>0.000000</td>\n",
       "      <td>0.000000</td>\n",
       "      <td>0.000000</td>\n",
       "      <td>0.000000</td>\n",
       "      <td>1.000000</td>\n",
       "    </tr>\n",
       "    <tr>\n",
       "      <th>25%</th>\n",
       "      <td>0.000000</td>\n",
       "      <td>5.000000</td>\n",
       "      <td>6.000000</td>\n",
       "      <td>7.000000</td>\n",
       "      <td>5.000000</td>\n",
       "      <td>6.000000</td>\n",
       "      <td>4.000000</td>\n",
       "      <td>5.000000</td>\n",
       "      <td>3.000000</td>\n",
       "      <td>2.000000</td>\n",
       "    </tr>\n",
       "    <tr>\n",
       "      <th>50%</th>\n",
       "      <td>0.000000</td>\n",
       "      <td>6.000000</td>\n",
       "      <td>7.000000</td>\n",
       "      <td>7.000000</td>\n",
       "      <td>7.000000</td>\n",
       "      <td>7.000000</td>\n",
       "      <td>5.000000</td>\n",
       "      <td>6.000000</td>\n",
       "      <td>5.000000</td>\n",
       "      <td>2.000000</td>\n",
       "    </tr>\n",
       "    <tr>\n",
       "      <th>75%</th>\n",
       "      <td>1.000000</td>\n",
       "      <td>8.000000</td>\n",
       "      <td>8.000000</td>\n",
       "      <td>8.000000</td>\n",
       "      <td>8.000000</td>\n",
       "      <td>8.000000</td>\n",
       "      <td>7.000000</td>\n",
       "      <td>7.000000</td>\n",
       "      <td>6.000000</td>\n",
       "      <td>2.000000</td>\n",
       "    </tr>\n",
       "    <tr>\n",
       "      <th>max</th>\n",
       "      <td>1.000000</td>\n",
       "      <td>10.000000</td>\n",
       "      <td>10.000000</td>\n",
       "      <td>10.000000</td>\n",
       "      <td>10.000000</td>\n",
       "      <td>10.000000</td>\n",
       "      <td>10.000000</td>\n",
       "      <td>10.000000</td>\n",
       "      <td>10.000000</td>\n",
       "      <td>5.000000</td>\n",
       "    </tr>\n",
       "  </tbody>\n",
       "</table>\n",
       "</div>"
      ],
      "text/plain": [
       "               dec         attr         sinc        intel          fun  \\\n",
       "count  1656.000000  1635.000000  1618.000000  1619.000000  1595.000000   \n",
       "mean      0.412440     6.113761     7.189122     7.388820     6.365517   \n",
       "std       0.492422     1.988852     1.721060     1.531496     2.006249   \n",
       "min       0.000000     0.000000     0.000000     0.000000     0.000000   \n",
       "25%       0.000000     5.000000     6.000000     7.000000     5.000000   \n",
       "50%       0.000000     6.000000     7.000000     7.000000     7.000000   \n",
       "75%       1.000000     8.000000     8.000000     8.000000     8.000000   \n",
       "max       1.000000    10.000000    10.000000    10.000000    10.000000   \n",
       "\n",
       "               amb         shar         like         prob          met  \n",
       "count  1531.000000  1447.000000  1633.000000  1612.000000  1615.000000  \n",
       "mean      6.798824     5.467519     6.168096     4.867556     1.955418  \n",
       "std       1.791691     2.114541     1.917110     2.180905     0.226484  \n",
       "min       0.000000     0.000000     0.000000     0.000000     1.000000  \n",
       "25%       6.000000     4.000000     5.000000     3.000000     2.000000  \n",
       "50%       7.000000     5.000000     6.000000     5.000000     2.000000  \n",
       "75%       8.000000     7.000000     7.000000     6.000000     2.000000  \n",
       "max      10.000000    10.000000    10.000000    10.000000     5.000000  "
      ]
     },
     "execution_count": 64,
     "metadata": {},
     "output_type": "execute_result"
    }
   ],
   "source": [
    "speedDF[col7].describe(include=all)"
   ]
  },
  {
   "cell_type": "code",
   "execution_count": 65,
   "metadata": {},
   "outputs": [
    {
     "name": "stderr",
     "output_type": "stream",
     "text": [
      "D:\\Anaconda\\envs\\Resume Project1\\lib\\site-packages\\ipykernel_launcher.py:2: SettingWithCopyWarning: \n",
      "A value is trying to be set on a copy of a slice from a DataFrame\n",
      "\n",
      "See the caveats in the documentation: http://pandas.pydata.org/pandas-docs/stable/user_guide/indexing.html#returning-a-view-versus-a-copy\n",
      "  \n",
      "D:\\Anaconda\\envs\\Resume Project1\\lib\\site-packages\\ipykernel_launcher.py:4: SettingWithCopyWarning: \n",
      "A value is trying to be set on a copy of a slice from a DataFrame\n",
      "\n",
      "See the caveats in the documentation: http://pandas.pydata.org/pandas-docs/stable/user_guide/indexing.html#returning-a-view-versus-a-copy\n",
      "  after removing the cwd from sys.path.\n",
      "D:\\Anaconda\\envs\\Resume Project1\\lib\\site-packages\\ipykernel_launcher.py:6: SettingWithCopyWarning: \n",
      "A value is trying to be set on a copy of a slice from a DataFrame\n",
      "\n",
      "See the caveats in the documentation: http://pandas.pydata.org/pandas-docs/stable/user_guide/indexing.html#returning-a-view-versus-a-copy\n",
      "  \n",
      "D:\\Anaconda\\envs\\Resume Project1\\lib\\site-packages\\ipykernel_launcher.py:8: SettingWithCopyWarning: \n",
      "A value is trying to be set on a copy of a slice from a DataFrame\n",
      "\n",
      "See the caveats in the documentation: http://pandas.pydata.org/pandas-docs/stable/user_guide/indexing.html#returning-a-view-versus-a-copy\n",
      "  \n",
      "D:\\Anaconda\\envs\\Resume Project1\\lib\\site-packages\\ipykernel_launcher.py:10: SettingWithCopyWarning: \n",
      "A value is trying to be set on a copy of a slice from a DataFrame\n",
      "\n",
      "See the caveats in the documentation: http://pandas.pydata.org/pandas-docs/stable/user_guide/indexing.html#returning-a-view-versus-a-copy\n",
      "  # Remove the CWD from sys.path while we load stuff.\n",
      "D:\\Anaconda\\envs\\Resume Project1\\lib\\site-packages\\ipykernel_launcher.py:12: SettingWithCopyWarning: \n",
      "A value is trying to be set on a copy of a slice from a DataFrame\n",
      "\n",
      "See the caveats in the documentation: http://pandas.pydata.org/pandas-docs/stable/user_guide/indexing.html#returning-a-view-versus-a-copy\n",
      "  if sys.path[0] == '':\n"
     ]
    }
   ],
   "source": [
    "m1=speedDF[\"attr\"].median()\n",
    "speedDF[\"attr\"][speedDF[\"attr\"].isnull()]=m1\n",
    "m2=speedDF[\"sinc\"].median()\n",
    "speedDF[\"sinc\"][speedDF[\"sinc\"].isnull()]=m2\n",
    "m3=speedDF[\"intel\"].median()\n",
    "speedDF[\"intel\"][speedDF[\"intel\"].isnull()]=m3\n",
    "m4=speedDF[\"fun\"].median()\n",
    "speedDF[\"fun\"][speedDF[\"fun\"].isnull()]=m4\n",
    "m5=speedDF[\"amb\"].median()\n",
    "speedDF[\"amb\"][speedDF[\"amb\"].isnull()]=m5\n",
    "m6=speedDF[\"shar\"].median()\n",
    "speedDF[\"shar\"][speedDF[\"shar\"].isnull()]=m6"
   ]
  },
  {
   "cell_type": "code",
   "execution_count": 66,
   "metadata": {},
   "outputs": [
    {
     "name": "stderr",
     "output_type": "stream",
     "text": [
      "D:\\Anaconda\\envs\\Resume Project1\\lib\\site-packages\\ipykernel_launcher.py:3: SettingWithCopyWarning: \n",
      "A value is trying to be set on a copy of a slice from a DataFrame\n",
      "\n",
      "See the caveats in the documentation: http://pandas.pydata.org/pandas-docs/stable/user_guide/indexing.html#returning-a-view-versus-a-copy\n",
      "  This is separate from the ipykernel package so we can avoid doing imports until\n",
      "D:\\Anaconda\\envs\\Resume Project1\\lib\\site-packages\\ipykernel_launcher.py:4: SettingWithCopyWarning: \n",
      "A value is trying to be set on a copy of a slice from a DataFrame\n",
      "\n",
      "See the caveats in the documentation: http://pandas.pydata.org/pandas-docs/stable/user_guide/indexing.html#returning-a-view-versus-a-copy\n",
      "  after removing the cwd from sys.path.\n"
     ]
    }
   ],
   "source": [
    "m1=speedDF[\"like\"].median()\n",
    "m2=speedDF[\"prob\"].median()\n",
    "speedDF[\"like\"][speedDF[\"like\"].isnull()]=m1\n",
    "speedDF[\"prob\"][speedDF[\"prob\"].isnull()]=m2"
   ]
  },
  {
   "cell_type": "code",
   "execution_count": 67,
   "metadata": {},
   "outputs": [
    {
     "name": "stderr",
     "output_type": "stream",
     "text": [
      "D:\\Anaconda\\envs\\Resume Project1\\lib\\site-packages\\ipykernel_launcher.py:1: SettingWithCopyWarning: \n",
      "A value is trying to be set on a copy of a slice from a DataFrame\n",
      "\n",
      "See the caveats in the documentation: http://pandas.pydata.org/pandas-docs/stable/user_guide/indexing.html#returning-a-view-versus-a-copy\n",
      "  \"\"\"Entry point for launching an IPython kernel.\n"
     ]
    },
    {
     "data": {
      "text/plain": [
       "2.0    1537\n",
       "1.0      76\n",
       "NaN      41\n",
       "5.0       1\n",
       "3.0       1\n",
       "Name: met, dtype: int64"
      ]
     },
     "execution_count": 67,
     "metadata": {},
     "output_type": "execute_result"
    }
   ],
   "source": [
    "speedDF[\"met\"][speedDF[\"met\"].isnull()]=\"NaN\"\n",
    "speedDF[\"met\"].value_counts()"
   ]
  },
  {
   "cell_type": "code",
   "execution_count": 68,
   "metadata": {},
   "outputs": [
    {
     "name": "stderr",
     "output_type": "stream",
     "text": [
      "D:\\Anaconda\\envs\\Resume Project1\\lib\\site-packages\\ipykernel_launcher.py:1: SettingWithCopyWarning: \n",
      "A value is trying to be set on a copy of a slice from a DataFrame\n",
      "\n",
      "See the caveats in the documentation: http://pandas.pydata.org/pandas-docs/stable/user_guide/indexing.html#returning-a-view-versus-a-copy\n",
      "  \"\"\"Entry point for launching an IPython kernel.\n"
     ]
    }
   ],
   "source": [
    "speedDF[\"met\"][speedDF[\"met\"]==\"NaN\"]=2.0"
   ]
  },
  {
   "cell_type": "code",
   "execution_count": 69,
   "metadata": {},
   "outputs": [],
   "source": [
    "for i in range(0,len(speedDF)):\n",
    "    if speedDF.loc[i,\"met\"]>2.0:\n",
    "        speedDF.loc[i,\"met\"]=2.0\n",
    "    else:\n",
    "        continue;"
   ]
  },
  {
   "cell_type": "code",
   "execution_count": 70,
   "metadata": {},
   "outputs": [
    {
     "data": {
      "text/html": [
       "<div>\n",
       "<style scoped>\n",
       "    .dataframe tbody tr th:only-of-type {\n",
       "        vertical-align: middle;\n",
       "    }\n",
       "\n",
       "    .dataframe tbody tr th {\n",
       "        vertical-align: top;\n",
       "    }\n",
       "\n",
       "    .dataframe thead th {\n",
       "        text-align: right;\n",
       "    }\n",
       "</style>\n",
       "<table border=\"1\" class=\"dataframe\">\n",
       "  <thead>\n",
       "    <tr style=\"text-align: right;\">\n",
       "      <th></th>\n",
       "      <th>dec</th>\n",
       "      <th>attr</th>\n",
       "      <th>sinc</th>\n",
       "      <th>intel</th>\n",
       "      <th>fun</th>\n",
       "      <th>amb</th>\n",
       "      <th>shar</th>\n",
       "      <th>like</th>\n",
       "      <th>prob</th>\n",
       "      <th>met</th>\n",
       "    </tr>\n",
       "  </thead>\n",
       "  <tbody>\n",
       "    <tr>\n",
       "      <th>count</th>\n",
       "      <td>1656.000000</td>\n",
       "      <td>1656.000000</td>\n",
       "      <td>1656.000000</td>\n",
       "      <td>1656.000000</td>\n",
       "      <td>1656.000000</td>\n",
       "      <td>1656.00000</td>\n",
       "      <td>1656.000000</td>\n",
       "      <td>1656.000000</td>\n",
       "      <td>1656.000000</td>\n",
       "      <td>1656.000000</td>\n",
       "    </tr>\n",
       "    <tr>\n",
       "      <th>mean</th>\n",
       "      <td>0.412440</td>\n",
       "      <td>6.112319</td>\n",
       "      <td>7.184783</td>\n",
       "      <td>7.380133</td>\n",
       "      <td>6.388889</td>\n",
       "      <td>6.81401</td>\n",
       "      <td>5.408514</td>\n",
       "      <td>6.165761</td>\n",
       "      <td>4.871075</td>\n",
       "      <td>1.954106</td>\n",
       "    </tr>\n",
       "    <tr>\n",
       "      <th>std</th>\n",
       "      <td>0.492422</td>\n",
       "      <td>1.976235</td>\n",
       "      <td>1.701422</td>\n",
       "      <td>1.515371</td>\n",
       "      <td>1.972554</td>\n",
       "      <td>1.72352</td>\n",
       "      <td>1.982612</td>\n",
       "      <td>1.903844</td>\n",
       "      <td>2.151824</td>\n",
       "      <td>0.209318</td>\n",
       "    </tr>\n",
       "    <tr>\n",
       "      <th>min</th>\n",
       "      <td>0.000000</td>\n",
       "      <td>0.000000</td>\n",
       "      <td>0.000000</td>\n",
       "      <td>0.000000</td>\n",
       "      <td>0.000000</td>\n",
       "      <td>0.00000</td>\n",
       "      <td>0.000000</td>\n",
       "      <td>0.000000</td>\n",
       "      <td>0.000000</td>\n",
       "      <td>1.000000</td>\n",
       "    </tr>\n",
       "    <tr>\n",
       "      <th>25%</th>\n",
       "      <td>0.000000</td>\n",
       "      <td>5.000000</td>\n",
       "      <td>6.000000</td>\n",
       "      <td>7.000000</td>\n",
       "      <td>5.000000</td>\n",
       "      <td>6.00000</td>\n",
       "      <td>4.000000</td>\n",
       "      <td>5.000000</td>\n",
       "      <td>3.000000</td>\n",
       "      <td>2.000000</td>\n",
       "    </tr>\n",
       "    <tr>\n",
       "      <th>50%</th>\n",
       "      <td>0.000000</td>\n",
       "      <td>6.000000</td>\n",
       "      <td>7.000000</td>\n",
       "      <td>7.000000</td>\n",
       "      <td>7.000000</td>\n",
       "      <td>7.00000</td>\n",
       "      <td>5.000000</td>\n",
       "      <td>6.000000</td>\n",
       "      <td>5.000000</td>\n",
       "      <td>2.000000</td>\n",
       "    </tr>\n",
       "    <tr>\n",
       "      <th>75%</th>\n",
       "      <td>1.000000</td>\n",
       "      <td>7.000000</td>\n",
       "      <td>8.000000</td>\n",
       "      <td>8.000000</td>\n",
       "      <td>8.000000</td>\n",
       "      <td>8.00000</td>\n",
       "      <td>7.000000</td>\n",
       "      <td>7.000000</td>\n",
       "      <td>6.000000</td>\n",
       "      <td>2.000000</td>\n",
       "    </tr>\n",
       "    <tr>\n",
       "      <th>max</th>\n",
       "      <td>1.000000</td>\n",
       "      <td>10.000000</td>\n",
       "      <td>10.000000</td>\n",
       "      <td>10.000000</td>\n",
       "      <td>10.000000</td>\n",
       "      <td>10.00000</td>\n",
       "      <td>10.000000</td>\n",
       "      <td>10.000000</td>\n",
       "      <td>10.000000</td>\n",
       "      <td>2.000000</td>\n",
       "    </tr>\n",
       "  </tbody>\n",
       "</table>\n",
       "</div>"
      ],
      "text/plain": [
       "               dec         attr         sinc        intel          fun  \\\n",
       "count  1656.000000  1656.000000  1656.000000  1656.000000  1656.000000   \n",
       "mean      0.412440     6.112319     7.184783     7.380133     6.388889   \n",
       "std       0.492422     1.976235     1.701422     1.515371     1.972554   \n",
       "min       0.000000     0.000000     0.000000     0.000000     0.000000   \n",
       "25%       0.000000     5.000000     6.000000     7.000000     5.000000   \n",
       "50%       0.000000     6.000000     7.000000     7.000000     7.000000   \n",
       "75%       1.000000     7.000000     8.000000     8.000000     8.000000   \n",
       "max       1.000000    10.000000    10.000000    10.000000    10.000000   \n",
       "\n",
       "              amb         shar         like         prob          met  \n",
       "count  1656.00000  1656.000000  1656.000000  1656.000000  1656.000000  \n",
       "mean      6.81401     5.408514     6.165761     4.871075     1.954106  \n",
       "std       1.72352     1.982612     1.903844     2.151824     0.209318  \n",
       "min       0.00000     0.000000     0.000000     0.000000     1.000000  \n",
       "25%       6.00000     4.000000     5.000000     3.000000     2.000000  \n",
       "50%       7.00000     5.000000     6.000000     5.000000     2.000000  \n",
       "75%       8.00000     7.000000     7.000000     6.000000     2.000000  \n",
       "max      10.00000    10.000000    10.000000    10.000000     2.000000  "
      ]
     },
     "execution_count": 70,
     "metadata": {},
     "output_type": "execute_result"
    }
   ],
   "source": [
    "speedDF[col7].describe(include=all)"
   ]
  },
  {
   "cell_type": "code",
   "execution_count": 71,
   "metadata": {},
   "outputs": [
    {
     "name": "stderr",
     "output_type": "stream",
     "text": [
      "D:\\Anaconda\\envs\\Resume Project1\\lib\\site-packages\\ipykernel_launcher.py:1: SettingWithCopyWarning: \n",
      "A value is trying to be set on a copy of a slice from a DataFrame.\n",
      "Try using .loc[row_indexer,col_indexer] = value instead\n",
      "\n",
      "See the caveats in the documentation: http://pandas.pydata.org/pandas-docs/stable/user_guide/indexing.html#returning-a-view-versus-a-copy\n",
      "  \"\"\"Entry point for launching an IPython kernel.\n"
     ]
    }
   ],
   "source": [
    "speedDF[\"rating\"]=(speedDF[\"attr\"]+speedDF[\"sinc\"]+speedDF[\"intel\"]+speedDF[\"fun\"]+speedDF[\"amb\"]+speedDF[\"shar\"])/6"
   ]
  },
  {
   "cell_type": "code",
   "execution_count": 72,
   "metadata": {
    "scrolled": true
   },
   "outputs": [
    {
     "name": "stderr",
     "output_type": "stream",
     "text": [
      "D:\\Anaconda\\envs\\Resume Project1\\lib\\site-packages\\ipykernel_launcher.py:1: SettingWithCopyWarning: \n",
      "A value is trying to be set on a copy of a slice from a DataFrame.\n",
      "Try using .loc[row_indexer,col_indexer] = value instead\n",
      "\n",
      "See the caveats in the documentation: http://pandas.pydata.org/pandas-docs/stable/user_guide/indexing.html#returning-a-view-versus-a-copy\n",
      "  \"\"\"Entry point for launching an IPython kernel.\n",
      "D:\\Anaconda\\envs\\Resume Project1\\lib\\site-packages\\ipykernel_launcher.py:2: SettingWithCopyWarning: \n",
      "A value is trying to be set on a copy of a slice from a DataFrame.\n",
      "Try using .loc[row_indexer,col_indexer] = value instead\n",
      "\n",
      "See the caveats in the documentation: http://pandas.pydata.org/pandas-docs/stable/user_guide/indexing.html#returning-a-view-versus-a-copy\n",
      "  \n",
      "D:\\Anaconda\\envs\\Resume Project1\\lib\\site-packages\\ipykernel_launcher.py:3: SettingWithCopyWarning: \n",
      "A value is trying to be set on a copy of a slice from a DataFrame.\n",
      "Try using .loc[row_indexer,col_indexer] = value instead\n",
      "\n",
      "See the caveats in the documentation: http://pandas.pydata.org/pandas-docs/stable/user_guide/indexing.html#returning-a-view-versus-a-copy\n",
      "  This is separate from the ipykernel package so we can avoid doing imports until\n"
     ]
    }
   ],
   "source": [
    "speedDF[\"int_corr\"]=speedDF[\"int_corr\"].astype(float)\n",
    "speedDF[\"age_o\"]=speedDF[\"age_o\"].astype(int)\n",
    "speedDF[\"race_o\"]=speedDF[\"race_o\"].astype(int)"
   ]
  },
  {
   "cell_type": "code",
   "execution_count": 73,
   "metadata": {},
   "outputs": [
    {
     "data": {
      "text/plain": [
       "age          object\n",
       "race        float64\n",
       "imprace     float64\n",
       "imprelig    float64\n",
       "from         object\n",
       "goal        float64\n",
       "date        float64\n",
       "go_out      float64\n",
       "career       object\n",
       "career_c      int64\n",
       "exphappy    float64\n",
       "expnum      float64\n",
       "dtype: object"
      ]
     },
     "execution_count": 73,
     "metadata": {},
     "output_type": "execute_result"
    }
   ],
   "source": [
    "speedDF[col2].dtypes"
   ]
  },
  {
   "cell_type": "code",
   "execution_count": 74,
   "metadata": {},
   "outputs": [
    {
     "name": "stderr",
     "output_type": "stream",
     "text": [
      "D:\\Anaconda\\envs\\Resume Project1\\lib\\site-packages\\ipykernel_launcher.py:1: SettingWithCopyWarning: \n",
      "A value is trying to be set on a copy of a slice from a DataFrame.\n",
      "Try using .loc[row_indexer,col_indexer] = value instead\n",
      "\n",
      "See the caveats in the documentation: http://pandas.pydata.org/pandas-docs/stable/user_guide/indexing.html#returning-a-view-versus-a-copy\n",
      "  \"\"\"Entry point for launching an IPython kernel.\n"
     ]
    }
   ],
   "source": [
    "speedDF[\"age\"]=speedDF[\"age\"].astype(int)"
   ]
  },
  {
   "cell_type": "code",
   "execution_count": 75,
   "metadata": {},
   "outputs": [
    {
     "data": {
      "text/plain": [
       "sports      float64\n",
       "tvsports    float64\n",
       "exercise    float64\n",
       "dining      float64\n",
       "museums     float64\n",
       "art         float64\n",
       "hiking      float64\n",
       "gaming      float64\n",
       "clubbing    float64\n",
       "reading     float64\n",
       "tv          float64\n",
       "theater     float64\n",
       "movies      float64\n",
       "concerts    float64\n",
       "music       float64\n",
       "shopping    float64\n",
       "yoga        float64\n",
       "dtype: object"
      ]
     },
     "execution_count": 75,
     "metadata": {},
     "output_type": "execute_result"
    }
   ],
   "source": [
    "speedDF[col3].dtypes"
   ]
  },
  {
   "cell_type": "code",
   "execution_count": 76,
   "metadata": {},
   "outputs": [
    {
     "data": {
      "text/plain": [
       "attr1_1     float64\n",
       "sinc1_1     float64\n",
       "intel1_1    float64\n",
       "fun1_1      float64\n",
       "amb1_1      float64\n",
       "shar1_1     float64\n",
       "dtype: object"
      ]
     },
     "execution_count": 76,
     "metadata": {},
     "output_type": "execute_result"
    }
   ],
   "source": [
    "speedDF[col4].dtypes"
   ]
  },
  {
   "cell_type": "code",
   "execution_count": 77,
   "metadata": {},
   "outputs": [
    {
     "data": {
      "text/plain": [
       "attr2_1     float64\n",
       "sinc2_1     float64\n",
       "intel2_1    float64\n",
       "fun2_1      float64\n",
       "amb2_1      float64\n",
       "shar2_1     float64\n",
       "dtype: object"
      ]
     },
     "execution_count": 77,
     "metadata": {},
     "output_type": "execute_result"
    }
   ],
   "source": [
    "speedDF[col5].dtypes"
   ]
  },
  {
   "cell_type": "code",
   "execution_count": 78,
   "metadata": {},
   "outputs": [
    {
     "data": {
      "text/plain": [
       "attr3_1     float64\n",
       "sinc3_1     float64\n",
       "intel3_1    float64\n",
       "fun3_1      float64\n",
       "amb3_1      float64\n",
       "dtype: object"
      ]
     },
     "execution_count": 78,
     "metadata": {},
     "output_type": "execute_result"
    }
   ],
   "source": [
    "speedDF[col6].dtypes"
   ]
  },
  {
   "cell_type": "markdown",
   "metadata": {},
   "source": [
    "<a id=\"section4\"></a>\n",
    "## 4. Feature Engineering"
   ]
  },
  {
   "cell_type": "markdown",
   "metadata": {},
   "source": [
    "<a id=\"section41\"></a>\n",
    "### &nbsp; 4.1.  Total Rating"
   ]
  },
  {
   "cell_type": "code",
   "execution_count": 79,
   "metadata": {},
   "outputs": [
    {
     "name": "stderr",
     "output_type": "stream",
     "text": [
      "D:\\Anaconda\\envs\\Resume Project1\\lib\\site-packages\\ipykernel_launcher.py:1: SettingWithCopyWarning: \n",
      "A value is trying to be set on a copy of a slice from a DataFrame.\n",
      "Try using .loc[row_indexer,col_indexer] = value instead\n",
      "\n",
      "See the caveats in the documentation: http://pandas.pydata.org/pandas-docs/stable/user_guide/indexing.html#returning-a-view-versus-a-copy\n",
      "  \"\"\"Entry point for launching an IPython kernel.\n"
     ]
    }
   ],
   "source": [
    "speedDF[\"rating\"]=(speedDF[\"attr\"]+speedDF[\"sinc\"]+speedDF[\"intel\"]+speedDF[\"fun\"]+speedDF[\"amb\"]+speedDF[\"shar\"])/6"
   ]
  },
  {
   "cell_type": "markdown",
   "metadata": {},
   "source": [
    "The culmination of all attributes rated out of ten by the subject."
   ]
  },
  {
   "cell_type": "markdown",
   "metadata": {},
   "source": [
    "<a id=\"section5\"></a>\n",
    "## 5. Exploratory Data Analysis (EDA)\n",
    "\n",
    "Checking relation of feature variables with target variable,which is column \"match\""
   ]
  },
  {
   "cell_type": "code",
   "execution_count": 80,
   "metadata": {},
   "outputs": [],
   "source": [
    "data=speedDF"
   ]
  },
  {
   "cell_type": "code",
   "execution_count": 81,
   "metadata": {},
   "outputs": [],
   "source": [
    "import matplotlib.pyplot as plt\n",
    "import seaborn as sns"
   ]
  },
  {
   "cell_type": "markdown",
   "metadata": {},
   "source": [
    "<a id=\"section51\"></a>\n",
    "### &nbsp; 5.1. Relation of interest correlation with subject's decision"
   ]
  },
  {
   "cell_type": "code",
   "execution_count": 82,
   "metadata": {},
   "outputs": [
    {
     "data": {
      "image/png": "[encoded data removed]",
      "text/plain": [
       "<Figure size 576x432 with 1 Axes>"
      ]
     },
     "metadata": {},
     "output_type": "display_data"
    }
   ],
   "source": [
    "sns.set(font_scale=1.2)\n",
    "fig,axs=plt.subplots(figsize=(8,6))\n",
    "c1=sns.boxplot(y=\"int_corr\",x=\"dec\",data=data,ax=axs)\n",
    "c1.set_xticklabels([\"No\",\"Yes\"])\n",
    "c1.set(ylabel=\"Interest\")\n",
    "c1.set(xlabel=\"Decision\")\n",
    "c1.set_title(\"Interest Correlation vs Decision\")\n",
    "c1.set(ylim=(-1,1))\n",
    "plt.show(c1)"
   ]
  },
  {
   "cell_type": "markdown",
   "metadata": {},
   "source": [
    "There is no relation between 'Interest correlation' and 'dec' column."
   ]
  },
  {
   "cell_type": "markdown",
   "metadata": {},
   "source": [
    "<a id=\"section52\"></a>\n",
    "### &nbsp; 5.2. Relation of Choice with Subject's Decision"
   ]
  },
  {
   "cell_type": "code",
   "execution_count": 83,
   "metadata": {},
   "outputs": [
    {
     "data": {
      "image/png": "[encoded data removed]",
      "text/plain": [
       "<Figure size 576x432 with 2 Axes>"
      ]
     },
     "metadata": {},
     "output_type": "display_data"
    }
   ],
   "source": [
    "sns.set(font_scale=1.2)\n",
    "fig,axs=plt.subplots(1,2,figsize=(8,6))\n",
    "c1=sns.countplot(x=\"dec\",data=data[data[\"condtn\"]==2],ax=axs[0])\n",
    "c1.set_xticklabels([\"No\",\"Yes\"])\n",
    "c1.set(ylim=(0,800))\n",
    "c1.set(xlabel=\"Decision\")\n",
    "c1.set_title(\"Extensive Choice vs Decision\")\n",
    "c2=sns.countplot(x=\"dec\",data=data[data[\"condtn\"]==1],ax=axs[1])\n",
    "c2.set_xticklabels([\"No\",\"Yes\"])\n",
    "c2.set(ylim=(0,800))\n",
    "c2.set(ylabel=\"\")\n",
    "c2.set(xlabel=\"Decision\")\n",
    "c2.set_title(\"Limited Choice vs Decision\")\n",
    "plt.show(c1)\n",
    "plt.show(c2)"
   ]
  },
  {
   "cell_type": "markdown",
   "metadata": {},
   "source": [
    "There is no correlation between 'Choice' and 'dec' column"
   ]
  },
  {
   "cell_type": "markdown",
   "metadata": {},
   "source": [
    "<a id=\"section53\"></a>\n",
    "### &nbsp; 5.3. Relation between Attributes and Subject's Decision column"
   ]
  },
  {
   "cell_type": "code",
   "execution_count": 84,
   "metadata": {},
   "outputs": [
    {
     "data": {
      "text/plain": [
       "Text(0.5, 1.0, 'Shared Interests vs Decision')"
      ]
     },
     "execution_count": 84,
     "metadata": {},
     "output_type": "execute_result"
    },
    {
     "data": {
      "image/png": "[encoded data removed]",
      "text/plain": [
       "<Figure size 720x864 with 6 Axes>"
      ]
     },
     "metadata": {},
     "output_type": "display_data"
    }
   ],
   "source": [
    "sns.set(font_scale=1.3)\n",
    "fig,axs=plt.subplots(2,3,figsize=(10,12))\n",
    "c1=sns.boxplot(y=\"fun\",x=\"dec\",data=data,ax=axs[0,0])\n",
    "c1.set_xticklabels([\"No\",\"Yes\"])\n",
    "c1.set(ylabel=\"Rating\")\n",
    "c1.set(xlabel=\"\")\n",
    "c1.set_title(\"Fun vs Decision\")\n",
    "\n",
    "c2=sns.boxplot(y=\"intel\",x=\"dec\",data=data,ax=axs[0,1])\n",
    "c2.set_xticklabels([\"No\",\"Yes\"])\n",
    "c2.set(ylabel=\"\")\n",
    "c2.set(xlabel=\"\")\n",
    "c2.set_title(\"Intelligent vs Decision\")\n",
    "\n",
    "c3=sns.boxplot(y=\"amb\",x=\"dec\",data=data,ax=axs[1,0])\n",
    "c3.set_xticklabels([\"No\",\"Yes\"])\n",
    "c3.set(ylabel=\"Rating\")\n",
    "c3.set(xlabel=\"Decision\")\n",
    "c3.set_title(\"Ambitious vs Decision\")\n",
    "\n",
    "c4=sns.boxplot(y=\"sinc\",x=\"dec\",data=data,ax=axs[1,1])\n",
    "c4.set_xticklabels([\"No\",\"Yes\"])\n",
    "c4.set(ylabel=\"\")\n",
    "c4.set(xlabel=\"Decision\")\n",
    "c4.set_title(\"Sincere vs Decision\")\n",
    "\n",
    "\n",
    "c5=sns.boxplot(y=\"attr\",x=\"dec\",data=data,ax=axs[1,2])\n",
    "c5.set_xticklabels([\"No\",\"Yes\"])\n",
    "c5.set(ylabel=\"\")\n",
    "c5.set(xlabel=\"Decision\")\n",
    "c5.set_title(\"Attractive vs Decision\")\n",
    "\n",
    "c6=sns.boxplot(y=\"shar\",x=\"dec\",data=data,ax=axs[0,2])\n",
    "c6.set_xticklabels([\"No\",\"Yes\"])\n",
    "c6.set(ylabel=\"\")\n",
    "c6.set(xlabel=\"\")\n",
    "c6.set_title(\"Shared Interests vs Decision\")"
   ]
  },
  {
   "cell_type": "markdown",
   "metadata": {},
   "source": [
    "Attractive, Shared Interests and Fun attributes from the scorecard have a significant correlation with subject's decision. On the other side Sincere, Ambitious and Intelligent have a moderately significant correlation with Match as it doesn't play a signifcant role in deciding whether subject likes their partner or not. "
   ]
  },
  {
   "cell_type": "markdown",
   "metadata": {},
   "source": [
    "<a id=\"section54\"></a>\n",
    "### &nbsp; 5.4. Relation between Met and Decision column"
   ]
  },
  {
   "cell_type": "code",
   "execution_count": 85,
   "metadata": {},
   "outputs": [
    {
     "data": {
      "image/png": "[encoded data removed]",
      "text/plain": [
       "<Figure size 576x432 with 1 Axes>"
      ]
     },
     "metadata": {},
     "output_type": "display_data"
    }
   ],
   "source": [
    "sns.set(font_scale=1.2)\n",
    "fig,axs=plt.subplots(figsize=(8,6))\n",
    "c1=sns.countplot(hue=\"dec\",x=\"met\",data=data,ax=axs)\n",
    "c1.set_xticklabels([\"Yes\",\"No\"])\n",
    "c1.set(ylabel=\"Number of People\")\n",
    "c1.set(xlabel=\"Met\")\n",
    "c1.set_title(\"Met vs Match\")\n",
    "plt.legend(title='Match', loc='upper right',labels=['No', 'Yes'])\n",
    "plt.show(c1)"
   ]
  },
  {
   "cell_type": "markdown",
   "metadata": {},
   "source": [
    "Subject's decision is more likely to be positive if he/she hadn't met their partner before."
   ]
  },
  {
   "cell_type": "markdown",
   "metadata": {},
   "source": [
    "<a id=\"section6\"></a>\n",
    "##  6. Correlation"
   ]
  },
  {
   "cell_type": "markdown",
   "metadata": {},
   "source": [
    "<a id=\"section61\"></a>\n",
    "### &nbsp; 6.1. Correlation Table"
   ]
  },
  {
   "cell_type": "code",
   "execution_count": 86,
   "metadata": {},
   "outputs": [],
   "source": [
    "fcol=[\"attr\",\"sinc\",\"intel\",\"fun\",\"dec\",\"amb\",\"shar\",\"met\",\"rating\"]"
   ]
  },
  {
   "cell_type": "code",
   "execution_count": 87,
   "metadata": {},
   "outputs": [
    {
     "data": {
      "text/html": [
       "<div>\n",
       "<style scoped>\n",
       "    .dataframe tbody tr th:only-of-type {\n",
       "        vertical-align: middle;\n",
       "    }\n",
       "\n",
       "    .dataframe tbody tr th {\n",
       "        vertical-align: top;\n",
       "    }\n",
       "\n",
       "    .dataframe thead th {\n",
       "        text-align: right;\n",
       "    }\n",
       "</style>\n",
       "<table border=\"1\" class=\"dataframe\">\n",
       "  <thead>\n",
       "    <tr style=\"text-align: right;\">\n",
       "      <th></th>\n",
       "      <th>attr</th>\n",
       "      <th>sinc</th>\n",
       "      <th>intel</th>\n",
       "      <th>fun</th>\n",
       "      <th>dec</th>\n",
       "      <th>amb</th>\n",
       "      <th>shar</th>\n",
       "      <th>met</th>\n",
       "      <th>rating</th>\n",
       "    </tr>\n",
       "  </thead>\n",
       "  <tbody>\n",
       "    <tr>\n",
       "      <th>attr</th>\n",
       "      <td>1.000000</td>\n",
       "      <td>0.403318</td>\n",
       "      <td>0.390928</td>\n",
       "      <td>0.570778</td>\n",
       "      <td>0.510562</td>\n",
       "      <td>0.299419</td>\n",
       "      <td>0.457712</td>\n",
       "      <td>-0.083937</td>\n",
       "      <td>0.715565</td>\n",
       "    </tr>\n",
       "    <tr>\n",
       "      <th>sinc</th>\n",
       "      <td>0.403318</td>\n",
       "      <td>1.000000</td>\n",
       "      <td>0.629749</td>\n",
       "      <td>0.479933</td>\n",
       "      <td>0.208997</td>\n",
       "      <td>0.422694</td>\n",
       "      <td>0.394339</td>\n",
       "      <td>-0.037252</td>\n",
       "      <td>0.728578</td>\n",
       "    </tr>\n",
       "    <tr>\n",
       "      <th>intel</th>\n",
       "      <td>0.390928</td>\n",
       "      <td>0.629749</td>\n",
       "      <td>1.000000</td>\n",
       "      <td>0.459152</td>\n",
       "      <td>0.208807</td>\n",
       "      <td>0.589148</td>\n",
       "      <td>0.408735</td>\n",
       "      <td>-0.074501</td>\n",
       "      <td>0.750900</td>\n",
       "    </tr>\n",
       "    <tr>\n",
       "      <th>fun</th>\n",
       "      <td>0.570778</td>\n",
       "      <td>0.479933</td>\n",
       "      <td>0.459152</td>\n",
       "      <td>1.000000</td>\n",
       "      <td>0.399296</td>\n",
       "      <td>0.448769</td>\n",
       "      <td>0.616143</td>\n",
       "      <td>-0.098699</td>\n",
       "      <td>0.814644</td>\n",
       "    </tr>\n",
       "    <tr>\n",
       "      <th>dec</th>\n",
       "      <td>0.510562</td>\n",
       "      <td>0.208997</td>\n",
       "      <td>0.208807</td>\n",
       "      <td>0.399296</td>\n",
       "      <td>1.000000</td>\n",
       "      <td>0.160922</td>\n",
       "      <td>0.385880</td>\n",
       "      <td>-0.091770</td>\n",
       "      <td>0.432850</td>\n",
       "    </tr>\n",
       "    <tr>\n",
       "      <th>amb</th>\n",
       "      <td>0.299419</td>\n",
       "      <td>0.422694</td>\n",
       "      <td>0.589148</td>\n",
       "      <td>0.448769</td>\n",
       "      <td>0.160922</td>\n",
       "      <td>1.000000</td>\n",
       "      <td>0.441770</td>\n",
       "      <td>-0.047123</td>\n",
       "      <td>0.701266</td>\n",
       "    </tr>\n",
       "    <tr>\n",
       "      <th>shar</th>\n",
       "      <td>0.457712</td>\n",
       "      <td>0.394339</td>\n",
       "      <td>0.408735</td>\n",
       "      <td>0.616143</td>\n",
       "      <td>0.385880</td>\n",
       "      <td>0.441770</td>\n",
       "      <td>1.000000</td>\n",
       "      <td>-0.146986</td>\n",
       "      <td>0.758713</td>\n",
       "    </tr>\n",
       "    <tr>\n",
       "      <th>met</th>\n",
       "      <td>-0.083937</td>\n",
       "      <td>-0.037252</td>\n",
       "      <td>-0.074501</td>\n",
       "      <td>-0.098699</td>\n",
       "      <td>-0.091770</td>\n",
       "      <td>-0.047123</td>\n",
       "      <td>-0.146986</td>\n",
       "      <td>1.000000</td>\n",
       "      <td>-0.112123</td>\n",
       "    </tr>\n",
       "    <tr>\n",
       "      <th>rating</th>\n",
       "      <td>0.715565</td>\n",
       "      <td>0.728578</td>\n",
       "      <td>0.750900</td>\n",
       "      <td>0.814644</td>\n",
       "      <td>0.432850</td>\n",
       "      <td>0.701266</td>\n",
       "      <td>0.758713</td>\n",
       "      <td>-0.112123</td>\n",
       "      <td>1.000000</td>\n",
       "    </tr>\n",
       "  </tbody>\n",
       "</table>\n",
       "</div>"
      ],
      "text/plain": [
       "            attr      sinc     intel       fun       dec       amb      shar  \\\n",
       "attr    1.000000  0.403318  0.390928  0.570778  0.510562  0.299419  0.457712   \n",
       "sinc    0.403318  1.000000  0.629749  0.479933  0.208997  0.422694  0.394339   \n",
       "intel   0.390928  0.629749  1.000000  0.459152  0.208807  0.589148  0.408735   \n",
       "fun     0.570778  0.479933  0.459152  1.000000  0.399296  0.448769  0.616143   \n",
       "dec     0.510562  0.208997  0.208807  0.399296  1.000000  0.160922  0.385880   \n",
       "amb     0.299419  0.422694  0.589148  0.448769  0.160922  1.000000  0.441770   \n",
       "shar    0.457712  0.394339  0.408735  0.616143  0.385880  0.441770  1.000000   \n",
       "met    -0.083937 -0.037252 -0.074501 -0.098699 -0.091770 -0.047123 -0.146986   \n",
       "rating  0.715565  0.728578  0.750900  0.814644  0.432850  0.701266  0.758713   \n",
       "\n",
       "             met    rating  \n",
       "attr   -0.083937  0.715565  \n",
       "sinc   -0.037252  0.728578  \n",
       "intel  -0.074501  0.750900  \n",
       "fun    -0.098699  0.814644  \n",
       "dec    -0.091770  0.432850  \n",
       "amb    -0.047123  0.701266  \n",
       "shar   -0.146986  0.758713  \n",
       "met     1.000000 -0.112123  \n",
       "rating -0.112123  1.000000  "
      ]
     },
     "execution_count": 87,
     "metadata": {},
     "output_type": "execute_result"
    }
   ],
   "source": [
    "speedDF[fcol].corr()"
   ]
  },
  {
   "cell_type": "markdown",
   "metadata": {},
   "source": [
    "<a id=\"section62\"></a>\n",
    "### &nbsp; 6.2. Plotting a Heatmap to visualize correlation\n"
   ]
  },
  {
   "cell_type": "code",
   "execution_count": 88,
   "metadata": {},
   "outputs": [
    {
     "data": {
      "text/plain": [
       "(9.0, 1.0)"
      ]
     },
     "execution_count": 88,
     "metadata": {},
     "output_type": "execute_result"
    },
    {
     "data": {
      "image/png": "[encoded data removed]",
      "text/plain": [
       "<Figure size 720x504 with 2 Axes>"
      ]
     },
     "metadata": {},
     "output_type": "display_data"
    }
   ],
   "source": [
    "fig,ax=plt.subplots(figsize=(10,7))\n",
    "heat=sns.heatmap(speedDF[fcol].corr(),vmax=1,vmin=-0.6,annot=True,ax=ax,cmap=\"coolwarm\")\n",
    "plt.yticks(rotation=0)\n",
    "bottom,top=heat.get_ylim()\n",
    "heat.set_ylim(bottom+0.5,top+0.5)"
   ]
  },
  {
   "cell_type": "markdown",
   "metadata": {},
   "source": [
    "<a id=\"section7\"></a>\n",
    "\n",
    "## 7. Model Development using Pipeline\n"
   ]
  },
  {
   "cell_type": "markdown",
   "metadata": {},
   "source": [
    "<a id=\"section71\"></a>\n",
    "###  &nbsp; 7.1. Feature Selection\n",
    "\n",
    "\n",
    "\n"
   ]
  },
  {
   "cell_type": "markdown",
   "metadata": {},
   "source": [
    "After referring the above heatmap, following features are to be selected for the model.\n",
    "  * rating\n",
    "  * attr\n",
    "  * fun\n",
    "  * met"
   ]
  },
  {
   "cell_type": "code",
   "execution_count": 89,
   "metadata": {},
   "outputs": [],
   "source": [
    "features=[\"rating\",\"attr\",\"fun\",\"met\"]\n"
   ]
  },
  {
   "cell_type": "code",
   "execution_count": 90,
   "metadata": {},
   "outputs": [],
   "source": [
    "X=speedDF[features]\n",
    "y=speedDF[\"dec\"]"
   ]
  },
  {
   "cell_type": "markdown",
   "metadata": {},
   "source": [
    "<a id=\"section72\"></a>\n",
    "###  &nbsp; 7.2. Train, test split\n"
   ]
  },
  {
   "cell_type": "code",
   "execution_count": 91,
   "metadata": {},
   "outputs": [],
   "source": [
    "from sklearn.model_selection import train_test_split\n",
    "X_train,X_test,y_train,y_test=train_test_split(X, y, test_size=0.3)"
   ]
  },
  {
   "cell_type": "markdown",
   "metadata": {},
   "source": [
    "<a id=\"section73\"></a>\n",
    "### &nbsp; 7.3. RandomForest Algorithm"
   ]
  },
  {
   "cell_type": "code",
   "execution_count": 92,
   "metadata": {},
   "outputs": [
    {
     "data": {
      "text/plain": [
       "Pipeline(memory=None,\n",
       "         steps=[('simpleimputer',\n",
       "                 SimpleImputer(add_indicator=False, copy=True, fill_value=None,\n",
       "                               missing_values=nan, strategy='mean',\n",
       "                               verbose=0)),\n",
       "                ('randomforestclassifier',\n",
       "                 RandomForestClassifier(bootstrap=True, ccp_alpha=0.0,\n",
       "                                        class_weight=None, criterion='gini',\n",
       "                                        max_depth=None, max_features='auto',\n",
       "                                        max_leaf_nodes=None, max_samples=None,\n",
       "                                        min_impurity_decrease=0.0,\n",
       "                                        min_impurity_split=None,\n",
       "                                        min_samples_leaf=1, min_samples_split=2,\n",
       "                                        min_weight_fraction_leaf=0.0,\n",
       "                                        n_estimators=100, n_jobs=None,\n",
       "                                        oob_score=False, random_state=0,\n",
       "                                        verbose=0, warm_start=False))],\n",
       "         verbose=False)"
      ]
     },
     "execution_count": 92,
     "metadata": {},
     "output_type": "execute_result"
    }
   ],
   "source": [
    "from sklearn.ensemble import RandomForestClassifier\n",
    "from sklearn.pipeline import make_pipeline\n",
    "from sklearn.impute import SimpleImputer\n",
    "RF_pipeline = make_pipeline(SimpleImputer(), RandomForestClassifier( random_state=0))\n",
    "\n",
    "RF_pipeline.fit(X_train, y_train)\n"
   ]
  },
  {
   "cell_type": "code",
   "execution_count": 93,
   "metadata": {},
   "outputs": [],
   "source": [
    "RF_predictions= RF_pipeline.predict(X_test)"
   ]
  },
  {
   "cell_type": "code",
   "execution_count": 94,
   "metadata": {},
   "outputs": [
    {
     "data": {
      "text/plain": [
       "0.738430583501006"
      ]
     },
     "execution_count": 94,
     "metadata": {},
     "output_type": "execute_result"
    }
   ],
   "source": [
    "from sklearn.metrics import accuracy_score\n",
    "accuracy_score(y_test, RF_predictions)"
   ]
  },
  {
   "cell_type": "markdown",
   "metadata": {},
   "source": [
    "<a id=\"section8\"></a>\n",
    "### 8. Model Evaluation"
   ]
  },
  {
   "cell_type": "code",
   "execution_count": 95,
   "metadata": {},
   "outputs": [],
   "source": [
    "from sklearn.metrics import confusion_matrix\n",
    "from sklearn.metrics import classification_report\n",
    "from sklearn.metrics import roc_auc_score\n",
    "import matplotlib.pyplot as plt\n",
    "from sklearn.metrics import roc_curve\n",
    "from sklearn.metrics import average_precision_score\n",
    "from sklearn.metrics import precision_recall_curve"
   ]
  },
  {
   "cell_type": "markdown",
   "metadata": {},
   "source": [
    "<a id=\"section81\"></a>\n",
    "###  8.1. RandomForest Algorithm"
   ]
  },
  {
   "cell_type": "markdown",
   "metadata": {},
   "source": [
    "<a id=\"section811\"></a>\n",
    "###  &nbsp; 8.1.1. Confusion Matrix\n"
   ]
  },
  {
   "cell_type": "code",
   "execution_count": 96,
   "metadata": {},
   "outputs": [
    {
     "name": "stdout",
     "output_type": "stream",
     "text": [
      "            Predicted No  Predicted Yes  Total\n",
      "Actual No            216             63    279\n",
      "Actual Yes            67            151    218\n",
      "Total                283            214    497\n"
     ]
    }
   ],
   "source": [
    "import numpy as np\n",
    "cm = pd.DataFrame(confusion_matrix(y_test, RF_predictions))\n",
    "cm['Total'] = np.sum(cm, axis=1)\n",
    "cm = cm.append(np.sum(cm, axis=0), ignore_index=True)\n",
    "cm.columns = ['Predicted No', 'Predicted Yes', 'Total']\n",
    "cm = cm.set_index([['Actual No', 'Actual Yes', 'Total']])\n",
    "print(cm)"
   ]
  },
  {
   "cell_type": "markdown",
   "metadata": {},
   "source": [
    "<a id=\"section812\"></a>\n",
    "###  &nbsp; 8.1.2. Classification Report\n"
   ]
  },
  {
   "cell_type": "code",
   "execution_count": 97,
   "metadata": {},
   "outputs": [
    {
     "name": "stdout",
     "output_type": "stream",
     "text": [
      "              precision    recall  f1-score   support\n",
      "\n",
      "           0       0.76      0.77      0.77       279\n",
      "           1       0.71      0.69      0.70       218\n",
      "\n",
      "    accuracy                           0.74       497\n",
      "   macro avg       0.73      0.73      0.73       497\n",
      "weighted avg       0.74      0.74      0.74       497\n",
      "\n"
     ]
    }
   ],
   "source": [
    "print(classification_report(y_test, RF_predictions))"
   ]
  },
  {
   "cell_type": "markdown",
   "metadata": {},
   "source": [
    "<a id=\"section813\"></a>\n",
    "###  &nbsp; 8.1.3. ROC-curve\n"
   ]
  },
  {
   "cell_type": "code",
   "execution_count": 98,
   "metadata": {},
   "outputs": [],
   "source": [
    "logit_roc_auc = roc_auc_score(y_test, RF_predictions) "
   ]
  },
  {
   "cell_type": "code",
   "execution_count": 99,
   "metadata": {},
   "outputs": [
    {
     "data": {
      "image/png": "[encoded data removed]",
      "text/plain": [
       "<Figure size 432x288 with 1 Axes>"
      ]
     },
     "metadata": {},
     "output_type": "display_data"
    }
   ],
   "source": [
    "fpr, tpr, thresholds = roc_curve(y_test, RF_pipeline.predict_proba(X_test)[:,1]) \n",
    "plt.figure()\n",
    "plt.plot(fpr, tpr, label='Model (Area = %0.2f)' % logit_roc_auc) \n",
    "plt.plot([0, 1], [0, 1],'r--')\n",
    "plt.xlim([-0.01, 1.0])\n",
    "plt.ylim([0.0, 1.03])\n",
    "plt.xlabel('False Positive Rate')\n",
    "plt.ylabel('True Positive Rate')\n",
    "plt.title('Receiver Operating Characteristic')\n",
    "plt.legend(loc=\"lower right\")\n",
    "plt.show()"
   ]
  },
  {
   "cell_type": "code",
   "execution_count": null,
   "metadata": {},
   "outputs": [],
   "source": []
  }
 ],
 "metadata": {
  "kernelspec": {
   "display_name": "Python 3",
   "language": "python",
   "name": "python3"
  },
  "language_info": {
   "codemirror_mode": {
    "name": "ipython",
    "version": 3
   },
   "file_extension": ".py",
   "mimetype": "text/x-python",
   "name": "python",
   "nbconvert_exporter": "python",
   "pygments_lexer": "ipython3",
   "version": "3.7.6"
  }
 },
 "nbformat": 4,
 "nbformat_minor": 4
}
