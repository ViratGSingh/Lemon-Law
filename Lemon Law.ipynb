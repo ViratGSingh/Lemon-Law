{
 "cells": [
  {
   "cell_type": "markdown",
   "metadata": {},
   "source": [
    "# Speed Dating"
   ]
  },
  {
   "cell_type": "markdown",
   "metadata": {},
   "source": [
    "Content\n",
    " 1. [Problem](#section1)\n",
    "   <a href=\"#section1\"></a>\n",
    " 2. [Solution](#section10)\n",
    "   <a href=\"#section10\"></a>  \n",
    " 3. [Obtaining Data ](#section2)\n",
    "   <a href=\"#section2\"></a>\n",
    " 4. [Data Cleaning and Preparation ](#section3)\n",
    "   <a href=\"#section3\"></a>  \n",
    "   * [Speed Dating Event data Key](#section31)\n",
    "     <a href=\"#section31\"></a>\n",
    "   * [Scorecard Data key ](#section32)\n",
    "     <a href=\"#section32\"></a>  \n",
    "     - [Subject's Scorecard](#section321)\n",
    "       <a href=\"#section321\"></a> \n",
    "     - [Partner's Scorecard](#section322)\n",
    "       <a href=\"#section322\"></a>  \n",
    " 5. [Feature Engineering](#section4)\n",
    "   <a href=\"#section4\"></a>     \n",
    "   * [Subject's Overall Rating of Partner](#section41)\n",
    "     <a href=\"#section41\"></a> \n",
    "   * [Partner's Overall Rating of Subject](#section42)\n",
    "     <a href=\"#section42\"></a>   \n",
    "   * [Actually Met before](#section43)\n",
    "     <a href=\"#section43\"></a>   \n",
    " 6. [Exploratory Data Analysis (EDA)](#section5)\n",
    "   <a href=\"#section5\"></a>     \n",
    "   * [Relation between Interest Correlation and Match](#section51)\n",
    "     <a href=\"#section51\"></a>\n",
    "   * [Relation between Choice and Match](#section52)\n",
    "     <a href=\"#section52\"></a>\n",
    "   * [Relation between Subject's Scorecard Ratings and Match](#section53)\n",
    "     <a href=\"#section53\"></a>  \n",
    "   * [Relation between Partner's scorecard ratings and Match ](#section54)\n",
    "     <a href=\"#section54\"></a>\n",
    "   * [Relation between Met and Match ](#section55)\n",
    "     <a href=\"#section55\"></a>\n",
    " 7. [Correlation](#section6)\n",
    "   <a href=\"#section6\"></a>   \n",
    "   * [Correlation Tables ](#section61)\n",
    "     <a href=\"#section61\"></a>\n",
    "   * [Heatmaps ](#section62)\n",
    "     <a href=\"#section62\"></a>  \n",
    " 8. [Model Development](#section7)\n",
    "   <a href=\"#section7\"></a>\n",
    "   * [Feature Selection ](#section71)\n",
    "     <a href=\"#section71\"></a>\n",
    "   * [Train,test split](#section72)\n",
    "     <a href=\"#section72\"></a> \n",
    "   * [RandomForest Algorithm ](#section73)\n",
    "     <a href=\"#section73\"></a>\n",
    " 9. [Model Evaluation](#section8)\n",
    "   <a href=\"#section8\"></a>\n",
    "   * [Confusion Matrix](#section81)\n",
    "     <a href=\"#section81\"></a> \n",
    "   * [Classification Report ](#section82)\n",
    "     <a href=\"#section82\"></a>\n",
    "   * [ROC-curve ](#section83)\n",
    "     <a href=\"#section83\"></a>    \n",
    " 10. [Result](#section9)\n",
    "   <a href=\"#section9\"></a> "
   ]
  },
  {
   "cell_type": "markdown",
   "metadata": {},
   "source": [
    "<a id=\"section1\"></a>\n",
    "\n",
    "## 1. Problem"
   ]
  },
  {
   "cell_type": "markdown",
   "metadata": {},
   "source": [
    "A dating company called \"Lemon Law\" is planning to come up with an app which aims at improving the quality of your matches  by bringing the speed dating experience online as both are made to fill a scorecard to rate their partner at the end of their five minute text conversation."
   ]
  },
  {
   "cell_type": "markdown",
   "metadata": {},
   "source": [
    "<a id=\"section10\"></a>\n",
    "## 2. Solution"
   ]
  },
  {
   "cell_type": "markdown",
   "metadata": {},
   "source": [
    "* To solve this problem, a predictive model is to be made by using the Speed Dating Experiment dataset. It's available in   Kaggle.\n",
    "* After coming up with one, it will be tested on day four of the speed dating event."
   ]
  },
  {
   "cell_type": "markdown",
   "metadata": {},
   "source": [
    "<a id=\"section2\"></a>\n",
    "## 3. Obtaining Data "
   ]
  },
  {
   "cell_type": "code",
   "execution_count": 1,
   "metadata": {},
   "outputs": [
    {
     "data": {
      "text/plain": [
       "(8378, 195)"
      ]
     },
     "execution_count": 1,
     "metadata": {},
     "output_type": "execute_result"
    }
   ],
   "source": [
    "import pandas as pd\n",
    "df=pd.read_csv(\"Speed Dating Data.csv\", engine=\"python\")\n",
    "df.shape"
   ]
  },
  {
   "cell_type": "code",
   "execution_count": 2,
   "metadata": {},
   "outputs": [],
   "source": [
    "import warnings\n",
    "warnings.filterwarnings('ignore')"
   ]
  },
  {
   "cell_type": "markdown",
   "metadata": {},
   "source": [
    "### As dataset is too big for my laptop to handle, dataset will be reduced to the first four waves only"
   ]
  },
  {
   "cell_type": "code",
   "execution_count": 3,
   "metadata": {},
   "outputs": [
    {
     "data": {
      "text/plain": [
       "(1656, 195)"
      ]
     },
     "execution_count": 3,
     "metadata": {},
     "output_type": "execute_result"
    }
   ],
   "source": [
    "speedDF=df[(df[\"wave\"]==1)| (df[\"wave\"]==2) | (df[\"wave\"]==3) | (df[\"wave\"]==4)]\n",
    "speedDF.shape"
   ]
  },
  {
   "cell_type": "markdown",
   "metadata": {},
   "source": [
    "<a id=\"section3\"></a>\n",
    "## 4. Data Cleaning and  Preparation"
   ]
  },
  {
   "cell_type": "markdown",
   "metadata": {},
   "source": [
    "<a id=\"section31\"></a>\n",
    "###  &nbsp; 4.1. Speed Dating Event data Key\n",
    "\n",
    "1. iid: \tunique subject number, group(wave id gender)\n",
    "\n",
    "2. id:  \tsubject number within wave\n",
    "\n",
    "3. gender:\tFemale=0,Male=1\n",
    "\n",
    "4. idg: \tsubject number within gender, group(id gender)\n",
    "\n",
    "5. condtn: 1=limited choice , 2=extensive choice\n",
    "\n",
    "6. wave: The day on which the speed dating event takes place.\n",
    "\n",
    "7. round:\t\tnumber of people that met in wave\n",
    "\n",
    "8. order: \t\tthe number of date that night when met partner\n",
    "\n",
    "9. partner: \tpartner’s id number the night of event\n",
    "\n",
    "10. pid: \t\tpartner’s iid number\n",
    "\n",
    "11. match\t\t1=yes, 0=no\n",
    "\n",
    "12. int_corr:\tcorrelation between participant’s and partner’s ratings of interests in Time 1\n",
    "\n",
    "13. samerace:  \tparticipant and the partner were the same race. 1= yes, 0=no\n",
    "\n",
    "14. age_o:\t\tage of partner\n",
    "\n",
    "15. race_o:\t\trace of partner\n",
    "\n",
    "\n"
   ]
  },
  {
   "cell_type": "code",
   "execution_count": 4,
   "metadata": {},
   "outputs": [],
   "source": [
    "all=[\"object\",\"int64\",\"float\"]"
   ]
  },
  {
   "cell_type": "code",
   "execution_count": 5,
   "metadata": {},
   "outputs": [],
   "source": [
    "col1=[\"iid\",\"id\",\"gender\",\"idg\",\"condtn\",\"wave\",\"round\",\"order\",\"partner\",\"pid\",\"match\",\"int_corr\",\"samerace\",\"age_o\",\"race_o\"]"
   ]
  },
  {
   "cell_type": "code",
   "execution_count": 6,
   "metadata": {},
   "outputs": [
    {
     "data": {
      "text/plain": [
       "(1656, 15)"
      ]
     },
     "execution_count": 6,
     "metadata": {},
     "output_type": "execute_result"
    }
   ],
   "source": [
    "speedDF[col1].shape"
   ]
  },
  {
   "cell_type": "code",
   "execution_count": 7,
   "metadata": {},
   "outputs": [
    {
     "data": {
      "text/html": [
       "<div>\n",
       "<style scoped>\n",
       "    .dataframe tbody tr th:only-of-type {\n",
       "        vertical-align: middle;\n",
       "    }\n",
       "\n",
       "    .dataframe tbody tr th {\n",
       "        vertical-align: top;\n",
       "    }\n",
       "\n",
       "    .dataframe thead th {\n",
       "        text-align: right;\n",
       "    }\n",
       "</style>\n",
       "<table border=\"1\" class=\"dataframe\">\n",
       "  <thead>\n",
       "    <tr style=\"text-align: right;\">\n",
       "      <th></th>\n",
       "      <th>iid</th>\n",
       "      <th>id</th>\n",
       "      <th>gender</th>\n",
       "      <th>idg</th>\n",
       "      <th>condtn</th>\n",
       "      <th>wave</th>\n",
       "      <th>round</th>\n",
       "      <th>order</th>\n",
       "      <th>partner</th>\n",
       "      <th>pid</th>\n",
       "      <th>match</th>\n",
       "      <th>int_corr</th>\n",
       "      <th>samerace</th>\n",
       "      <th>age_o</th>\n",
       "      <th>race_o</th>\n",
       "    </tr>\n",
       "  </thead>\n",
       "  <tbody>\n",
       "    <tr>\n",
       "      <th>100</th>\n",
       "      <td>11</td>\n",
       "      <td>1.0</td>\n",
       "      <td>1</td>\n",
       "      <td>2</td>\n",
       "      <td>1</td>\n",
       "      <td>1</td>\n",
       "      <td>10</td>\n",
       "      <td>4</td>\n",
       "      <td>1</td>\n",
       "      <td>1.0</td>\n",
       "      <td>0</td>\n",
       "      <td>0.14</td>\n",
       "      <td>0</td>\n",
       "      <td>21.0</td>\n",
       "      <td>4.0</td>\n",
       "    </tr>\n",
       "    <tr>\n",
       "      <th>101</th>\n",
       "      <td>11</td>\n",
       "      <td>1.0</td>\n",
       "      <td>1</td>\n",
       "      <td>2</td>\n",
       "      <td>1</td>\n",
       "      <td>1</td>\n",
       "      <td>10</td>\n",
       "      <td>10</td>\n",
       "      <td>2</td>\n",
       "      <td>2.0</td>\n",
       "      <td>0</td>\n",
       "      <td>0.29</td>\n",
       "      <td>1</td>\n",
       "      <td>24.0</td>\n",
       "      <td>2.0</td>\n",
       "    </tr>\n",
       "    <tr>\n",
       "      <th>102</th>\n",
       "      <td>11</td>\n",
       "      <td>1.0</td>\n",
       "      <td>1</td>\n",
       "      <td>2</td>\n",
       "      <td>1</td>\n",
       "      <td>1</td>\n",
       "      <td>10</td>\n",
       "      <td>6</td>\n",
       "      <td>3</td>\n",
       "      <td>3.0</td>\n",
       "      <td>0</td>\n",
       "      <td>-0.24</td>\n",
       "      <td>1</td>\n",
       "      <td>25.0</td>\n",
       "      <td>2.0</td>\n",
       "    </tr>\n",
       "    <tr>\n",
       "      <th>103</th>\n",
       "      <td>11</td>\n",
       "      <td>1.0</td>\n",
       "      <td>1</td>\n",
       "      <td>2</td>\n",
       "      <td>1</td>\n",
       "      <td>1</td>\n",
       "      <td>10</td>\n",
       "      <td>3</td>\n",
       "      <td>4</td>\n",
       "      <td>4.0</td>\n",
       "      <td>0</td>\n",
       "      <td>-0.18</td>\n",
       "      <td>1</td>\n",
       "      <td>23.0</td>\n",
       "      <td>2.0</td>\n",
       "    </tr>\n",
       "    <tr>\n",
       "      <th>104</th>\n",
       "      <td>11</td>\n",
       "      <td>1.0</td>\n",
       "      <td>1</td>\n",
       "      <td>2</td>\n",
       "      <td>1</td>\n",
       "      <td>1</td>\n",
       "      <td>10</td>\n",
       "      <td>1</td>\n",
       "      <td>5</td>\n",
       "      <td>5.0</td>\n",
       "      <td>0</td>\n",
       "      <td>-0.43</td>\n",
       "      <td>1</td>\n",
       "      <td>21.0</td>\n",
       "      <td>2.0</td>\n",
       "    </tr>\n",
       "    <tr>\n",
       "      <th>105</th>\n",
       "      <td>11</td>\n",
       "      <td>1.0</td>\n",
       "      <td>1</td>\n",
       "      <td>2</td>\n",
       "      <td>1</td>\n",
       "      <td>1</td>\n",
       "      <td>10</td>\n",
       "      <td>5</td>\n",
       "      <td>6</td>\n",
       "      <td>6.0</td>\n",
       "      <td>0</td>\n",
       "      <td>0.33</td>\n",
       "      <td>0</td>\n",
       "      <td>23.0</td>\n",
       "      <td>4.0</td>\n",
       "    </tr>\n",
       "    <tr>\n",
       "      <th>106</th>\n",
       "      <td>11</td>\n",
       "      <td>1.0</td>\n",
       "      <td>1</td>\n",
       "      <td>2</td>\n",
       "      <td>1</td>\n",
       "      <td>1</td>\n",
       "      <td>10</td>\n",
       "      <td>2</td>\n",
       "      <td>7</td>\n",
       "      <td>7.0</td>\n",
       "      <td>0</td>\n",
       "      <td>0.19</td>\n",
       "      <td>0</td>\n",
       "      <td>22.0</td>\n",
       "      <td>4.0</td>\n",
       "    </tr>\n",
       "    <tr>\n",
       "      <th>107</th>\n",
       "      <td>11</td>\n",
       "      <td>1.0</td>\n",
       "      <td>1</td>\n",
       "      <td>2</td>\n",
       "      <td>1</td>\n",
       "      <td>1</td>\n",
       "      <td>10</td>\n",
       "      <td>7</td>\n",
       "      <td>8</td>\n",
       "      <td>8.0</td>\n",
       "      <td>0</td>\n",
       "      <td>-0.03</td>\n",
       "      <td>1</td>\n",
       "      <td>25.0</td>\n",
       "      <td>2.0</td>\n",
       "    </tr>\n",
       "    <tr>\n",
       "      <th>108</th>\n",
       "      <td>11</td>\n",
       "      <td>1.0</td>\n",
       "      <td>1</td>\n",
       "      <td>2</td>\n",
       "      <td>1</td>\n",
       "      <td>1</td>\n",
       "      <td>10</td>\n",
       "      <td>8</td>\n",
       "      <td>9</td>\n",
       "      <td>9.0</td>\n",
       "      <td>0</td>\n",
       "      <td>0.19</td>\n",
       "      <td>0</td>\n",
       "      <td>26.0</td>\n",
       "      <td>6.0</td>\n",
       "    </tr>\n",
       "    <tr>\n",
       "      <th>109</th>\n",
       "      <td>11</td>\n",
       "      <td>1.0</td>\n",
       "      <td>1</td>\n",
       "      <td>2</td>\n",
       "      <td>1</td>\n",
       "      <td>1</td>\n",
       "      <td>10</td>\n",
       "      <td>9</td>\n",
       "      <td>10</td>\n",
       "      <td>10.0</td>\n",
       "      <td>0</td>\n",
       "      <td>0.30</td>\n",
       "      <td>1</td>\n",
       "      <td>26.0</td>\n",
       "      <td>2.0</td>\n",
       "    </tr>\n",
       "  </tbody>\n",
       "</table>\n",
       "</div>"
      ],
      "text/plain": [
       "     iid   id  gender  idg  condtn  wave  round  order  partner   pid  match  \\\n",
       "100   11  1.0       1    2       1     1     10      4        1   1.0      0   \n",
       "101   11  1.0       1    2       1     1     10     10        2   2.0      0   \n",
       "102   11  1.0       1    2       1     1     10      6        3   3.0      0   \n",
       "103   11  1.0       1    2       1     1     10      3        4   4.0      0   \n",
       "104   11  1.0       1    2       1     1     10      1        5   5.0      0   \n",
       "105   11  1.0       1    2       1     1     10      5        6   6.0      0   \n",
       "106   11  1.0       1    2       1     1     10      2        7   7.0      0   \n",
       "107   11  1.0       1    2       1     1     10      7        8   8.0      0   \n",
       "108   11  1.0       1    2       1     1     10      8        9   9.0      0   \n",
       "109   11  1.0       1    2       1     1     10      9       10  10.0      0   \n",
       "\n",
       "     int_corr  samerace  age_o  race_o  \n",
       "100      0.14         0   21.0     4.0  \n",
       "101      0.29         1   24.0     2.0  \n",
       "102     -0.24         1   25.0     2.0  \n",
       "103     -0.18         1   23.0     2.0  \n",
       "104     -0.43         1   21.0     2.0  \n",
       "105      0.33         0   23.0     4.0  \n",
       "106      0.19         0   22.0     4.0  \n",
       "107     -0.03         1   25.0     2.0  \n",
       "108      0.19         0   26.0     6.0  \n",
       "109      0.30         1   26.0     2.0  "
      ]
     },
     "execution_count": 7,
     "metadata": {},
     "output_type": "execute_result"
    }
   ],
   "source": [
    "speedDF[col1][speedDF[\"iid\"]==11].head(11)"
   ]
  },
  {
   "cell_type": "code",
   "execution_count": 8,
   "metadata": {},
   "outputs": [
    {
     "data": {
      "text/html": [
       "<div>\n",
       "<style scoped>\n",
       "    .dataframe tbody tr th:only-of-type {\n",
       "        vertical-align: middle;\n",
       "    }\n",
       "\n",
       "    .dataframe tbody tr th {\n",
       "        vertical-align: top;\n",
       "    }\n",
       "\n",
       "    .dataframe thead th {\n",
       "        text-align: right;\n",
       "    }\n",
       "</style>\n",
       "<table border=\"1\" class=\"dataframe\">\n",
       "  <thead>\n",
       "    <tr style=\"text-align: right;\">\n",
       "      <th></th>\n",
       "      <th>iid</th>\n",
       "      <th>id</th>\n",
       "      <th>gender</th>\n",
       "      <th>idg</th>\n",
       "      <th>condtn</th>\n",
       "      <th>wave</th>\n",
       "      <th>round</th>\n",
       "      <th>order</th>\n",
       "      <th>partner</th>\n",
       "      <th>pid</th>\n",
       "      <th>match</th>\n",
       "      <th>int_corr</th>\n",
       "      <th>samerace</th>\n",
       "      <th>age_o</th>\n",
       "      <th>race_o</th>\n",
       "    </tr>\n",
       "  </thead>\n",
       "  <tbody>\n",
       "    <tr>\n",
       "      <th>count</th>\n",
       "      <td>1656.000000</td>\n",
       "      <td>1656.000000</td>\n",
       "      <td>1656.000000</td>\n",
       "      <td>1656.000000</td>\n",
       "      <td>1656.000000</td>\n",
       "      <td>1656.000000</td>\n",
       "      <td>1656.000000</td>\n",
       "      <td>1656.000000</td>\n",
       "      <td>1656.000000</td>\n",
       "      <td>1656.000000</td>\n",
       "      <td>1656.000000</td>\n",
       "      <td>1584.000000</td>\n",
       "      <td>1656.000000</td>\n",
       "      <td>1636.000000</td>\n",
       "      <td>1636.000000</td>\n",
       "    </tr>\n",
       "    <tr>\n",
       "      <th>mean</th>\n",
       "      <td>59.992754</td>\n",
       "      <td>8.461353</td>\n",
       "      <td>0.500000</td>\n",
       "      <td>16.355072</td>\n",
       "      <td>1.758454</td>\n",
       "      <td>2.782609</td>\n",
       "      <td>15.884058</td>\n",
       "      <td>8.442029</td>\n",
       "      <td>8.461353</td>\n",
       "      <td>59.992754</td>\n",
       "      <td>0.169082</td>\n",
       "      <td>0.156035</td>\n",
       "      <td>0.391304</td>\n",
       "      <td>25.636308</td>\n",
       "      <td>2.685819</td>\n",
       "    </tr>\n",
       "    <tr>\n",
       "      <th>std</th>\n",
       "      <td>31.510109</td>\n",
       "      <td>5.033034</td>\n",
       "      <td>0.500151</td>\n",
       "      <td>9.913804</td>\n",
       "      <td>0.428150</td>\n",
       "      <td>1.093164</td>\n",
       "      <td>3.450622</td>\n",
       "      <td>4.992347</td>\n",
       "      <td>5.033034</td>\n",
       "      <td>31.510109</td>\n",
       "      <td>0.374938</td>\n",
       "      <td>0.321716</td>\n",
       "      <td>0.488190</td>\n",
       "      <td>3.370007</td>\n",
       "      <td>1.223748</td>\n",
       "    </tr>\n",
       "    <tr>\n",
       "      <th>min</th>\n",
       "      <td>1.000000</td>\n",
       "      <td>1.000000</td>\n",
       "      <td>0.000000</td>\n",
       "      <td>1.000000</td>\n",
       "      <td>1.000000</td>\n",
       "      <td>1.000000</td>\n",
       "      <td>10.000000</td>\n",
       "      <td>1.000000</td>\n",
       "      <td>1.000000</td>\n",
       "      <td>1.000000</td>\n",
       "      <td>0.000000</td>\n",
       "      <td>-0.630000</td>\n",
       "      <td>0.000000</td>\n",
       "      <td>21.000000</td>\n",
       "      <td>1.000000</td>\n",
       "    </tr>\n",
       "    <tr>\n",
       "      <th>25%</th>\n",
       "      <td>34.000000</td>\n",
       "      <td>4.000000</td>\n",
       "      <td>0.000000</td>\n",
       "      <td>8.000000</td>\n",
       "      <td>2.000000</td>\n",
       "      <td>2.000000</td>\n",
       "      <td>16.000000</td>\n",
       "      <td>4.000000</td>\n",
       "      <td>4.000000</td>\n",
       "      <td>34.000000</td>\n",
       "      <td>0.000000</td>\n",
       "      <td>-0.070000</td>\n",
       "      <td>0.000000</td>\n",
       "      <td>23.000000</td>\n",
       "      <td>2.000000</td>\n",
       "    </tr>\n",
       "    <tr>\n",
       "      <th>50%</th>\n",
       "      <td>57.500000</td>\n",
       "      <td>8.000000</td>\n",
       "      <td>0.500000</td>\n",
       "      <td>15.000000</td>\n",
       "      <td>2.000000</td>\n",
       "      <td>3.000000</td>\n",
       "      <td>18.000000</td>\n",
       "      <td>8.000000</td>\n",
       "      <td>8.000000</td>\n",
       "      <td>57.500000</td>\n",
       "      <td>0.000000</td>\n",
       "      <td>0.155000</td>\n",
       "      <td>0.000000</td>\n",
       "      <td>25.000000</td>\n",
       "      <td>2.000000</td>\n",
       "    </tr>\n",
       "    <tr>\n",
       "      <th>75%</th>\n",
       "      <td>88.250000</td>\n",
       "      <td>12.000000</td>\n",
       "      <td>1.000000</td>\n",
       "      <td>24.000000</td>\n",
       "      <td>2.000000</td>\n",
       "      <td>4.000000</td>\n",
       "      <td>18.000000</td>\n",
       "      <td>12.000000</td>\n",
       "      <td>12.000000</td>\n",
       "      <td>88.250000</td>\n",
       "      <td>0.000000</td>\n",
       "      <td>0.410000</td>\n",
       "      <td>1.000000</td>\n",
       "      <td>28.000000</td>\n",
       "      <td>4.000000</td>\n",
       "    </tr>\n",
       "    <tr>\n",
       "      <th>max</th>\n",
       "      <td>111.000000</td>\n",
       "      <td>20.000000</td>\n",
       "      <td>1.000000</td>\n",
       "      <td>36.000000</td>\n",
       "      <td>2.000000</td>\n",
       "      <td>4.000000</td>\n",
       "      <td>19.000000</td>\n",
       "      <td>19.000000</td>\n",
       "      <td>20.000000</td>\n",
       "      <td>111.000000</td>\n",
       "      <td>1.000000</td>\n",
       "      <td>0.900000</td>\n",
       "      <td>1.000000</td>\n",
       "      <td>39.000000</td>\n",
       "      <td>6.000000</td>\n",
       "    </tr>\n",
       "  </tbody>\n",
       "</table>\n",
       "</div>"
      ],
      "text/plain": [
       "               iid           id       gender          idg       condtn  \\\n",
       "count  1656.000000  1656.000000  1656.000000  1656.000000  1656.000000   \n",
       "mean     59.992754     8.461353     0.500000    16.355072     1.758454   \n",
       "std      31.510109     5.033034     0.500151     9.913804     0.428150   \n",
       "min       1.000000     1.000000     0.000000     1.000000     1.000000   \n",
       "25%      34.000000     4.000000     0.000000     8.000000     2.000000   \n",
       "50%      57.500000     8.000000     0.500000    15.000000     2.000000   \n",
       "75%      88.250000    12.000000     1.000000    24.000000     2.000000   \n",
       "max     111.000000    20.000000     1.000000    36.000000     2.000000   \n",
       "\n",
       "              wave        round        order      partner          pid  \\\n",
       "count  1656.000000  1656.000000  1656.000000  1656.000000  1656.000000   \n",
       "mean      2.782609    15.884058     8.442029     8.461353    59.992754   \n",
       "std       1.093164     3.450622     4.992347     5.033034    31.510109   \n",
       "min       1.000000    10.000000     1.000000     1.000000     1.000000   \n",
       "25%       2.000000    16.000000     4.000000     4.000000    34.000000   \n",
       "50%       3.000000    18.000000     8.000000     8.000000    57.500000   \n",
       "75%       4.000000    18.000000    12.000000    12.000000    88.250000   \n",
       "max       4.000000    19.000000    19.000000    20.000000   111.000000   \n",
       "\n",
       "             match     int_corr     samerace        age_o       race_o  \n",
       "count  1656.000000  1584.000000  1656.000000  1636.000000  1636.000000  \n",
       "mean      0.169082     0.156035     0.391304    25.636308     2.685819  \n",
       "std       0.374938     0.321716     0.488190     3.370007     1.223748  \n",
       "min       0.000000    -0.630000     0.000000    21.000000     1.000000  \n",
       "25%       0.000000    -0.070000     0.000000    23.000000     2.000000  \n",
       "50%       0.000000     0.155000     0.000000    25.000000     2.000000  \n",
       "75%       0.000000     0.410000     1.000000    28.000000     4.000000  \n",
       "max       1.000000     0.900000     1.000000    39.000000     6.000000  "
      ]
     },
     "execution_count": 8,
     "metadata": {},
     "output_type": "execute_result"
    }
   ],
   "source": [
    "speedDF[col1].describe(include=all)"
   ]
  },
  {
   "cell_type": "markdown",
   "metadata": {},
   "source": [
    "### Correlation between subject and partner's interests  column (int_corr)"
   ]
  },
  {
   "cell_type": "code",
   "execution_count": 9,
   "metadata": {},
   "outputs": [],
   "source": [
    "speedDF[\"int_corr\"][speedDF[\"int_corr\"].isnull()]=\"NaN\"\n",
    "median=speedDF[\"int_corr\"].median()\n",
    "speedDF[\"int_corr\"][speedDF[\"int_corr\"]==\"NaN\"]=median"
   ]
  },
  {
   "cell_type": "markdown",
   "metadata": {},
   "source": [
    "### Partner's age column (age_o)"
   ]
  },
  {
   "cell_type": "code",
   "execution_count": 10,
   "metadata": {},
   "outputs": [
    {
     "data": {
      "text/plain": [
       "25.0"
      ]
     },
     "execution_count": 10,
     "metadata": {},
     "output_type": "execute_result"
    }
   ],
   "source": [
    "speedDF[\"age_o\"][speedDF[\"age_o\"].isnull()]=\"NaN\"\n",
    "speedDF[\"age_o\"][speedDF[\"age_o\"]==\"NaN\"]=median\n",
    "median=speedDF[\"age_o\"].median()\n",
    "median"
   ]
  },
  {
   "cell_type": "code",
   "execution_count": 11,
   "metadata": {},
   "outputs": [],
   "source": [
    "speedDF[\"age_o\"][speedDF[\"age_o\"]==\"NaN\"]=median"
   ]
  },
  {
   "cell_type": "markdown",
   "metadata": {},
   "source": [
    "### Partner's race column (race_o)"
   ]
  },
  {
   "cell_type": "code",
   "execution_count": 12,
   "metadata": {},
   "outputs": [],
   "source": [
    "speedDF[\"race_o\"][speedDF[\"race_o\"].isnull()]=\"NaN\""
   ]
  },
  {
   "cell_type": "code",
   "execution_count": 13,
   "metadata": {},
   "outputs": [
    {
     "data": {
      "text/plain": [
       "0    20\n",
       "Name: samerace, dtype: int64"
      ]
     },
     "execution_count": 13,
     "metadata": {},
     "output_type": "execute_result"
    }
   ],
   "source": [
    "speedDF[\"samerace\"][(speedDF[\"race_o\"]==\"NaN\")].value_counts()"
   ]
  },
  {
   "cell_type": "markdown",
   "metadata": {},
   "source": [
    "None of these instances involve subject and partner of the same race."
   ]
  },
  {
   "cell_type": "markdown",
   "metadata": {},
   "source": [
    "### checking if 'race' column is up to date"
   ]
  },
  {
   "cell_type": "code",
   "execution_count": 14,
   "metadata": {},
   "outputs": [
    {
     "data": {
      "text/plain": [
       "count    1636.000000\n",
       "mean        2.685819\n",
       "std         1.223748\n",
       "min         1.000000\n",
       "25%         2.000000\n",
       "50%         2.000000\n",
       "75%         4.000000\n",
       "max         6.000000\n",
       "Name: race, dtype: float64"
      ]
     },
     "execution_count": 14,
     "metadata": {},
     "output_type": "execute_result"
    }
   ],
   "source": [
    "speedDF[\"race\"].describe()"
   ]
  },
  {
   "cell_type": "markdown",
   "metadata": {},
   "source": [
    "It's incomplete and has equal number of empty instances when compared to 'race_o' column. "
   ]
  },
  {
   "cell_type": "code",
   "execution_count": 15,
   "metadata": {},
   "outputs": [
    {
     "data": {
      "text/plain": [
       "2.0    956\n",
       "4.0    326\n",
       "3.0    152\n",
       "6.0    104\n",
       "1.0     98\n",
       "NaN     20\n",
       "Name: race_o, dtype: int64"
      ]
     },
     "execution_count": 15,
     "metadata": {},
     "output_type": "execute_result"
    }
   ],
   "source": [
    "speedDF[\"race_o\"].value_counts()"
   ]
  },
  {
   "cell_type": "markdown",
   "metadata": {},
   "source": [
    "as majority of them have the value two, the missing instances too will be assigned the same value. "
   ]
  },
  {
   "cell_type": "code",
   "execution_count": 16,
   "metadata": {},
   "outputs": [],
   "source": [
    "speedDF[\"race_o\"][(speedDF[\"race_o\"]==\"NaN\")]=2.0"
   ]
  },
  {
   "cell_type": "code",
   "execution_count": 17,
   "metadata": {},
   "outputs": [
    {
     "data": {
      "text/html": [
       "<div>\n",
       "<style scoped>\n",
       "    .dataframe tbody tr th:only-of-type {\n",
       "        vertical-align: middle;\n",
       "    }\n",
       "\n",
       "    .dataframe tbody tr th {\n",
       "        vertical-align: top;\n",
       "    }\n",
       "\n",
       "    .dataframe thead th {\n",
       "        text-align: right;\n",
       "    }\n",
       "</style>\n",
       "<table border=\"1\" class=\"dataframe\">\n",
       "  <thead>\n",
       "    <tr style=\"text-align: right;\">\n",
       "      <th></th>\n",
       "      <th>iid</th>\n",
       "      <th>id</th>\n",
       "      <th>gender</th>\n",
       "      <th>idg</th>\n",
       "      <th>condtn</th>\n",
       "      <th>wave</th>\n",
       "      <th>round</th>\n",
       "      <th>order</th>\n",
       "      <th>partner</th>\n",
       "      <th>pid</th>\n",
       "      <th>match</th>\n",
       "      <th>int_corr</th>\n",
       "      <th>samerace</th>\n",
       "      <th>age_o</th>\n",
       "      <th>race_o</th>\n",
       "    </tr>\n",
       "  </thead>\n",
       "  <tbody>\n",
       "    <tr>\n",
       "      <th>count</th>\n",
       "      <td>1656.000000</td>\n",
       "      <td>1656.000000</td>\n",
       "      <td>1656.000000</td>\n",
       "      <td>1656.000000</td>\n",
       "      <td>1656.000000</td>\n",
       "      <td>1656.000000</td>\n",
       "      <td>1656.000000</td>\n",
       "      <td>1656.000000</td>\n",
       "      <td>1656.000000</td>\n",
       "      <td>1656.000000</td>\n",
       "      <td>1656.000000</td>\n",
       "      <td>1656.000</td>\n",
       "      <td>1656.000000</td>\n",
       "      <td>1656.0</td>\n",
       "      <td>1656.0</td>\n",
       "    </tr>\n",
       "    <tr>\n",
       "      <th>unique</th>\n",
       "      <td>NaN</td>\n",
       "      <td>NaN</td>\n",
       "      <td>NaN</td>\n",
       "      <td>NaN</td>\n",
       "      <td>NaN</td>\n",
       "      <td>NaN</td>\n",
       "      <td>NaN</td>\n",
       "      <td>NaN</td>\n",
       "      <td>NaN</td>\n",
       "      <td>NaN</td>\n",
       "      <td>NaN</td>\n",
       "      <td>137.000</td>\n",
       "      <td>NaN</td>\n",
       "      <td>15.0</td>\n",
       "      <td>5.0</td>\n",
       "    </tr>\n",
       "    <tr>\n",
       "      <th>top</th>\n",
       "      <td>NaN</td>\n",
       "      <td>NaN</td>\n",
       "      <td>NaN</td>\n",
       "      <td>NaN</td>\n",
       "      <td>NaN</td>\n",
       "      <td>NaN</td>\n",
       "      <td>NaN</td>\n",
       "      <td>NaN</td>\n",
       "      <td>NaN</td>\n",
       "      <td>NaN</td>\n",
       "      <td>NaN</td>\n",
       "      <td>0.155</td>\n",
       "      <td>NaN</td>\n",
       "      <td>23.0</td>\n",
       "      <td>2.0</td>\n",
       "    </tr>\n",
       "    <tr>\n",
       "      <th>freq</th>\n",
       "      <td>NaN</td>\n",
       "      <td>NaN</td>\n",
       "      <td>NaN</td>\n",
       "      <td>NaN</td>\n",
       "      <td>NaN</td>\n",
       "      <td>NaN</td>\n",
       "      <td>NaN</td>\n",
       "      <td>NaN</td>\n",
       "      <td>NaN</td>\n",
       "      <td>NaN</td>\n",
       "      <td>NaN</td>\n",
       "      <td>72.000</td>\n",
       "      <td>NaN</td>\n",
       "      <td>227.0</td>\n",
       "      <td>976.0</td>\n",
       "    </tr>\n",
       "    <tr>\n",
       "      <th>mean</th>\n",
       "      <td>59.992754</td>\n",
       "      <td>8.461353</td>\n",
       "      <td>0.500000</td>\n",
       "      <td>16.355072</td>\n",
       "      <td>1.758454</td>\n",
       "      <td>2.782609</td>\n",
       "      <td>15.884058</td>\n",
       "      <td>8.442029</td>\n",
       "      <td>8.461353</td>\n",
       "      <td>59.992754</td>\n",
       "      <td>0.169082</td>\n",
       "      <td>NaN</td>\n",
       "      <td>0.391304</td>\n",
       "      <td>NaN</td>\n",
       "      <td>NaN</td>\n",
       "    </tr>\n",
       "    <tr>\n",
       "      <th>std</th>\n",
       "      <td>31.510109</td>\n",
       "      <td>5.033034</td>\n",
       "      <td>0.500151</td>\n",
       "      <td>9.913804</td>\n",
       "      <td>0.428150</td>\n",
       "      <td>1.093164</td>\n",
       "      <td>3.450622</td>\n",
       "      <td>4.992347</td>\n",
       "      <td>5.033034</td>\n",
       "      <td>31.510109</td>\n",
       "      <td>0.374938</td>\n",
       "      <td>NaN</td>\n",
       "      <td>0.488190</td>\n",
       "      <td>NaN</td>\n",
       "      <td>NaN</td>\n",
       "    </tr>\n",
       "    <tr>\n",
       "      <th>min</th>\n",
       "      <td>1.000000</td>\n",
       "      <td>1.000000</td>\n",
       "      <td>0.000000</td>\n",
       "      <td>1.000000</td>\n",
       "      <td>1.000000</td>\n",
       "      <td>1.000000</td>\n",
       "      <td>10.000000</td>\n",
       "      <td>1.000000</td>\n",
       "      <td>1.000000</td>\n",
       "      <td>1.000000</td>\n",
       "      <td>0.000000</td>\n",
       "      <td>NaN</td>\n",
       "      <td>0.000000</td>\n",
       "      <td>NaN</td>\n",
       "      <td>NaN</td>\n",
       "    </tr>\n",
       "    <tr>\n",
       "      <th>25%</th>\n",
       "      <td>34.000000</td>\n",
       "      <td>4.000000</td>\n",
       "      <td>0.000000</td>\n",
       "      <td>8.000000</td>\n",
       "      <td>2.000000</td>\n",
       "      <td>2.000000</td>\n",
       "      <td>16.000000</td>\n",
       "      <td>4.000000</td>\n",
       "      <td>4.000000</td>\n",
       "      <td>34.000000</td>\n",
       "      <td>0.000000</td>\n",
       "      <td>NaN</td>\n",
       "      <td>0.000000</td>\n",
       "      <td>NaN</td>\n",
       "      <td>NaN</td>\n",
       "    </tr>\n",
       "    <tr>\n",
       "      <th>50%</th>\n",
       "      <td>57.500000</td>\n",
       "      <td>8.000000</td>\n",
       "      <td>0.500000</td>\n",
       "      <td>15.000000</td>\n",
       "      <td>2.000000</td>\n",
       "      <td>3.000000</td>\n",
       "      <td>18.000000</td>\n",
       "      <td>8.000000</td>\n",
       "      <td>8.000000</td>\n",
       "      <td>57.500000</td>\n",
       "      <td>0.000000</td>\n",
       "      <td>NaN</td>\n",
       "      <td>0.000000</td>\n",
       "      <td>NaN</td>\n",
       "      <td>NaN</td>\n",
       "    </tr>\n",
       "    <tr>\n",
       "      <th>75%</th>\n",
       "      <td>88.250000</td>\n",
       "      <td>12.000000</td>\n",
       "      <td>1.000000</td>\n",
       "      <td>24.000000</td>\n",
       "      <td>2.000000</td>\n",
       "      <td>4.000000</td>\n",
       "      <td>18.000000</td>\n",
       "      <td>12.000000</td>\n",
       "      <td>12.000000</td>\n",
       "      <td>88.250000</td>\n",
       "      <td>0.000000</td>\n",
       "      <td>NaN</td>\n",
       "      <td>1.000000</td>\n",
       "      <td>NaN</td>\n",
       "      <td>NaN</td>\n",
       "    </tr>\n",
       "    <tr>\n",
       "      <th>max</th>\n",
       "      <td>111.000000</td>\n",
       "      <td>20.000000</td>\n",
       "      <td>1.000000</td>\n",
       "      <td>36.000000</td>\n",
       "      <td>2.000000</td>\n",
       "      <td>4.000000</td>\n",
       "      <td>19.000000</td>\n",
       "      <td>19.000000</td>\n",
       "      <td>20.000000</td>\n",
       "      <td>111.000000</td>\n",
       "      <td>1.000000</td>\n",
       "      <td>NaN</td>\n",
       "      <td>1.000000</td>\n",
       "      <td>NaN</td>\n",
       "      <td>NaN</td>\n",
       "    </tr>\n",
       "  </tbody>\n",
       "</table>\n",
       "</div>"
      ],
      "text/plain": [
       "                iid           id       gender          idg       condtn  \\\n",
       "count   1656.000000  1656.000000  1656.000000  1656.000000  1656.000000   \n",
       "unique          NaN          NaN          NaN          NaN          NaN   \n",
       "top             NaN          NaN          NaN          NaN          NaN   \n",
       "freq            NaN          NaN          NaN          NaN          NaN   \n",
       "mean      59.992754     8.461353     0.500000    16.355072     1.758454   \n",
       "std       31.510109     5.033034     0.500151     9.913804     0.428150   \n",
       "min        1.000000     1.000000     0.000000     1.000000     1.000000   \n",
       "25%       34.000000     4.000000     0.000000     8.000000     2.000000   \n",
       "50%       57.500000     8.000000     0.500000    15.000000     2.000000   \n",
       "75%       88.250000    12.000000     1.000000    24.000000     2.000000   \n",
       "max      111.000000    20.000000     1.000000    36.000000     2.000000   \n",
       "\n",
       "               wave        round        order      partner          pid  \\\n",
       "count   1656.000000  1656.000000  1656.000000  1656.000000  1656.000000   \n",
       "unique          NaN          NaN          NaN          NaN          NaN   \n",
       "top             NaN          NaN          NaN          NaN          NaN   \n",
       "freq            NaN          NaN          NaN          NaN          NaN   \n",
       "mean       2.782609    15.884058     8.442029     8.461353    59.992754   \n",
       "std        1.093164     3.450622     4.992347     5.033034    31.510109   \n",
       "min        1.000000    10.000000     1.000000     1.000000     1.000000   \n",
       "25%        2.000000    16.000000     4.000000     4.000000    34.000000   \n",
       "50%        3.000000    18.000000     8.000000     8.000000    57.500000   \n",
       "75%        4.000000    18.000000    12.000000    12.000000    88.250000   \n",
       "max        4.000000    19.000000    19.000000    20.000000   111.000000   \n",
       "\n",
       "              match  int_corr     samerace   age_o  race_o  \n",
       "count   1656.000000  1656.000  1656.000000  1656.0  1656.0  \n",
       "unique          NaN   137.000          NaN    15.0     5.0  \n",
       "top             NaN     0.155          NaN    23.0     2.0  \n",
       "freq            NaN    72.000          NaN   227.0   976.0  \n",
       "mean       0.169082       NaN     0.391304     NaN     NaN  \n",
       "std        0.374938       NaN     0.488190     NaN     NaN  \n",
       "min        0.000000       NaN     0.000000     NaN     NaN  \n",
       "25%        0.000000       NaN     0.000000     NaN     NaN  \n",
       "50%        0.000000       NaN     0.000000     NaN     NaN  \n",
       "75%        0.000000       NaN     1.000000     NaN     NaN  \n",
       "max        1.000000       NaN     1.000000     NaN     NaN  "
      ]
     },
     "execution_count": 17,
     "metadata": {},
     "output_type": "execute_result"
    }
   ],
   "source": [
    "speedDF[col1].describe(include=all)"
   ]
  },
  {
   "cell_type": "code",
   "execution_count": 18,
   "metadata": {
    "scrolled": true
   },
   "outputs": [],
   "source": [
    "speedDF[\"int_corr\"]=speedDF[\"int_corr\"].astype(float)\n",
    "speedDF[\"age_o\"]=speedDF[\"age_o\"].astype(int)\n",
    "speedDF[\"race_o\"]=speedDF[\"race_o\"].astype(int)"
   ]
  },
  {
   "cell_type": "code",
   "execution_count": 19,
   "metadata": {},
   "outputs": [
    {
     "data": {
      "text/plain": [
       "iid           int64\n",
       "id          float64\n",
       "gender        int64\n",
       "idg           int64\n",
       "condtn        int64\n",
       "wave          int64\n",
       "round         int64\n",
       "order         int64\n",
       "partner       int64\n",
       "pid         float64\n",
       "match         int64\n",
       "int_corr    float64\n",
       "samerace      int64\n",
       "age_o         int32\n",
       "race_o        int32\n",
       "dtype: object"
      ]
     },
     "execution_count": 19,
     "metadata": {},
     "output_type": "execute_result"
    }
   ],
   "source": [
    "speedDF[col1].dtypes"
   ]
  },
  {
   "cell_type": "markdown",
   "metadata": {},
   "source": [
    "<a id=\"section32\"></a>\n",
    "### 4.2. Scorecard Data key"
   ]
  },
  {
   "cell_type": "markdown",
   "metadata": {},
   "source": [
    "1. Decision:dec 1=yes,0=no\n",
    "\t\n",
    "2. Attributes\n",
    "   (1=awful, 10=great)\t\n",
    "   * Attractive: attr\n",
    "   * Sincere: sinc\n",
    "   * Intelligent: intel\n",
    "   * Fun: fun\n",
    "   * Ambitious: amb\n",
    "   * Shared Interests/Hobbies: shar\n",
    "\t\n",
    "3. Overall, how much do you like this person?\n",
    "   (1=don't like at all, 10=like a lot)-->like\n",
    " \n",
    "4. How probable do you think it is that this person will say 'yes' for you?\n",
    "   (1=not probable, 10=extremely probable)-->prob\n",
    " \n",
    "5. Have you met this person before?\n",
    "   (1=yes,2=no)-->met\n"
   ]
  },
  {
   "cell_type": "markdown",
   "metadata": {},
   "source": [
    "<a id=\"section321\"></a>\n",
    "### &nbsp; 4.2.1 Subject's Scorecard"
   ]
  },
  {
   "cell_type": "code",
   "execution_count": 20,
   "metadata": {},
   "outputs": [],
   "source": [
    "col7=[\"dec\",\"attr\",\"sinc\",\"intel\",\"fun\",\"amb\",\"shar\",\"like\",\"prob\",\"met\"]"
   ]
  },
  {
   "cell_type": "code",
   "execution_count": 21,
   "metadata": {},
   "outputs": [
    {
     "data": {
      "text/html": [
       "<div>\n",
       "<style scoped>\n",
       "    .dataframe tbody tr th:only-of-type {\n",
       "        vertical-align: middle;\n",
       "    }\n",
       "\n",
       "    .dataframe tbody tr th {\n",
       "        vertical-align: top;\n",
       "    }\n",
       "\n",
       "    .dataframe thead th {\n",
       "        text-align: right;\n",
       "    }\n",
       "</style>\n",
       "<table border=\"1\" class=\"dataframe\">\n",
       "  <thead>\n",
       "    <tr style=\"text-align: right;\">\n",
       "      <th></th>\n",
       "      <th>dec</th>\n",
       "      <th>attr</th>\n",
       "      <th>sinc</th>\n",
       "      <th>intel</th>\n",
       "      <th>fun</th>\n",
       "      <th>amb</th>\n",
       "      <th>shar</th>\n",
       "      <th>like</th>\n",
       "      <th>prob</th>\n",
       "      <th>met</th>\n",
       "    </tr>\n",
       "  </thead>\n",
       "  <tbody>\n",
       "    <tr>\n",
       "      <th>count</th>\n",
       "      <td>1656.000000</td>\n",
       "      <td>1635.000000</td>\n",
       "      <td>1618.000000</td>\n",
       "      <td>1619.000000</td>\n",
       "      <td>1595.000000</td>\n",
       "      <td>1531.000000</td>\n",
       "      <td>1447.000000</td>\n",
       "      <td>1633.000000</td>\n",
       "      <td>1612.000000</td>\n",
       "      <td>1615.000000</td>\n",
       "    </tr>\n",
       "    <tr>\n",
       "      <th>mean</th>\n",
       "      <td>0.412440</td>\n",
       "      <td>6.113761</td>\n",
       "      <td>7.189122</td>\n",
       "      <td>7.388820</td>\n",
       "      <td>6.365517</td>\n",
       "      <td>6.798824</td>\n",
       "      <td>5.467519</td>\n",
       "      <td>6.168096</td>\n",
       "      <td>4.867556</td>\n",
       "      <td>1.955418</td>\n",
       "    </tr>\n",
       "    <tr>\n",
       "      <th>std</th>\n",
       "      <td>0.492422</td>\n",
       "      <td>1.988852</td>\n",
       "      <td>1.721060</td>\n",
       "      <td>1.531496</td>\n",
       "      <td>2.006249</td>\n",
       "      <td>1.791691</td>\n",
       "      <td>2.114541</td>\n",
       "      <td>1.917110</td>\n",
       "      <td>2.180905</td>\n",
       "      <td>0.226484</td>\n",
       "    </tr>\n",
       "    <tr>\n",
       "      <th>min</th>\n",
       "      <td>0.000000</td>\n",
       "      <td>0.000000</td>\n",
       "      <td>0.000000</td>\n",
       "      <td>0.000000</td>\n",
       "      <td>0.000000</td>\n",
       "      <td>0.000000</td>\n",
       "      <td>0.000000</td>\n",
       "      <td>0.000000</td>\n",
       "      <td>0.000000</td>\n",
       "      <td>1.000000</td>\n",
       "    </tr>\n",
       "    <tr>\n",
       "      <th>25%</th>\n",
       "      <td>0.000000</td>\n",
       "      <td>5.000000</td>\n",
       "      <td>6.000000</td>\n",
       "      <td>7.000000</td>\n",
       "      <td>5.000000</td>\n",
       "      <td>6.000000</td>\n",
       "      <td>4.000000</td>\n",
       "      <td>5.000000</td>\n",
       "      <td>3.000000</td>\n",
       "      <td>2.000000</td>\n",
       "    </tr>\n",
       "    <tr>\n",
       "      <th>50%</th>\n",
       "      <td>0.000000</td>\n",
       "      <td>6.000000</td>\n",
       "      <td>7.000000</td>\n",
       "      <td>7.000000</td>\n",
       "      <td>7.000000</td>\n",
       "      <td>7.000000</td>\n",
       "      <td>5.000000</td>\n",
       "      <td>6.000000</td>\n",
       "      <td>5.000000</td>\n",
       "      <td>2.000000</td>\n",
       "    </tr>\n",
       "    <tr>\n",
       "      <th>75%</th>\n",
       "      <td>1.000000</td>\n",
       "      <td>8.000000</td>\n",
       "      <td>8.000000</td>\n",
       "      <td>8.000000</td>\n",
       "      <td>8.000000</td>\n",
       "      <td>8.000000</td>\n",
       "      <td>7.000000</td>\n",
       "      <td>7.000000</td>\n",
       "      <td>6.000000</td>\n",
       "      <td>2.000000</td>\n",
       "    </tr>\n",
       "    <tr>\n",
       "      <th>max</th>\n",
       "      <td>1.000000</td>\n",
       "      <td>10.000000</td>\n",
       "      <td>10.000000</td>\n",
       "      <td>10.000000</td>\n",
       "      <td>10.000000</td>\n",
       "      <td>10.000000</td>\n",
       "      <td>10.000000</td>\n",
       "      <td>10.000000</td>\n",
       "      <td>10.000000</td>\n",
       "      <td>5.000000</td>\n",
       "    </tr>\n",
       "  </tbody>\n",
       "</table>\n",
       "</div>"
      ],
      "text/plain": [
       "               dec         attr         sinc        intel          fun  \\\n",
       "count  1656.000000  1635.000000  1618.000000  1619.000000  1595.000000   \n",
       "mean      0.412440     6.113761     7.189122     7.388820     6.365517   \n",
       "std       0.492422     1.988852     1.721060     1.531496     2.006249   \n",
       "min       0.000000     0.000000     0.000000     0.000000     0.000000   \n",
       "25%       0.000000     5.000000     6.000000     7.000000     5.000000   \n",
       "50%       0.000000     6.000000     7.000000     7.000000     7.000000   \n",
       "75%       1.000000     8.000000     8.000000     8.000000     8.000000   \n",
       "max       1.000000    10.000000    10.000000    10.000000    10.000000   \n",
       "\n",
       "               amb         shar         like         prob          met  \n",
       "count  1531.000000  1447.000000  1633.000000  1612.000000  1615.000000  \n",
       "mean      6.798824     5.467519     6.168096     4.867556     1.955418  \n",
       "std       1.791691     2.114541     1.917110     2.180905     0.226484  \n",
       "min       0.000000     0.000000     0.000000     0.000000     1.000000  \n",
       "25%       6.000000     4.000000     5.000000     3.000000     2.000000  \n",
       "50%       7.000000     5.000000     6.000000     5.000000     2.000000  \n",
       "75%       8.000000     7.000000     7.000000     6.000000     2.000000  \n",
       "max      10.000000    10.000000    10.000000    10.000000     5.000000  "
      ]
     },
     "execution_count": 21,
     "metadata": {},
     "output_type": "execute_result"
    }
   ],
   "source": [
    "speedDF[col7].describe(include=all)"
   ]
  },
  {
   "cell_type": "code",
   "execution_count": 22,
   "metadata": {},
   "outputs": [
    {
     "data": {
      "text/plain": [
       "2.0    1537\n",
       "1.0      76\n",
       "5.0       1\n",
       "3.0       1\n",
       "Name: met, dtype: int64"
      ]
     },
     "execution_count": 22,
     "metadata": {},
     "output_type": "execute_result"
    }
   ],
   "source": [
    "speedDF[\"met\"].value_counts()"
   ]
  },
  {
   "cell_type": "code",
   "execution_count": 23,
   "metadata": {},
   "outputs": [],
   "source": [
    "for i in range(0,len(speedDF)):\n",
    "    if speedDF.loc[i,\"met\"]>2:\n",
    "        speedDF.loc[i,\"met\"]=2\n",
    "    else:\n",
    "        continue;"
   ]
  },
  {
   "cell_type": "code",
   "execution_count": 24,
   "metadata": {},
   "outputs": [
    {
     "data": {
      "text/plain": [
       "2.0    1539\n",
       "1.0      76\n",
       "Name: met, dtype: int64"
      ]
     },
     "execution_count": 24,
     "metadata": {},
     "output_type": "execute_result"
    }
   ],
   "source": [
    "speedDF[\"met\"].value_counts()"
   ]
  },
  {
   "cell_type": "code",
   "execution_count": 25,
   "metadata": {},
   "outputs": [],
   "source": [
    "speedDF[\"attr\"][speedDF[\"attr\"].isnull()]=\"NaN\"\n",
    "speedDF[\"sinc\"][speedDF[\"sinc\"].isnull()]=\"NaN\"\n",
    "speedDF[\"intel\"][speedDF[\"intel\"].isnull()]=\"NaN\"\n",
    "speedDF[\"fun\"][speedDF[\"fun\"].isnull()]=\"NaN\"\n",
    "speedDF[\"amb\"][speedDF[\"amb\"].isnull()]=\"NaN\"\n",
    "speedDF[\"shar\"][speedDF[\"shar\"].isnull()]=\"NaN\"\n",
    "speedDF[\"like\"][speedDF[\"like\"].isnull()]=\"NaN\"\n",
    "speedDF[\"prob\"][speedDF[\"prob\"].isnull()]=\"NaN\"\n",
    "speedDF[\"met\"][speedDF[\"met\"].isnull()]=\"NaN\""
   ]
  },
  {
   "cell_type": "code",
   "execution_count": 26,
   "metadata": {},
   "outputs": [],
   "source": [
    "for i in range(0,len(speedDF)):\n",
    "    if speedDF.loc[i,\"attr\"]==\"NaN\":\n",
    "        a1=speedDF[\"attr\"][speedDF[\"pid\"]==speedDF.loc[i,\"pid\"]].median()\n",
    "        speedDF.loc[i,\"attr\"]=a1\n",
    "    else:\n",
    "        continue;"
   ]
  },
  {
   "cell_type": "code",
   "execution_count": 27,
   "metadata": {},
   "outputs": [],
   "source": [
    "for i in range(0,len(speedDF)):\n",
    "    if speedDF.loc[i,\"sinc\"]==\"NaN\":\n",
    "        a1=speedDF[\"sinc\"][speedDF[\"pid\"]==speedDF.loc[i,\"pid\"]].median()\n",
    "        speedDF.loc[i,\"sinc\"]=a1\n",
    "    else:\n",
    "        continue;"
   ]
  },
  {
   "cell_type": "code",
   "execution_count": 28,
   "metadata": {},
   "outputs": [],
   "source": [
    "for i in range(0,len(speedDF)):\n",
    "    if speedDF.loc[i,\"intel\"]==\"NaN\":\n",
    "        a1=speedDF[\"intel\"][speedDF[\"pid\"]==speedDF.loc[i,\"pid\"]].median()\n",
    "        speedDF.loc[i,\"intel\"]=a1\n",
    "    else:\n",
    "        continue;"
   ]
  },
  {
   "cell_type": "code",
   "execution_count": 29,
   "metadata": {},
   "outputs": [],
   "source": [
    "for i in range(0,len(speedDF)):\n",
    "    if speedDF.loc[i,\"fun\"]==\"NaN\":\n",
    "        a1=speedDF[\"fun\"][speedDF[\"pid\"]==speedDF.loc[i,\"pid\"]].median()\n",
    "        speedDF.loc[i,\"fun\"]=a1\n",
    "    else:\n",
    "        continue;"
   ]
  },
  {
   "cell_type": "code",
   "execution_count": 30,
   "metadata": {},
   "outputs": [],
   "source": [
    "for i in range(0,len(speedDF)):\n",
    "    if speedDF.loc[i,\"amb\"]==\"NaN\":\n",
    "        a1=speedDF[\"amb\"][speedDF[\"pid\"]==speedDF.loc[i,\"pid\"]].median()\n",
    "        speedDF.loc[i,\"amb\"]=a1\n",
    "    else:\n",
    "        continue;"
   ]
  },
  {
   "cell_type": "code",
   "execution_count": 31,
   "metadata": {},
   "outputs": [],
   "source": [
    "for i in range(0,len(speedDF)):\n",
    "    if speedDF.loc[i,\"shar\"]==\"NaN\":\n",
    "        a1=speedDF[\"shar\"][speedDF[\"pid\"]==speedDF.loc[i,\"pid\"]].median()\n",
    "        speedDF.loc[i,\"shar\"]=a1\n",
    "    else:\n",
    "        continue;"
   ]
  },
  {
   "cell_type": "code",
   "execution_count": 32,
   "metadata": {},
   "outputs": [],
   "source": [
    "for i in range(0,len(speedDF)):\n",
    "    if speedDF.loc[i,\"like\"]==\"NaN\":\n",
    "        a1=speedDF[\"like\"][speedDF[\"pid\"]==speedDF.loc[i,\"pid\"]].median()\n",
    "        speedDF.loc[i,\"like\"]=a1\n",
    "    else:\n",
    "        continue;"
   ]
  },
  {
   "cell_type": "code",
   "execution_count": 33,
   "metadata": {},
   "outputs": [],
   "source": [
    "for i in range(0,len(speedDF)):\n",
    "    if speedDF.loc[i,\"prob\"]==\"NaN\":\n",
    "        a1=speedDF[\"prob\"][speedDF[\"pid\"]==speedDF.loc[i,\"pid\"]].median()\n",
    "        speedDF.loc[i,\"prob\"]=a1\n",
    "    else:\n",
    "        continue;"
   ]
  },
  {
   "cell_type": "code",
   "execution_count": 34,
   "metadata": {},
   "outputs": [],
   "source": [
    "for i in range(0,len(speedDF)):\n",
    "    if speedDF.loc[i,\"met\"]==\"NaN\":\n",
    "        a1=speedDF[\"met\"][speedDF[\"pid\"]==speedDF.loc[i,\"pid\"]].median()\n",
    "        speedDF.loc[i,\"met\"]=a1\n",
    "    else:\n",
    "        continue;"
   ]
  },
  {
   "cell_type": "code",
   "execution_count": 35,
   "metadata": {},
   "outputs": [
    {
     "data": {
      "text/plain": [
       "dec       int64\n",
       "attr     object\n",
       "sinc     object\n",
       "intel    object\n",
       "fun      object\n",
       "amb      object\n",
       "shar     object\n",
       "like     object\n",
       "prob     object\n",
       "met       int64\n",
       "dtype: object"
      ]
     },
     "execution_count": 35,
     "metadata": {},
     "output_type": "execute_result"
    }
   ],
   "source": [
    "speedDF[col7].dtypes"
   ]
  },
  {
   "cell_type": "code",
   "execution_count": 36,
   "metadata": {},
   "outputs": [],
   "source": [
    "speedDF[\"attr\"]=speedDF[\"attr\"].astype(float)\n",
    "speedDF[\"sinc\"]=speedDF[\"sinc\"].astype(float)\n",
    "speedDF[\"intel\"]=speedDF[\"intel\"].astype(float)\n",
    "speedDF[\"fun\"]=speedDF[\"fun\"].astype(float)\n",
    "speedDF[\"amb\"]=speedDF[\"amb\"].astype(float)\n",
    "speedDF[\"shar\"]=speedDF[\"shar\"].astype(float)\n",
    "speedDF[\"like\"]=speedDF[\"like\"].astype(float)\n",
    "speedDF[\"prob\"]=speedDF[\"prob\"].astype(float)"
   ]
  },
  {
   "cell_type": "code",
   "execution_count": 37,
   "metadata": {},
   "outputs": [
    {
     "data": {
      "text/html": [
       "<div>\n",
       "<style scoped>\n",
       "    .dataframe tbody tr th:only-of-type {\n",
       "        vertical-align: middle;\n",
       "    }\n",
       "\n",
       "    .dataframe tbody tr th {\n",
       "        vertical-align: top;\n",
       "    }\n",
       "\n",
       "    .dataframe thead th {\n",
       "        text-align: right;\n",
       "    }\n",
       "</style>\n",
       "<table border=\"1\" class=\"dataframe\">\n",
       "  <thead>\n",
       "    <tr style=\"text-align: right;\">\n",
       "      <th></th>\n",
       "      <th>dec</th>\n",
       "      <th>attr</th>\n",
       "      <th>sinc</th>\n",
       "      <th>intel</th>\n",
       "      <th>fun</th>\n",
       "      <th>amb</th>\n",
       "      <th>shar</th>\n",
       "      <th>like</th>\n",
       "      <th>prob</th>\n",
       "      <th>met</th>\n",
       "    </tr>\n",
       "  </thead>\n",
       "  <tbody>\n",
       "    <tr>\n",
       "      <th>count</th>\n",
       "      <td>1656.000000</td>\n",
       "      <td>1656.000000</td>\n",
       "      <td>1656.000000</td>\n",
       "      <td>1656.000000</td>\n",
       "      <td>1656.000000</td>\n",
       "      <td>1656.000000</td>\n",
       "      <td>1656.000000</td>\n",
       "      <td>1656.000000</td>\n",
       "      <td>1656.000000</td>\n",
       "      <td>1656.000000</td>\n",
       "    </tr>\n",
       "    <tr>\n",
       "      <th>mean</th>\n",
       "      <td>0.412440</td>\n",
       "      <td>6.107186</td>\n",
       "      <td>7.192029</td>\n",
       "      <td>7.387228</td>\n",
       "      <td>6.357488</td>\n",
       "      <td>6.800423</td>\n",
       "      <td>5.452899</td>\n",
       "      <td>6.160930</td>\n",
       "      <td>4.862017</td>\n",
       "      <td>1.954106</td>\n",
       "    </tr>\n",
       "    <tr>\n",
       "      <th>std</th>\n",
       "      <td>0.492422</td>\n",
       "      <td>1.980223</td>\n",
       "      <td>1.703104</td>\n",
       "      <td>1.517372</td>\n",
       "      <td>1.985730</td>\n",
       "      <td>1.743142</td>\n",
       "      <td>2.005555</td>\n",
       "      <td>1.909012</td>\n",
       "      <td>2.161140</td>\n",
       "      <td>0.209318</td>\n",
       "    </tr>\n",
       "    <tr>\n",
       "      <th>min</th>\n",
       "      <td>0.000000</td>\n",
       "      <td>0.000000</td>\n",
       "      <td>0.000000</td>\n",
       "      <td>0.000000</td>\n",
       "      <td>0.000000</td>\n",
       "      <td>0.000000</td>\n",
       "      <td>0.000000</td>\n",
       "      <td>0.000000</td>\n",
       "      <td>0.000000</td>\n",
       "      <td>1.000000</td>\n",
       "    </tr>\n",
       "    <tr>\n",
       "      <th>25%</th>\n",
       "      <td>0.000000</td>\n",
       "      <td>5.000000</td>\n",
       "      <td>6.000000</td>\n",
       "      <td>7.000000</td>\n",
       "      <td>5.000000</td>\n",
       "      <td>6.000000</td>\n",
       "      <td>4.000000</td>\n",
       "      <td>5.000000</td>\n",
       "      <td>3.000000</td>\n",
       "      <td>2.000000</td>\n",
       "    </tr>\n",
       "    <tr>\n",
       "      <th>50%</th>\n",
       "      <td>0.000000</td>\n",
       "      <td>6.000000</td>\n",
       "      <td>7.000000</td>\n",
       "      <td>7.000000</td>\n",
       "      <td>7.000000</td>\n",
       "      <td>7.000000</td>\n",
       "      <td>5.000000</td>\n",
       "      <td>6.000000</td>\n",
       "      <td>5.000000</td>\n",
       "      <td>2.000000</td>\n",
       "    </tr>\n",
       "    <tr>\n",
       "      <th>75%</th>\n",
       "      <td>1.000000</td>\n",
       "      <td>7.000000</td>\n",
       "      <td>8.000000</td>\n",
       "      <td>8.000000</td>\n",
       "      <td>8.000000</td>\n",
       "      <td>8.000000</td>\n",
       "      <td>7.000000</td>\n",
       "      <td>7.000000</td>\n",
       "      <td>6.000000</td>\n",
       "      <td>2.000000</td>\n",
       "    </tr>\n",
       "    <tr>\n",
       "      <th>max</th>\n",
       "      <td>1.000000</td>\n",
       "      <td>10.000000</td>\n",
       "      <td>10.000000</td>\n",
       "      <td>10.000000</td>\n",
       "      <td>10.000000</td>\n",
       "      <td>10.000000</td>\n",
       "      <td>10.000000</td>\n",
       "      <td>10.000000</td>\n",
       "      <td>10.000000</td>\n",
       "      <td>2.000000</td>\n",
       "    </tr>\n",
       "  </tbody>\n",
       "</table>\n",
       "</div>"
      ],
      "text/plain": [
       "               dec         attr         sinc        intel          fun  \\\n",
       "count  1656.000000  1656.000000  1656.000000  1656.000000  1656.000000   \n",
       "mean      0.412440     6.107186     7.192029     7.387228     6.357488   \n",
       "std       0.492422     1.980223     1.703104     1.517372     1.985730   \n",
       "min       0.000000     0.000000     0.000000     0.000000     0.000000   \n",
       "25%       0.000000     5.000000     6.000000     7.000000     5.000000   \n",
       "50%       0.000000     6.000000     7.000000     7.000000     7.000000   \n",
       "75%       1.000000     7.000000     8.000000     8.000000     8.000000   \n",
       "max       1.000000    10.000000    10.000000    10.000000    10.000000   \n",
       "\n",
       "               amb         shar         like         prob          met  \n",
       "count  1656.000000  1656.000000  1656.000000  1656.000000  1656.000000  \n",
       "mean      6.800423     5.452899     6.160930     4.862017     1.954106  \n",
       "std       1.743142     2.005555     1.909012     2.161140     0.209318  \n",
       "min       0.000000     0.000000     0.000000     0.000000     1.000000  \n",
       "25%       6.000000     4.000000     5.000000     3.000000     2.000000  \n",
       "50%       7.000000     5.000000     6.000000     5.000000     2.000000  \n",
       "75%       8.000000     7.000000     7.000000     6.000000     2.000000  \n",
       "max      10.000000    10.000000    10.000000    10.000000     2.000000  "
      ]
     },
     "execution_count": 37,
     "metadata": {},
     "output_type": "execute_result"
    }
   ],
   "source": [
    "speedDF[col7].describe(include=all)"
   ]
  },
  {
   "cell_type": "markdown",
   "metadata": {},
   "source": [
    "<a id=\"section322\"></a>\n",
    "### &nbsp; 4.2.2 Partner's Scorecard"
   ]
  },
  {
   "cell_type": "code",
   "execution_count": 38,
   "metadata": {},
   "outputs": [],
   "source": [
    "col8=[\"dec_o\",\"attr_o\",\"sinc_o\",\"intel_o\",\"fun_o\",\"amb_o\",\"shar_o\",\"like_o\",\"prob_o\",\"met_o\"]"
   ]
  },
  {
   "cell_type": "code",
   "execution_count": 39,
   "metadata": {},
   "outputs": [
    {
     "data": {
      "text/html": [
       "<div>\n",
       "<style scoped>\n",
       "    .dataframe tbody tr th:only-of-type {\n",
       "        vertical-align: middle;\n",
       "    }\n",
       "\n",
       "    .dataframe tbody tr th {\n",
       "        vertical-align: top;\n",
       "    }\n",
       "\n",
       "    .dataframe thead th {\n",
       "        text-align: right;\n",
       "    }\n",
       "</style>\n",
       "<table border=\"1\" class=\"dataframe\">\n",
       "  <thead>\n",
       "    <tr style=\"text-align: right;\">\n",
       "      <th></th>\n",
       "      <th>dec_o</th>\n",
       "      <th>attr_o</th>\n",
       "      <th>sinc_o</th>\n",
       "      <th>intel_o</th>\n",
       "      <th>fun_o</th>\n",
       "      <th>amb_o</th>\n",
       "      <th>shar_o</th>\n",
       "      <th>like_o</th>\n",
       "      <th>prob_o</th>\n",
       "      <th>met_o</th>\n",
       "    </tr>\n",
       "  </thead>\n",
       "  <tbody>\n",
       "    <tr>\n",
       "      <th>count</th>\n",
       "      <td>1656.000000</td>\n",
       "      <td>1635.000000</td>\n",
       "      <td>1618.000000</td>\n",
       "      <td>1619.000000</td>\n",
       "      <td>1595.000000</td>\n",
       "      <td>1531.000000</td>\n",
       "      <td>1447.000000</td>\n",
       "      <td>1633.000000</td>\n",
       "      <td>1612.000000</td>\n",
       "      <td>1615.000000</td>\n",
       "    </tr>\n",
       "    <tr>\n",
       "      <th>mean</th>\n",
       "      <td>0.412440</td>\n",
       "      <td>6.113761</td>\n",
       "      <td>7.189122</td>\n",
       "      <td>7.388820</td>\n",
       "      <td>6.365517</td>\n",
       "      <td>6.798824</td>\n",
       "      <td>5.467519</td>\n",
       "      <td>6.168096</td>\n",
       "      <td>4.867556</td>\n",
       "      <td>1.955418</td>\n",
       "    </tr>\n",
       "    <tr>\n",
       "      <th>std</th>\n",
       "      <td>0.492422</td>\n",
       "      <td>1.988852</td>\n",
       "      <td>1.721060</td>\n",
       "      <td>1.531496</td>\n",
       "      <td>2.006249</td>\n",
       "      <td>1.791691</td>\n",
       "      <td>2.114541</td>\n",
       "      <td>1.917110</td>\n",
       "      <td>2.180905</td>\n",
       "      <td>0.226484</td>\n",
       "    </tr>\n",
       "    <tr>\n",
       "      <th>min</th>\n",
       "      <td>0.000000</td>\n",
       "      <td>0.000000</td>\n",
       "      <td>0.000000</td>\n",
       "      <td>0.000000</td>\n",
       "      <td>0.000000</td>\n",
       "      <td>0.000000</td>\n",
       "      <td>0.000000</td>\n",
       "      <td>0.000000</td>\n",
       "      <td>0.000000</td>\n",
       "      <td>1.000000</td>\n",
       "    </tr>\n",
       "    <tr>\n",
       "      <th>25%</th>\n",
       "      <td>0.000000</td>\n",
       "      <td>5.000000</td>\n",
       "      <td>6.000000</td>\n",
       "      <td>7.000000</td>\n",
       "      <td>5.000000</td>\n",
       "      <td>6.000000</td>\n",
       "      <td>4.000000</td>\n",
       "      <td>5.000000</td>\n",
       "      <td>3.000000</td>\n",
       "      <td>2.000000</td>\n",
       "    </tr>\n",
       "    <tr>\n",
       "      <th>50%</th>\n",
       "      <td>0.000000</td>\n",
       "      <td>6.000000</td>\n",
       "      <td>7.000000</td>\n",
       "      <td>7.000000</td>\n",
       "      <td>7.000000</td>\n",
       "      <td>7.000000</td>\n",
       "      <td>5.000000</td>\n",
       "      <td>6.000000</td>\n",
       "      <td>5.000000</td>\n",
       "      <td>2.000000</td>\n",
       "    </tr>\n",
       "    <tr>\n",
       "      <th>75%</th>\n",
       "      <td>1.000000</td>\n",
       "      <td>8.000000</td>\n",
       "      <td>8.000000</td>\n",
       "      <td>8.000000</td>\n",
       "      <td>8.000000</td>\n",
       "      <td>8.000000</td>\n",
       "      <td>7.000000</td>\n",
       "      <td>7.000000</td>\n",
       "      <td>6.000000</td>\n",
       "      <td>2.000000</td>\n",
       "    </tr>\n",
       "    <tr>\n",
       "      <th>max</th>\n",
       "      <td>1.000000</td>\n",
       "      <td>10.000000</td>\n",
       "      <td>10.000000</td>\n",
       "      <td>10.000000</td>\n",
       "      <td>10.000000</td>\n",
       "      <td>10.000000</td>\n",
       "      <td>10.000000</td>\n",
       "      <td>10.000000</td>\n",
       "      <td>10.000000</td>\n",
       "      <td>5.000000</td>\n",
       "    </tr>\n",
       "  </tbody>\n",
       "</table>\n",
       "</div>"
      ],
      "text/plain": [
       "             dec_o       attr_o       sinc_o      intel_o        fun_o  \\\n",
       "count  1656.000000  1635.000000  1618.000000  1619.000000  1595.000000   \n",
       "mean      0.412440     6.113761     7.189122     7.388820     6.365517   \n",
       "std       0.492422     1.988852     1.721060     1.531496     2.006249   \n",
       "min       0.000000     0.000000     0.000000     0.000000     0.000000   \n",
       "25%       0.000000     5.000000     6.000000     7.000000     5.000000   \n",
       "50%       0.000000     6.000000     7.000000     7.000000     7.000000   \n",
       "75%       1.000000     8.000000     8.000000     8.000000     8.000000   \n",
       "max       1.000000    10.000000    10.000000    10.000000    10.000000   \n",
       "\n",
       "             amb_o       shar_o       like_o       prob_o        met_o  \n",
       "count  1531.000000  1447.000000  1633.000000  1612.000000  1615.000000  \n",
       "mean      6.798824     5.467519     6.168096     4.867556     1.955418  \n",
       "std       1.791691     2.114541     1.917110     2.180905     0.226484  \n",
       "min       0.000000     0.000000     0.000000     0.000000     1.000000  \n",
       "25%       6.000000     4.000000     5.000000     3.000000     2.000000  \n",
       "50%       7.000000     5.000000     6.000000     5.000000     2.000000  \n",
       "75%       8.000000     7.000000     7.000000     6.000000     2.000000  \n",
       "max      10.000000    10.000000    10.000000    10.000000     5.000000  "
      ]
     },
     "execution_count": 39,
     "metadata": {},
     "output_type": "execute_result"
    }
   ],
   "source": [
    "speedDF[col8].describe(include=all)"
   ]
  },
  {
   "cell_type": "code",
   "execution_count": 40,
   "metadata": {},
   "outputs": [
    {
     "data": {
      "text/plain": [
       "2.0    1537\n",
       "1.0      76\n",
       "5.0       1\n",
       "3.0       1\n",
       "Name: met_o, dtype: int64"
      ]
     },
     "execution_count": 40,
     "metadata": {},
     "output_type": "execute_result"
    }
   ],
   "source": [
    "speedDF[\"met_o\"].value_counts()"
   ]
  },
  {
   "cell_type": "code",
   "execution_count": 41,
   "metadata": {},
   "outputs": [],
   "source": [
    "for i in range(0,len(speedDF)):\n",
    "    if speedDF.loc[i,\"met_o\"]>2:\n",
    "        speedDF.loc[i,\"met_o\"]=2\n",
    "    else:\n",
    "        continue;"
   ]
  },
  {
   "cell_type": "code",
   "execution_count": 42,
   "metadata": {},
   "outputs": [],
   "source": [
    "speedDF[\"attr_o\"][speedDF[\"attr_o\"].isnull()]=\"NaN\"\n",
    "speedDF[\"sinc_o\"][speedDF[\"sinc_o\"].isnull()]=\"NaN\"\n",
    "speedDF[\"intel_o\"][speedDF[\"intel_o\"].isnull()]=\"NaN\"\n",
    "speedDF[\"fun_o\"][speedDF[\"fun_o\"].isnull()]=\"NaN\"\n",
    "speedDF[\"amb_o\"][speedDF[\"amb_o\"].isnull()]=\"NaN\"\n",
    "speedDF[\"shar_o\"][speedDF[\"shar_o\"].isnull()]=\"NaN\"\n",
    "speedDF[\"like_o\"][speedDF[\"like_o\"].isnull()]=\"NaN\"\n",
    "speedDF[\"prob_o\"][speedDF[\"prob_o\"].isnull()]=\"NaN\"\n",
    "speedDF[\"met_o\"][speedDF[\"met_o\"].isnull()]=\"NaN\""
   ]
  },
  {
   "cell_type": "code",
   "execution_count": 43,
   "metadata": {},
   "outputs": [],
   "source": [
    "for i in range(0,len(speedDF)):\n",
    "    if speedDF.loc[i,\"attr_o\"]==\"NaN\":\n",
    "        a1=speedDF[\"attr_o\"][speedDF[\"iid\"]==speedDF.loc[i,\"iid\"]].median()\n",
    "        speedDF.loc[i,\"attr_o\"]=a1\n",
    "    else:\n",
    "        continue;"
   ]
  },
  {
   "cell_type": "code",
   "execution_count": 44,
   "metadata": {},
   "outputs": [],
   "source": [
    "for i in range(0,len(speedDF)):\n",
    "    if speedDF.loc[i,\"sinc_o\"]==\"NaN\":\n",
    "        a1=speedDF[\"sinc_o\"][speedDF[\"iid\"]==speedDF.loc[i,\"iid\"]].median()\n",
    "        speedDF.loc[i,\"sinc_o\"]=a1\n",
    "    else:\n",
    "        continue;"
   ]
  },
  {
   "cell_type": "code",
   "execution_count": 45,
   "metadata": {},
   "outputs": [],
   "source": [
    "for i in range(0,len(speedDF)):\n",
    "    if speedDF.loc[i,\"intel_o\"]==\"NaN\":\n",
    "        a1=speedDF[\"intel_o\"][speedDF[\"iid\"]==speedDF.loc[i,\"iid\"]].median()\n",
    "        speedDF.loc[i,\"intel_o\"]=a1\n",
    "    else:\n",
    "        continue;"
   ]
  },
  {
   "cell_type": "code",
   "execution_count": 46,
   "metadata": {},
   "outputs": [],
   "source": [
    "for i in range(0,len(speedDF)):\n",
    "    if speedDF.loc[i,\"amb_o\"]==\"NaN\":\n",
    "        a1=speedDF[\"amb_o\"][speedDF[\"iid\"]==speedDF.loc[i,\"iid\"]].median()\n",
    "        speedDF.loc[i,\"amb_o\"]=a1\n",
    "    else:\n",
    "        continue;"
   ]
  },
  {
   "cell_type": "code",
   "execution_count": 47,
   "metadata": {},
   "outputs": [],
   "source": [
    "for i in range(0,len(speedDF)):\n",
    "    if speedDF.loc[i,\"shar_o\"]==\"NaN\":\n",
    "        a1=speedDF[\"shar_o\"][speedDF[\"iid\"]==speedDF.loc[i,\"iid\"]].median()\n",
    "        speedDF.loc[i,\"shar_o\"]=a1\n",
    "    else:\n",
    "        continue;"
   ]
  },
  {
   "cell_type": "code",
   "execution_count": 48,
   "metadata": {},
   "outputs": [],
   "source": [
    "for i in range(0,len(speedDF)):\n",
    "    if speedDF.loc[i,\"fun_o\"]==\"NaN\":\n",
    "        a1=speedDF[\"fun_o\"][speedDF[\"iid\"]==speedDF.loc[i,\"iid\"]].median()\n",
    "        speedDF.loc[i,\"fun_o\"]=a1\n",
    "    else:\n",
    "        continue;"
   ]
  },
  {
   "cell_type": "code",
   "execution_count": 49,
   "metadata": {},
   "outputs": [],
   "source": [
    "for i in range(0,len(speedDF)):\n",
    "    if speedDF.loc[i,\"like_o\"]==\"NaN\":\n",
    "        a1=speedDF[\"like_o\"][speedDF[\"iid\"]==speedDF.loc[i,\"iid\"]].median()\n",
    "        speedDF.loc[i,\"like_o\"]=a1\n",
    "    else:\n",
    "        continue;"
   ]
  },
  {
   "cell_type": "code",
   "execution_count": 50,
   "metadata": {},
   "outputs": [],
   "source": [
    "for i in range(0,len(speedDF)):\n",
    "    if speedDF.loc[i,\"prob_o\"]==\"NaN\":\n",
    "        a1=speedDF[\"prob_o\"][speedDF[\"iid\"]==speedDF.loc[i,\"iid\"]].median()\n",
    "        speedDF.loc[i,\"prob_o\"]=a1\n",
    "    else:\n",
    "        continue;"
   ]
  },
  {
   "cell_type": "code",
   "execution_count": 51,
   "metadata": {},
   "outputs": [],
   "source": [
    "for i in range(0,len(speedDF)):\n",
    "    if speedDF.loc[i,\"met_o\"]==\"NaN\":\n",
    "        a1=speedDF[\"met_o\"][speedDF[\"iid\"]==speedDF.loc[i,\"iid\"]].median()\n",
    "        speedDF.loc[i,\"met_o\"]=a1\n",
    "    else:\n",
    "        continue;"
   ]
  },
  {
   "cell_type": "code",
   "execution_count": 52,
   "metadata": {},
   "outputs": [
    {
     "data": {
      "text/plain": [
       "2    1580\n",
       "1      76\n",
       "Name: met, dtype: int64"
      ]
     },
     "execution_count": 52,
     "metadata": {},
     "output_type": "execute_result"
    }
   ],
   "source": [
    "speedDF[\"met\"].value_counts()"
   ]
  },
  {
   "cell_type": "code",
   "execution_count": 53,
   "metadata": {},
   "outputs": [
    {
     "data": {
      "text/html": [
       "<div>\n",
       "<style scoped>\n",
       "    .dataframe tbody tr th:only-of-type {\n",
       "        vertical-align: middle;\n",
       "    }\n",
       "\n",
       "    .dataframe tbody tr th {\n",
       "        vertical-align: top;\n",
       "    }\n",
       "\n",
       "    .dataframe thead th {\n",
       "        text-align: right;\n",
       "    }\n",
       "</style>\n",
       "<table border=\"1\" class=\"dataframe\">\n",
       "  <thead>\n",
       "    <tr style=\"text-align: right;\">\n",
       "      <th></th>\n",
       "      <th>dec_o</th>\n",
       "      <th>attr_o</th>\n",
       "      <th>sinc_o</th>\n",
       "      <th>intel_o</th>\n",
       "      <th>fun_o</th>\n",
       "      <th>amb_o</th>\n",
       "      <th>shar_o</th>\n",
       "      <th>like_o</th>\n",
       "      <th>prob_o</th>\n",
       "      <th>met_o</th>\n",
       "    </tr>\n",
       "  </thead>\n",
       "  <tbody>\n",
       "    <tr>\n",
       "      <th>count</th>\n",
       "      <td>1656.000000</td>\n",
       "      <td>1656.0</td>\n",
       "      <td>1656.0</td>\n",
       "      <td>1656.0</td>\n",
       "      <td>1656.0</td>\n",
       "      <td>1656.0</td>\n",
       "      <td>1656.0</td>\n",
       "      <td>1656.0</td>\n",
       "      <td>1656.0</td>\n",
       "      <td>1656.000000</td>\n",
       "    </tr>\n",
       "    <tr>\n",
       "      <th>unique</th>\n",
       "      <td>NaN</td>\n",
       "      <td>14.0</td>\n",
       "      <td>13.0</td>\n",
       "      <td>15.0</td>\n",
       "      <td>15.0</td>\n",
       "      <td>16.0</td>\n",
       "      <td>18.0</td>\n",
       "      <td>17.0</td>\n",
       "      <td>14.0</td>\n",
       "      <td>NaN</td>\n",
       "    </tr>\n",
       "    <tr>\n",
       "      <th>top</th>\n",
       "      <td>NaN</td>\n",
       "      <td>6.0</td>\n",
       "      <td>7.0</td>\n",
       "      <td>8.0</td>\n",
       "      <td>7.0</td>\n",
       "      <td>7.0</td>\n",
       "      <td>5.0</td>\n",
       "      <td>7.0</td>\n",
       "      <td>5.0</td>\n",
       "      <td>NaN</td>\n",
       "    </tr>\n",
       "    <tr>\n",
       "      <th>freq</th>\n",
       "      <td>NaN</td>\n",
       "      <td>343.0</td>\n",
       "      <td>420.0</td>\n",
       "      <td>461.0</td>\n",
       "      <td>353.0</td>\n",
       "      <td>406.0</td>\n",
       "      <td>382.0</td>\n",
       "      <td>383.0</td>\n",
       "      <td>366.0</td>\n",
       "      <td>NaN</td>\n",
       "    </tr>\n",
       "    <tr>\n",
       "      <th>mean</th>\n",
       "      <td>0.412440</td>\n",
       "      <td>NaN</td>\n",
       "      <td>NaN</td>\n",
       "      <td>NaN</td>\n",
       "      <td>NaN</td>\n",
       "      <td>NaN</td>\n",
       "      <td>NaN</td>\n",
       "      <td>NaN</td>\n",
       "      <td>NaN</td>\n",
       "      <td>1.954106</td>\n",
       "    </tr>\n",
       "    <tr>\n",
       "      <th>std</th>\n",
       "      <td>0.492422</td>\n",
       "      <td>NaN</td>\n",
       "      <td>NaN</td>\n",
       "      <td>NaN</td>\n",
       "      <td>NaN</td>\n",
       "      <td>NaN</td>\n",
       "      <td>NaN</td>\n",
       "      <td>NaN</td>\n",
       "      <td>NaN</td>\n",
       "      <td>0.209318</td>\n",
       "    </tr>\n",
       "    <tr>\n",
       "      <th>min</th>\n",
       "      <td>0.000000</td>\n",
       "      <td>NaN</td>\n",
       "      <td>NaN</td>\n",
       "      <td>NaN</td>\n",
       "      <td>NaN</td>\n",
       "      <td>NaN</td>\n",
       "      <td>NaN</td>\n",
       "      <td>NaN</td>\n",
       "      <td>NaN</td>\n",
       "      <td>1.000000</td>\n",
       "    </tr>\n",
       "    <tr>\n",
       "      <th>25%</th>\n",
       "      <td>0.000000</td>\n",
       "      <td>NaN</td>\n",
       "      <td>NaN</td>\n",
       "      <td>NaN</td>\n",
       "      <td>NaN</td>\n",
       "      <td>NaN</td>\n",
       "      <td>NaN</td>\n",
       "      <td>NaN</td>\n",
       "      <td>NaN</td>\n",
       "      <td>2.000000</td>\n",
       "    </tr>\n",
       "    <tr>\n",
       "      <th>50%</th>\n",
       "      <td>0.000000</td>\n",
       "      <td>NaN</td>\n",
       "      <td>NaN</td>\n",
       "      <td>NaN</td>\n",
       "      <td>NaN</td>\n",
       "      <td>NaN</td>\n",
       "      <td>NaN</td>\n",
       "      <td>NaN</td>\n",
       "      <td>NaN</td>\n",
       "      <td>2.000000</td>\n",
       "    </tr>\n",
       "    <tr>\n",
       "      <th>75%</th>\n",
       "      <td>1.000000</td>\n",
       "      <td>NaN</td>\n",
       "      <td>NaN</td>\n",
       "      <td>NaN</td>\n",
       "      <td>NaN</td>\n",
       "      <td>NaN</td>\n",
       "      <td>NaN</td>\n",
       "      <td>NaN</td>\n",
       "      <td>NaN</td>\n",
       "      <td>2.000000</td>\n",
       "    </tr>\n",
       "    <tr>\n",
       "      <th>max</th>\n",
       "      <td>1.000000</td>\n",
       "      <td>NaN</td>\n",
       "      <td>NaN</td>\n",
       "      <td>NaN</td>\n",
       "      <td>NaN</td>\n",
       "      <td>NaN</td>\n",
       "      <td>NaN</td>\n",
       "      <td>NaN</td>\n",
       "      <td>NaN</td>\n",
       "      <td>2.000000</td>\n",
       "    </tr>\n",
       "  </tbody>\n",
       "</table>\n",
       "</div>"
      ],
      "text/plain": [
       "              dec_o  attr_o  sinc_o  intel_o   fun_o   amb_o  shar_o  like_o  \\\n",
       "count   1656.000000  1656.0  1656.0   1656.0  1656.0  1656.0  1656.0  1656.0   \n",
       "unique          NaN    14.0    13.0     15.0    15.0    16.0    18.0    17.0   \n",
       "top             NaN     6.0     7.0      8.0     7.0     7.0     5.0     7.0   \n",
       "freq            NaN   343.0   420.0    461.0   353.0   406.0   382.0   383.0   \n",
       "mean       0.412440     NaN     NaN      NaN     NaN     NaN     NaN     NaN   \n",
       "std        0.492422     NaN     NaN      NaN     NaN     NaN     NaN     NaN   \n",
       "min        0.000000     NaN     NaN      NaN     NaN     NaN     NaN     NaN   \n",
       "25%        0.000000     NaN     NaN      NaN     NaN     NaN     NaN     NaN   \n",
       "50%        0.000000     NaN     NaN      NaN     NaN     NaN     NaN     NaN   \n",
       "75%        1.000000     NaN     NaN      NaN     NaN     NaN     NaN     NaN   \n",
       "max        1.000000     NaN     NaN      NaN     NaN     NaN     NaN     NaN   \n",
       "\n",
       "        prob_o        met_o  \n",
       "count   1656.0  1656.000000  \n",
       "unique    14.0          NaN  \n",
       "top        5.0          NaN  \n",
       "freq     366.0          NaN  \n",
       "mean       NaN     1.954106  \n",
       "std        NaN     0.209318  \n",
       "min        NaN     1.000000  \n",
       "25%        NaN     2.000000  \n",
       "50%        NaN     2.000000  \n",
       "75%        NaN     2.000000  \n",
       "max        NaN     2.000000  "
      ]
     },
     "execution_count": 53,
     "metadata": {},
     "output_type": "execute_result"
    }
   ],
   "source": [
    "speedDF[col8].describe(include=all)"
   ]
  },
  {
   "cell_type": "code",
   "execution_count": 54,
   "metadata": {},
   "outputs": [
    {
     "data": {
      "text/plain": [
       "dec_o       int64\n",
       "attr_o     object\n",
       "sinc_o     object\n",
       "intel_o    object\n",
       "fun_o      object\n",
       "amb_o      object\n",
       "shar_o     object\n",
       "like_o     object\n",
       "prob_o     object\n",
       "met_o       int64\n",
       "dtype: object"
      ]
     },
     "execution_count": 54,
     "metadata": {},
     "output_type": "execute_result"
    }
   ],
   "source": [
    "speedDF[col8].dtypes"
   ]
  },
  {
   "cell_type": "code",
   "execution_count": 55,
   "metadata": {},
   "outputs": [],
   "source": [
    "speedDF[\"attr_o\"]=speedDF[\"attr_o\"].astype(float)\n",
    "speedDF[\"sinc_o\"]=speedDF[\"sinc_o\"].astype(float)\n",
    "speedDF[\"intel_o\"]=speedDF[\"intel_o\"].astype(float)\n",
    "speedDF[\"fun_o\"]=speedDF[\"fun_o\"].astype(float)\n",
    "speedDF[\"amb_o\"]=speedDF[\"amb_o\"].astype(float)\n",
    "speedDF[\"shar_o\"]=speedDF[\"shar_o\"].astype(float)\n",
    "speedDF[\"like_o\"]=speedDF[\"like_o\"].astype(float)\n",
    "speedDF[\"prob_o\"]=speedDF[\"prob_o\"].astype(float)"
   ]
  },
  {
   "cell_type": "code",
   "execution_count": 56,
   "metadata": {},
   "outputs": [
    {
     "data": {
      "text/html": [
       "<div>\n",
       "<style scoped>\n",
       "    .dataframe tbody tr th:only-of-type {\n",
       "        vertical-align: middle;\n",
       "    }\n",
       "\n",
       "    .dataframe tbody tr th {\n",
       "        vertical-align: top;\n",
       "    }\n",
       "\n",
       "    .dataframe thead th {\n",
       "        text-align: right;\n",
       "    }\n",
       "</style>\n",
       "<table border=\"1\" class=\"dataframe\">\n",
       "  <thead>\n",
       "    <tr style=\"text-align: right;\">\n",
       "      <th></th>\n",
       "      <th>dec_o</th>\n",
       "      <th>attr_o</th>\n",
       "      <th>sinc_o</th>\n",
       "      <th>intel_o</th>\n",
       "      <th>fun_o</th>\n",
       "      <th>amb_o</th>\n",
       "      <th>shar_o</th>\n",
       "      <th>like_o</th>\n",
       "      <th>prob_o</th>\n",
       "      <th>met_o</th>\n",
       "    </tr>\n",
       "  </thead>\n",
       "  <tbody>\n",
       "    <tr>\n",
       "      <th>count</th>\n",
       "      <td>1656.000000</td>\n",
       "      <td>1656.000000</td>\n",
       "      <td>1656.000000</td>\n",
       "      <td>1656.000000</td>\n",
       "      <td>1656.000000</td>\n",
       "      <td>1656.000000</td>\n",
       "      <td>1656.000000</td>\n",
       "      <td>1656.000000</td>\n",
       "      <td>1656.000000</td>\n",
       "      <td>1656.000000</td>\n",
       "    </tr>\n",
       "    <tr>\n",
       "      <th>mean</th>\n",
       "      <td>0.412440</td>\n",
       "      <td>6.107186</td>\n",
       "      <td>7.192029</td>\n",
       "      <td>7.387228</td>\n",
       "      <td>6.357488</td>\n",
       "      <td>6.800423</td>\n",
       "      <td>5.452899</td>\n",
       "      <td>6.160930</td>\n",
       "      <td>4.862017</td>\n",
       "      <td>1.954106</td>\n",
       "    </tr>\n",
       "    <tr>\n",
       "      <th>std</th>\n",
       "      <td>0.492422</td>\n",
       "      <td>1.980223</td>\n",
       "      <td>1.703104</td>\n",
       "      <td>1.517372</td>\n",
       "      <td>1.985730</td>\n",
       "      <td>1.743142</td>\n",
       "      <td>2.005555</td>\n",
       "      <td>1.909012</td>\n",
       "      <td>2.161140</td>\n",
       "      <td>0.209318</td>\n",
       "    </tr>\n",
       "    <tr>\n",
       "      <th>min</th>\n",
       "      <td>0.000000</td>\n",
       "      <td>0.000000</td>\n",
       "      <td>0.000000</td>\n",
       "      <td>0.000000</td>\n",
       "      <td>0.000000</td>\n",
       "      <td>0.000000</td>\n",
       "      <td>0.000000</td>\n",
       "      <td>0.000000</td>\n",
       "      <td>0.000000</td>\n",
       "      <td>1.000000</td>\n",
       "    </tr>\n",
       "    <tr>\n",
       "      <th>25%</th>\n",
       "      <td>0.000000</td>\n",
       "      <td>5.000000</td>\n",
       "      <td>6.000000</td>\n",
       "      <td>7.000000</td>\n",
       "      <td>5.000000</td>\n",
       "      <td>6.000000</td>\n",
       "      <td>4.000000</td>\n",
       "      <td>5.000000</td>\n",
       "      <td>3.000000</td>\n",
       "      <td>2.000000</td>\n",
       "    </tr>\n",
       "    <tr>\n",
       "      <th>50%</th>\n",
       "      <td>0.000000</td>\n",
       "      <td>6.000000</td>\n",
       "      <td>7.000000</td>\n",
       "      <td>7.000000</td>\n",
       "      <td>7.000000</td>\n",
       "      <td>7.000000</td>\n",
       "      <td>5.000000</td>\n",
       "      <td>6.000000</td>\n",
       "      <td>5.000000</td>\n",
       "      <td>2.000000</td>\n",
       "    </tr>\n",
       "    <tr>\n",
       "      <th>75%</th>\n",
       "      <td>1.000000</td>\n",
       "      <td>7.000000</td>\n",
       "      <td>8.000000</td>\n",
       "      <td>8.000000</td>\n",
       "      <td>8.000000</td>\n",
       "      <td>8.000000</td>\n",
       "      <td>7.000000</td>\n",
       "      <td>7.000000</td>\n",
       "      <td>6.000000</td>\n",
       "      <td>2.000000</td>\n",
       "    </tr>\n",
       "    <tr>\n",
       "      <th>max</th>\n",
       "      <td>1.000000</td>\n",
       "      <td>10.000000</td>\n",
       "      <td>10.000000</td>\n",
       "      <td>10.000000</td>\n",
       "      <td>10.000000</td>\n",
       "      <td>10.000000</td>\n",
       "      <td>10.000000</td>\n",
       "      <td>10.000000</td>\n",
       "      <td>10.000000</td>\n",
       "      <td>2.000000</td>\n",
       "    </tr>\n",
       "  </tbody>\n",
       "</table>\n",
       "</div>"
      ],
      "text/plain": [
       "             dec_o       attr_o       sinc_o      intel_o        fun_o  \\\n",
       "count  1656.000000  1656.000000  1656.000000  1656.000000  1656.000000   \n",
       "mean      0.412440     6.107186     7.192029     7.387228     6.357488   \n",
       "std       0.492422     1.980223     1.703104     1.517372     1.985730   \n",
       "min       0.000000     0.000000     0.000000     0.000000     0.000000   \n",
       "25%       0.000000     5.000000     6.000000     7.000000     5.000000   \n",
       "50%       0.000000     6.000000     7.000000     7.000000     7.000000   \n",
       "75%       1.000000     7.000000     8.000000     8.000000     8.000000   \n",
       "max       1.000000    10.000000    10.000000    10.000000    10.000000   \n",
       "\n",
       "             amb_o       shar_o       like_o       prob_o        met_o  \n",
       "count  1656.000000  1656.000000  1656.000000  1656.000000  1656.000000  \n",
       "mean      6.800423     5.452899     6.160930     4.862017     1.954106  \n",
       "std       1.743142     2.005555     1.909012     2.161140     0.209318  \n",
       "min       0.000000     0.000000     0.000000     0.000000     1.000000  \n",
       "25%       6.000000     4.000000     5.000000     3.000000     2.000000  \n",
       "50%       7.000000     5.000000     6.000000     5.000000     2.000000  \n",
       "75%       8.000000     7.000000     7.000000     6.000000     2.000000  \n",
       "max      10.000000    10.000000    10.000000    10.000000     2.000000  "
      ]
     },
     "execution_count": 56,
     "metadata": {},
     "output_type": "execute_result"
    }
   ],
   "source": [
    "speedDF[col8].describe(include=all)"
   ]
  },
  {
   "cell_type": "markdown",
   "metadata": {},
   "source": [
    "<a id=\"section4\"></a>\n",
    "## 5. Feature Engineering"
   ]
  },
  {
   "cell_type": "markdown",
   "metadata": {},
   "source": [
    "<a id=\"section41\"></a>\n",
    "### &nbsp; 5.1.  Subject's Overall Rating of Partner"
   ]
  },
  {
   "cell_type": "code",
   "execution_count": 57,
   "metadata": {},
   "outputs": [],
   "source": [
    "speedDF[\"rating\"]=(speedDF[\"attr\"]+speedDF[\"sinc\"]+speedDF[\"intel\"]+speedDF[\"fun\"]+speedDF[\"amb\"]+speedDF[\"shar\"])/6.0"
   ]
  },
  {
   "cell_type": "markdown",
   "metadata": {},
   "source": [
    "The culmination of all attributes rated out of ten by the subject."
   ]
  },
  {
   "cell_type": "code",
   "execution_count": 58,
   "metadata": {},
   "outputs": [
    {
     "data": {
      "text/plain": [
       "dtype('float64')"
      ]
     },
     "execution_count": 58,
     "metadata": {},
     "output_type": "execute_result"
    }
   ],
   "source": [
    "speedDF[\"rating\"].dtypes"
   ]
  },
  {
   "cell_type": "markdown",
   "metadata": {},
   "source": [
    "<a id=\"section42\"></a>\n",
    "### &nbsp; 5.2.  Partner's Overall Rating of Subject"
   ]
  },
  {
   "cell_type": "code",
   "execution_count": 59,
   "metadata": {},
   "outputs": [],
   "source": [
    "speedDF[\"rating_o\"]=(speedDF[\"attr_o\"]+speedDF[\"sinc_o\"]+speedDF[\"intel_o\"]+speedDF[\"fun_o\"]+speedDF[\"amb_o\"]+speedDF[\"shar_o\"])/6.0"
   ]
  },
  {
   "cell_type": "markdown",
   "metadata": {},
   "source": [
    "The culmination of all attributes rated out of ten by the partner."
   ]
  },
  {
   "cell_type": "code",
   "execution_count": 60,
   "metadata": {},
   "outputs": [
    {
     "data": {
      "text/plain": [
       "dtype('float64')"
      ]
     },
     "execution_count": 60,
     "metadata": {},
     "output_type": "execute_result"
    }
   ],
   "source": [
    "speedDF[\"rating_o\"].dtypes"
   ]
  },
  {
   "cell_type": "markdown",
   "metadata": {},
   "source": [
    "<a id=\"section43\"></a>\n",
    "### &nbsp; 5.3.  Actually Met before"
   ]
  },
  {
   "cell_type": "code",
   "execution_count": 61,
   "metadata": {},
   "outputs": [],
   "source": [
    "speedDF[\"act_met\"]=speedDF[\"met\"]\n",
    "for i in range(0,len(speedDF)):\n",
    "    if (speedDF.loc[i,\"met\"]==speedDF.loc[i,\"met_o\"]) & (speedDF.loc[i,\"met\"]==1):\n",
    "        speedDF.loc[i,\"act_met\"]=1\n",
    "    elif  (speedDF.loc[i,\"met\"]==speedDF.loc[i,\"met_o\"]) & (speedDF.loc[i,\"met\"]==2):\n",
    "        speedDF.loc[i,\"act_met\"]=0\n",
    "    elif  (speedDF.loc[i,\"met\"]!=speedDF.loc[i,\"met_o\"]):\n",
    "        speedDF.loc[i,\"act_met\"]=0"
   ]
  },
  {
   "cell_type": "code",
   "execution_count": 62,
   "metadata": {},
   "outputs": [
    {
     "data": {
      "text/plain": [
       "dtype('int64')"
      ]
     },
     "execution_count": 62,
     "metadata": {},
     "output_type": "execute_result"
    }
   ],
   "source": [
    "speedDF[\"act_met\"].dtypes"
   ]
  },
  {
   "cell_type": "markdown",
   "metadata": {},
   "source": [
    "<a id=\"section5\"></a>\n",
    "## 6. Exploratory Data Analysis (EDA)\n",
    "\n",
    "Checking relation of feature variables with target variable,which is column \"match\""
   ]
  },
  {
   "cell_type": "code",
   "execution_count": 63,
   "metadata": {},
   "outputs": [],
   "source": [
    "data=speedDF"
   ]
  },
  {
   "cell_type": "code",
   "execution_count": 64,
   "metadata": {},
   "outputs": [],
   "source": [
    "import matplotlib.pyplot as plt\n",
    "import seaborn as sns"
   ]
  },
  {
   "cell_type": "markdown",
   "metadata": {},
   "source": [
    "<a id=\"section51\"></a>\n",
    "### &nbsp; 6.1. Relation between Interest Correlation and Match"
   ]
  },
  {
   "cell_type": "code",
   "execution_count": 65,
   "metadata": {},
   "outputs": [
    {
     "data": {
      "image/png": "[encoded data removed]",
      "text/plain": [
       "<Figure size 576x432 with 1 Axes>"
      ]
     },
     "metadata": {},
     "output_type": "display_data"
    }
   ],
   "source": [
    "sns.set(font_scale=1.2)\n",
    "fig,axs=plt.subplots(figsize=(8,6))\n",
    "c1=sns.boxplot(y=\"int_corr\",x=\"match\",data=data,ax=axs)\n",
    "c1.set_xticklabels([\"No\",\"Yes\"])\n",
    "c1.set(ylabel=\"Interest\")\n",
    "c1.set(xlabel=\"Match\")\n",
    "c1.set_title(\"Interest Correlation vs Match\")\n",
    "c1.set(ylim=(-1,1))\n",
    "plt.show(c1)"
   ]
  },
  {
   "cell_type": "markdown",
   "metadata": {},
   "source": [
    "There is no relation between Interest Correlation and Match."
   ]
  },
  {
   "cell_type": "markdown",
   "metadata": {},
   "source": [
    "<a id=\"section52\"></a>\n",
    "### &nbsp; 6.2. Relation between Choice and Match"
   ]
  },
  {
   "cell_type": "code",
   "execution_count": 66,
   "metadata": {},
   "outputs": [
    {
     "data": {
      "image/png": "[encoded data removed]",
      "text/plain": [
       "<Figure size 576x432 with 2 Axes>"
      ]
     },
     "metadata": {},
     "output_type": "display_data"
    }
   ],
   "source": [
    "sns.set(font_scale=1.2)\n",
    "fig,axs=plt.subplots(1,2,figsize=(8,6))\n",
    "c1=sns.countplot(x=\"match\",data=data[data[\"condtn\"]==2],ax=axs[0])\n",
    "c1.set_xticklabels([\"No\",\"Yes\"])\n",
    "c1.set(ylim=(0,800))\n",
    "c1.set(xlabel=\"Match\")\n",
    "c1.set_title(\"Extensive Choice vs Match\")\n",
    "c2=sns.countplot(x=\"match\",data=data[data[\"condtn\"]==1],ax=axs[1])\n",
    "c2.set_xticklabels([\"No\",\"Yes\"])\n",
    "c2.set(ylim=(0,800))\n",
    "c2.set(ylabel=\"\")\n",
    "c2.set(xlabel=\"Match\")\n",
    "c2.set_title(\"Limited Choice vs Match\")\n",
    "plt.show(c1)\n",
    "plt.show(c2)"
   ]
  },
  {
   "cell_type": "markdown",
   "metadata": {},
   "source": [
    "There is no relation between Choice and Match."
   ]
  },
  {
   "cell_type": "markdown",
   "metadata": {},
   "source": [
    "<a id=\"section53\"></a>\n",
    "### 6.3. Relation between Subject's scorecard ratings and Match"
   ]
  },
  {
   "cell_type": "code",
   "execution_count": 67,
   "metadata": {},
   "outputs": [
    {
     "data": {
      "text/plain": [
       "Text(0.5, 1.0, 'Shared Interests vs Match')"
      ]
     },
     "execution_count": 67,
     "metadata": {},
     "output_type": "execute_result"
    },
    {
     "data": {
      "image/png": "[encoded data removed]",
      "text/plain": [
       "<Figure size 720x864 with 6 Axes>"
      ]
     },
     "metadata": {},
     "output_type": "display_data"
    }
   ],
   "source": [
    "sns.set(font_scale=1.3)\n",
    "fig,axs=plt.subplots(2,3,figsize=(10,12))\n",
    "c1=sns.boxplot(y=\"fun\",x=\"match\",data=data,ax=axs[0,0])\n",
    "c1.set_xticklabels([\"No\",\"Yes\"])\n",
    "c1.set(ylabel=\"Rating\")\n",
    "c1.set(xlabel=\"\")\n",
    "c1.set_title(\"Fun vs Match\")\n",
    "\n",
    "c2=sns.boxplot(y=\"intel\",x=\"match\",data=data,ax=axs[0,1])\n",
    "c2.set_xticklabels([\"No\",\"Yes\"])\n",
    "c2.set(ylabel=\"\")\n",
    "c2.set(xlabel=\"\")\n",
    "c2.set_title(\"Intelligent vs Match\")\n",
    "\n",
    "c3=sns.boxplot(y=\"amb\",x=\"match\",data=data,ax=axs[1,0])\n",
    "c3.set_xticklabels([\"No\",\"Yes\"])\n",
    "c3.set(ylabel=\"Rating\")\n",
    "c3.set(xlabel=\"Decision\")\n",
    "c3.set_title(\"Ambitious vs Match\")\n",
    "\n",
    "c4=sns.boxplot(y=\"sinc\",x=\"match\",data=data,ax=axs[1,1])\n",
    "c4.set_xticklabels([\"No\",\"Yes\"])\n",
    "c4.set(ylabel=\"\")\n",
    "c4.set(xlabel=\"Decision\")\n",
    "c4.set_title(\"Sincere vs Match\")\n",
    "\n",
    "\n",
    "c5=sns.boxplot(y=\"attr\",x=\"match\",data=data,ax=axs[1,2])\n",
    "c5.set_xticklabels([\"No\",\"Yes\"])\n",
    "c5.set(ylabel=\"\")\n",
    "c5.set(xlabel=\"Decision\")\n",
    "c5.set_title(\"Attractive vs Match\")\n",
    "\n",
    "c6=sns.boxplot(y=\"shar\",x=\"match\",data=data,ax=axs[0,2])\n",
    "c6.set_xticklabels([\"No\",\"Yes\"])\n",
    "c6.set(ylabel=\"\")\n",
    "c6.set(xlabel=\"\")\n",
    "c6.set_title(\"Shared Interests vs Match\")"
   ]
  },
  {
   "cell_type": "markdown",
   "metadata": {},
   "source": [
    "While attributes like Attractive, Shared Interests,Intelligent,Sincere and Fun from the scorecard shows a significant correlation with Match, ambitious attribute doesn't show any correlation with Match."
   ]
  },
  {
   "cell_type": "markdown",
   "metadata": {},
   "source": [
    "<a id=\"section54\"></a>\n",
    "### 6.4. Relation between Partner's scorecard ratings and Match"
   ]
  },
  {
   "cell_type": "code",
   "execution_count": 68,
   "metadata": {},
   "outputs": [
    {
     "data": {
      "text/plain": [
       "Text(0.5, 1.0, 'Shared Interests vs Match')"
      ]
     },
     "execution_count": 68,
     "metadata": {},
     "output_type": "execute_result"
    },
    {
     "data": {
      "image/png": "[encoded data removed]",
      "text/plain": [
       "<Figure size 720x864 with 6 Axes>"
      ]
     },
     "metadata": {},
     "output_type": "display_data"
    }
   ],
   "source": [
    "sns.set(font_scale=1.3)\n",
    "fig,axs=plt.subplots(2,3,figsize=(10,12))\n",
    "c1=sns.boxplot(y=\"fun_o\",x=\"match\",data=data,ax=axs[0,0])\n",
    "c1.set_xticklabels([\"No\",\"Yes\"])\n",
    "c1.set(ylabel=\"Rating\")\n",
    "c1.set(xlabel=\"\")\n",
    "c1.set_title(\"Fun vs Match\")\n",
    "\n",
    "c2=sns.boxplot(y=\"intel_o\",x=\"match\",data=data,ax=axs[0,1])\n",
    "c2.set_xticklabels([\"No\",\"Yes\"])\n",
    "c2.set(ylabel=\"\")\n",
    "c2.set(xlabel=\"\")\n",
    "c2.set_title(\"Intelligent vs Match\")\n",
    "\n",
    "c3=sns.boxplot(y=\"amb_o\",x=\"match\",data=data,ax=axs[1,0])\n",
    "c3.set_xticklabels([\"No\",\"Yes\"])\n",
    "c3.set(ylabel=\"Rating\")\n",
    "c3.set(xlabel=\"Decision\")\n",
    "c3.set_title(\"Ambitious vs Match\")\n",
    "\n",
    "c4=sns.boxplot(y=\"sinc_o\",x=\"match\",data=data,ax=axs[1,1])\n",
    "c4.set_xticklabels([\"No\",\"Yes\"])\n",
    "c4.set(ylabel=\"\")\n",
    "c4.set(xlabel=\"Decision\")\n",
    "c4.set_title(\"Sincere vs Match\")\n",
    "\n",
    "\n",
    "c5=sns.boxplot(y=\"attr_o\",x=\"match\",data=data,ax=axs[1,2])\n",
    "c5.set_xticklabels([\"No\",\"Yes\"])\n",
    "c5.set(ylabel=\"\")\n",
    "c5.set(xlabel=\"Decision\")\n",
    "c5.set_title(\"Attractive vs Match\")\n",
    "\n",
    "c6=sns.boxplot(y=\"shar_o\",x=\"match\",data=data,ax=axs[0,2])\n",
    "c6.set_xticklabels([\"No\",\"Yes\"])\n",
    "c6.set(ylabel=\"\")\n",
    "c6.set(xlabel=\"\")\n",
    "c6.set_title(\"Shared Interests vs Match\")"
   ]
  },
  {
   "cell_type": "markdown",
   "metadata": {},
   "source": [
    "<a id=\"section55\"></a>\n",
    "### &nbsp; 6.5. Relation between Met and Match"
   ]
  },
  {
   "cell_type": "code",
   "execution_count": 69,
   "metadata": {},
   "outputs": [
    {
     "data": {
      "text/plain": [
       "Text(0.5, 1.0, \"Haven't Met vs Match\")"
      ]
     },
     "execution_count": 69,
     "metadata": {},
     "output_type": "execute_result"
    },
    {
     "data": {
      "image/png": "[encoded data removed]",
      "text/plain": [
       "<Figure size 720x432 with 2 Axes>"
      ]
     },
     "metadata": {},
     "output_type": "display_data"
    }
   ],
   "source": [
    "sns.set(font_scale=1.2)\n",
    "fig,axs=plt.subplots(1,2,figsize=(10,6))\n",
    "c1=sns.countplot(x=\"match\",data=data[data[\"act_met\"]==1],ax=axs[0])\n",
    "c1.set_xticklabels([\"No\",\"Yes\"])\n",
    "c1.set(ylabel=\"Number of People\")\n",
    "c1.set(xlabel=\"Met\")\n",
    "c1.set_title(\"Met vs Match\")\n",
    "\n",
    "\n",
    "\n",
    "c2=sns.countplot(x=\"match\",data=data[data[\"act_met\"]==0],ax=axs[1])\n",
    "c2.set_xticklabels([\"No\",\"Yes\"])\n",
    "c2.set(xlabel=\"Haven't Met\")\n",
    "c2.set(ylabel=\" \")\n",
    "c2.set_title(\"Haven't Met vs Match\")\n",
    "\n",
    "\n"
   ]
  },
  {
   "cell_type": "markdown",
   "metadata": {},
   "source": [
    "Chances of getting a match increases when subject already has a repo with his/her partner."
   ]
  },
  {
   "cell_type": "markdown",
   "metadata": {},
   "source": [
    "<a id=\"section6\"></a>\n",
    "##  7. Correlation"
   ]
  },
  {
   "cell_type": "markdown",
   "metadata": {},
   "source": [
    "<a id=\"section61\"></a>\n",
    "### &nbsp; 7.1. Correlation Table"
   ]
  },
  {
   "cell_type": "code",
   "execution_count": 70,
   "metadata": {},
   "outputs": [],
   "source": [
    "fcol1=[\"attr\",\"sinc\",\"fun\",\"match\",\"amb\",\"intel\",\"shar\",\"met\",\"rating\",\"prob\",\"like\"]\n",
    "fcol2=[\"attr_o\",\"sinc_o\",\"fun_o\",\"match\",\"amb_o\",\"intel_o\",\"shar_o\",\"met_o\",\"rating_o\",\"prob_o\",\"like_o\"]"
   ]
  },
  {
   "cell_type": "code",
   "execution_count": 71,
   "metadata": {},
   "outputs": [
    {
     "data": {
      "text/html": [
       "<div>\n",
       "<style scoped>\n",
       "    .dataframe tbody tr th:only-of-type {\n",
       "        vertical-align: middle;\n",
       "    }\n",
       "\n",
       "    .dataframe tbody tr th {\n",
       "        vertical-align: top;\n",
       "    }\n",
       "\n",
       "    .dataframe thead th {\n",
       "        text-align: right;\n",
       "    }\n",
       "</style>\n",
       "<table border=\"1\" class=\"dataframe\">\n",
       "  <thead>\n",
       "    <tr style=\"text-align: right;\">\n",
       "      <th></th>\n",
       "      <th>attr</th>\n",
       "      <th>sinc</th>\n",
       "      <th>fun</th>\n",
       "      <th>match</th>\n",
       "      <th>amb</th>\n",
       "      <th>intel</th>\n",
       "      <th>shar</th>\n",
       "      <th>met</th>\n",
       "      <th>rating</th>\n",
       "      <th>prob</th>\n",
       "      <th>like</th>\n",
       "    </tr>\n",
       "  </thead>\n",
       "  <tbody>\n",
       "    <tr>\n",
       "      <th>attr</th>\n",
       "      <td>1.000000</td>\n",
       "      <td>0.404130</td>\n",
       "      <td>0.571670</td>\n",
       "      <td>0.266516</td>\n",
       "      <td>0.297086</td>\n",
       "      <td>0.389922</td>\n",
       "      <td>0.475237</td>\n",
       "      <td>-0.084336</td>\n",
       "      <td>0.717566</td>\n",
       "      <td>0.253118</td>\n",
       "      <td>0.698041</td>\n",
       "    </tr>\n",
       "    <tr>\n",
       "      <th>sinc</th>\n",
       "      <td>0.404130</td>\n",
       "      <td>1.000000</td>\n",
       "      <td>0.472314</td>\n",
       "      <td>0.127962</td>\n",
       "      <td>0.417026</td>\n",
       "      <td>0.628515</td>\n",
       "      <td>0.395808</td>\n",
       "      <td>-0.036282</td>\n",
       "      <td>0.723608</td>\n",
       "      <td>0.268552</td>\n",
       "      <td>0.518058</td>\n",
       "    </tr>\n",
       "    <tr>\n",
       "      <th>fun</th>\n",
       "      <td>0.571670</td>\n",
       "      <td>0.472314</td>\n",
       "      <td>1.000000</td>\n",
       "      <td>0.258405</td>\n",
       "      <td>0.448083</td>\n",
       "      <td>0.458224</td>\n",
       "      <td>0.631979</td>\n",
       "      <td>-0.102967</td>\n",
       "      <td>0.815384</td>\n",
       "      <td>0.369693</td>\n",
       "      <td>0.677861</td>\n",
       "    </tr>\n",
       "    <tr>\n",
       "      <th>match</th>\n",
       "      <td>0.266516</td>\n",
       "      <td>0.127962</td>\n",
       "      <td>0.258405</td>\n",
       "      <td>1.000000</td>\n",
       "      <td>0.131633</td>\n",
       "      <td>0.148770</td>\n",
       "      <td>0.297060</td>\n",
       "      <td>-0.155134</td>\n",
       "      <td>0.282532</td>\n",
       "      <td>0.254009</td>\n",
       "      <td>0.303853</td>\n",
       "    </tr>\n",
       "    <tr>\n",
       "      <th>amb</th>\n",
       "      <td>0.297086</td>\n",
       "      <td>0.417026</td>\n",
       "      <td>0.448083</td>\n",
       "      <td>0.131633</td>\n",
       "      <td>1.000000</td>\n",
       "      <td>0.589663</td>\n",
       "      <td>0.450745</td>\n",
       "      <td>-0.049130</td>\n",
       "      <td>0.700915</td>\n",
       "      <td>0.290135</td>\n",
       "      <td>0.435501</td>\n",
       "    </tr>\n",
       "    <tr>\n",
       "      <th>intel</th>\n",
       "      <td>0.389922</td>\n",
       "      <td>0.628515</td>\n",
       "      <td>0.458224</td>\n",
       "      <td>0.148770</td>\n",
       "      <td>0.589663</td>\n",
       "      <td>1.000000</td>\n",
       "      <td>0.414941</td>\n",
       "      <td>-0.073377</td>\n",
       "      <td>0.749808</td>\n",
       "      <td>0.232945</td>\n",
       "      <td>0.535002</td>\n",
       "    </tr>\n",
       "    <tr>\n",
       "      <th>shar</th>\n",
       "      <td>0.475237</td>\n",
       "      <td>0.395808</td>\n",
       "      <td>0.631979</td>\n",
       "      <td>0.297060</td>\n",
       "      <td>0.450745</td>\n",
       "      <td>0.414941</td>\n",
       "      <td>1.000000</td>\n",
       "      <td>-0.149086</td>\n",
       "      <td>0.769515</td>\n",
       "      <td>0.473320</td>\n",
       "      <td>0.648052</td>\n",
       "    </tr>\n",
       "    <tr>\n",
       "      <th>met</th>\n",
       "      <td>-0.084336</td>\n",
       "      <td>-0.036282</td>\n",
       "      <td>-0.102967</td>\n",
       "      <td>-0.155134</td>\n",
       "      <td>-0.049130</td>\n",
       "      <td>-0.073377</td>\n",
       "      <td>-0.149086</td>\n",
       "      <td>1.000000</td>\n",
       "      <td>-0.113665</td>\n",
       "      <td>-0.084800</td>\n",
       "      <td>-0.147839</td>\n",
       "    </tr>\n",
       "    <tr>\n",
       "      <th>rating</th>\n",
       "      <td>0.717566</td>\n",
       "      <td>0.723608</td>\n",
       "      <td>0.815384</td>\n",
       "      <td>0.282532</td>\n",
       "      <td>0.700915</td>\n",
       "      <td>0.749808</td>\n",
       "      <td>0.769515</td>\n",
       "      <td>-0.113665</td>\n",
       "      <td>1.000000</td>\n",
       "      <td>0.428265</td>\n",
       "      <td>0.792788</td>\n",
       "    </tr>\n",
       "    <tr>\n",
       "      <th>prob</th>\n",
       "      <td>0.253118</td>\n",
       "      <td>0.268552</td>\n",
       "      <td>0.369693</td>\n",
       "      <td>0.254009</td>\n",
       "      <td>0.290135</td>\n",
       "      <td>0.232945</td>\n",
       "      <td>0.473320</td>\n",
       "      <td>-0.084800</td>\n",
       "      <td>0.428265</td>\n",
       "      <td>1.000000</td>\n",
       "      <td>0.461709</td>\n",
       "    </tr>\n",
       "    <tr>\n",
       "      <th>like</th>\n",
       "      <td>0.698041</td>\n",
       "      <td>0.518058</td>\n",
       "      <td>0.677861</td>\n",
       "      <td>0.303853</td>\n",
       "      <td>0.435501</td>\n",
       "      <td>0.535002</td>\n",
       "      <td>0.648052</td>\n",
       "      <td>-0.147839</td>\n",
       "      <td>0.792788</td>\n",
       "      <td>0.461709</td>\n",
       "      <td>1.000000</td>\n",
       "    </tr>\n",
       "  </tbody>\n",
       "</table>\n",
       "</div>"
      ],
      "text/plain": [
       "            attr      sinc       fun     match       amb     intel      shar  \\\n",
       "attr    1.000000  0.404130  0.571670  0.266516  0.297086  0.389922  0.475237   \n",
       "sinc    0.404130  1.000000  0.472314  0.127962  0.417026  0.628515  0.395808   \n",
       "fun     0.571670  0.472314  1.000000  0.258405  0.448083  0.458224  0.631979   \n",
       "match   0.266516  0.127962  0.258405  1.000000  0.131633  0.148770  0.297060   \n",
       "amb     0.297086  0.417026  0.448083  0.131633  1.000000  0.589663  0.450745   \n",
       "intel   0.389922  0.628515  0.458224  0.148770  0.589663  1.000000  0.414941   \n",
       "shar    0.475237  0.395808  0.631979  0.297060  0.450745  0.414941  1.000000   \n",
       "met    -0.084336 -0.036282 -0.102967 -0.155134 -0.049130 -0.073377 -0.149086   \n",
       "rating  0.717566  0.723608  0.815384  0.282532  0.700915  0.749808  0.769515   \n",
       "prob    0.253118  0.268552  0.369693  0.254009  0.290135  0.232945  0.473320   \n",
       "like    0.698041  0.518058  0.677861  0.303853  0.435501  0.535002  0.648052   \n",
       "\n",
       "             met    rating      prob      like  \n",
       "attr   -0.084336  0.717566  0.253118  0.698041  \n",
       "sinc   -0.036282  0.723608  0.268552  0.518058  \n",
       "fun    -0.102967  0.815384  0.369693  0.677861  \n",
       "match  -0.155134  0.282532  0.254009  0.303853  \n",
       "amb    -0.049130  0.700915  0.290135  0.435501  \n",
       "intel  -0.073377  0.749808  0.232945  0.535002  \n",
       "shar   -0.149086  0.769515  0.473320  0.648052  \n",
       "met     1.000000 -0.113665 -0.084800 -0.147839  \n",
       "rating -0.113665  1.000000  0.428265  0.792788  \n",
       "prob   -0.084800  0.428265  1.000000  0.461709  \n",
       "like   -0.147839  0.792788  0.461709  1.000000  "
      ]
     },
     "execution_count": 71,
     "metadata": {},
     "output_type": "execute_result"
    }
   ],
   "source": [
    "speedDF[fcol1].corr()"
   ]
  },
  {
   "cell_type": "code",
   "execution_count": 72,
   "metadata": {},
   "outputs": [
    {
     "data": {
      "text/html": [
       "<div>\n",
       "<style scoped>\n",
       "    .dataframe tbody tr th:only-of-type {\n",
       "        vertical-align: middle;\n",
       "    }\n",
       "\n",
       "    .dataframe tbody tr th {\n",
       "        vertical-align: top;\n",
       "    }\n",
       "\n",
       "    .dataframe thead th {\n",
       "        text-align: right;\n",
       "    }\n",
       "</style>\n",
       "<table border=\"1\" class=\"dataframe\">\n",
       "  <thead>\n",
       "    <tr style=\"text-align: right;\">\n",
       "      <th></th>\n",
       "      <th>attr_o</th>\n",
       "      <th>sinc_o</th>\n",
       "      <th>fun_o</th>\n",
       "      <th>match</th>\n",
       "      <th>amb_o</th>\n",
       "      <th>intel_o</th>\n",
       "      <th>shar_o</th>\n",
       "      <th>met_o</th>\n",
       "      <th>rating_o</th>\n",
       "      <th>prob_o</th>\n",
       "      <th>like_o</th>\n",
       "    </tr>\n",
       "  </thead>\n",
       "  <tbody>\n",
       "    <tr>\n",
       "      <th>attr_o</th>\n",
       "      <td>1.000000</td>\n",
       "      <td>0.404130</td>\n",
       "      <td>0.571670</td>\n",
       "      <td>0.266516</td>\n",
       "      <td>0.297086</td>\n",
       "      <td>0.389922</td>\n",
       "      <td>0.475237</td>\n",
       "      <td>-0.084336</td>\n",
       "      <td>0.717566</td>\n",
       "      <td>0.253118</td>\n",
       "      <td>0.698041</td>\n",
       "    </tr>\n",
       "    <tr>\n",
       "      <th>sinc_o</th>\n",
       "      <td>0.404130</td>\n",
       "      <td>1.000000</td>\n",
       "      <td>0.472314</td>\n",
       "      <td>0.127962</td>\n",
       "      <td>0.417026</td>\n",
       "      <td>0.628515</td>\n",
       "      <td>0.395808</td>\n",
       "      <td>-0.036282</td>\n",
       "      <td>0.723608</td>\n",
       "      <td>0.268552</td>\n",
       "      <td>0.518058</td>\n",
       "    </tr>\n",
       "    <tr>\n",
       "      <th>fun_o</th>\n",
       "      <td>0.571670</td>\n",
       "      <td>0.472314</td>\n",
       "      <td>1.000000</td>\n",
       "      <td>0.258405</td>\n",
       "      <td>0.448083</td>\n",
       "      <td>0.458224</td>\n",
       "      <td>0.631979</td>\n",
       "      <td>-0.102967</td>\n",
       "      <td>0.815384</td>\n",
       "      <td>0.369693</td>\n",
       "      <td>0.677861</td>\n",
       "    </tr>\n",
       "    <tr>\n",
       "      <th>match</th>\n",
       "      <td>0.266516</td>\n",
       "      <td>0.127962</td>\n",
       "      <td>0.258405</td>\n",
       "      <td>1.000000</td>\n",
       "      <td>0.131633</td>\n",
       "      <td>0.148770</td>\n",
       "      <td>0.297060</td>\n",
       "      <td>-0.155134</td>\n",
       "      <td>0.282532</td>\n",
       "      <td>0.254009</td>\n",
       "      <td>0.303853</td>\n",
       "    </tr>\n",
       "    <tr>\n",
       "      <th>amb_o</th>\n",
       "      <td>0.297086</td>\n",
       "      <td>0.417026</td>\n",
       "      <td>0.448083</td>\n",
       "      <td>0.131633</td>\n",
       "      <td>1.000000</td>\n",
       "      <td>0.589663</td>\n",
       "      <td>0.450745</td>\n",
       "      <td>-0.049130</td>\n",
       "      <td>0.700915</td>\n",
       "      <td>0.290135</td>\n",
       "      <td>0.435501</td>\n",
       "    </tr>\n",
       "    <tr>\n",
       "      <th>intel_o</th>\n",
       "      <td>0.389922</td>\n",
       "      <td>0.628515</td>\n",
       "      <td>0.458224</td>\n",
       "      <td>0.148770</td>\n",
       "      <td>0.589663</td>\n",
       "      <td>1.000000</td>\n",
       "      <td>0.414941</td>\n",
       "      <td>-0.073377</td>\n",
       "      <td>0.749808</td>\n",
       "      <td>0.232945</td>\n",
       "      <td>0.535002</td>\n",
       "    </tr>\n",
       "    <tr>\n",
       "      <th>shar_o</th>\n",
       "      <td>0.475237</td>\n",
       "      <td>0.395808</td>\n",
       "      <td>0.631979</td>\n",
       "      <td>0.297060</td>\n",
       "      <td>0.450745</td>\n",
       "      <td>0.414941</td>\n",
       "      <td>1.000000</td>\n",
       "      <td>-0.149086</td>\n",
       "      <td>0.769515</td>\n",
       "      <td>0.473320</td>\n",
       "      <td>0.648052</td>\n",
       "    </tr>\n",
       "    <tr>\n",
       "      <th>met_o</th>\n",
       "      <td>-0.084336</td>\n",
       "      <td>-0.036282</td>\n",
       "      <td>-0.102967</td>\n",
       "      <td>-0.155134</td>\n",
       "      <td>-0.049130</td>\n",
       "      <td>-0.073377</td>\n",
       "      <td>-0.149086</td>\n",
       "      <td>1.000000</td>\n",
       "      <td>-0.113665</td>\n",
       "      <td>-0.084800</td>\n",
       "      <td>-0.147839</td>\n",
       "    </tr>\n",
       "    <tr>\n",
       "      <th>rating_o</th>\n",
       "      <td>0.717566</td>\n",
       "      <td>0.723608</td>\n",
       "      <td>0.815384</td>\n",
       "      <td>0.282532</td>\n",
       "      <td>0.700915</td>\n",
       "      <td>0.749808</td>\n",
       "      <td>0.769515</td>\n",
       "      <td>-0.113665</td>\n",
       "      <td>1.000000</td>\n",
       "      <td>0.428265</td>\n",
       "      <td>0.792788</td>\n",
       "    </tr>\n",
       "    <tr>\n",
       "      <th>prob_o</th>\n",
       "      <td>0.253118</td>\n",
       "      <td>0.268552</td>\n",
       "      <td>0.369693</td>\n",
       "      <td>0.254009</td>\n",
       "      <td>0.290135</td>\n",
       "      <td>0.232945</td>\n",
       "      <td>0.473320</td>\n",
       "      <td>-0.084800</td>\n",
       "      <td>0.428265</td>\n",
       "      <td>1.000000</td>\n",
       "      <td>0.461709</td>\n",
       "    </tr>\n",
       "    <tr>\n",
       "      <th>like_o</th>\n",
       "      <td>0.698041</td>\n",
       "      <td>0.518058</td>\n",
       "      <td>0.677861</td>\n",
       "      <td>0.303853</td>\n",
       "      <td>0.435501</td>\n",
       "      <td>0.535002</td>\n",
       "      <td>0.648052</td>\n",
       "      <td>-0.147839</td>\n",
       "      <td>0.792788</td>\n",
       "      <td>0.461709</td>\n",
       "      <td>1.000000</td>\n",
       "    </tr>\n",
       "  </tbody>\n",
       "</table>\n",
       "</div>"
      ],
      "text/plain": [
       "            attr_o    sinc_o     fun_o     match     amb_o   intel_o  \\\n",
       "attr_o    1.000000  0.404130  0.571670  0.266516  0.297086  0.389922   \n",
       "sinc_o    0.404130  1.000000  0.472314  0.127962  0.417026  0.628515   \n",
       "fun_o     0.571670  0.472314  1.000000  0.258405  0.448083  0.458224   \n",
       "match     0.266516  0.127962  0.258405  1.000000  0.131633  0.148770   \n",
       "amb_o     0.297086  0.417026  0.448083  0.131633  1.000000  0.589663   \n",
       "intel_o   0.389922  0.628515  0.458224  0.148770  0.589663  1.000000   \n",
       "shar_o    0.475237  0.395808  0.631979  0.297060  0.450745  0.414941   \n",
       "met_o    -0.084336 -0.036282 -0.102967 -0.155134 -0.049130 -0.073377   \n",
       "rating_o  0.717566  0.723608  0.815384  0.282532  0.700915  0.749808   \n",
       "prob_o    0.253118  0.268552  0.369693  0.254009  0.290135  0.232945   \n",
       "like_o    0.698041  0.518058  0.677861  0.303853  0.435501  0.535002   \n",
       "\n",
       "            shar_o     met_o  rating_o    prob_o    like_o  \n",
       "attr_o    0.475237 -0.084336  0.717566  0.253118  0.698041  \n",
       "sinc_o    0.395808 -0.036282  0.723608  0.268552  0.518058  \n",
       "fun_o     0.631979 -0.102967  0.815384  0.369693  0.677861  \n",
       "match     0.297060 -0.155134  0.282532  0.254009  0.303853  \n",
       "amb_o     0.450745 -0.049130  0.700915  0.290135  0.435501  \n",
       "intel_o   0.414941 -0.073377  0.749808  0.232945  0.535002  \n",
       "shar_o    1.000000 -0.149086  0.769515  0.473320  0.648052  \n",
       "met_o    -0.149086  1.000000 -0.113665 -0.084800 -0.147839  \n",
       "rating_o  0.769515 -0.113665  1.000000  0.428265  0.792788  \n",
       "prob_o    0.473320 -0.084800  0.428265  1.000000  0.461709  \n",
       "like_o    0.648052 -0.147839  0.792788  0.461709  1.000000  "
      ]
     },
     "execution_count": 72,
     "metadata": {},
     "output_type": "execute_result"
    }
   ],
   "source": [
    "speedDF[fcol2].corr()"
   ]
  },
  {
   "cell_type": "markdown",
   "metadata": {},
   "source": [
    "<a id=\"section62\"></a>\n",
    "### &nbsp; 7.2. Plotting a Heatmap to visualize correlation\n"
   ]
  },
  {
   "cell_type": "code",
   "execution_count": 73,
   "metadata": {},
   "outputs": [
    {
     "data": {
      "text/plain": [
       "(11.0, 1.0)"
      ]
     },
     "execution_count": 73,
     "metadata": {},
     "output_type": "execute_result"
    },
    {
     "data": {
      "image/png": "[encoded data removed]",
      "text/plain": [
       "<Figure size 720x504 with 2 Axes>"
      ]
     },
     "metadata": {},
     "output_type": "display_data"
    }
   ],
   "source": [
    "fig,ax=plt.subplots(figsize=(10,7))\n",
    "heat=sns.heatmap(speedDF[fcol1].corr(),vmax=1,vmin=-0.6,annot=True,ax=ax,cmap=\"coolwarm\")\n",
    "plt.yticks(rotation=0)\n",
    "bottom,top=heat.get_ylim()\n",
    "heat.set_ylim(bottom+0.5,top+0.5)"
   ]
  },
  {
   "cell_type": "code",
   "execution_count": 74,
   "metadata": {},
   "outputs": [
    {
     "data": {
      "text/plain": [
       "(11.0, 1.0)"
      ]
     },
     "execution_count": 74,
     "metadata": {},
     "output_type": "execute_result"
    },
    {
     "data": {
      "image/png": "[encoded data removed]",
      "text/plain": [
       "<Figure size 720x504 with 2 Axes>"
      ]
     },
     "metadata": {},
     "output_type": "display_data"
    }
   ],
   "source": [
    "fig,ax=plt.subplots(figsize=(10,7))\n",
    "heat=sns.heatmap(speedDF[fcol2].corr(),vmax=1,vmin=-0.6,annot=True,ax=ax,cmap=\"coolwarm\")\n",
    "plt.yticks(rotation=0)\n",
    "bottom,top=heat.get_ylim()\n",
    "heat.set_ylim(bottom+0.5,top+0.5)"
   ]
  },
  {
   "cell_type": "markdown",
   "metadata": {},
   "source": [
    "<a id=\"section7\"></a>\n",
    "\n",
    "## 8. Model Development using Pipeline\n"
   ]
  },
  {
   "cell_type": "markdown",
   "metadata": {},
   "source": [
    "<a id=\"section71\"></a>\n",
    "###  &nbsp; 8.1. Feature Selection\n",
    "\n",
    "\n",
    "\n"
   ]
  },
  {
   "cell_type": "markdown",
   "metadata": {},
   "source": [
    "After referring the above heatmaps, following features are to be selected for the model.\n",
    "* attr,\n",
    "* fun\n",
    "* sinc\n",
    "* intel\n",
    "* amb\n",
    "* shar\n",
    "* act_met\n",
    "* met\n",
    "* met_o\n",
    "* prob\n",
    "* rating\n",
    "* rating_o\n",
    "* attr_o\n",
    "* fun_o\n",
    "* sinc_o\n",
    "* intel_o\n",
    "* shar_o\n",
    "* prob_o\n",
    "* amb_o"
   ]
  },
  {
   "cell_type": "code",
   "execution_count": 75,
   "metadata": {},
   "outputs": [],
   "source": [
    "features=[\"attr\",\"fun\",\"sinc\",\"amb\",\"intel\",\"act_met\",\"met\",\"prob\",\"met_o\",\"shar\",\"rating\",\"rating_o\",\"sinc_o\",\"amb_o\",\"intel_o\",\"attr_o\",\"fun_o\",\"shar_o\",\"prob_o\"]\n"
   ]
  },
  {
   "cell_type": "code",
   "execution_count": 76,
   "metadata": {},
   "outputs": [],
   "source": [
    "X=speedDF[features][(speedDF[\"wave\"]==1)| (speedDF[\"wave\"]==2)|(speedDF[\"wave\"]==3)]\n",
    "y=speedDF[\"match\"][(speedDF[\"wave\"]==1)| (speedDF[\"wave\"]==2)|(speedDF[\"wave\"]==3)]"
   ]
  },
  {
   "cell_type": "markdown",
   "metadata": {},
   "source": [
    "<a id=\"section72\"></a>\n",
    "###  &nbsp; 8.2. Train, test split\n"
   ]
  },
  {
   "cell_type": "code",
   "execution_count": 77,
   "metadata": {},
   "outputs": [],
   "source": [
    "from sklearn.model_selection import train_test_split\n",
    "X_train,X_test,y_train,y_test=train_test_split(X, y, test_size=0.33)"
   ]
  },
  {
   "cell_type": "markdown",
   "metadata": {},
   "source": [
    "<a id=\"section73\"></a>\n",
    "### &nbsp; 8.3. RandomForest Algorithm"
   ]
  },
  {
   "cell_type": "code",
   "execution_count": 78,
   "metadata": {},
   "outputs": [
    {
     "data": {
      "text/plain": [
       "Pipeline(memory=None,\n",
       "         steps=[('standardscaler',\n",
       "                 StandardScaler(copy=True, with_mean=True, with_std=True)),\n",
       "                ('pca',\n",
       "                 PCA(copy=True, iterated_power='auto', n_components=6,\n",
       "                     random_state=None, svd_solver='auto', tol=0.0,\n",
       "                     whiten=False)),\n",
       "                ('randomforestclassifier',\n",
       "                 RandomForestClassifier(bootstrap=True, ccp_alpha=0.0,\n",
       "                                        class_weight=None, criterion='gini',\n",
       "                                        max_depth=None, max_features='auto',\n",
       "                                        max_leaf_nodes=None, max_samples=None,\n",
       "                                        min_impurity_decrease=0.0,\n",
       "                                        min_impurity_split=None,\n",
       "                                        min_samples_leaf=1, min_samples_split=2,\n",
       "                                        min_weight_fraction_leaf=0.0,\n",
       "                                        n_estimators=100, n_jobs=None,\n",
       "                                        oob_score=False, random_state=0,\n",
       "                                        verbose=0, warm_start=False))],\n",
       "         verbose=False)"
      ]
     },
     "execution_count": 78,
     "metadata": {},
     "output_type": "execute_result"
    }
   ],
   "source": [
    "from sklearn.ensemble import RandomForestClassifier\n",
    "from sklearn.pipeline import make_pipeline\n",
    "from sklearn.preprocessing import StandardScaler\n",
    "from sklearn.decomposition import PCA\n",
    "RF_pipeline = make_pipeline(StandardScaler(),PCA(n_components=6),RandomForestClassifier(random_state=0))\n",
    "\n",
    "RF_pipeline.fit(X_train, y_train)\n"
   ]
  },
  {
   "cell_type": "code",
   "execution_count": 79,
   "metadata": {},
   "outputs": [],
   "source": [
    "RF_predictions= RF_pipeline.predict(X_test)"
   ]
  },
  {
   "cell_type": "code",
   "execution_count": 80,
   "metadata": {},
   "outputs": [
    {
     "data": {
      "text/plain": [
       "0.8798798798798799"
      ]
     },
     "execution_count": 80,
     "metadata": {},
     "output_type": "execute_result"
    }
   ],
   "source": [
    "from sklearn.metrics import accuracy_score\n",
    "accuracy_score(y_test, RF_predictions)"
   ]
  },
  {
   "cell_type": "markdown",
   "metadata": {},
   "source": [
    "<a id=\"section8\"></a>\n",
    "## 9. Model Evaluation"
   ]
  },
  {
   "cell_type": "code",
   "execution_count": 81,
   "metadata": {},
   "outputs": [],
   "source": [
    "from sklearn.metrics import confusion_matrix\n",
    "from sklearn.metrics import classification_report\n",
    "from sklearn.metrics import roc_auc_score\n",
    "import matplotlib.pyplot as plt\n",
    "from sklearn.metrics import roc_curve\n",
    "from sklearn.metrics import average_precision_score\n",
    "from sklearn.metrics import precision_recall_curve"
   ]
  },
  {
   "cell_type": "markdown",
   "metadata": {},
   "source": [
    "<a id=\"section81\"></a>\n",
    "###  &nbsp; 9.1. Confusion Matrix\n"
   ]
  },
  {
   "cell_type": "code",
   "execution_count": 82,
   "metadata": {},
   "outputs": [
    {
     "name": "stdout",
     "output_type": "stream",
     "text": [
      "            Predicted No  Predicted Yes  Total\n",
      "Actual No            279              7    286\n",
      "Actual Yes            33             14     47\n",
      "Total                312             21    333\n"
     ]
    }
   ],
   "source": [
    "import numpy as np\n",
    "cm = pd.DataFrame(confusion_matrix(y_test, RF_predictions))\n",
    "cm['Total'] = np.sum(cm, axis=1)\n",
    "cm = cm.append(np.sum(cm, axis=0), ignore_index=True)\n",
    "cm.columns = ['Predicted No', 'Predicted Yes', 'Total']\n",
    "cm = cm.set_index([['Actual No', 'Actual Yes', 'Total']])\n",
    "print(cm)"
   ]
  },
  {
   "cell_type": "markdown",
   "metadata": {},
   "source": [
    "* The Model excels in minimising false positives, this means that subject would hardly be matched with someone who he/she shouldn't be with. \n",
    "* The Model doesn't excel in reducing false negatives, this means that amount of matches a subject gets would be lower than before. "
   ]
  },
  {
   "cell_type": "markdown",
   "metadata": {},
   "source": [
    "<a id=\"section82\"></a>\n",
    "###  &nbsp; 9.2. Classification Report\n"
   ]
  },
  {
   "cell_type": "code",
   "execution_count": 83,
   "metadata": {},
   "outputs": [
    {
     "name": "stdout",
     "output_type": "stream",
     "text": [
      "              precision    recall  f1-score   support\n",
      "\n",
      "           0       0.89      0.98      0.93       286\n",
      "           1       0.67      0.30      0.41        47\n",
      "\n",
      "    accuracy                           0.88       333\n",
      "   macro avg       0.78      0.64      0.67       333\n",
      "weighted avg       0.86      0.88      0.86       333\n",
      "\n"
     ]
    }
   ],
   "source": [
    "print(classification_report(y_test, RF_predictions))"
   ]
  },
  {
   "cell_type": "markdown",
   "metadata": {},
   "source": [
    "<a id=\"section83\"></a>\n",
    "###  &nbsp; 9.3. ROC-curve\n"
   ]
  },
  {
   "cell_type": "code",
   "execution_count": 84,
   "metadata": {},
   "outputs": [],
   "source": [
    "logit_roc_auc = roc_auc_score(y_test, RF_predictions) "
   ]
  },
  {
   "cell_type": "code",
   "execution_count": 85,
   "metadata": {},
   "outputs": [
    {
     "data": {
      "image/png": "[encoded data removed]",
      "text/plain": [
       "<Figure size 432x288 with 1 Axes>"
      ]
     },
     "metadata": {},
     "output_type": "display_data"
    }
   ],
   "source": [
    "fpr, tpr, thresholds = roc_curve(y_test, RF_pipeline.predict_proba(X_test)[:,1]) \n",
    "plt.figure()\n",
    "plt.plot(fpr, tpr, label='Model (Area = %0.2f)' % logit_roc_auc) \n",
    "plt.plot([0, 1], [0, 1],'r--')\n",
    "plt.xlim([-0.02, 1.02])\n",
    "plt.ylim([0.0, 1.03])\n",
    "plt.xlabel('False Positive Rate')\n",
    "plt.ylabel('True Positive Rate')\n",
    "plt.title('Receiver Operating Characteristic')\n",
    "plt.legend(loc=\"lower right\")\n",
    "plt.show()"
   ]
  },
  {
   "cell_type": "markdown",
   "metadata": {},
   "source": [
    "<a id=\"section9\"></a>\n",
    "## 10. Result\n"
   ]
  },
  {
   "cell_type": "code",
   "execution_count": 86,
   "metadata": {},
   "outputs": [],
   "source": [
    "X_res=speedDF[features][(speedDF[\"wave\"]==4)]\n",
    "y_res=speedDF[\"match\"][(speedDF[\"wave\"]==4)]"
   ]
  },
  {
   "cell_type": "code",
   "execution_count": 87,
   "metadata": {},
   "outputs": [],
   "source": [
    "RF_predictions2= RF_pipeline.predict(X_res)"
   ]
  },
  {
   "cell_type": "code",
   "execution_count": 88,
   "metadata": {},
   "outputs": [
    {
     "name": "stdout",
     "output_type": "stream",
     "text": [
      "Model Accuracy: 82.56172839506173\n"
     ]
    }
   ],
   "source": [
    "print(\"Model Accuracy:\",accuracy_score(y_res, RF_predictions2)*100)"
   ]
  }
 ],
 "metadata": {
  "kernelspec": {
   "display_name": "Python 3",
   "language": "python",
   "name": "python3"
  },
  "language_info": {
   "codemirror_mode": {
    "name": "ipython",
    "version": 3
   },
   "file_extension": ".py",
   "mimetype": "text/x-python",
   "name": "python",
   "nbconvert_exporter": "python",
   "pygments_lexer": "ipython3",
   "version": "3.7.6"
  }
 },
 "nbformat": 4,
 "nbformat_minor": 4
}
