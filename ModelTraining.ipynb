{
 "cells": [
  {
   "cell_type": "markdown",
   "metadata": {},
   "source": [
    "# Lemon Law"
   ]
  },
  {
   "cell_type": "markdown",
   "metadata": {},
   "source": [
    "Content\n",
    " 1. [Problem](#section1)\n",
    "   <a href=\"#section1\"></a>\n",
    " 2. [Solution](#section10)\n",
    "   <a href=\"#section10\"></a>  \n",
    " 3. [Obtaining Data ](#section2)\n",
    "   <a href=\"#section2\"></a>\n",
    " 4. [Data Cleaning and Preparation ](#section3)\n",
    "   <a href=\"#section3\"></a>  \n",
    "   * [Speed Dating Event data Key](#section31)\n",
    "     <a href=\"#section31\"></a>\n",
    "   * [Scorecard Data key ](#section32)\n",
    "     <a href=\"#section32\"></a>  \n",
    "     - [Subject's Scorecard](#section321)\n",
    "       <a href=\"#section321\"></a>  \n",
    " 5. [Feature Engineering/Selection](#section4)\n",
    "   <a href=\"#section4\"></a>       \n",
    " 6. [Exploratory Data Analysis (EDA)](#section5)\n",
    "   <a href=\"#section5\"></a>     \n",
    "   * [Relation between Choice and Decision](#section52)\n",
    "     <a href=\"#section52\"></a>\n",
    "   * [Relation between Subject's Scorecard Ratings and Decision](#section53)\n",
    "     <a href=\"#section53\"></a>     \n",
    "   * [Relation between Met and Decision ](#section55)\n",
    "     <a href=\"#section55\"></a>\n",
    " 7. [Correlation](#section6)\n",
    "   <a href=\"#section6\"></a>   \n",
    "   * [Correlation Table ](#section61)\n",
    "     <a href=\"#section61\"></a>\n",
    "   * [Heatmap ](#section62)\n",
    "     <a href=\"#section62\"></a>  \n",
    " 8. [Model Development](#section7)\n",
    "   <a href=\"#section7\"></a>\n",
    "   * [Train,test split](#section72)\n",
    "     <a href=\"#section72\"></a> \n",
    "   * [RandomForest Algorithm ](#section73)\n",
    "     <a href=\"#section73\"></a>\n",
    " 9. [Model Evaluation](#section8)\n",
    "   <a href=\"#section8\"></a>\n",
    "   * [Confusion Matrix](#section81)\n",
    "     <a href=\"#section81\"></a> \n",
    "   * [Classification Report ](#section82)\n",
    "     <a href=\"#section82\"></a>\n",
    "   * [ROC-curve ](#section83)\n",
    "     <a href=\"#section83\"></a>\n",
    " 10. [Pickle File](#section9)\n",
    "   <a href=\"#section9\"></a>    "
   ]
  },
  {
   "cell_type": "markdown",
   "metadata": {},
   "source": [
    "<a id=\"section1\"></a>\n",
    "\n",
    "## 1. Problem"
   ]
  },
  {
   "cell_type": "markdown",
   "metadata": {},
   "source": [
    "A dating company called \"Lemon Law\" is planning to come up with an app which aims at improving the quality of your matches  by improving its matching system. It's searching for a holistic alternative "
   ]
  },
  {
   "cell_type": "markdown",
   "metadata": {},
   "source": [
    "<a id=\"section10\"></a>\n",
    "## 2. Solution"
   ]
  },
  {
   "cell_type": "markdown",
   "metadata": {},
   "source": [
    "A predictive model is to be made by using the Speed Dating Experiment dataset to solve the problem. It's available in \n",
    "[Kaggle](https://www.kaggle.com/annavictoria/speed-dating-experiment)\n",
    "   <a href=https://www.kaggle.com/annavictoria/speed-dating-experiment></a>\n",
    "."
   ]
  },
  {
   "cell_type": "markdown",
   "metadata": {},
   "source": [
    "<a id=\"section2\"></a>\n",
    "## 3. Obtaining Data "
   ]
  },
  {
   "cell_type": "code",
   "execution_count": 1,
   "metadata": {},
   "outputs": [],
   "source": [
    "import pandas as pd\n",
    "import numpy as np\n",
    "import matplotlib.pyplot as plt\n",
    "import seaborn as sns"
   ]
  },
  {
   "cell_type": "code",
   "execution_count": 2,
   "metadata": {},
   "outputs": [
    {
     "data": {
      "text/plain": [
       "(8378, 195)"
      ]
     },
     "execution_count": 2,
     "metadata": {},
     "output_type": "execute_result"
    }
   ],
   "source": [
    "import pandas as pd\n",
    "speedDF=pd.read_csv(\"Speed Dating Data.csv\", engine=\"python\")\n",
    "speedDF.shape"
   ]
  },
  {
   "cell_type": "code",
   "execution_count": 3,
   "metadata": {},
   "outputs": [],
   "source": [
    "import warnings\n",
    "warnings.filterwarnings('ignore')"
   ]
  },
  {
   "cell_type": "markdown",
   "metadata": {},
   "source": [
    "<a id=\"section3\"></a>\n",
    "## 4. Data Cleaning and  Preparation"
   ]
  },
  {
   "cell_type": "markdown",
   "metadata": {},
   "source": [
    "<a id=\"section31\"></a>\n",
    "###  &nbsp; 4.1. Speed Dating Event data Key\n",
    "\n",
    "1. iid: \tunique subject number, group(wave id gender)\n",
    "\n",
    "2. id:  \tsubject number within wave\n",
    "\n",
    "3. gender:\tFemale=0,Male=1\n",
    "\n",
    "4. idg: \tsubject number within gender, group(id gender)\n",
    "\n",
    "5. condtn: 1=limited choice , 2=extensive choice\n",
    "\n",
    "6. wave: The day on which the speed dating event takes place.\n",
    "\n",
    "7. round:\t\tnumber of people that met in wave\n",
    "\n",
    "8. order: \t\tthe number of date that night when met partner\n",
    "\n",
    "9. partner: \tpartner’s id number the night of event\n",
    "\n",
    "10. pid: \t\tpartner’s iid number\n",
    "\n",
    "11. match\t\t1=yes, 0=no\n",
    "\n",
    "12. int_corr:\tcorrelation between participant’s and partner’s ratings of interests in Time 1\n",
    "\n",
    "13. samerace:  \tparticipant and the partner were the same race. 1= yes, 0=no\n",
    "\n",
    "14. age_o:\t\tage of partner\n",
    "\n",
    "15. race_o:\t\trace of partner\n",
    "\n",
    "\n"
   ]
  },
  {
   "cell_type": "code",
   "execution_count": 4,
   "metadata": {},
   "outputs": [],
   "source": [
    "all=[\"object\",\"int64\",\"float\"]"
   ]
  },
  {
   "cell_type": "code",
   "execution_count": 5,
   "metadata": {},
   "outputs": [],
   "source": [
    "col1=[\"iid\",\"id\",\"gender\",\"idg\",\"condtn\",\"wave\",\"round\",\"order\",\"partner\",\"pid\",\"match\",\"int_corr\",\"samerace\"]"
   ]
  },
  {
   "cell_type": "code",
   "execution_count": 6,
   "metadata": {},
   "outputs": [
    {
     "data": {
      "text/plain": [
       "(8378, 13)"
      ]
     },
     "execution_count": 6,
     "metadata": {},
     "output_type": "execute_result"
    }
   ],
   "source": [
    "speedDF[col1].shape"
   ]
  },
  {
   "cell_type": "code",
   "execution_count": 7,
   "metadata": {},
   "outputs": [
    {
     "data": {
      "text/html": [
       "<div>\n",
       "<style scoped>\n",
       "    .dataframe tbody tr th:only-of-type {\n",
       "        vertical-align: middle;\n",
       "    }\n",
       "\n",
       "    .dataframe tbody tr th {\n",
       "        vertical-align: top;\n",
       "    }\n",
       "\n",
       "    .dataframe thead th {\n",
       "        text-align: right;\n",
       "    }\n",
       "</style>\n",
       "<table border=\"1\" class=\"dataframe\">\n",
       "  <thead>\n",
       "    <tr style=\"text-align: right;\">\n",
       "      <th></th>\n",
       "      <th>iid</th>\n",
       "      <th>id</th>\n",
       "      <th>gender</th>\n",
       "      <th>idg</th>\n",
       "      <th>condtn</th>\n",
       "      <th>wave</th>\n",
       "      <th>round</th>\n",
       "      <th>order</th>\n",
       "      <th>partner</th>\n",
       "      <th>pid</th>\n",
       "      <th>match</th>\n",
       "      <th>int_corr</th>\n",
       "      <th>samerace</th>\n",
       "    </tr>\n",
       "  </thead>\n",
       "  <tbody>\n",
       "    <tr>\n",
       "      <th>100</th>\n",
       "      <td>11</td>\n",
       "      <td>1.0</td>\n",
       "      <td>1</td>\n",
       "      <td>2</td>\n",
       "      <td>1</td>\n",
       "      <td>1</td>\n",
       "      <td>10</td>\n",
       "      <td>4</td>\n",
       "      <td>1</td>\n",
       "      <td>1.0</td>\n",
       "      <td>0</td>\n",
       "      <td>0.14</td>\n",
       "      <td>0</td>\n",
       "    </tr>\n",
       "    <tr>\n",
       "      <th>101</th>\n",
       "      <td>11</td>\n",
       "      <td>1.0</td>\n",
       "      <td>1</td>\n",
       "      <td>2</td>\n",
       "      <td>1</td>\n",
       "      <td>1</td>\n",
       "      <td>10</td>\n",
       "      <td>10</td>\n",
       "      <td>2</td>\n",
       "      <td>2.0</td>\n",
       "      <td>0</td>\n",
       "      <td>0.29</td>\n",
       "      <td>1</td>\n",
       "    </tr>\n",
       "    <tr>\n",
       "      <th>102</th>\n",
       "      <td>11</td>\n",
       "      <td>1.0</td>\n",
       "      <td>1</td>\n",
       "      <td>2</td>\n",
       "      <td>1</td>\n",
       "      <td>1</td>\n",
       "      <td>10</td>\n",
       "      <td>6</td>\n",
       "      <td>3</td>\n",
       "      <td>3.0</td>\n",
       "      <td>0</td>\n",
       "      <td>-0.24</td>\n",
       "      <td>1</td>\n",
       "    </tr>\n",
       "    <tr>\n",
       "      <th>103</th>\n",
       "      <td>11</td>\n",
       "      <td>1.0</td>\n",
       "      <td>1</td>\n",
       "      <td>2</td>\n",
       "      <td>1</td>\n",
       "      <td>1</td>\n",
       "      <td>10</td>\n",
       "      <td>3</td>\n",
       "      <td>4</td>\n",
       "      <td>4.0</td>\n",
       "      <td>0</td>\n",
       "      <td>-0.18</td>\n",
       "      <td>1</td>\n",
       "    </tr>\n",
       "    <tr>\n",
       "      <th>104</th>\n",
       "      <td>11</td>\n",
       "      <td>1.0</td>\n",
       "      <td>1</td>\n",
       "      <td>2</td>\n",
       "      <td>1</td>\n",
       "      <td>1</td>\n",
       "      <td>10</td>\n",
       "      <td>1</td>\n",
       "      <td>5</td>\n",
       "      <td>5.0</td>\n",
       "      <td>0</td>\n",
       "      <td>-0.43</td>\n",
       "      <td>1</td>\n",
       "    </tr>\n",
       "    <tr>\n",
       "      <th>105</th>\n",
       "      <td>11</td>\n",
       "      <td>1.0</td>\n",
       "      <td>1</td>\n",
       "      <td>2</td>\n",
       "      <td>1</td>\n",
       "      <td>1</td>\n",
       "      <td>10</td>\n",
       "      <td>5</td>\n",
       "      <td>6</td>\n",
       "      <td>6.0</td>\n",
       "      <td>0</td>\n",
       "      <td>0.33</td>\n",
       "      <td>0</td>\n",
       "    </tr>\n",
       "    <tr>\n",
       "      <th>106</th>\n",
       "      <td>11</td>\n",
       "      <td>1.0</td>\n",
       "      <td>1</td>\n",
       "      <td>2</td>\n",
       "      <td>1</td>\n",
       "      <td>1</td>\n",
       "      <td>10</td>\n",
       "      <td>2</td>\n",
       "      <td>7</td>\n",
       "      <td>7.0</td>\n",
       "      <td>0</td>\n",
       "      <td>0.19</td>\n",
       "      <td>0</td>\n",
       "    </tr>\n",
       "    <tr>\n",
       "      <th>107</th>\n",
       "      <td>11</td>\n",
       "      <td>1.0</td>\n",
       "      <td>1</td>\n",
       "      <td>2</td>\n",
       "      <td>1</td>\n",
       "      <td>1</td>\n",
       "      <td>10</td>\n",
       "      <td>7</td>\n",
       "      <td>8</td>\n",
       "      <td>8.0</td>\n",
       "      <td>0</td>\n",
       "      <td>-0.03</td>\n",
       "      <td>1</td>\n",
       "    </tr>\n",
       "    <tr>\n",
       "      <th>108</th>\n",
       "      <td>11</td>\n",
       "      <td>1.0</td>\n",
       "      <td>1</td>\n",
       "      <td>2</td>\n",
       "      <td>1</td>\n",
       "      <td>1</td>\n",
       "      <td>10</td>\n",
       "      <td>8</td>\n",
       "      <td>9</td>\n",
       "      <td>9.0</td>\n",
       "      <td>0</td>\n",
       "      <td>0.19</td>\n",
       "      <td>0</td>\n",
       "    </tr>\n",
       "    <tr>\n",
       "      <th>109</th>\n",
       "      <td>11</td>\n",
       "      <td>1.0</td>\n",
       "      <td>1</td>\n",
       "      <td>2</td>\n",
       "      <td>1</td>\n",
       "      <td>1</td>\n",
       "      <td>10</td>\n",
       "      <td>9</td>\n",
       "      <td>10</td>\n",
       "      <td>10.0</td>\n",
       "      <td>0</td>\n",
       "      <td>0.30</td>\n",
       "      <td>1</td>\n",
       "    </tr>\n",
       "  </tbody>\n",
       "</table>\n",
       "</div>"
      ],
      "text/plain": [
       "     iid   id  gender  idg  condtn  wave  round  order  partner   pid  match  \\\n",
       "100   11  1.0       1    2       1     1     10      4        1   1.0      0   \n",
       "101   11  1.0       1    2       1     1     10     10        2   2.0      0   \n",
       "102   11  1.0       1    2       1     1     10      6        3   3.0      0   \n",
       "103   11  1.0       1    2       1     1     10      3        4   4.0      0   \n",
       "104   11  1.0       1    2       1     1     10      1        5   5.0      0   \n",
       "105   11  1.0       1    2       1     1     10      5        6   6.0      0   \n",
       "106   11  1.0       1    2       1     1     10      2        7   7.0      0   \n",
       "107   11  1.0       1    2       1     1     10      7        8   8.0      0   \n",
       "108   11  1.0       1    2       1     1     10      8        9   9.0      0   \n",
       "109   11  1.0       1    2       1     1     10      9       10  10.0      0   \n",
       "\n",
       "     int_corr  samerace  \n",
       "100      0.14         0  \n",
       "101      0.29         1  \n",
       "102     -0.24         1  \n",
       "103     -0.18         1  \n",
       "104     -0.43         1  \n",
       "105      0.33         0  \n",
       "106      0.19         0  \n",
       "107     -0.03         1  \n",
       "108      0.19         0  \n",
       "109      0.30         1  "
      ]
     },
     "execution_count": 7,
     "metadata": {},
     "output_type": "execute_result"
    }
   ],
   "source": [
    "speedDF[col1][speedDF[\"iid\"]==11].head(11)"
   ]
  },
  {
   "cell_type": "code",
   "execution_count": 8,
   "metadata": {},
   "outputs": [
    {
     "data": {
      "text/html": [
       "<div>\n",
       "<style scoped>\n",
       "    .dataframe tbody tr th:only-of-type {\n",
       "        vertical-align: middle;\n",
       "    }\n",
       "\n",
       "    .dataframe tbody tr th {\n",
       "        vertical-align: top;\n",
       "    }\n",
       "\n",
       "    .dataframe thead th {\n",
       "        text-align: right;\n",
       "    }\n",
       "</style>\n",
       "<table border=\"1\" class=\"dataframe\">\n",
       "  <thead>\n",
       "    <tr style=\"text-align: right;\">\n",
       "      <th></th>\n",
       "      <th>iid</th>\n",
       "      <th>id</th>\n",
       "      <th>gender</th>\n",
       "      <th>idg</th>\n",
       "      <th>condtn</th>\n",
       "      <th>wave</th>\n",
       "      <th>round</th>\n",
       "      <th>order</th>\n",
       "      <th>partner</th>\n",
       "      <th>pid</th>\n",
       "      <th>match</th>\n",
       "      <th>int_corr</th>\n",
       "      <th>samerace</th>\n",
       "    </tr>\n",
       "  </thead>\n",
       "  <tbody>\n",
       "    <tr>\n",
       "      <th>count</th>\n",
       "      <td>8378.000000</td>\n",
       "      <td>8377.000000</td>\n",
       "      <td>8378.000000</td>\n",
       "      <td>8378.000000</td>\n",
       "      <td>8378.000000</td>\n",
       "      <td>8378.000000</td>\n",
       "      <td>8378.000000</td>\n",
       "      <td>8378.000000</td>\n",
       "      <td>8378.000000</td>\n",
       "      <td>8368.000000</td>\n",
       "      <td>8378.000000</td>\n",
       "      <td>8220.000000</td>\n",
       "      <td>8378.000000</td>\n",
       "    </tr>\n",
       "    <tr>\n",
       "      <th>mean</th>\n",
       "      <td>283.675937</td>\n",
       "      <td>8.960248</td>\n",
       "      <td>0.500597</td>\n",
       "      <td>17.327166</td>\n",
       "      <td>1.828837</td>\n",
       "      <td>11.350919</td>\n",
       "      <td>16.872046</td>\n",
       "      <td>8.927668</td>\n",
       "      <td>8.963595</td>\n",
       "      <td>283.863767</td>\n",
       "      <td>0.164717</td>\n",
       "      <td>0.196010</td>\n",
       "      <td>0.395799</td>\n",
       "    </tr>\n",
       "    <tr>\n",
       "      <th>std</th>\n",
       "      <td>158.583367</td>\n",
       "      <td>5.491329</td>\n",
       "      <td>0.500029</td>\n",
       "      <td>10.940735</td>\n",
       "      <td>0.376673</td>\n",
       "      <td>5.995903</td>\n",
       "      <td>4.358458</td>\n",
       "      <td>5.477009</td>\n",
       "      <td>5.491068</td>\n",
       "      <td>158.584899</td>\n",
       "      <td>0.370947</td>\n",
       "      <td>0.303539</td>\n",
       "      <td>0.489051</td>\n",
       "    </tr>\n",
       "    <tr>\n",
       "      <th>min</th>\n",
       "      <td>1.000000</td>\n",
       "      <td>1.000000</td>\n",
       "      <td>0.000000</td>\n",
       "      <td>1.000000</td>\n",
       "      <td>1.000000</td>\n",
       "      <td>1.000000</td>\n",
       "      <td>5.000000</td>\n",
       "      <td>1.000000</td>\n",
       "      <td>1.000000</td>\n",
       "      <td>1.000000</td>\n",
       "      <td>0.000000</td>\n",
       "      <td>-0.830000</td>\n",
       "      <td>0.000000</td>\n",
       "    </tr>\n",
       "    <tr>\n",
       "      <th>25%</th>\n",
       "      <td>154.000000</td>\n",
       "      <td>4.000000</td>\n",
       "      <td>0.000000</td>\n",
       "      <td>8.000000</td>\n",
       "      <td>2.000000</td>\n",
       "      <td>7.000000</td>\n",
       "      <td>14.000000</td>\n",
       "      <td>4.000000</td>\n",
       "      <td>4.000000</td>\n",
       "      <td>154.000000</td>\n",
       "      <td>0.000000</td>\n",
       "      <td>-0.020000</td>\n",
       "      <td>0.000000</td>\n",
       "    </tr>\n",
       "    <tr>\n",
       "      <th>50%</th>\n",
       "      <td>281.000000</td>\n",
       "      <td>8.000000</td>\n",
       "      <td>1.000000</td>\n",
       "      <td>16.000000</td>\n",
       "      <td>2.000000</td>\n",
       "      <td>11.000000</td>\n",
       "      <td>18.000000</td>\n",
       "      <td>8.000000</td>\n",
       "      <td>8.000000</td>\n",
       "      <td>281.000000</td>\n",
       "      <td>0.000000</td>\n",
       "      <td>0.210000</td>\n",
       "      <td>0.000000</td>\n",
       "    </tr>\n",
       "    <tr>\n",
       "      <th>75%</th>\n",
       "      <td>407.000000</td>\n",
       "      <td>13.000000</td>\n",
       "      <td>1.000000</td>\n",
       "      <td>26.000000</td>\n",
       "      <td>2.000000</td>\n",
       "      <td>15.000000</td>\n",
       "      <td>20.000000</td>\n",
       "      <td>13.000000</td>\n",
       "      <td>13.000000</td>\n",
       "      <td>408.000000</td>\n",
       "      <td>0.000000</td>\n",
       "      <td>0.430000</td>\n",
       "      <td>1.000000</td>\n",
       "    </tr>\n",
       "    <tr>\n",
       "      <th>max</th>\n",
       "      <td>552.000000</td>\n",
       "      <td>22.000000</td>\n",
       "      <td>1.000000</td>\n",
       "      <td>44.000000</td>\n",
       "      <td>2.000000</td>\n",
       "      <td>21.000000</td>\n",
       "      <td>22.000000</td>\n",
       "      <td>22.000000</td>\n",
       "      <td>22.000000</td>\n",
       "      <td>552.000000</td>\n",
       "      <td>1.000000</td>\n",
       "      <td>0.910000</td>\n",
       "      <td>1.000000</td>\n",
       "    </tr>\n",
       "  </tbody>\n",
       "</table>\n",
       "</div>"
      ],
      "text/plain": [
       "               iid           id       gender          idg       condtn  \\\n",
       "count  8378.000000  8377.000000  8378.000000  8378.000000  8378.000000   \n",
       "mean    283.675937     8.960248     0.500597    17.327166     1.828837   \n",
       "std     158.583367     5.491329     0.500029    10.940735     0.376673   \n",
       "min       1.000000     1.000000     0.000000     1.000000     1.000000   \n",
       "25%     154.000000     4.000000     0.000000     8.000000     2.000000   \n",
       "50%     281.000000     8.000000     1.000000    16.000000     2.000000   \n",
       "75%     407.000000    13.000000     1.000000    26.000000     2.000000   \n",
       "max     552.000000    22.000000     1.000000    44.000000     2.000000   \n",
       "\n",
       "              wave        round        order      partner          pid  \\\n",
       "count  8378.000000  8378.000000  8378.000000  8378.000000  8368.000000   \n",
       "mean     11.350919    16.872046     8.927668     8.963595   283.863767   \n",
       "std       5.995903     4.358458     5.477009     5.491068   158.584899   \n",
       "min       1.000000     5.000000     1.000000     1.000000     1.000000   \n",
       "25%       7.000000    14.000000     4.000000     4.000000   154.000000   \n",
       "50%      11.000000    18.000000     8.000000     8.000000   281.000000   \n",
       "75%      15.000000    20.000000    13.000000    13.000000   408.000000   \n",
       "max      21.000000    22.000000    22.000000    22.000000   552.000000   \n",
       "\n",
       "             match     int_corr     samerace  \n",
       "count  8378.000000  8220.000000  8378.000000  \n",
       "mean      0.164717     0.196010     0.395799  \n",
       "std       0.370947     0.303539     0.489051  \n",
       "min       0.000000    -0.830000     0.000000  \n",
       "25%       0.000000    -0.020000     0.000000  \n",
       "50%       0.000000     0.210000     0.000000  \n",
       "75%       0.000000     0.430000     1.000000  \n",
       "max       1.000000     0.910000     1.000000  "
      ]
     },
     "execution_count": 8,
     "metadata": {},
     "output_type": "execute_result"
    }
   ],
   "source": [
    "speedDF[col1].describe(include=all)"
   ]
  },
  {
   "cell_type": "markdown",
   "metadata": {},
   "source": [
    "### Correlation between subject and partner's interests  column (int_corr)"
   ]
  },
  {
   "cell_type": "code",
   "execution_count": 9,
   "metadata": {},
   "outputs": [],
   "source": [
    "speedDF[\"int_corr\"][speedDF[\"int_corr\"].isnull()]=\"NaN\"\n",
    "median=speedDF[\"int_corr\"].median()\n",
    "speedDF[\"int_corr\"][speedDF[\"int_corr\"]==\"NaN\"]=median"
   ]
  },
  {
   "cell_type": "markdown",
   "metadata": {},
   "source": [
    "### Partner's age column (age_o)"
   ]
  },
  {
   "cell_type": "code",
   "execution_count": 10,
   "metadata": {},
   "outputs": [
    {
     "data": {
      "text/plain": [
       "26.0"
      ]
     },
     "execution_count": 10,
     "metadata": {},
     "output_type": "execute_result"
    }
   ],
   "source": [
    "speedDF[\"age_o\"][speedDF[\"age_o\"].isnull()]=\"NaN\"\n",
    "speedDF[\"age_o\"][speedDF[\"age_o\"]==\"NaN\"]=median\n",
    "median=speedDF[\"age_o\"].median()\n",
    "median"
   ]
  },
  {
   "cell_type": "code",
   "execution_count": 11,
   "metadata": {},
   "outputs": [],
   "source": [
    "speedDF[\"age_o\"][speedDF[\"age_o\"]==\"NaN\"]=median"
   ]
  },
  {
   "cell_type": "markdown",
   "metadata": {},
   "source": [
    "### Partner's race column (race_o)"
   ]
  },
  {
   "cell_type": "code",
   "execution_count": 12,
   "metadata": {},
   "outputs": [],
   "source": [
    "speedDF[\"race_o\"][speedDF[\"race_o\"].isnull()]=\"NaN\""
   ]
  },
  {
   "cell_type": "code",
   "execution_count": 13,
   "metadata": {},
   "outputs": [
    {
     "data": {
      "text/plain": [
       "0    73\n",
       "Name: samerace, dtype: int64"
      ]
     },
     "execution_count": 13,
     "metadata": {},
     "output_type": "execute_result"
    }
   ],
   "source": [
    "speedDF[\"samerace\"][(speedDF[\"race_o\"]==\"NaN\")].value_counts()"
   ]
  },
  {
   "cell_type": "markdown",
   "metadata": {},
   "source": [
    "None of these instances involve subject and partner of the same race."
   ]
  },
  {
   "cell_type": "markdown",
   "metadata": {},
   "source": [
    "### checking if 'race' column is up to date"
   ]
  },
  {
   "cell_type": "code",
   "execution_count": 14,
   "metadata": {},
   "outputs": [
    {
     "data": {
      "text/plain": [
       "count    8315.000000\n",
       "mean        2.757186\n",
       "std         1.230905\n",
       "min         1.000000\n",
       "25%         2.000000\n",
       "50%         2.000000\n",
       "75%         4.000000\n",
       "max         6.000000\n",
       "Name: race, dtype: float64"
      ]
     },
     "execution_count": 14,
     "metadata": {},
     "output_type": "execute_result"
    }
   ],
   "source": [
    "speedDF[\"race\"].describe()"
   ]
  },
  {
   "cell_type": "markdown",
   "metadata": {},
   "source": [
    "It's incomplete and has equal number of empty instances when compared to 'race_o' column. "
   ]
  },
  {
   "cell_type": "code",
   "execution_count": 15,
   "metadata": {},
   "outputs": [
    {
     "data": {
      "text/plain": [
       "2.0    4722\n",
       "4.0    1978\n",
       "3.0     664\n",
       "6.0     521\n",
       "1.0     420\n",
       "NaN      73\n",
       "Name: race_o, dtype: int64"
      ]
     },
     "execution_count": 15,
     "metadata": {},
     "output_type": "execute_result"
    }
   ],
   "source": [
    "speedDF[\"race_o\"].value_counts()"
   ]
  },
  {
   "cell_type": "markdown",
   "metadata": {},
   "source": [
    "as majority of them have the value two, the missing instances too will be assigned the same value. "
   ]
  },
  {
   "cell_type": "code",
   "execution_count": 16,
   "metadata": {},
   "outputs": [],
   "source": [
    "speedDF[\"race_o\"][(speedDF[\"race_o\"]==\"NaN\")]=2.0"
   ]
  },
  {
   "cell_type": "code",
   "execution_count": 17,
   "metadata": {},
   "outputs": [
    {
     "data": {
      "text/html": [
       "<div>\n",
       "<style scoped>\n",
       "    .dataframe tbody tr th:only-of-type {\n",
       "        vertical-align: middle;\n",
       "    }\n",
       "\n",
       "    .dataframe tbody tr th {\n",
       "        vertical-align: top;\n",
       "    }\n",
       "\n",
       "    .dataframe thead th {\n",
       "        text-align: right;\n",
       "    }\n",
       "</style>\n",
       "<table border=\"1\" class=\"dataframe\">\n",
       "  <thead>\n",
       "    <tr style=\"text-align: right;\">\n",
       "      <th></th>\n",
       "      <th>iid</th>\n",
       "      <th>id</th>\n",
       "      <th>gender</th>\n",
       "      <th>idg</th>\n",
       "      <th>condtn</th>\n",
       "      <th>wave</th>\n",
       "      <th>round</th>\n",
       "      <th>order</th>\n",
       "      <th>partner</th>\n",
       "      <th>pid</th>\n",
       "      <th>match</th>\n",
       "      <th>int_corr</th>\n",
       "      <th>samerace</th>\n",
       "    </tr>\n",
       "  </thead>\n",
       "  <tbody>\n",
       "    <tr>\n",
       "      <th>count</th>\n",
       "      <td>8378.000000</td>\n",
       "      <td>8377.000000</td>\n",
       "      <td>8378.000000</td>\n",
       "      <td>8378.000000</td>\n",
       "      <td>8378.000000</td>\n",
       "      <td>8378.000000</td>\n",
       "      <td>8378.000000</td>\n",
       "      <td>8378.000000</td>\n",
       "      <td>8378.000000</td>\n",
       "      <td>8368.000000</td>\n",
       "      <td>8378.000000</td>\n",
       "      <td>8378.00</td>\n",
       "      <td>8378.000000</td>\n",
       "    </tr>\n",
       "    <tr>\n",
       "      <th>unique</th>\n",
       "      <td>NaN</td>\n",
       "      <td>NaN</td>\n",
       "      <td>NaN</td>\n",
       "      <td>NaN</td>\n",
       "      <td>NaN</td>\n",
       "      <td>NaN</td>\n",
       "      <td>NaN</td>\n",
       "      <td>NaN</td>\n",
       "      <td>NaN</td>\n",
       "      <td>NaN</td>\n",
       "      <td>NaN</td>\n",
       "      <td>155.00</td>\n",
       "      <td>NaN</td>\n",
       "    </tr>\n",
       "    <tr>\n",
       "      <th>top</th>\n",
       "      <td>NaN</td>\n",
       "      <td>NaN</td>\n",
       "      <td>NaN</td>\n",
       "      <td>NaN</td>\n",
       "      <td>NaN</td>\n",
       "      <td>NaN</td>\n",
       "      <td>NaN</td>\n",
       "      <td>NaN</td>\n",
       "      <td>NaN</td>\n",
       "      <td>NaN</td>\n",
       "      <td>NaN</td>\n",
       "      <td>0.21</td>\n",
       "      <td>NaN</td>\n",
       "    </tr>\n",
       "    <tr>\n",
       "      <th>freq</th>\n",
       "      <td>NaN</td>\n",
       "      <td>NaN</td>\n",
       "      <td>NaN</td>\n",
       "      <td>NaN</td>\n",
       "      <td>NaN</td>\n",
       "      <td>NaN</td>\n",
       "      <td>NaN</td>\n",
       "      <td>NaN</td>\n",
       "      <td>NaN</td>\n",
       "      <td>NaN</td>\n",
       "      <td>NaN</td>\n",
       "      <td>252.00</td>\n",
       "      <td>NaN</td>\n",
       "    </tr>\n",
       "    <tr>\n",
       "      <th>mean</th>\n",
       "      <td>283.675937</td>\n",
       "      <td>8.960248</td>\n",
       "      <td>0.500597</td>\n",
       "      <td>17.327166</td>\n",
       "      <td>1.828837</td>\n",
       "      <td>11.350919</td>\n",
       "      <td>16.872046</td>\n",
       "      <td>8.927668</td>\n",
       "      <td>8.963595</td>\n",
       "      <td>283.863767</td>\n",
       "      <td>0.164717</td>\n",
       "      <td>NaN</td>\n",
       "      <td>0.395799</td>\n",
       "    </tr>\n",
       "    <tr>\n",
       "      <th>std</th>\n",
       "      <td>158.583367</td>\n",
       "      <td>5.491329</td>\n",
       "      <td>0.500029</td>\n",
       "      <td>10.940735</td>\n",
       "      <td>0.376673</td>\n",
       "      <td>5.995903</td>\n",
       "      <td>4.358458</td>\n",
       "      <td>5.477009</td>\n",
       "      <td>5.491068</td>\n",
       "      <td>158.584899</td>\n",
       "      <td>0.370947</td>\n",
       "      <td>NaN</td>\n",
       "      <td>0.489051</td>\n",
       "    </tr>\n",
       "    <tr>\n",
       "      <th>min</th>\n",
       "      <td>1.000000</td>\n",
       "      <td>1.000000</td>\n",
       "      <td>0.000000</td>\n",
       "      <td>1.000000</td>\n",
       "      <td>1.000000</td>\n",
       "      <td>1.000000</td>\n",
       "      <td>5.000000</td>\n",
       "      <td>1.000000</td>\n",
       "      <td>1.000000</td>\n",
       "      <td>1.000000</td>\n",
       "      <td>0.000000</td>\n",
       "      <td>NaN</td>\n",
       "      <td>0.000000</td>\n",
       "    </tr>\n",
       "    <tr>\n",
       "      <th>25%</th>\n",
       "      <td>154.000000</td>\n",
       "      <td>4.000000</td>\n",
       "      <td>0.000000</td>\n",
       "      <td>8.000000</td>\n",
       "      <td>2.000000</td>\n",
       "      <td>7.000000</td>\n",
       "      <td>14.000000</td>\n",
       "      <td>4.000000</td>\n",
       "      <td>4.000000</td>\n",
       "      <td>154.000000</td>\n",
       "      <td>0.000000</td>\n",
       "      <td>NaN</td>\n",
       "      <td>0.000000</td>\n",
       "    </tr>\n",
       "    <tr>\n",
       "      <th>50%</th>\n",
       "      <td>281.000000</td>\n",
       "      <td>8.000000</td>\n",
       "      <td>1.000000</td>\n",
       "      <td>16.000000</td>\n",
       "      <td>2.000000</td>\n",
       "      <td>11.000000</td>\n",
       "      <td>18.000000</td>\n",
       "      <td>8.000000</td>\n",
       "      <td>8.000000</td>\n",
       "      <td>281.000000</td>\n",
       "      <td>0.000000</td>\n",
       "      <td>NaN</td>\n",
       "      <td>0.000000</td>\n",
       "    </tr>\n",
       "    <tr>\n",
       "      <th>75%</th>\n",
       "      <td>407.000000</td>\n",
       "      <td>13.000000</td>\n",
       "      <td>1.000000</td>\n",
       "      <td>26.000000</td>\n",
       "      <td>2.000000</td>\n",
       "      <td>15.000000</td>\n",
       "      <td>20.000000</td>\n",
       "      <td>13.000000</td>\n",
       "      <td>13.000000</td>\n",
       "      <td>408.000000</td>\n",
       "      <td>0.000000</td>\n",
       "      <td>NaN</td>\n",
       "      <td>1.000000</td>\n",
       "    </tr>\n",
       "    <tr>\n",
       "      <th>max</th>\n",
       "      <td>552.000000</td>\n",
       "      <td>22.000000</td>\n",
       "      <td>1.000000</td>\n",
       "      <td>44.000000</td>\n",
       "      <td>2.000000</td>\n",
       "      <td>21.000000</td>\n",
       "      <td>22.000000</td>\n",
       "      <td>22.000000</td>\n",
       "      <td>22.000000</td>\n",
       "      <td>552.000000</td>\n",
       "      <td>1.000000</td>\n",
       "      <td>NaN</td>\n",
       "      <td>1.000000</td>\n",
       "    </tr>\n",
       "  </tbody>\n",
       "</table>\n",
       "</div>"
      ],
      "text/plain": [
       "                iid           id       gender          idg       condtn  \\\n",
       "count   8378.000000  8377.000000  8378.000000  8378.000000  8378.000000   \n",
       "unique          NaN          NaN          NaN          NaN          NaN   \n",
       "top             NaN          NaN          NaN          NaN          NaN   \n",
       "freq            NaN          NaN          NaN          NaN          NaN   \n",
       "mean     283.675937     8.960248     0.500597    17.327166     1.828837   \n",
       "std      158.583367     5.491329     0.500029    10.940735     0.376673   \n",
       "min        1.000000     1.000000     0.000000     1.000000     1.000000   \n",
       "25%      154.000000     4.000000     0.000000     8.000000     2.000000   \n",
       "50%      281.000000     8.000000     1.000000    16.000000     2.000000   \n",
       "75%      407.000000    13.000000     1.000000    26.000000     2.000000   \n",
       "max      552.000000    22.000000     1.000000    44.000000     2.000000   \n",
       "\n",
       "               wave        round        order      partner          pid  \\\n",
       "count   8378.000000  8378.000000  8378.000000  8378.000000  8368.000000   \n",
       "unique          NaN          NaN          NaN          NaN          NaN   \n",
       "top             NaN          NaN          NaN          NaN          NaN   \n",
       "freq            NaN          NaN          NaN          NaN          NaN   \n",
       "mean      11.350919    16.872046     8.927668     8.963595   283.863767   \n",
       "std        5.995903     4.358458     5.477009     5.491068   158.584899   \n",
       "min        1.000000     5.000000     1.000000     1.000000     1.000000   \n",
       "25%        7.000000    14.000000     4.000000     4.000000   154.000000   \n",
       "50%       11.000000    18.000000     8.000000     8.000000   281.000000   \n",
       "75%       15.000000    20.000000    13.000000    13.000000   408.000000   \n",
       "max       21.000000    22.000000    22.000000    22.000000   552.000000   \n",
       "\n",
       "              match  int_corr     samerace  \n",
       "count   8378.000000   8378.00  8378.000000  \n",
       "unique          NaN    155.00          NaN  \n",
       "top             NaN      0.21          NaN  \n",
       "freq            NaN    252.00          NaN  \n",
       "mean       0.164717       NaN     0.395799  \n",
       "std        0.370947       NaN     0.489051  \n",
       "min        0.000000       NaN     0.000000  \n",
       "25%        0.000000       NaN     0.000000  \n",
       "50%        0.000000       NaN     0.000000  \n",
       "75%        0.000000       NaN     1.000000  \n",
       "max        1.000000       NaN     1.000000  "
      ]
     },
     "execution_count": 17,
     "metadata": {},
     "output_type": "execute_result"
    }
   ],
   "source": [
    "speedDF[col1].describe(include=all)"
   ]
  },
  {
   "cell_type": "code",
   "execution_count": 18,
   "metadata": {
    "scrolled": true
   },
   "outputs": [],
   "source": [
    "speedDF[\"int_corr\"]=speedDF[\"int_corr\"].astype(float)\n",
    "speedDF[\"age_o\"]=speedDF[\"age_o\"].astype(int)\n",
    "speedDF[\"race_o\"]=speedDF[\"race_o\"].astype(int)"
   ]
  },
  {
   "cell_type": "code",
   "execution_count": 19,
   "metadata": {},
   "outputs": [
    {
     "data": {
      "text/plain": [
       "iid           int64\n",
       "id          float64\n",
       "gender        int64\n",
       "idg           int64\n",
       "condtn        int64\n",
       "wave          int64\n",
       "round         int64\n",
       "order         int64\n",
       "partner       int64\n",
       "pid         float64\n",
       "match         int64\n",
       "int_corr    float64\n",
       "samerace      int64\n",
       "dtype: object"
      ]
     },
     "execution_count": 19,
     "metadata": {},
     "output_type": "execute_result"
    }
   ],
   "source": [
    "speedDF[col1].dtypes"
   ]
  },
  {
   "cell_type": "code",
   "execution_count": 20,
   "metadata": {},
   "outputs": [
    {
     "name": "stdout",
     "output_type": "stream",
     "text": [
      "Total empty cells in iid:  0\n",
      "Total empty cells in id:  1\n",
      "Total empty cells in gender:  0\n",
      "Total empty cells in idg:  0\n",
      "Total empty cells in condtn:  0\n",
      "Total empty cells in wave:  0\n",
      "Total empty cells in round:  0\n",
      "Total empty cells in order:  0\n",
      "Total empty cells in partner:  0\n",
      "Total empty cells in pid:  10\n",
      "Total empty cells in match:  0\n",
      "Total empty cells in int_corr:  0\n",
      "Total empty cells in samerace:  0\n"
     ]
    }
   ],
   "source": [
    "for column in col1:\n",
    "    empty_cells=speedDF[column].isnull().sum()\n",
    "    print(\"Total empty cells in \"+column+\": \",empty_cells)"
   ]
  },
  {
   "cell_type": "code",
   "execution_count": 21,
   "metadata": {},
   "outputs": [],
   "source": [
    "speedDF.dropna(subset=[\"id\",\"pid\"],inplace=True)\n",
    "speedDF.reset_index(drop=True,inplace=True)   "
   ]
  },
  {
   "cell_type": "code",
   "execution_count": 22,
   "metadata": {},
   "outputs": [
    {
     "name": "stdout",
     "output_type": "stream",
     "text": [
      "Total negative cells in iid:  0\n",
      "Total negative cells in id:  0\n",
      "Total negative cells in gender:  0\n",
      "Total negative cells in idg:  0\n",
      "Total negative cells in condtn:  0\n",
      "Total negative cells in wave:  0\n",
      "Total negative cells in round:  0\n",
      "Total negative cells in order:  0\n",
      "Total negative cells in partner:  0\n",
      "Total negative cells in pid:  0\n",
      "Total negative cells in match:  0\n",
      "Total negative cells in int_corr:  2146\n",
      "Total negative cells in samerace:  0\n"
     ]
    }
   ],
   "source": [
    "for column in col1:\n",
    "    neg_cells=speedDF[column][speedDF[column]<0]\n",
    "    total_neg_cells=len(neg_cells)   \n",
    "    print(\"Total negative cells in \"+column+\": \",total_neg_cells)"
   ]
  },
  {
   "cell_type": "code",
   "execution_count": 23,
   "metadata": {},
   "outputs": [],
   "source": [
    "col1.remove(\"int_corr\")"
   ]
  },
  {
   "cell_type": "code",
   "execution_count": 24,
   "metadata": {},
   "outputs": [
    {
     "data": {
      "text/plain": [
       "(8367, 195)"
      ]
     },
     "execution_count": 24,
     "metadata": {},
     "output_type": "execute_result"
    }
   ],
   "source": [
    "speedDF.shape"
   ]
  },
  {
   "cell_type": "markdown",
   "metadata": {},
   "source": [
    "<a id=\"section32\"></a>\n",
    "### 4.2. Scorecard Data key"
   ]
  },
  {
   "cell_type": "markdown",
   "metadata": {},
   "source": [
    "1. Decision:dec 1=yes,0=no\n",
    "\t\n",
    "2. Attributes\n",
    "   (1=awful, 10=great)\t\n",
    "   * Attractive: attr\n",
    "   * Sincere: sinc\n",
    "   * Intelligent: intel\n",
    "   * Fun: fun\n",
    "   * Ambitious: amb\n",
    "   * Shared Interests/Hobbies: shar\n",
    "\t\n",
    "3. Overall, how much do you like this person?\n",
    "   (1=don't like at all, 10=like a lot)-->like\n",
    " \n",
    "4. How probable do you think it is that this person will say 'yes' for you?\n",
    "   (1=not probable, 10=extremely probable)-->prob\n",
    " \n",
    "5. Have you met this person before?\n",
    "   (1=yes,2=no)-->met\n"
   ]
  },
  {
   "cell_type": "markdown",
   "metadata": {},
   "source": [
    "<a id=\"section321\"></a>\n",
    "### &nbsp; 4.2.1 Subject's Scorecard"
   ]
  },
  {
   "cell_type": "code",
   "execution_count": 25,
   "metadata": {},
   "outputs": [],
   "source": [
    "col2=[\"dec\",\"attr\",\"sinc\",\"intel\",\"fun\",\"amb\",\"shar\",\"like\",\"prob\",\"met\"]"
   ]
  },
  {
   "cell_type": "code",
   "execution_count": 26,
   "metadata": {},
   "outputs": [
    {
     "data": {
      "text/html": [
       "<div>\n",
       "<style scoped>\n",
       "    .dataframe tbody tr th:only-of-type {\n",
       "        vertical-align: middle;\n",
       "    }\n",
       "\n",
       "    .dataframe tbody tr th {\n",
       "        vertical-align: top;\n",
       "    }\n",
       "\n",
       "    .dataframe thead th {\n",
       "        text-align: right;\n",
       "    }\n",
       "</style>\n",
       "<table border=\"1\" class=\"dataframe\">\n",
       "  <thead>\n",
       "    <tr style=\"text-align: right;\">\n",
       "      <th></th>\n",
       "      <th>dec</th>\n",
       "      <th>attr</th>\n",
       "      <th>sinc</th>\n",
       "      <th>intel</th>\n",
       "      <th>fun</th>\n",
       "      <th>amb</th>\n",
       "      <th>shar</th>\n",
       "      <th>like</th>\n",
       "      <th>prob</th>\n",
       "      <th>met</th>\n",
       "    </tr>\n",
       "  </thead>\n",
       "  <tbody>\n",
       "    <tr>\n",
       "      <th>count</th>\n",
       "      <td>8367.000000</td>\n",
       "      <td>8165.000000</td>\n",
       "      <td>8090.000000</td>\n",
       "      <td>8071.000000</td>\n",
       "      <td>8017.000000</td>\n",
       "      <td>7655.000000</td>\n",
       "      <td>7301.000000</td>\n",
       "      <td>8127.000000</td>\n",
       "      <td>8059.000000</td>\n",
       "      <td>7992.000000</td>\n",
       "    </tr>\n",
       "    <tr>\n",
       "      <th>mean</th>\n",
       "      <td>0.420103</td>\n",
       "      <td>6.190741</td>\n",
       "      <td>7.175278</td>\n",
       "      <td>7.369471</td>\n",
       "      <td>6.400773</td>\n",
       "      <td>6.778250</td>\n",
       "      <td>5.475483</td>\n",
       "      <td>6.134761</td>\n",
       "      <td>5.208276</td>\n",
       "      <td>0.947698</td>\n",
       "    </tr>\n",
       "    <tr>\n",
       "      <th>std</th>\n",
       "      <td>0.493605</td>\n",
       "      <td>1.949978</td>\n",
       "      <td>1.740682</td>\n",
       "      <td>1.550522</td>\n",
       "      <td>1.953754</td>\n",
       "      <td>1.794143</td>\n",
       "      <td>2.155675</td>\n",
       "      <td>1.841219</td>\n",
       "      <td>2.129485</td>\n",
       "      <td>0.989884</td>\n",
       "    </tr>\n",
       "    <tr>\n",
       "      <th>min</th>\n",
       "      <td>0.000000</td>\n",
       "      <td>0.000000</td>\n",
       "      <td>0.000000</td>\n",
       "      <td>0.000000</td>\n",
       "      <td>0.000000</td>\n",
       "      <td>0.000000</td>\n",
       "      <td>0.000000</td>\n",
       "      <td>0.000000</td>\n",
       "      <td>0.000000</td>\n",
       "      <td>0.000000</td>\n",
       "    </tr>\n",
       "    <tr>\n",
       "      <th>25%</th>\n",
       "      <td>0.000000</td>\n",
       "      <td>5.000000</td>\n",
       "      <td>6.000000</td>\n",
       "      <td>6.000000</td>\n",
       "      <td>5.000000</td>\n",
       "      <td>6.000000</td>\n",
       "      <td>4.000000</td>\n",
       "      <td>5.000000</td>\n",
       "      <td>4.000000</td>\n",
       "      <td>0.000000</td>\n",
       "    </tr>\n",
       "    <tr>\n",
       "      <th>50%</th>\n",
       "      <td>0.000000</td>\n",
       "      <td>6.000000</td>\n",
       "      <td>7.000000</td>\n",
       "      <td>7.000000</td>\n",
       "      <td>7.000000</td>\n",
       "      <td>7.000000</td>\n",
       "      <td>6.000000</td>\n",
       "      <td>6.000000</td>\n",
       "      <td>5.000000</td>\n",
       "      <td>0.000000</td>\n",
       "    </tr>\n",
       "    <tr>\n",
       "      <th>75%</th>\n",
       "      <td>1.000000</td>\n",
       "      <td>8.000000</td>\n",
       "      <td>8.000000</td>\n",
       "      <td>8.000000</td>\n",
       "      <td>8.000000</td>\n",
       "      <td>8.000000</td>\n",
       "      <td>7.000000</td>\n",
       "      <td>7.000000</td>\n",
       "      <td>7.000000</td>\n",
       "      <td>2.000000</td>\n",
       "    </tr>\n",
       "    <tr>\n",
       "      <th>max</th>\n",
       "      <td>1.000000</td>\n",
       "      <td>10.000000</td>\n",
       "      <td>10.000000</td>\n",
       "      <td>10.000000</td>\n",
       "      <td>10.000000</td>\n",
       "      <td>10.000000</td>\n",
       "      <td>10.000000</td>\n",
       "      <td>10.000000</td>\n",
       "      <td>10.000000</td>\n",
       "      <td>8.000000</td>\n",
       "    </tr>\n",
       "  </tbody>\n",
       "</table>\n",
       "</div>"
      ],
      "text/plain": [
       "               dec         attr         sinc        intel          fun  \\\n",
       "count  8367.000000  8165.000000  8090.000000  8071.000000  8017.000000   \n",
       "mean      0.420103     6.190741     7.175278     7.369471     6.400773   \n",
       "std       0.493605     1.949978     1.740682     1.550522     1.953754   \n",
       "min       0.000000     0.000000     0.000000     0.000000     0.000000   \n",
       "25%       0.000000     5.000000     6.000000     6.000000     5.000000   \n",
       "50%       0.000000     6.000000     7.000000     7.000000     7.000000   \n",
       "75%       1.000000     8.000000     8.000000     8.000000     8.000000   \n",
       "max       1.000000    10.000000    10.000000    10.000000    10.000000   \n",
       "\n",
       "               amb         shar         like         prob          met  \n",
       "count  7655.000000  7301.000000  8127.000000  8059.000000  7992.000000  \n",
       "mean      6.778250     5.475483     6.134761     5.208276     0.947698  \n",
       "std       1.794143     2.155675     1.841219     2.129485     0.989884  \n",
       "min       0.000000     0.000000     0.000000     0.000000     0.000000  \n",
       "25%       6.000000     4.000000     5.000000     4.000000     0.000000  \n",
       "50%       7.000000     6.000000     6.000000     5.000000     0.000000  \n",
       "75%       8.000000     7.000000     7.000000     7.000000     2.000000  \n",
       "max      10.000000    10.000000    10.000000    10.000000     8.000000  "
      ]
     },
     "execution_count": 26,
     "metadata": {},
     "output_type": "execute_result"
    }
   ],
   "source": [
    "speedDF[col2].describe(include=all)"
   ]
  },
  {
   "cell_type": "code",
   "execution_count": 27,
   "metadata": {},
   "outputs": [
    {
     "data": {
      "text/plain": [
       "0.0    4046\n",
       "2.0    3588\n",
       "1.0     350\n",
       "7.0       3\n",
       "5.0       2\n",
       "6.0       1\n",
       "8.0       1\n",
       "3.0       1\n",
       "Name: met, dtype: int64"
      ]
     },
     "execution_count": 27,
     "metadata": {},
     "output_type": "execute_result"
    }
   ],
   "source": [
    "speedDF[\"met\"].value_counts()"
   ]
  },
  {
   "cell_type": "code",
   "execution_count": 28,
   "metadata": {},
   "outputs": [],
   "source": [
    "for i in range(0,len(speedDF)):\n",
    "    if speedDF.loc[i,\"met\"]>2:\n",
    "        speedDF.loc[i,\"met\"]=2\n",
    "    else:\n",
    "        continue;"
   ]
  },
  {
   "cell_type": "code",
   "execution_count": 29,
   "metadata": {},
   "outputs": [
    {
     "data": {
      "text/plain": [
       "0.0    4046\n",
       "2.0    3596\n",
       "1.0     350\n",
       "Name: met, dtype: int64"
      ]
     },
     "execution_count": 29,
     "metadata": {},
     "output_type": "execute_result"
    }
   ],
   "source": [
    "speedDF[\"met\"].value_counts()"
   ]
  },
  {
   "cell_type": "code",
   "execution_count": 30,
   "metadata": {},
   "outputs": [],
   "source": [
    "speedDF[\"attr\"][speedDF[\"attr\"].isnull()]=\"NaN\"\n",
    "speedDF[\"sinc\"][speedDF[\"sinc\"].isnull()]=\"NaN\"\n",
    "speedDF[\"intel\"][speedDF[\"intel\"].isnull()]=\"NaN\"\n",
    "speedDF[\"fun\"][speedDF[\"fun\"].isnull()]=\"NaN\"\n",
    "speedDF[\"amb\"][speedDF[\"amb\"].isnull()]=\"NaN\"\n",
    "speedDF[\"shar\"][speedDF[\"shar\"].isnull()]=\"NaN\"\n",
    "speedDF[\"like\"][speedDF[\"like\"].isnull()]=\"NaN\"\n",
    "speedDF[\"prob\"][speedDF[\"prob\"].isnull()]=\"NaN\"\n",
    "speedDF[\"met\"][speedDF[\"met\"].isnull()]=\"NaN\""
   ]
  },
  {
   "cell_type": "code",
   "execution_count": 31,
   "metadata": {},
   "outputs": [],
   "source": [
    "for i in range(0,len(speedDF)):\n",
    "    if speedDF.loc[i,\"attr\"]==\"NaN\":\n",
    "        a1=speedDF[\"attr\"][speedDF[\"pid\"]==speedDF.loc[i,\"pid\"]].median()\n",
    "        speedDF.loc[i,\"attr\"]=a1\n",
    "    else:\n",
    "        continue;"
   ]
  },
  {
   "cell_type": "code",
   "execution_count": 32,
   "metadata": {},
   "outputs": [],
   "source": [
    "for i in range(0,len(speedDF)):\n",
    "    if speedDF.loc[i,\"sinc\"]==\"NaN\":\n",
    "        a1=speedDF[\"sinc\"][speedDF[\"pid\"]==speedDF.loc[i,\"pid\"]].median()\n",
    "        speedDF.loc[i,\"sinc\"]=a1\n",
    "    else:\n",
    "        continue;"
   ]
  },
  {
   "cell_type": "code",
   "execution_count": 33,
   "metadata": {},
   "outputs": [],
   "source": [
    "for i in range(0,len(speedDF)):\n",
    "    if speedDF.loc[i,\"intel\"]==\"NaN\":\n",
    "        a1=speedDF[\"intel\"][speedDF[\"pid\"]==speedDF.loc[i,\"pid\"]].median()\n",
    "        speedDF.loc[i,\"intel\"]=a1\n",
    "    else:\n",
    "        continue;"
   ]
  },
  {
   "cell_type": "code",
   "execution_count": 34,
   "metadata": {},
   "outputs": [],
   "source": [
    "for i in range(0,len(speedDF)):\n",
    "    if speedDF.loc[i,\"fun\"]==\"NaN\":\n",
    "        a1=speedDF[\"fun\"][speedDF[\"pid\"]==speedDF.loc[i,\"pid\"]].median()\n",
    "        speedDF.loc[i,\"fun\"]=a1\n",
    "    else:\n",
    "        continue;"
   ]
  },
  {
   "cell_type": "code",
   "execution_count": 35,
   "metadata": {},
   "outputs": [],
   "source": [
    "for i in range(0,len(speedDF)):\n",
    "    if speedDF.loc[i,\"amb\"]==\"NaN\":\n",
    "        a1=speedDF[\"amb\"][speedDF[\"pid\"]==speedDF.loc[i,\"pid\"]].median()\n",
    "        speedDF.loc[i,\"amb\"]=a1\n",
    "    else:\n",
    "        continue;"
   ]
  },
  {
   "cell_type": "code",
   "execution_count": 36,
   "metadata": {},
   "outputs": [],
   "source": [
    "for i in range(0,len(speedDF)):\n",
    "    if speedDF.loc[i,\"shar\"]==\"NaN\":\n",
    "        a1=speedDF[\"shar\"][speedDF[\"pid\"]==speedDF.loc[i,\"pid\"]].median()\n",
    "        speedDF.loc[i,\"shar\"]=a1\n",
    "    else:\n",
    "        continue;"
   ]
  },
  {
   "cell_type": "code",
   "execution_count": 37,
   "metadata": {},
   "outputs": [],
   "source": [
    "for i in range(0,len(speedDF)):\n",
    "    if speedDF.loc[i,\"like\"]==\"NaN\":\n",
    "        a1=speedDF[\"like\"][speedDF[\"pid\"]==speedDF.loc[i,\"pid\"]].median()\n",
    "        speedDF.loc[i,\"like\"]=a1\n",
    "    else:\n",
    "        continue;"
   ]
  },
  {
   "cell_type": "code",
   "execution_count": 38,
   "metadata": {},
   "outputs": [],
   "source": [
    "for i in range(0,len(speedDF)):\n",
    "    if speedDF.loc[i,\"prob\"]==\"NaN\":\n",
    "        a1=speedDF[\"prob\"][speedDF[\"pid\"]==speedDF.loc[i,\"pid\"]].median()\n",
    "        speedDF.loc[i,\"prob\"]=a1\n",
    "    else:\n",
    "        continue;"
   ]
  },
  {
   "cell_type": "code",
   "execution_count": 39,
   "metadata": {},
   "outputs": [],
   "source": [
    "for i in range(0,len(speedDF)):\n",
    "    if speedDF.loc[i,\"met\"]==\"NaN\":\n",
    "        a1=speedDF[\"met\"][speedDF[\"pid\"]==speedDF.loc[i,\"pid\"]].median()\n",
    "        speedDF.loc[i,\"met\"]=a1\n",
    "    else:\n",
    "        continue;"
   ]
  },
  {
   "cell_type": "code",
   "execution_count": 40,
   "metadata": {},
   "outputs": [
    {
     "data": {
      "text/plain": [
       "dec       int64\n",
       "attr     object\n",
       "sinc     object\n",
       "intel    object\n",
       "fun      object\n",
       "amb      object\n",
       "shar     object\n",
       "like     object\n",
       "prob     object\n",
       "met       int64\n",
       "dtype: object"
      ]
     },
     "execution_count": 40,
     "metadata": {},
     "output_type": "execute_result"
    }
   ],
   "source": [
    "speedDF[col2].dtypes"
   ]
  },
  {
   "cell_type": "code",
   "execution_count": 41,
   "metadata": {},
   "outputs": [],
   "source": [
    "speedDF[\"attr\"]=speedDF[\"attr\"].astype(float)\n",
    "speedDF[\"sinc\"]=speedDF[\"sinc\"].astype(float)\n",
    "speedDF[\"intel\"]=speedDF[\"intel\"].astype(float)\n",
    "speedDF[\"fun\"]=speedDF[\"fun\"].astype(float)\n",
    "speedDF[\"amb\"]=speedDF[\"amb\"].astype(float)\n",
    "speedDF[\"shar\"]=speedDF[\"shar\"].astype(float)\n",
    "speedDF[\"like\"]=speedDF[\"like\"].astype(float)\n",
    "speedDF[\"prob\"]=speedDF[\"prob\"].astype(float)"
   ]
  },
  {
   "cell_type": "code",
   "execution_count": 42,
   "metadata": {},
   "outputs": [
    {
     "data": {
      "text/html": [
       "<div>\n",
       "<style scoped>\n",
       "    .dataframe tbody tr th:only-of-type {\n",
       "        vertical-align: middle;\n",
       "    }\n",
       "\n",
       "    .dataframe tbody tr th {\n",
       "        vertical-align: top;\n",
       "    }\n",
       "\n",
       "    .dataframe thead th {\n",
       "        text-align: right;\n",
       "    }\n",
       "</style>\n",
       "<table border=\"1\" class=\"dataframe\">\n",
       "  <thead>\n",
       "    <tr style=\"text-align: right;\">\n",
       "      <th></th>\n",
       "      <th>dec</th>\n",
       "      <th>attr</th>\n",
       "      <th>sinc</th>\n",
       "      <th>intel</th>\n",
       "      <th>fun</th>\n",
       "      <th>amb</th>\n",
       "      <th>shar</th>\n",
       "      <th>like</th>\n",
       "      <th>prob</th>\n",
       "      <th>met</th>\n",
       "    </tr>\n",
       "  </thead>\n",
       "  <tbody>\n",
       "    <tr>\n",
       "      <th>count</th>\n",
       "      <td>8367.000000</td>\n",
       "      <td>8367.000000</td>\n",
       "      <td>8367.000000</td>\n",
       "      <td>8367.000000</td>\n",
       "      <td>8367.000000</td>\n",
       "      <td>8367.000000</td>\n",
       "      <td>8367.000000</td>\n",
       "      <td>8367.000000</td>\n",
       "      <td>8367.000000</td>\n",
       "      <td>8367.000000</td>\n",
       "    </tr>\n",
       "    <tr>\n",
       "      <th>mean</th>\n",
       "      <td>0.420103</td>\n",
       "      <td>6.193546</td>\n",
       "      <td>7.175391</td>\n",
       "      <td>7.367127</td>\n",
       "      <td>6.400502</td>\n",
       "      <td>6.783196</td>\n",
       "      <td>5.486883</td>\n",
       "      <td>6.135287</td>\n",
       "      <td>5.211725</td>\n",
       "      <td>0.936178</td>\n",
       "    </tr>\n",
       "    <tr>\n",
       "      <th>std</th>\n",
       "      <td>0.493605</td>\n",
       "      <td>1.938220</td>\n",
       "      <td>1.715843</td>\n",
       "      <td>1.529292</td>\n",
       "      <td>1.926324</td>\n",
       "      <td>1.734937</td>\n",
       "      <td>2.051781</td>\n",
       "      <td>1.821873</td>\n",
       "      <td>2.097982</td>\n",
       "      <td>0.976775</td>\n",
       "    </tr>\n",
       "    <tr>\n",
       "      <th>min</th>\n",
       "      <td>0.000000</td>\n",
       "      <td>0.000000</td>\n",
       "      <td>0.000000</td>\n",
       "      <td>0.000000</td>\n",
       "      <td>0.000000</td>\n",
       "      <td>0.000000</td>\n",
       "      <td>0.000000</td>\n",
       "      <td>0.000000</td>\n",
       "      <td>0.000000</td>\n",
       "      <td>0.000000</td>\n",
       "    </tr>\n",
       "    <tr>\n",
       "      <th>25%</th>\n",
       "      <td>0.000000</td>\n",
       "      <td>5.000000</td>\n",
       "      <td>6.000000</td>\n",
       "      <td>6.000000</td>\n",
       "      <td>5.000000</td>\n",
       "      <td>6.000000</td>\n",
       "      <td>4.000000</td>\n",
       "      <td>5.000000</td>\n",
       "      <td>4.000000</td>\n",
       "      <td>0.000000</td>\n",
       "    </tr>\n",
       "    <tr>\n",
       "      <th>50%</th>\n",
       "      <td>0.000000</td>\n",
       "      <td>6.000000</td>\n",
       "      <td>7.000000</td>\n",
       "      <td>7.000000</td>\n",
       "      <td>7.000000</td>\n",
       "      <td>7.000000</td>\n",
       "      <td>6.000000</td>\n",
       "      <td>6.000000</td>\n",
       "      <td>5.000000</td>\n",
       "      <td>0.000000</td>\n",
       "    </tr>\n",
       "    <tr>\n",
       "      <th>75%</th>\n",
       "      <td>1.000000</td>\n",
       "      <td>8.000000</td>\n",
       "      <td>8.000000</td>\n",
       "      <td>8.000000</td>\n",
       "      <td>8.000000</td>\n",
       "      <td>8.000000</td>\n",
       "      <td>7.000000</td>\n",
       "      <td>7.000000</td>\n",
       "      <td>7.000000</td>\n",
       "      <td>2.000000</td>\n",
       "    </tr>\n",
       "    <tr>\n",
       "      <th>max</th>\n",
       "      <td>1.000000</td>\n",
       "      <td>10.000000</td>\n",
       "      <td>10.000000</td>\n",
       "      <td>10.000000</td>\n",
       "      <td>10.000000</td>\n",
       "      <td>10.000000</td>\n",
       "      <td>10.000000</td>\n",
       "      <td>10.000000</td>\n",
       "      <td>10.000000</td>\n",
       "      <td>2.000000</td>\n",
       "    </tr>\n",
       "  </tbody>\n",
       "</table>\n",
       "</div>"
      ],
      "text/plain": [
       "               dec         attr         sinc        intel          fun  \\\n",
       "count  8367.000000  8367.000000  8367.000000  8367.000000  8367.000000   \n",
       "mean      0.420103     6.193546     7.175391     7.367127     6.400502   \n",
       "std       0.493605     1.938220     1.715843     1.529292     1.926324   \n",
       "min       0.000000     0.000000     0.000000     0.000000     0.000000   \n",
       "25%       0.000000     5.000000     6.000000     6.000000     5.000000   \n",
       "50%       0.000000     6.000000     7.000000     7.000000     7.000000   \n",
       "75%       1.000000     8.000000     8.000000     8.000000     8.000000   \n",
       "max       1.000000    10.000000    10.000000    10.000000    10.000000   \n",
       "\n",
       "               amb         shar         like         prob          met  \n",
       "count  8367.000000  8367.000000  8367.000000  8367.000000  8367.000000  \n",
       "mean      6.783196     5.486883     6.135287     5.211725     0.936178  \n",
       "std       1.734937     2.051781     1.821873     2.097982     0.976775  \n",
       "min       0.000000     0.000000     0.000000     0.000000     0.000000  \n",
       "25%       6.000000     4.000000     5.000000     4.000000     0.000000  \n",
       "50%       7.000000     6.000000     6.000000     5.000000     0.000000  \n",
       "75%       8.000000     7.000000     7.000000     7.000000     2.000000  \n",
       "max      10.000000    10.000000    10.000000    10.000000     2.000000  "
      ]
     },
     "execution_count": 42,
     "metadata": {},
     "output_type": "execute_result"
    }
   ],
   "source": [
    "speedDF[col2].describe(include=all)"
   ]
  },
  {
   "cell_type": "code",
   "execution_count": 43,
   "metadata": {},
   "outputs": [
    {
     "name": "stdout",
     "output_type": "stream",
     "text": [
      "Total empty cells in dec:  0\n",
      "Total empty cells in attr:  0\n",
      "Total empty cells in sinc:  0\n",
      "Total empty cells in intel:  0\n",
      "Total empty cells in fun:  0\n",
      "Total empty cells in amb:  0\n",
      "Total empty cells in shar:  0\n",
      "Total empty cells in like:  0\n",
      "Total empty cells in prob:  0\n",
      "Total empty cells in met:  0\n"
     ]
    }
   ],
   "source": [
    "for column in col2:\n",
    "    empty_cells=speedDF[column].isnull().sum()\n",
    "    print(\"Total empty cells in \"+column+\": \",empty_cells)"
   ]
  },
  {
   "cell_type": "code",
   "execution_count": 44,
   "metadata": {},
   "outputs": [
    {
     "name": "stdout",
     "output_type": "stream",
     "text": [
      "Total negative cells in dec:  0\n",
      "Total negative cells in attr:  0.0\n",
      "Total negative cells in sinc:  0.0\n",
      "Total negative cells in intel:  0.0\n",
      "Total negative cells in fun:  0.0\n",
      "Total negative cells in amb:  0.0\n",
      "Total negative cells in shar:  0.0\n",
      "Total negative cells in like:  0.0\n",
      "Total negative cells in prob:  0.0\n",
      "Total negative cells in met:  0\n"
     ]
    }
   ],
   "source": [
    "for column in col2:\n",
    "    neg_cells=speedDF[column][speedDF[column]<0].values.sum()\n",
    "    print(\"Total negative cells in \"+column+\": \",neg_cells)"
   ]
  },
  {
   "cell_type": "code",
   "execution_count": 45,
   "metadata": {},
   "outputs": [
    {
     "data": {
      "text/plain": [
       "(8367, 195)"
      ]
     },
     "execution_count": 45,
     "metadata": {},
     "output_type": "execute_result"
    }
   ],
   "source": [
    "speedDF.shape"
   ]
  },
  {
   "cell_type": "markdown",
   "metadata": {},
   "source": [
    "<a id=\"section4\"></a>\n",
    "## 5. Feature Engineering and Selection"
   ]
  },
  {
   "cell_type": "markdown",
   "metadata": {},
   "source": [
    "<a id=\"section41\"></a>\n",
    "### &nbsp; 5.1.  Subject's Overall Rating of Partner"
   ]
  },
  {
   "cell_type": "code",
   "execution_count": 46,
   "metadata": {},
   "outputs": [],
   "source": [
    "speedDF[\"rating\"]=(speedDF[\"attr\"]+speedDF[\"sinc\"]+speedDF[\"intel\"]+speedDF[\"fun\"]+speedDF[\"amb\"]+speedDF[\"shar\"])/6.0"
   ]
  },
  {
   "cell_type": "markdown",
   "metadata": {},
   "source": [
    "The culmination of all attributes rated out of ten by the subject."
   ]
  },
  {
   "cell_type": "code",
   "execution_count": 47,
   "metadata": {},
   "outputs": [
    {
     "data": {
      "text/plain": [
       "dtype('float64')"
      ]
     },
     "execution_count": 47,
     "metadata": {},
     "output_type": "execute_result"
    }
   ],
   "source": [
    "speedDF[\"rating\"].dtypes"
   ]
  },
  {
   "cell_type": "markdown",
   "metadata": {},
   "source": [
    "<a id=\"section43\"></a>\n",
    "### &nbsp; 5.2.  Actually Met before"
   ]
  },
  {
   "cell_type": "code",
   "execution_count": 48,
   "metadata": {},
   "outputs": [],
   "source": [
    "speedDF[\"act_met\"]=speedDF[\"met\"]\n",
    "for i in range(0,len(speedDF)):\n",
    "    if (speedDF.loc[i,\"met\"]==speedDF.loc[i,\"met_o\"]) & (speedDF.loc[i,\"met\"]==1):\n",
    "        speedDF.loc[i,\"act_met\"]=1\n",
    "    elif  (speedDF.loc[i,\"met\"]==speedDF.loc[i,\"met_o\"]) & (speedDF.loc[i,\"met\"]==2):\n",
    "        speedDF.loc[i,\"act_met\"]=0\n",
    "    elif  (speedDF.loc[i,\"met\"]!=speedDF.loc[i,\"met_o\"]):\n",
    "        speedDF.loc[i,\"act_met\"]=0"
   ]
  },
  {
   "cell_type": "code",
   "execution_count": 49,
   "metadata": {},
   "outputs": [
    {
     "data": {
      "text/plain": [
       "dtype('int64')"
      ]
     },
     "execution_count": 49,
     "metadata": {},
     "output_type": "execute_result"
    }
   ],
   "source": [
    "speedDF[\"act_met\"].dtypes"
   ]
  },
  {
   "cell_type": "markdown",
   "metadata": {},
   "source": [
    "## Feature Selection"
   ]
  },
  {
   "cell_type": "markdown",
   "metadata": {},
   "source": [
    "<a id=\"section5\"></a>\n",
    "## 6. Exploratory Data Analysis (EDA)\n",
    "\n",
    "Checking relation of feature variables with target variable,which is column \"dec\""
   ]
  },
  {
   "cell_type": "code",
   "execution_count": 50,
   "metadata": {},
   "outputs": [],
   "source": [
    "data=speedDF"
   ]
  },
  {
   "cell_type": "markdown",
   "metadata": {},
   "source": [
    "<a id=\"section52\"></a>\n",
    "### &nbsp; 6.1. Relation between Choice and Decision"
   ]
  },
  {
   "cell_type": "code",
   "execution_count": 51,
   "metadata": {},
   "outputs": [
    {
     "data": {
      "image/png": "[encoded data removed]",
      "text/plain": [
       "<Figure size 576x432 with 2 Axes>"
      ]
     },
     "metadata": {},
     "output_type": "display_data"
    }
   ],
   "source": [
    "sns.set(font_scale=1.2)\n",
    "fig,axs=plt.subplots(1,2,figsize=(8,6))\n",
    "c1=sns.countplot(x=\"dec\",data=data[data[\"condtn\"]==2],ax=axs[0])\n",
    "c1.set_xticklabels([\"No\",\"Yes\"])\n",
    "\n",
    "c1.set(xlabel=\"Decision\")\n",
    "c1.set_title(\"Extensive Choice vs Match\")\n",
    "c2=sns.countplot(x=\"dec\",data=data[data[\"condtn\"]==1],ax=axs[1])\n",
    "c2.set_xticklabels([\"No\",\"Yes\"])\n",
    "\n",
    "c2.set(ylabel=\"\")\n",
    "c2.set(xlabel=\"Decision\")\n",
    "c2.set_title(\"Limited Choice vs Match\")\n",
    "plt.show(c1)\n",
    "plt.show(c2)"
   ]
  },
  {
   "cell_type": "markdown",
   "metadata": {},
   "source": [
    "There is no relation between Choice and Match."
   ]
  },
  {
   "cell_type": "markdown",
   "metadata": {},
   "source": [
    "<a id=\"section53\"></a>\n",
    "### 6.2. Relation between Subject's scorecard ratings and decision"
   ]
  },
  {
   "cell_type": "code",
   "execution_count": 52,
   "metadata": {},
   "outputs": [
    {
     "data": {
      "text/plain": [
       "Text(0.5, 1.0, 'Shared Interests vs Decision')"
      ]
     },
     "execution_count": 52,
     "metadata": {},
     "output_type": "execute_result"
    },
    {
     "data": {
      "image/png": "[encoded data removed]",
      "text/plain": [
       "<Figure size 720x864 with 6 Axes>"
      ]
     },
     "metadata": {},
     "output_type": "display_data"
    }
   ],
   "source": [
    "sns.set(font_scale=1.3)\n",
    "fig,axs=plt.subplots(2,3,figsize=(10,12))\n",
    "c1=sns.boxplot(y=\"fun\",x=\"dec\",data=data,ax=axs[0,0])\n",
    "c1.set_xticklabels([\"No\",\"Yes\"])\n",
    "c1.set(ylabel=\"Rating\")\n",
    "c1.set(xlabel=\"\")\n",
    "c1.set_title(\"Fun vs Decision\")\n",
    "\n",
    "c2=sns.boxplot(y=\"intel\",x=\"dec\",data=data,ax=axs[0,1])\n",
    "c2.set_xticklabels([\"No\",\"Yes\"])\n",
    "c2.set(ylabel=\"\")\n",
    "c2.set(xlabel=\"\")\n",
    "c2.set_title(\"Intelligent vs Decision\")\n",
    "\n",
    "c3=sns.boxplot(y=\"amb\",x=\"dec\",data=data,ax=axs[1,0])\n",
    "c3.set_xticklabels([\"No\",\"Yes\"])\n",
    "c3.set(ylabel=\"Rating\")\n",
    "c3.set(xlabel=\"Decision\")\n",
    "c3.set_title(\"Ambitious vs Decision\")\n",
    "\n",
    "c4=sns.boxplot(y=\"sinc\",x=\"dec\",data=data,ax=axs[1,1])\n",
    "c4.set_xticklabels([\"No\",\"Yes\"])\n",
    "c4.set(ylabel=\"\")\n",
    "c4.set(xlabel=\"Decision\")\n",
    "c4.set_title(\"Sincere vs Decision\")\n",
    "\n",
    "\n",
    "c5=sns.boxplot(y=\"attr\",x=\"dec\",data=data,ax=axs[1,2])\n",
    "c5.set_xticklabels([\"No\",\"Yes\"])\n",
    "c5.set(ylabel=\"\")\n",
    "c5.set(xlabel=\"Decision\")\n",
    "c5.set_title(\"Attractive vs Decision\")\n",
    "\n",
    "c6=sns.boxplot(y=\"shar\",x=\"dec\",data=data,ax=axs[0,2])\n",
    "c6.set_xticklabels([\"No\",\"Yes\"])\n",
    "c6.set(ylabel=\"\")\n",
    "c6.set(xlabel=\"\")\n",
    "c6.set_title(\"Shared Interests vs Decision\")"
   ]
  },
  {
   "cell_type": "markdown",
   "metadata": {},
   "source": [
    "While attributes like Attractive, Shared Interests,Intelligent,Sincere and Fun from the scorecard shows a significant correlation with decision, ambitious attribute doesn't show any correlation with it."
   ]
  },
  {
   "cell_type": "markdown",
   "metadata": {},
   "source": [
    "<a id=\"section55\"></a>\n",
    "### &nbsp; 6.3. Relation between Met and Decision"
   ]
  },
  {
   "cell_type": "code",
   "execution_count": 53,
   "metadata": {},
   "outputs": [
    {
     "data": {
      "text/plain": [
       "Text(0.5, 1.0, \"Haven't Met vs Match\")"
      ]
     },
     "execution_count": 53,
     "metadata": {},
     "output_type": "execute_result"
    },
    {
     "data": {
      "image/png": "[encoded data removed]",
      "text/plain": [
       "<Figure size 720x432 with 2 Axes>"
      ]
     },
     "metadata": {},
     "output_type": "display_data"
    }
   ],
   "source": [
    "sns.set(font_scale=1.2)\n",
    "fig,axs=plt.subplots(1,2,figsize=(10,6))\n",
    "c1=sns.countplot(x=\"dec\",data=data[data[\"act_met\"]==1],ax=axs[0])\n",
    "c1.set_xticklabels([\"No\",\"Yes\"])\n",
    "c1.set(ylabel=\"Number of People\")\n",
    "c1.set(xlabel=\"Decision\")\n",
    "c1.set_title(\"Met vs Match\")\n",
    "\n",
    "\n",
    "\n",
    "c2=sns.countplot(x=\"dec\",data=data[data[\"act_met\"]==0],ax=axs[1])\n",
    "c2.set_xticklabels([\"No\",\"Yes\"])\n",
    "c2.set(xlabel=\"Decision\")\n",
    "c2.set(ylabel=\" \")\n",
    "c2.set_title(\"Haven't Met vs Match\")\n",
    "\n",
    "\n"
   ]
  },
  {
   "cell_type": "markdown",
   "metadata": {},
   "source": [
    "Second date is on the cards when subject has met their partner before."
   ]
  },
  {
   "cell_type": "markdown",
   "metadata": {},
   "source": [
    "<a id=\"section6\"></a>\n",
    "##  7. Feature Selection"
   ]
  },
  {
   "cell_type": "code",
   "execution_count": 54,
   "metadata": {},
   "outputs": [],
   "source": [
    "columns=[]\n",
    "columns=col1+col2+[\"rating\",\"act_met\"]\n",
    "remove_list=[\"iid\",\"id\",\"pid\",\"dec\",\"match\",\"prob\",\"like\"]\n",
    "for e in remove_list:\n",
    "    columns.remove(e)\n",
    "X=speedDF.loc[:,columns]\n",
    "y=speedDF.loc[:,\"dec\"]"
   ]
  },
  {
   "cell_type": "code",
   "execution_count": 55,
   "metadata": {},
   "outputs": [],
   "source": [
    "#Univariate Selection\n",
    "from sklearn.feature_selection import SelectKBest\n",
    "from sklearn.feature_selection import chi2"
   ]
  },
  {
   "cell_type": "code",
   "execution_count": 56,
   "metadata": {},
   "outputs": [],
   "source": [
    "features_score_model=SelectKBest(score_func=chi2,k=len(columns))\n",
    "features_score_array=features_score_model.fit(X,y)\n",
    "features_score=features_score_array.scores_\n"
   ]
  },
  {
   "cell_type": "code",
   "execution_count": 57,
   "metadata": {},
   "outputs": [],
   "source": [
    "features_score_table=pd.DataFrame(data={\"feature\":columns,\"score\":features_score})"
   ]
  },
  {
   "cell_type": "code",
   "execution_count": 58,
   "metadata": {},
   "outputs": [
    {
     "data": {
      "text/html": [
       "<div>\n",
       "<style scoped>\n",
       "    .dataframe tbody tr th:only-of-type {\n",
       "        vertical-align: middle;\n",
       "    }\n",
       "\n",
       "    .dataframe tbody tr th {\n",
       "        vertical-align: top;\n",
       "    }\n",
       "\n",
       "    .dataframe thead th {\n",
       "        text-align: right;\n",
       "    }\n",
       "</style>\n",
       "<table border=\"1\" class=\"dataframe\">\n",
       "  <thead>\n",
       "    <tr style=\"text-align: right;\">\n",
       "      <th></th>\n",
       "      <th>feature</th>\n",
       "      <th>score</th>\n",
       "    </tr>\n",
       "  </thead>\n",
       "  <tbody>\n",
       "    <tr>\n",
       "      <th>0</th>\n",
       "      <td>gender</td>\n",
       "      <td>51.330566</td>\n",
       "    </tr>\n",
       "    <tr>\n",
       "      <th>1</th>\n",
       "      <td>idg</td>\n",
       "      <td>10.722082</td>\n",
       "    </tr>\n",
       "    <tr>\n",
       "      <th>2</th>\n",
       "      <td>condtn</td>\n",
       "      <td>0.926154</td>\n",
       "    </tr>\n",
       "    <tr>\n",
       "      <th>3</th>\n",
       "      <td>wave</td>\n",
       "      <td>3.660603</td>\n",
       "    </tr>\n",
       "    <tr>\n",
       "      <th>4</th>\n",
       "      <td>round</td>\n",
       "      <td>13.279992</td>\n",
       "    </tr>\n",
       "    <tr>\n",
       "      <th>5</th>\n",
       "      <td>order</td>\n",
       "      <td>28.762036</td>\n",
       "    </tr>\n",
       "    <tr>\n",
       "      <th>6</th>\n",
       "      <td>partner</td>\n",
       "      <td>0.092854</td>\n",
       "    </tr>\n",
       "    <tr>\n",
       "      <th>7</th>\n",
       "      <td>samerace</td>\n",
       "      <td>2.612433</td>\n",
       "    </tr>\n",
       "    <tr>\n",
       "      <th>8</th>\n",
       "      <td>attr</td>\n",
       "      <td>1161.076905</td>\n",
       "    </tr>\n",
       "    <tr>\n",
       "      <th>9</th>\n",
       "      <td>sinc</td>\n",
       "      <td>147.242701</td>\n",
       "    </tr>\n",
       "    <tr>\n",
       "      <th>10</th>\n",
       "      <td>intel</td>\n",
       "      <td>121.643601</td>\n",
       "    </tr>\n",
       "    <tr>\n",
       "      <th>11</th>\n",
       "      <td>fun</td>\n",
       "      <td>802.519617</td>\n",
       "    </tr>\n",
       "    <tr>\n",
       "      <th>12</th>\n",
       "      <td>amb</td>\n",
       "      <td>117.401447</td>\n",
       "    </tr>\n",
       "    <tr>\n",
       "      <th>13</th>\n",
       "      <td>shar</td>\n",
       "      <td>939.402018</td>\n",
       "    </tr>\n",
       "    <tr>\n",
       "      <th>14</th>\n",
       "      <td>met</td>\n",
       "      <td>3.816089</td>\n",
       "    </tr>\n",
       "    <tr>\n",
       "      <th>15</th>\n",
       "      <td>rating</td>\n",
       "      <td>430.184806</td>\n",
       "    </tr>\n",
       "    <tr>\n",
       "      <th>16</th>\n",
       "      <td>act_met</td>\n",
       "      <td>40.251283</td>\n",
       "    </tr>\n",
       "  </tbody>\n",
       "</table>\n",
       "</div>"
      ],
      "text/plain": [
       "     feature        score\n",
       "0     gender    51.330566\n",
       "1        idg    10.722082\n",
       "2     condtn     0.926154\n",
       "3       wave     3.660603\n",
       "4      round    13.279992\n",
       "5      order    28.762036\n",
       "6    partner     0.092854\n",
       "7   samerace     2.612433\n",
       "8       attr  1161.076905\n",
       "9       sinc   147.242701\n",
       "10     intel   121.643601\n",
       "11       fun   802.519617\n",
       "12       amb   117.401447\n",
       "13      shar   939.402018\n",
       "14       met     3.816089\n",
       "15    rating   430.184806\n",
       "16   act_met    40.251283"
      ]
     },
     "execution_count": 58,
     "metadata": {},
     "output_type": "execute_result"
    }
   ],
   "source": [
    "features_score_table"
   ]
  },
  {
   "cell_type": "code",
   "execution_count": 59,
   "metadata": {},
   "outputs": [
    {
     "data": {
      "text/html": [
       "<div>\n",
       "<style scoped>\n",
       "    .dataframe tbody tr th:only-of-type {\n",
       "        vertical-align: middle;\n",
       "    }\n",
       "\n",
       "    .dataframe tbody tr th {\n",
       "        vertical-align: top;\n",
       "    }\n",
       "\n",
       "    .dataframe thead th {\n",
       "        text-align: right;\n",
       "    }\n",
       "</style>\n",
       "<table border=\"1\" class=\"dataframe\">\n",
       "  <thead>\n",
       "    <tr style=\"text-align: right;\">\n",
       "      <th></th>\n",
       "      <th>feature</th>\n",
       "      <th>score</th>\n",
       "    </tr>\n",
       "  </thead>\n",
       "  <tbody>\n",
       "    <tr>\n",
       "      <th>8</th>\n",
       "      <td>attr</td>\n",
       "      <td>1161.076905</td>\n",
       "    </tr>\n",
       "    <tr>\n",
       "      <th>13</th>\n",
       "      <td>shar</td>\n",
       "      <td>939.402018</td>\n",
       "    </tr>\n",
       "    <tr>\n",
       "      <th>11</th>\n",
       "      <td>fun</td>\n",
       "      <td>802.519617</td>\n",
       "    </tr>\n",
       "    <tr>\n",
       "      <th>15</th>\n",
       "      <td>rating</td>\n",
       "      <td>430.184806</td>\n",
       "    </tr>\n",
       "    <tr>\n",
       "      <th>9</th>\n",
       "      <td>sinc</td>\n",
       "      <td>147.242701</td>\n",
       "    </tr>\n",
       "    <tr>\n",
       "      <th>10</th>\n",
       "      <td>intel</td>\n",
       "      <td>121.643601</td>\n",
       "    </tr>\n",
       "    <tr>\n",
       "      <th>12</th>\n",
       "      <td>amb</td>\n",
       "      <td>117.401447</td>\n",
       "    </tr>\n",
       "    <tr>\n",
       "      <th>0</th>\n",
       "      <td>gender</td>\n",
       "      <td>51.330566</td>\n",
       "    </tr>\n",
       "    <tr>\n",
       "      <th>16</th>\n",
       "      <td>act_met</td>\n",
       "      <td>40.251283</td>\n",
       "    </tr>\n",
       "    <tr>\n",
       "      <th>5</th>\n",
       "      <td>order</td>\n",
       "      <td>28.762036</td>\n",
       "    </tr>\n",
       "    <tr>\n",
       "      <th>4</th>\n",
       "      <td>round</td>\n",
       "      <td>13.279992</td>\n",
       "    </tr>\n",
       "    <tr>\n",
       "      <th>1</th>\n",
       "      <td>idg</td>\n",
       "      <td>10.722082</td>\n",
       "    </tr>\n",
       "    <tr>\n",
       "      <th>14</th>\n",
       "      <td>met</td>\n",
       "      <td>3.816089</td>\n",
       "    </tr>\n",
       "    <tr>\n",
       "      <th>3</th>\n",
       "      <td>wave</td>\n",
       "      <td>3.660603</td>\n",
       "    </tr>\n",
       "    <tr>\n",
       "      <th>7</th>\n",
       "      <td>samerace</td>\n",
       "      <td>2.612433</td>\n",
       "    </tr>\n",
       "  </tbody>\n",
       "</table>\n",
       "</div>"
      ],
      "text/plain": [
       "     feature        score\n",
       "8       attr  1161.076905\n",
       "13      shar   939.402018\n",
       "11       fun   802.519617\n",
       "15    rating   430.184806\n",
       "9       sinc   147.242701\n",
       "10     intel   121.643601\n",
       "12       amb   117.401447\n",
       "0     gender    51.330566\n",
       "16   act_met    40.251283\n",
       "5      order    28.762036\n",
       "4      round    13.279992\n",
       "1        idg    10.722082\n",
       "14       met     3.816089\n",
       "3       wave     3.660603\n",
       "7   samerace     2.612433"
      ]
     },
     "execution_count": 59,
     "metadata": {},
     "output_type": "execute_result"
    }
   ],
   "source": [
    "features_score_table.nlargest(15,\"score\")"
   ]
  },
  {
   "cell_type": "code",
   "execution_count": 60,
   "metadata": {},
   "outputs": [
    {
     "data": {
      "text/plain": [
       "ExtraTreesClassifier(bootstrap=False, ccp_alpha=0.0, class_weight=None,\n",
       "                     criterion='gini', max_depth=None, max_features='auto',\n",
       "                     max_leaf_nodes=None, max_samples=None,\n",
       "                     min_impurity_decrease=0.0, min_impurity_split=None,\n",
       "                     min_samples_leaf=1, min_samples_split=2,\n",
       "                     min_weight_fraction_leaf=0.0, n_estimators=100,\n",
       "                     n_jobs=None, oob_score=False, random_state=None, verbose=0,\n",
       "                     warm_start=False)"
      ]
     },
     "execution_count": 60,
     "metadata": {},
     "output_type": "execute_result"
    }
   ],
   "source": [
    "## Feature Importance\n",
    "\"\"\"\n",
    "This techniques rates every feature by giving it a particular score.\n",
    "Higher the score,more relevant is the feature.\n",
    "\n",
    "\"\"\"\n",
    "from sklearn.ensemble import ExtraTreesClassifier\n",
    "model=ExtraTreesClassifier()\n",
    "model.fit(X,y)"
   ]
  },
  {
   "cell_type": "code",
   "execution_count": 61,
   "metadata": {},
   "outputs": [
    {
     "data": {
      "text/plain": [
       "array([0.0215962 , 0.07510389, 0.01122529, 0.05368137, 0.04827417,\n",
       "       0.06446457, 0.06229115, 0.02590684, 0.14463647, 0.05585204,\n",
       "       0.05124165, 0.10027559, 0.05513107, 0.08936779, 0.02301244,\n",
       "       0.11217966, 0.0057598 ])"
      ]
     },
     "execution_count": 61,
     "metadata": {},
     "output_type": "execute_result"
    }
   ],
   "source": [
    "model.feature_importances_"
   ]
  },
  {
   "cell_type": "code",
   "execution_count": 62,
   "metadata": {},
   "outputs": [
    {
     "data": {
      "text/plain": [
       "gender      0.021596\n",
       "idg         0.075104\n",
       "condtn      0.011225\n",
       "wave        0.053681\n",
       "round       0.048274\n",
       "order       0.064465\n",
       "partner     0.062291\n",
       "samerace    0.025907\n",
       "attr        0.144636\n",
       "sinc        0.055852\n",
       "intel       0.051242\n",
       "fun         0.100276\n",
       "amb         0.055131\n",
       "shar        0.089368\n",
       "met         0.023012\n",
       "rating      0.112180\n",
       "act_met     0.005760\n",
       "dtype: float64"
      ]
     },
     "execution_count": 62,
     "metadata": {},
     "output_type": "execute_result"
    }
   ],
   "source": [
    "feature_imp_table=pd.Series(model.feature_importances_,index=columns)\n",
    "feature_imp_table"
   ]
  },
  {
   "cell_type": "code",
   "execution_count": 63,
   "metadata": {},
   "outputs": [
    {
     "data": {
      "text/plain": [
       "<matplotlib.axes._subplots.AxesSubplot at 0x23a861585c8>"
      ]
     },
     "execution_count": 63,
     "metadata": {},
     "output_type": "execute_result"
    },
    {
     "data": {
      "image/png": "[encoded data removed]",
      "text/plain": [
       "<Figure size 432x288 with 1 Axes>"
      ]
     },
     "metadata": {},
     "output_type": "display_data"
    }
   ],
   "source": [
    "feature_imp_table.nlargest(15).plot(kind='barh')"
   ]
  },
  {
   "cell_type": "markdown",
   "metadata": {},
   "source": [
    "<a id=\"section61\"></a>\n",
    "### &nbsp; 7.1. Correlation Table"
   ]
  },
  {
   "cell_type": "code",
   "execution_count": 64,
   "metadata": {
    "scrolled": true
   },
   "outputs": [
    {
     "data": {
      "text/html": [
       "<div>\n",
       "<style scoped>\n",
       "    .dataframe tbody tr th:only-of-type {\n",
       "        vertical-align: middle;\n",
       "    }\n",
       "\n",
       "    .dataframe tbody tr th {\n",
       "        vertical-align: top;\n",
       "    }\n",
       "\n",
       "    .dataframe thead th {\n",
       "        text-align: right;\n",
       "    }\n",
       "</style>\n",
       "<table border=\"1\" class=\"dataframe\">\n",
       "  <thead>\n",
       "    <tr style=\"text-align: right;\">\n",
       "      <th></th>\n",
       "      <th>gender</th>\n",
       "      <th>idg</th>\n",
       "      <th>condtn</th>\n",
       "      <th>wave</th>\n",
       "      <th>round</th>\n",
       "      <th>order</th>\n",
       "      <th>partner</th>\n",
       "      <th>samerace</th>\n",
       "      <th>attr</th>\n",
       "      <th>sinc</th>\n",
       "      <th>intel</th>\n",
       "      <th>fun</th>\n",
       "      <th>amb</th>\n",
       "      <th>shar</th>\n",
       "      <th>met</th>\n",
       "      <th>rating</th>\n",
       "      <th>act_met</th>\n",
       "      <th>dec</th>\n",
       "    </tr>\n",
       "  </thead>\n",
       "  <tbody>\n",
       "    <tr>\n",
       "      <th>gender</th>\n",
       "      <td>1.000000</td>\n",
       "      <td>0.034145</td>\n",
       "      <td>-0.000054</td>\n",
       "      <td>-0.000192</td>\n",
       "      <td>0.022422</td>\n",
       "      <td>0.007308</td>\n",
       "      <td>0.010314</td>\n",
       "      <td>0.000097</td>\n",
       "      <td>0.136876</td>\n",
       "      <td>0.043445</td>\n",
       "      <td>-0.051457</td>\n",
       "      <td>0.057295</td>\n",
       "      <td>-0.105696</td>\n",
       "      <td>0.023315</td>\n",
       "      <td>0.000237</td>\n",
       "      <td>0.028971</td>\n",
       "      <td>0.000022</td>\n",
       "      <td>0.110762</td>\n",
       "    </tr>\n",
       "    <tr>\n",
       "      <th>idg</th>\n",
       "      <td>0.034145</td>\n",
       "      <td>1.000000</td>\n",
       "      <td>0.324241</td>\n",
       "      <td>0.091529</td>\n",
       "      <td>0.387082</td>\n",
       "      <td>0.154174</td>\n",
       "      <td>0.150154</td>\n",
       "      <td>-0.011601</td>\n",
       "      <td>-0.039588</td>\n",
       "      <td>-0.052864</td>\n",
       "      <td>-0.064306</td>\n",
       "      <td>-0.059780</td>\n",
       "      <td>-0.061745</td>\n",
       "      <td>-0.038585</td>\n",
       "      <td>-0.073554</td>\n",
       "      <td>-0.069638</td>\n",
       "      <td>-0.038729</td>\n",
       "      <td>-0.013623</td>\n",
       "    </tr>\n",
       "    <tr>\n",
       "      <th>condtn</th>\n",
       "      <td>-0.000054</td>\n",
       "      <td>0.324241</td>\n",
       "      <td>1.000000</td>\n",
       "      <td>0.217567</td>\n",
       "      <td>0.815757</td>\n",
       "      <td>0.323496</td>\n",
       "      <td>0.318160</td>\n",
       "      <td>0.067853</td>\n",
       "      <td>-0.000556</td>\n",
       "      <td>-0.042678</td>\n",
       "      <td>-0.019281</td>\n",
       "      <td>-0.027191</td>\n",
       "      <td>-0.019199</td>\n",
       "      <td>-0.024365</td>\n",
       "      <td>-0.145511</td>\n",
       "      <td>-0.029400</td>\n",
       "      <td>-0.061551</td>\n",
       "      <td>-0.037870</td>\n",
       "    </tr>\n",
       "    <tr>\n",
       "      <th>wave</th>\n",
       "      <td>-0.000192</td>\n",
       "      <td>0.091529</td>\n",
       "      <td>0.217567</td>\n",
       "      <td>1.000000</td>\n",
       "      <td>0.235576</td>\n",
       "      <td>0.092069</td>\n",
       "      <td>0.090871</td>\n",
       "      <td>-0.015856</td>\n",
       "      <td>-0.021773</td>\n",
       "      <td>-0.046859</td>\n",
       "      <td>-0.048794</td>\n",
       "      <td>-0.004513</td>\n",
       "      <td>-0.037739</td>\n",
       "      <td>-0.047625</td>\n",
       "      <td>-0.533435</td>\n",
       "      <td>-0.045315</td>\n",
       "      <td>-0.068453</td>\n",
       "      <td>-0.011759</td>\n",
       "    </tr>\n",
       "    <tr>\n",
       "      <th>round</th>\n",
       "      <td>0.022422</td>\n",
       "      <td>0.387082</td>\n",
       "      <td>0.815757</td>\n",
       "      <td>0.235576</td>\n",
       "      <td>1.000000</td>\n",
       "      <td>0.399422</td>\n",
       "      <td>0.390907</td>\n",
       "      <td>0.032721</td>\n",
       "      <td>-0.033174</td>\n",
       "      <td>-0.073629</td>\n",
       "      <td>-0.061308</td>\n",
       "      <td>-0.058058</td>\n",
       "      <td>-0.055105</td>\n",
       "      <td>-0.048270</td>\n",
       "      <td>-0.173880</td>\n",
       "      <td>-0.072541</td>\n",
       "      <td>-0.058127</td>\n",
       "      <td>-0.037591</td>\n",
       "    </tr>\n",
       "    <tr>\n",
       "      <th>order</th>\n",
       "      <td>0.007308</td>\n",
       "      <td>0.154174</td>\n",
       "      <td>0.323496</td>\n",
       "      <td>0.092069</td>\n",
       "      <td>0.399422</td>\n",
       "      <td>1.000000</td>\n",
       "      <td>0.157531</td>\n",
       "      <td>0.008149</td>\n",
       "      <td>-0.013867</td>\n",
       "      <td>-0.110866</td>\n",
       "      <td>-0.080939</td>\n",
       "      <td>-0.036575</td>\n",
       "      <td>-0.057465</td>\n",
       "      <td>0.011947</td>\n",
       "      <td>-0.072330</td>\n",
       "      <td>-0.059730</td>\n",
       "      <td>-0.039666</td>\n",
       "      <td>-0.031987</td>\n",
       "    </tr>\n",
       "    <tr>\n",
       "      <th>partner</th>\n",
       "      <td>0.010314</td>\n",
       "      <td>0.150154</td>\n",
       "      <td>0.318160</td>\n",
       "      <td>0.090871</td>\n",
       "      <td>0.390907</td>\n",
       "      <td>0.157531</td>\n",
       "      <td>1.000000</td>\n",
       "      <td>-0.013921</td>\n",
       "      <td>0.029564</td>\n",
       "      <td>-0.016308</td>\n",
       "      <td>-0.028171</td>\n",
       "      <td>0.012680</td>\n",
       "      <td>-0.005715</td>\n",
       "      <td>-0.006005</td>\n",
       "      <td>-0.071209</td>\n",
       "      <td>-0.001421</td>\n",
       "      <td>-0.038017</td>\n",
       "      <td>0.001816</td>\n",
       "    </tr>\n",
       "    <tr>\n",
       "      <th>samerace</th>\n",
       "      <td>0.000097</td>\n",
       "      <td>-0.011601</td>\n",
       "      <td>0.067853</td>\n",
       "      <td>-0.015856</td>\n",
       "      <td>0.032721</td>\n",
       "      <td>0.008149</td>\n",
       "      <td>-0.013921</td>\n",
       "      <td>1.000000</td>\n",
       "      <td>0.049119</td>\n",
       "      <td>0.010418</td>\n",
       "      <td>0.015796</td>\n",
       "      <td>0.012804</td>\n",
       "      <td>0.015482</td>\n",
       "      <td>0.061245</td>\n",
       "      <td>0.072458</td>\n",
       "      <td>0.038601</td>\n",
       "      <td>0.016119</td>\n",
       "      <td>0.022742</td>\n",
       "    </tr>\n",
       "    <tr>\n",
       "      <th>attr</th>\n",
       "      <td>0.136876</td>\n",
       "      <td>-0.039588</td>\n",
       "      <td>-0.000556</td>\n",
       "      <td>-0.021773</td>\n",
       "      <td>-0.033174</td>\n",
       "      <td>-0.013867</td>\n",
       "      <td>0.029564</td>\n",
       "      <td>0.049119</td>\n",
       "      <td>1.000000</td>\n",
       "      <td>0.395195</td>\n",
       "      <td>0.384890</td>\n",
       "      <td>0.580594</td>\n",
       "      <td>0.345031</td>\n",
       "      <td>0.463967</td>\n",
       "      <td>-0.004896</td>\n",
       "      <td>0.721135</td>\n",
       "      <td>0.105698</td>\n",
       "      <td>0.478342</td>\n",
       "    </tr>\n",
       "    <tr>\n",
       "      <th>sinc</th>\n",
       "      <td>0.043445</td>\n",
       "      <td>-0.052864</td>\n",
       "      <td>-0.042678</td>\n",
       "      <td>-0.046859</td>\n",
       "      <td>-0.073629</td>\n",
       "      <td>-0.110866</td>\n",
       "      <td>-0.016308</td>\n",
       "      <td>0.010418</td>\n",
       "      <td>0.395195</td>\n",
       "      <td>1.000000</td>\n",
       "      <td>0.651335</td>\n",
       "      <td>0.482273</td>\n",
       "      <td>0.440016</td>\n",
       "      <td>0.374812</td>\n",
       "      <td>0.042696</td>\n",
       "      <td>0.729170</td>\n",
       "      <td>0.059366</td>\n",
       "      <td>0.207111</td>\n",
       "    </tr>\n",
       "    <tr>\n",
       "      <th>intel</th>\n",
       "      <td>-0.051457</td>\n",
       "      <td>-0.064306</td>\n",
       "      <td>-0.019281</td>\n",
       "      <td>-0.048794</td>\n",
       "      <td>-0.061308</td>\n",
       "      <td>-0.080939</td>\n",
       "      <td>-0.028171</td>\n",
       "      <td>0.015796</td>\n",
       "      <td>0.384890</td>\n",
       "      <td>0.651335</td>\n",
       "      <td>1.000000</td>\n",
       "      <td>0.484349</td>\n",
       "      <td>0.607764</td>\n",
       "      <td>0.379674</td>\n",
       "      <td>0.025550</td>\n",
       "      <td>0.756177</td>\n",
       "      <td>0.102016</td>\n",
       "      <td>0.214015</td>\n",
       "    </tr>\n",
       "    <tr>\n",
       "      <th>fun</th>\n",
       "      <td>0.057295</td>\n",
       "      <td>-0.059780</td>\n",
       "      <td>-0.027191</td>\n",
       "      <td>-0.004513</td>\n",
       "      <td>-0.058058</td>\n",
       "      <td>-0.036575</td>\n",
       "      <td>0.012680</td>\n",
       "      <td>0.012804</td>\n",
       "      <td>0.580594</td>\n",
       "      <td>0.482273</td>\n",
       "      <td>0.484349</td>\n",
       "      <td>1.000000</td>\n",
       "      <td>0.473317</td>\n",
       "      <td>0.594602</td>\n",
       "      <td>0.023655</td>\n",
       "      <td>0.817770</td>\n",
       "      <td>0.132996</td>\n",
       "      <td>0.406768</td>\n",
       "    </tr>\n",
       "    <tr>\n",
       "      <th>amb</th>\n",
       "      <td>-0.105696</td>\n",
       "      <td>-0.061745</td>\n",
       "      <td>-0.019199</td>\n",
       "      <td>-0.037739</td>\n",
       "      <td>-0.055105</td>\n",
       "      <td>-0.057465</td>\n",
       "      <td>-0.005715</td>\n",
       "      <td>0.015482</td>\n",
       "      <td>0.345031</td>\n",
       "      <td>0.440016</td>\n",
       "      <td>0.607764</td>\n",
       "      <td>0.473317</td>\n",
       "      <td>1.000000</td>\n",
       "      <td>0.411526</td>\n",
       "      <td>0.070057</td>\n",
       "      <td>0.717495</td>\n",
       "      <td>0.084478</td>\n",
       "      <td>0.177833</td>\n",
       "    </tr>\n",
       "    <tr>\n",
       "      <th>shar</th>\n",
       "      <td>0.023315</td>\n",
       "      <td>-0.038585</td>\n",
       "      <td>-0.024365</td>\n",
       "      <td>-0.047625</td>\n",
       "      <td>-0.048270</td>\n",
       "      <td>0.011947</td>\n",
       "      <td>-0.006005</td>\n",
       "      <td>0.061245</td>\n",
       "      <td>0.463967</td>\n",
       "      <td>0.374812</td>\n",
       "      <td>0.379674</td>\n",
       "      <td>0.594602</td>\n",
       "      <td>0.411526</td>\n",
       "      <td>1.000000</td>\n",
       "      <td>0.029538</td>\n",
       "      <td>0.740811</td>\n",
       "      <td>0.128597</td>\n",
       "      <td>0.382559</td>\n",
       "    </tr>\n",
       "    <tr>\n",
       "      <th>met</th>\n",
       "      <td>0.000237</td>\n",
       "      <td>-0.073554</td>\n",
       "      <td>-0.145511</td>\n",
       "      <td>-0.533435</td>\n",
       "      <td>-0.173880</td>\n",
       "      <td>-0.072330</td>\n",
       "      <td>-0.071209</td>\n",
       "      <td>0.072458</td>\n",
       "      <td>-0.004896</td>\n",
       "      <td>0.042696</td>\n",
       "      <td>0.025550</td>\n",
       "      <td>0.023655</td>\n",
       "      <td>0.070057</td>\n",
       "      <td>0.029538</td>\n",
       "      <td>1.000000</td>\n",
       "      <td>0.040583</td>\n",
       "      <td>0.012114</td>\n",
       "      <td>0.021156</td>\n",
       "    </tr>\n",
       "    <tr>\n",
       "      <th>rating</th>\n",
       "      <td>0.028971</td>\n",
       "      <td>-0.069638</td>\n",
       "      <td>-0.029400</td>\n",
       "      <td>-0.045315</td>\n",
       "      <td>-0.072541</td>\n",
       "      <td>-0.059730</td>\n",
       "      <td>-0.001421</td>\n",
       "      <td>0.038601</td>\n",
       "      <td>0.721135</td>\n",
       "      <td>0.729170</td>\n",
       "      <td>0.756177</td>\n",
       "      <td>0.817770</td>\n",
       "      <td>0.717495</td>\n",
       "      <td>0.740811</td>\n",
       "      <td>0.040583</td>\n",
       "      <td>1.000000</td>\n",
       "      <td>0.138650</td>\n",
       "      <td>0.428074</td>\n",
       "    </tr>\n",
       "    <tr>\n",
       "      <th>act_met</th>\n",
       "      <td>0.000022</td>\n",
       "      <td>-0.038729</td>\n",
       "      <td>-0.061551</td>\n",
       "      <td>-0.068453</td>\n",
       "      <td>-0.058127</td>\n",
       "      <td>-0.039666</td>\n",
       "      <td>-0.038017</td>\n",
       "      <td>0.016119</td>\n",
       "      <td>0.105698</td>\n",
       "      <td>0.059366</td>\n",
       "      <td>0.102016</td>\n",
       "      <td>0.132996</td>\n",
       "      <td>0.084478</td>\n",
       "      <td>0.128597</td>\n",
       "      <td>0.012114</td>\n",
       "      <td>0.138650</td>\n",
       "      <td>1.000000</td>\n",
       "      <td>0.070541</td>\n",
       "    </tr>\n",
       "    <tr>\n",
       "      <th>dec</th>\n",
       "      <td>0.110762</td>\n",
       "      <td>-0.013623</td>\n",
       "      <td>-0.037870</td>\n",
       "      <td>-0.011759</td>\n",
       "      <td>-0.037591</td>\n",
       "      <td>-0.031987</td>\n",
       "      <td>0.001816</td>\n",
       "      <td>0.022742</td>\n",
       "      <td>0.478342</td>\n",
       "      <td>0.207111</td>\n",
       "      <td>0.214015</td>\n",
       "      <td>0.406768</td>\n",
       "      <td>0.177833</td>\n",
       "      <td>0.382559</td>\n",
       "      <td>0.021156</td>\n",
       "      <td>0.428074</td>\n",
       "      <td>0.070541</td>\n",
       "      <td>1.000000</td>\n",
       "    </tr>\n",
       "  </tbody>\n",
       "</table>\n",
       "</div>"
      ],
      "text/plain": [
       "            gender       idg    condtn      wave     round     order  \\\n",
       "gender    1.000000  0.034145 -0.000054 -0.000192  0.022422  0.007308   \n",
       "idg       0.034145  1.000000  0.324241  0.091529  0.387082  0.154174   \n",
       "condtn   -0.000054  0.324241  1.000000  0.217567  0.815757  0.323496   \n",
       "wave     -0.000192  0.091529  0.217567  1.000000  0.235576  0.092069   \n",
       "round     0.022422  0.387082  0.815757  0.235576  1.000000  0.399422   \n",
       "order     0.007308  0.154174  0.323496  0.092069  0.399422  1.000000   \n",
       "partner   0.010314  0.150154  0.318160  0.090871  0.390907  0.157531   \n",
       "samerace  0.000097 -0.011601  0.067853 -0.015856  0.032721  0.008149   \n",
       "attr      0.136876 -0.039588 -0.000556 -0.021773 -0.033174 -0.013867   \n",
       "sinc      0.043445 -0.052864 -0.042678 -0.046859 -0.073629 -0.110866   \n",
       "intel    -0.051457 -0.064306 -0.019281 -0.048794 -0.061308 -0.080939   \n",
       "fun       0.057295 -0.059780 -0.027191 -0.004513 -0.058058 -0.036575   \n",
       "amb      -0.105696 -0.061745 -0.019199 -0.037739 -0.055105 -0.057465   \n",
       "shar      0.023315 -0.038585 -0.024365 -0.047625 -0.048270  0.011947   \n",
       "met       0.000237 -0.073554 -0.145511 -0.533435 -0.173880 -0.072330   \n",
       "rating    0.028971 -0.069638 -0.029400 -0.045315 -0.072541 -0.059730   \n",
       "act_met   0.000022 -0.038729 -0.061551 -0.068453 -0.058127 -0.039666   \n",
       "dec       0.110762 -0.013623 -0.037870 -0.011759 -0.037591 -0.031987   \n",
       "\n",
       "           partner  samerace      attr      sinc     intel       fun  \\\n",
       "gender    0.010314  0.000097  0.136876  0.043445 -0.051457  0.057295   \n",
       "idg       0.150154 -0.011601 -0.039588 -0.052864 -0.064306 -0.059780   \n",
       "condtn    0.318160  0.067853 -0.000556 -0.042678 -0.019281 -0.027191   \n",
       "wave      0.090871 -0.015856 -0.021773 -0.046859 -0.048794 -0.004513   \n",
       "round     0.390907  0.032721 -0.033174 -0.073629 -0.061308 -0.058058   \n",
       "order     0.157531  0.008149 -0.013867 -0.110866 -0.080939 -0.036575   \n",
       "partner   1.000000 -0.013921  0.029564 -0.016308 -0.028171  0.012680   \n",
       "samerace -0.013921  1.000000  0.049119  0.010418  0.015796  0.012804   \n",
       "attr      0.029564  0.049119  1.000000  0.395195  0.384890  0.580594   \n",
       "sinc     -0.016308  0.010418  0.395195  1.000000  0.651335  0.482273   \n",
       "intel    -0.028171  0.015796  0.384890  0.651335  1.000000  0.484349   \n",
       "fun       0.012680  0.012804  0.580594  0.482273  0.484349  1.000000   \n",
       "amb      -0.005715  0.015482  0.345031  0.440016  0.607764  0.473317   \n",
       "shar     -0.006005  0.061245  0.463967  0.374812  0.379674  0.594602   \n",
       "met      -0.071209  0.072458 -0.004896  0.042696  0.025550  0.023655   \n",
       "rating   -0.001421  0.038601  0.721135  0.729170  0.756177  0.817770   \n",
       "act_met  -0.038017  0.016119  0.105698  0.059366  0.102016  0.132996   \n",
       "dec       0.001816  0.022742  0.478342  0.207111  0.214015  0.406768   \n",
       "\n",
       "               amb      shar       met    rating   act_met       dec  \n",
       "gender   -0.105696  0.023315  0.000237  0.028971  0.000022  0.110762  \n",
       "idg      -0.061745 -0.038585 -0.073554 -0.069638 -0.038729 -0.013623  \n",
       "condtn   -0.019199 -0.024365 -0.145511 -0.029400 -0.061551 -0.037870  \n",
       "wave     -0.037739 -0.047625 -0.533435 -0.045315 -0.068453 -0.011759  \n",
       "round    -0.055105 -0.048270 -0.173880 -0.072541 -0.058127 -0.037591  \n",
       "order    -0.057465  0.011947 -0.072330 -0.059730 -0.039666 -0.031987  \n",
       "partner  -0.005715 -0.006005 -0.071209 -0.001421 -0.038017  0.001816  \n",
       "samerace  0.015482  0.061245  0.072458  0.038601  0.016119  0.022742  \n",
       "attr      0.345031  0.463967 -0.004896  0.721135  0.105698  0.478342  \n",
       "sinc      0.440016  0.374812  0.042696  0.729170  0.059366  0.207111  \n",
       "intel     0.607764  0.379674  0.025550  0.756177  0.102016  0.214015  \n",
       "fun       0.473317  0.594602  0.023655  0.817770  0.132996  0.406768  \n",
       "amb       1.000000  0.411526  0.070057  0.717495  0.084478  0.177833  \n",
       "shar      0.411526  1.000000  0.029538  0.740811  0.128597  0.382559  \n",
       "met       0.070057  0.029538  1.000000  0.040583  0.012114  0.021156  \n",
       "rating    0.717495  0.740811  0.040583  1.000000  0.138650  0.428074  \n",
       "act_met   0.084478  0.128597  0.012114  0.138650  1.000000  0.070541  \n",
       "dec       0.177833  0.382559  0.021156  0.428074  0.070541  1.000000  "
      ]
     },
     "execution_count": 64,
     "metadata": {},
     "output_type": "execute_result"
    }
   ],
   "source": [
    "## Correlation \n",
    "columns.append(\"dec\")\n",
    "corr_matrix=speedDF[columns].corr()\n",
    "features=corr_matrix.index\n",
    "corr_matrix\n"
   ]
  },
  {
   "cell_type": "markdown",
   "metadata": {},
   "source": [
    "### &nbsp; 7.2. Finding High Correlation Features"
   ]
  },
  {
   "cell_type": "code",
   "execution_count": 65,
   "metadata": {},
   "outputs": [],
   "source": [
    "def correlation(dataset, threshold):\n",
    "    high_corr = [] # List of all the names of deleted columns\n",
    "    corr_matrix =dataset.corr()\n",
    "    lt_corr_matrix=corr_matrix.where(np.tril(np.ones(corr_matrix.shape)).astype(np.bool))\n",
    "    cols_list=list(corr_matrix.columns)\n",
    "    rows,columns=corr_matrix.shape\n",
    "\n",
    "    # Adding blacklisted columns to the empty list \"del_cols\"                              \n",
    "    for column in range(0,columns):\n",
    "        for row in range(column+1,rows):\n",
    "            if (corr_matrix.iloc[row, column] >= threshold ) and (cols_list[column] not in high_corr ):\n",
    "                col_name = cols_list[column] # getting the name of column\n",
    "                high_corr.append(col_name)\n",
    "            else:\n",
    "                continue\n",
    "    for column in range(1,columns):\n",
    "        for row in range(0,column):\n",
    "            if (corr_matrix.iloc[row, column] >= threshold) and (cols_list[column] not in high_corr ):\n",
    "                col_name = cols_list[column] # getting the name of column\n",
    "                high_corr.append(col_name)\n",
    "            else:\n",
    "                continue\n",
    "    high_corr1=high_corr[:int(len(high_corr)/2)]\n",
    "    high_corr2=high_corr[int(len(high_corr)/2):]\n",
    "    high_corr_feats=[]\n",
    "    for i in range(0,int(len(high_corr)/2)):\n",
    "        high_corr_feats.append(high_corr1[i]+' - '+high_corr2[i])\n",
    "    return high_corr_feats"
   ]
  },
  {
   "cell_type": "code",
   "execution_count": 66,
   "metadata": {},
   "outputs": [
    {
     "data": {
      "text/plain": [
       "['condtn - round', 'fun - rating']"
      ]
     },
     "execution_count": 66,
     "metadata": {},
     "output_type": "execute_result"
    }
   ],
   "source": [
    "correlation(speedDF[columns],0.8)"
   ]
  },
  {
   "cell_type": "code",
   "execution_count": 67,
   "metadata": {},
   "outputs": [],
   "source": [
    "remove_list=[\"round\",\"rating\"]\n",
    "for i in remove_list:\n",
    "    columns.remove(i)"
   ]
  },
  {
   "cell_type": "markdown",
   "metadata": {},
   "source": [
    "<a id=\"section62\"></a>\n",
    "### &nbsp; 7.3. Plotting a Heatmap to visualize Correlation table\n"
   ]
  },
  {
   "cell_type": "code",
   "execution_count": 68,
   "metadata": {},
   "outputs": [
    {
     "data": {
      "text/plain": [
       "<matplotlib.axes._subplots.AxesSubplot at 0x23a84f91fc8>"
      ]
     },
     "execution_count": 68,
     "metadata": {},
     "output_type": "execute_result"
    },
    {
     "data": {
      "image/png": "[encoded data removed]",
      "text/plain": [
       "<Figure size 1728x1728 with 2 Axes>"
      ]
     },
     "metadata": {},
     "output_type": "display_data"
    }
   ],
   "source": [
    "plt.figure(figsize=(24,24))\n",
    "hm=sns.heatmap(speedDF[columns].corr(),annot=True)\n",
    "plt.yticks(rotation=0)\n",
    "bottom,top=hm.get_ylim()\n",
    "hm.set_ylim(bottom+0.5,top+0.5)\n",
    "hm"
   ]
  },
  {
   "cell_type": "markdown",
   "metadata": {},
   "source": [
    "The following features are to be selected for the model.\n",
    "* attr \t\n",
    "* shar \n",
    "* fun \t \n",
    "* sinc \t\n",
    "* intel\n",
    "* amb \n",
    "* gender"
   ]
  },
  {
   "cell_type": "code",
   "execution_count": 69,
   "metadata": {},
   "outputs": [],
   "source": [
    "features=[\"attr\",\"shar\",\"fun\",\"sinc\",\"intel\",\"amb\",\"gender\"]\n"
   ]
  },
  {
   "cell_type": "code",
   "execution_count": 70,
   "metadata": {},
   "outputs": [],
   "source": [
    "X=speedDF[features]\n",
    "y=speedDF[\"dec\"]"
   ]
  },
  {
   "cell_type": "markdown",
   "metadata": {},
   "source": [
    "<a id=\"section7\"></a>\n",
    "\n",
    "## 8. Model Development using Pipelines\n"
   ]
  },
  {
   "cell_type": "code",
   "execution_count": 71,
   "metadata": {},
   "outputs": [],
   "source": [
    "from sklearn.metrics import accuracy_score\n",
    "from sklearn.model_selection import train_test_split\n",
    "from sklearn.ensemble import RandomForestClassifier\n",
    "from sklearn.model_selection import RandomizedSearchCV\n",
    "from sklearn.model_selection import GridSearchCV"
   ]
  },
  {
   "cell_type": "markdown",
   "metadata": {},
   "source": [
    "<a id=\"section72\"></a>\n",
    "\n",
    "###  &nbsp; 8.1. Train, test split"
   ]
  },
  {
   "cell_type": "code",
   "execution_count": 72,
   "metadata": {},
   "outputs": [],
   "source": [
    "from sklearn.model_selection import train_test_split\n",
    "X_train,X_test,y_train,y_test=train_test_split(X, y, test_size=0.35)"
   ]
  },
  {
   "cell_type": "markdown",
   "metadata": {},
   "source": [
    "<a id=\"section73\"></a>\n",
    "### &nbsp; 8.2. RandomForest Algorithm"
   ]
  },
  {
   "cell_type": "code",
   "execution_count": 73,
   "metadata": {},
   "outputs": [
    {
     "data": {
      "text/plain": [
       "0.7289177193581428"
      ]
     },
     "execution_count": 73,
     "metadata": {},
     "output_type": "execute_result"
    }
   ],
   "source": [
    "from sklearn.ensemble import RandomForestClassifier\n",
    "d=RandomForestClassifier()\n",
    "d.fit(X_train, y_train)\n",
    "a=d.predict(X_test)\n",
    "from sklearn.metrics import accuracy_score\n",
    "accuracy_score(y_test, a)"
   ]
  },
  {
   "cell_type": "code",
   "execution_count": 74,
   "metadata": {},
   "outputs": [
    {
     "name": "stdout",
     "output_type": "stream",
     "text": [
      "{'n_estimators': [200, 400, 600, 800, 1000, 1200, 1400, 1600, 1800, 2000], 'max_features': ['auto', 'sqrt', 'log2'], 'max_depth': [10, 20, 30, 40, 50, 60, 70, 80, 90, 100], 'min_samples_split': [2, 4, 5, 10, 15], 'min_samples_leaf': [1, 2, 4, 6, 8], 'criterion': ['entropy', 'gini']}\n"
     ]
    }
   ],
   "source": [
    "#### RandomizedSearchCV\n",
    "\n",
    "import numpy as np\n",
    "from sklearn.model_selection import RandomizedSearchCV\n",
    "# Number of trees in random forest\n",
    "n_estimators = [int(x) for x in np.linspace(start = 200, stop = 2000, num = 10)]\n",
    "# Number of features to consider at every split\n",
    "max_features = ['auto', 'sqrt','log2']\n",
    "# Maximum number of levels in tree\n",
    "max_depth = [int(x) for x in np.linspace(10, 100,10)]\n",
    "# Minimum number of samples required to split a node\n",
    "min_samples_split = [2,4,5, 10, 15]\n",
    "# Minimum number of samples required at each leaf node\n",
    "min_samples_leaf = [ 1,2, 4, 6, 8]\n",
    "# Create the random grid\n",
    "random_grid = {'n_estimators': n_estimators,\n",
    "               'max_features': max_features,\n",
    "               'max_depth': max_depth,\n",
    "               'min_samples_split': min_samples_split,\n",
    "               'min_samples_leaf': min_samples_leaf,\n",
    "              'criterion':['entropy','gini']}\n",
    "print(random_grid)"
   ]
  },
  {
   "cell_type": "code",
   "execution_count": 75,
   "metadata": {},
   "outputs": [
    {
     "name": "stdout",
     "output_type": "stream",
     "text": [
      "Fitting 4 folds for each of 100 candidates, totalling 400 fits\n"
     ]
    },
    {
     "name": "stderr",
     "output_type": "stream",
     "text": [
      "[Parallel(n_jobs=-1)]: Using backend LokyBackend with 4 concurrent workers.\n",
      "[Parallel(n_jobs=-1)]: Done  33 tasks      | elapsed:  1.9min\n",
      "[Parallel(n_jobs=-1)]: Done 154 tasks      | elapsed:  5.0min\n",
      "[Parallel(n_jobs=-1)]: Done 357 tasks      | elapsed: 13.1min\n",
      "[Parallel(n_jobs=-1)]: Done 400 out of 400 | elapsed: 14.7min finished\n"
     ]
    },
    {
     "data": {
      "text/plain": [
       "RandomizedSearchCV(cv=4, error_score=nan,\n",
       "                   estimator=RandomForestClassifier(bootstrap=True,\n",
       "                                                    ccp_alpha=0.0,\n",
       "                                                    class_weight=None,\n",
       "                                                    criterion='gini',\n",
       "                                                    max_depth=None,\n",
       "                                                    max_features='auto',\n",
       "                                                    max_leaf_nodes=None,\n",
       "                                                    max_samples=None,\n",
       "                                                    min_impurity_decrease=0.0,\n",
       "                                                    min_impurity_split=None,\n",
       "                                                    min_samples_leaf=1,\n",
       "                                                    min_samples_split=2,\n",
       "                                                    min_weight_fraction_leaf=0.0,\n",
       "                                                    n_estimators=100,\n",
       "                                                    n_jobs...\n",
       "                   param_distributions={'criterion': ['entropy', 'gini'],\n",
       "                                        'max_depth': [10, 20, 30, 40, 50, 60,\n",
       "                                                      70, 80, 90, 100],\n",
       "                                        'max_features': ['auto', 'sqrt',\n",
       "                                                         'log2'],\n",
       "                                        'min_samples_leaf': [1, 2, 4, 6, 8],\n",
       "                                        'min_samples_split': [2, 4, 5, 10, 15],\n",
       "                                        'n_estimators': [200, 400, 600, 800,\n",
       "                                                         1000, 1200, 1400, 1600,\n",
       "                                                         1800, 2000]},\n",
       "                   pre_dispatch='2*n_jobs', random_state=100, refit=True,\n",
       "                   return_train_score=False, scoring=None, verbose=2)"
      ]
     },
     "execution_count": 75,
     "metadata": {},
     "output_type": "execute_result"
    }
   ],
   "source": [
    "from sklearn.ensemble import RandomForestClassifier\n",
    "rf=RandomForestClassifier()\n",
    "rf_randomcv=RandomizedSearchCV(estimator=rf,param_distributions=random_grid,n_iter=100,cv=4,verbose=2,\n",
    "                               random_state=100,n_jobs=-1)\n",
    "### fit the randomized model\n",
    "rf_randomcv.fit(X_train,y_train)"
   ]
  },
  {
   "cell_type": "code",
   "execution_count": 76,
   "metadata": {},
   "outputs": [],
   "source": [
    "best_estm=rf_randomcv.best_estimator_"
   ]
  },
  {
   "cell_type": "code",
   "execution_count": 77,
   "metadata": {},
   "outputs": [
    {
     "data": {
      "text/plain": [
       "0.7446227381358825"
      ]
     },
     "execution_count": 77,
     "metadata": {},
     "output_type": "execute_result"
    }
   ],
   "source": [
    "RF_predictions= best_estm.predict(X_test)\n",
    "from sklearn.metrics import accuracy_score\n",
    "accuracy_score(y_test, RF_predictions)"
   ]
  },
  {
   "cell_type": "code",
   "execution_count": 78,
   "metadata": {},
   "outputs": [
    {
     "name": "stdout",
     "output_type": "stream",
     "text": [
      "{'criterion': ['entropy'], 'max_depth': [40], 'max_features': ['sqrt'], 'min_samples_leaf': [4, 6, 8], 'min_samples_split': [8, 9, 10, 11, 12], 'n_estimators': [0, 100, 200, 300, 400]}\n"
     ]
    }
   ],
   "source": [
    "### GridSearchCV\n",
    "\n",
    "\n",
    "param_grid = {\n",
    "    'criterion': [rf_randomcv.best_params_['criterion']],\n",
    "    'max_depth': [rf_randomcv.best_params_['max_depth']],\n",
    "    'max_features': [rf_randomcv.best_params_['max_features']],\n",
    "    'min_samples_leaf': [rf_randomcv.best_params_['min_samples_leaf'], \n",
    "                         rf_randomcv.best_params_['min_samples_leaf']+2, \n",
    "                         rf_randomcv.best_params_['min_samples_leaf'] + 4],\n",
    "    'min_samples_split': [rf_randomcv.best_params_['min_samples_split'] - 2,\n",
    "                          rf_randomcv.best_params_['min_samples_split'] - 1,\n",
    "                          rf_randomcv.best_params_['min_samples_split'], \n",
    "                          rf_randomcv.best_params_['min_samples_split'] +1,\n",
    "                          rf_randomcv.best_params_['min_samples_split'] + 2],\n",
    "    'n_estimators': [rf_randomcv.best_params_['n_estimators'] - 200, rf_randomcv.best_params_['n_estimators'] - 100, \n",
    "                     rf_randomcv.best_params_['n_estimators'], \n",
    "                     rf_randomcv.best_params_['n_estimators'] + 100, rf_randomcv.best_params_['n_estimators'] + 200]\n",
    "}\n",
    "\n",
    "print(param_grid)"
   ]
  },
  {
   "cell_type": "code",
   "execution_count": 79,
   "metadata": {},
   "outputs": [
    {
     "name": "stdout",
     "output_type": "stream",
     "text": [
      "Fitting 10 folds for each of 75 candidates, totalling 750 fits\n"
     ]
    },
    {
     "name": "stderr",
     "output_type": "stream",
     "text": [
      "[Parallel(n_jobs=-1)]: Using backend LokyBackend with 4 concurrent workers.\n",
      "[Parallel(n_jobs=-1)]: Done  33 tasks      | elapsed:   11.3s\n",
      "[Parallel(n_jobs=-1)]: Done 154 tasks      | elapsed:  1.4min\n",
      "[Parallel(n_jobs=-1)]: Done 357 tasks      | elapsed:  2.7min\n",
      "[Parallel(n_jobs=-1)]: Done 640 tasks      | elapsed:  4.4min\n",
      "[Parallel(n_jobs=-1)]: Done 750 out of 750 | elapsed:  5.2min finished\n"
     ]
    },
    {
     "data": {
      "text/plain": [
       "GridSearchCV(cv=10, error_score=nan,\n",
       "             estimator=RandomForestClassifier(bootstrap=True, ccp_alpha=0.0,\n",
       "                                              class_weight=None,\n",
       "                                              criterion='gini', max_depth=None,\n",
       "                                              max_features='auto',\n",
       "                                              max_leaf_nodes=None,\n",
       "                                              max_samples=None,\n",
       "                                              min_impurity_decrease=0.0,\n",
       "                                              min_impurity_split=None,\n",
       "                                              min_samples_leaf=1,\n",
       "                                              min_samples_split=2,\n",
       "                                              min_weight_fraction_leaf=0.0,\n",
       "                                              n_estimators=100, n_jobs=None,\n",
       "                                              oob_score=False,\n",
       "                                              random_state=None, verbose=0,\n",
       "                                              warm_start=False),\n",
       "             iid='deprecated', n_jobs=-1,\n",
       "             param_grid={'criterion': ['entropy'], 'max_depth': [40],\n",
       "                         'max_features': ['sqrt'],\n",
       "                         'min_samples_leaf': [4, 6, 8],\n",
       "                         'min_samples_split': [8, 9, 10, 11, 12],\n",
       "                         'n_estimators': [0, 100, 200, 300, 400]},\n",
       "             pre_dispatch='2*n_jobs', refit=True, return_train_score=False,\n",
       "             scoring=None, verbose=2)"
      ]
     },
     "execution_count": 79,
     "metadata": {},
     "output_type": "execute_result"
    }
   ],
   "source": [
    "#### Fit the grid_search to the data\n",
    "rf=RandomForestClassifier()\n",
    "grid_search=GridSearchCV(estimator=rf,param_grid=param_grid,cv=10,n_jobs=-1,verbose=2)\n",
    "grid_search.fit(X_train,y_train)"
   ]
  },
  {
   "cell_type": "code",
   "execution_count": 80,
   "metadata": {},
   "outputs": [],
   "source": [
    "best_estm=grid_search.best_estimator_"
   ]
  },
  {
   "cell_type": "code",
   "execution_count": 81,
   "metadata": {},
   "outputs": [
    {
     "data": {
      "text/plain": [
       "RandomForestClassifier(bootstrap=True, ccp_alpha=0.0, class_weight=None,\n",
       "                       criterion='entropy', max_depth=40, max_features='sqrt',\n",
       "                       max_leaf_nodes=None, max_samples=None,\n",
       "                       min_impurity_decrease=0.0, min_impurity_split=None,\n",
       "                       min_samples_leaf=4, min_samples_split=11,\n",
       "                       min_weight_fraction_leaf=0.0, n_estimators=200,\n",
       "                       n_jobs=None, oob_score=False, random_state=None,\n",
       "                       verbose=0, warm_start=False)"
      ]
     },
     "execution_count": 81,
     "metadata": {},
     "output_type": "execute_result"
    }
   ],
   "source": [
    "best_estm"
   ]
  },
  {
   "cell_type": "code",
   "execution_count": 82,
   "metadata": {},
   "outputs": [
    {
     "data": {
      "text/plain": [
       "0.7442813246841925"
      ]
     },
     "execution_count": 82,
     "metadata": {},
     "output_type": "execute_result"
    }
   ],
   "source": [
    "RF_predictions= best_estm.predict(X_test)\n",
    "accuracy_score(y_test, RF_predictions)"
   ]
  },
  {
   "cell_type": "markdown",
   "metadata": {},
   "source": [
    "<a id=\"section8\"></a>\n",
    "## 9. Model Evaluation"
   ]
  },
  {
   "cell_type": "code",
   "execution_count": 83,
   "metadata": {},
   "outputs": [],
   "source": [
    "from sklearn.metrics import confusion_matrix\n",
    "from sklearn.metrics import classification_report\n",
    "from sklearn.metrics import roc_auc_score\n",
    "import matplotlib.pyplot as plt\n",
    "from sklearn.metrics import roc_curve\n",
    "from sklearn.metrics import average_precision_score\n",
    "from sklearn.metrics import precision_recall_curve"
   ]
  },
  {
   "cell_type": "markdown",
   "metadata": {},
   "source": [
    "<a id=\"section81\"></a>\n",
    "###  &nbsp; 9.1. Confusion Matrix\n"
   ]
  },
  {
   "cell_type": "code",
   "execution_count": 84,
   "metadata": {},
   "outputs": [
    {
     "name": "stdout",
     "output_type": "stream",
     "text": [
      "            Predicted No  Predicted Yes  Total\n",
      "Actual No           1380            335   1715\n",
      "Actual Yes           414            800   1214\n",
      "Total               1794           1135   2929\n"
     ]
    }
   ],
   "source": [
    "import numpy as np\n",
    "cm = pd.DataFrame(confusion_matrix(y_test, RF_predictions))\n",
    "cm['Total'] = np.sum(cm, axis=1)\n",
    "cm = cm.append(np.sum(cm, axis=0), ignore_index=True)\n",
    "cm.columns = ['Predicted No', 'Predicted Yes', 'Total']\n",
    "cm = cm.set_index([['Actual No', 'Actual Yes', 'Total']])\n",
    "print(cm)"
   ]
  },
  {
   "cell_type": "markdown",
   "metadata": {},
   "source": [
    "<a id=\"section82\"></a>\n",
    "###  &nbsp; 9.2. Classification Report\n"
   ]
  },
  {
   "cell_type": "code",
   "execution_count": 85,
   "metadata": {},
   "outputs": [
    {
     "name": "stdout",
     "output_type": "stream",
     "text": [
      "              precision    recall  f1-score   support\n",
      "\n",
      "           0       0.77      0.80      0.79      1715\n",
      "           1       0.70      0.66      0.68      1214\n",
      "\n",
      "    accuracy                           0.74      2929\n",
      "   macro avg       0.74      0.73      0.73      2929\n",
      "weighted avg       0.74      0.74      0.74      2929\n",
      "\n"
     ]
    }
   ],
   "source": [
    "print(classification_report(y_test, RF_predictions))"
   ]
  },
  {
   "cell_type": "markdown",
   "metadata": {},
   "source": [
    "<a id=\"section83\"></a>\n",
    "###  &nbsp; 9.3. ROC-curve\n"
   ]
  },
  {
   "cell_type": "code",
   "execution_count": 86,
   "metadata": {},
   "outputs": [],
   "source": [
    "logit_roc_auc = roc_auc_score(y_test, RF_predictions) "
   ]
  },
  {
   "cell_type": "code",
   "execution_count": 87,
   "metadata": {},
   "outputs": [
    {
     "data": {
      "image/png": "[encoded data removed]",
      "text/plain": [
       "<Figure size 432x288 with 1 Axes>"
      ]
     },
     "metadata": {},
     "output_type": "display_data"
    }
   ],
   "source": [
    "fpr, tpr, thresholds = roc_curve(y_test, best_estm.predict_proba(X_test)[:,1]) \n",
    "plt.figure()\n",
    "plt.plot(fpr, tpr, label='Model (Area = %0.2f)' % logit_roc_auc) \n",
    "plt.plot([0, 1], [0, 1],'r--')\n",
    "plt.xlim([-0.02, 1.02])\n",
    "plt.ylim([0.0, 1.03])\n",
    "plt.xlabel('False Positive Rate')\n",
    "plt.ylabel('True Positive Rate')\n",
    "plt.title('Receiver Operating Characteristic')\n",
    "plt.legend(loc=\"lower right\")\n",
    "plt.show()"
   ]
  },
  {
   "cell_type": "markdown",
   "metadata": {},
   "source": [
    "<a id=\"section9\"></a>\n",
    "## 10. Pickle File"
   ]
  },
  {
   "cell_type": "code",
   "execution_count": 88,
   "metadata": {},
   "outputs": [],
   "source": [
    "### Create a pickle file using Serialisation\n",
    "import pickle\n",
    "pickle_out=open(\"classifier.pkl\",\"wb\")\n",
    "pickle.dump(best_estm,pickle_out)\n",
    "pickle_out.close()"
   ]
  }
 ],
 "metadata": {
  "kernelspec": {
   "display_name": "Python 3",
   "language": "python",
   "name": "python3"
  },
  "language_info": {
   "codemirror_mode": {
    "name": "ipython",
    "version": 3
   },
   "file_extension": ".py",
   "mimetype": "text/x-python",
   "name": "python",
   "nbconvert_exporter": "python",
   "pygments_lexer": "ipython3",
   "version": "3.7.6"
  }
 },
 "nbformat": 4,
 "nbformat_minor": 4
}
